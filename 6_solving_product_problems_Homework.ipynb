{
 "cells": [
  {
   "cell_type": "markdown",
   "metadata": {
    "id": "mXWcbp0pv-ld"
   },
   "source": [
    "# Проект урока 6. Решение продуктовых задач\n",
    "#  «Анализ данных о транзакциях»"
   ]
  },
  {
   "cell_type": "markdown",
   "metadata": {
    "id": "hZZqubMav-lk"
   },
   "source": [
    "Представьте, что вы — аналитик данных в ритейле. Маркетинговый отдел попросил помочь решить несколько задач: нужно разобраться в поведении пользователей, проанализировать транзакции и выявить аномальный рост или проблемы, если они есть. Этот проект разделен на части, в каждой из них вы будете работать с разными наборами данных."
   ]
  },
  {
   "cell_type": "markdown",
   "metadata": {
    "id": "C0vaHMM-v-lm"
   },
   "source": [
    "# Часть 1"
   ]
  },
  {
   "cell_type": "markdown",
   "metadata": {
    "id": "iqIGumK_v-lo"
   },
   "source": [
    "## Шаг 1"
   ]
  },
  {
   "cell_type": "markdown",
   "metadata": {
    "id": "4p2S6RP1v-lp"
   },
   "source": [
    "В файле `6_data.zip` имеются следующие данные о транзакциях:\n",
    "\n",
    "- InvoiceNo — номер заказа  \n",
    "- StockCode — код товара  \n",
    "- Description — описание товара  \n",
    "- Quantity — количество единиц товара, добавленных в заказ  \n",
    "- InvoiceDate — дата транзакции   \n",
    "- UnitPrice — цена за единицу товара  \n",
    "- CustomerID — id клиента  \n",
    "- Country — страна, где проживает клиент\n",
    "\n",
    "Каждая строка — это отдельная транзакция (т.е. добавление одного товара в корзину или его удаление, если это запись об отмененной транзакции). В данных нет кода для каждой транзакции, только для товара и для заказа. В одном заказе может быть несколько транзакций. Разные товары могут быть в разных заказах. Неотмененные транзакции считаются реализованными (т.е. эти товары были куплены)."
   ]
  },
  {
   "cell_type": "markdown",
   "metadata": {
    "id": "yq2i8bGFv-lq"
   },
   "source": [
    "Вы можете решать задания тем способом, который считаете наиболее удобным или оптимальным. А для того, чтобы лучше понять задание, следуйте по шагам выполнения. Бывает, что их можно выполнить в одну строчку, применяя методы друг за другом. А если выполняете шаги отдельно, не забудьте сохранить результат в переменную, чтобы в следующем шаге работать именно с ней.\n",
    "\n",
    "В ноутбуке место для вашего решения обозначено комментарием `# Ваш код здесь`, но вы можете писать код где вам удобно, добавлять или удалять ячейки с кодом или текстом по вашему усмотрению.\n",
    "\n",
    "Кроме того можно посмотреть подсказки, кликнув на строчку `► Нажмите сюда, чтобы увидеть подсказку`. Также не забывайте о наличии конспектов и возможности задать вопрос в Discord, ссылка на нужный тред есть на странице каждого шага в LMS."
   ]
  },
  {
   "cell_type": "markdown",
   "metadata": {
    "id": "Mqh_0XMMv-ls"
   },
   "source": [
    "## Шаг 2"
   ]
  },
  {
   "cell_type": "markdown",
   "metadata": {
    "id": "gTwgAz6Cv-lt"
   },
   "source": [
    "Прочитайте данные с кодировкой `ISO-8859-1`, запишите полученный датафрейм в `retail`. **Проверьте, встречаются ли в данных повторяющиеся наблюдения, и в качестве ответа укажите их количество.** Если они есть, то удалите их из `retail` — дубликаты негативно влияют на точность анализа данных"
   ]
  },
  {
   "cell_type": "markdown",
   "metadata": {
    "id": "LH3OYfQPv-lu"
   },
   "source": [
    "Шаги выполнения:  \n",
    "1. Импортируйте библиотеку pandas"
   ]
  },
  {
   "cell_type": "markdown",
   "metadata": {
    "id": "obC0uk8Vv-lv"
   },
   "source": [
    "<details>\n",
    "<summary>&#9658; Нажмите сюда, чтобы увидеть подсказку</summary>\n",
    "  <p>\n",
    "      \n",
    "Для импорта библиотеки напишите\n",
    "```python\n",
    "import library as shortcut\n",
    "```\n",
    "где вместо `library` подставьте название библиотеки, а вместо `shortcut` — её общераспространённое сокращённое название.\n",
    "</p>\n",
    "</details>"
   ]
  },
  {
   "cell_type": "code",
   "execution_count": 1,
   "metadata": {
    "id": "ahS6rSDCv-lw"
   },
   "outputs": [],
   "source": [
    "import pandas as pd\n",
    "\n"
   ]
  },
  {
   "cell_type": "markdown",
   "metadata": {
    "id": "Jqv7vnTqv-ly"
   },
   "source": [
    "2. Загрузите архив с csv файлом к уроку в свою папку в JupyterНub\n",
    "3. Прочитайте этот датасет с кодировкой ISO-8859-1, результат сохранив в переменную `retail`"
   ]
  },
  {
   "cell_type": "markdown",
   "metadata": {
    "id": "AlhuS2Oqv-lz"
   },
   "source": [
    "<details>\n",
    "<summary>&#9658; Нажмите сюда, чтобы увидеть подсказку</summary>\n",
    "  <p>\n",
    "      \n",
    "Данные находятся в csv файле в архиве формата ZIP. Для их загрузки воспользуемся функцией `pd.read_csv()`, передав в качестве аргумента путь к файлу и задав параметры `encoding` и `compression`. Например,\n",
    "```python\n",
    "df = pd.read_csv('data.gzip', compression='gzip', encoding='utf-8')\n",
    "```\n",
    "считает файл csv в архиве `data.gzip`, хранящемся в той же папке, что и юпитер ноутбук, в котором вы сейчас работаете. Функция учтет, что файл в архиве с форматом `gzip` и имеет кодировку `utf-8`.\n",
    "</p>\n",
    "</details>"
   ]
  },
  {
   "cell_type": "code",
   "execution_count": 3,
   "metadata": {
    "id": "cYwI5rvOv-l0"
   },
   "outputs": [],
   "source": [
    "retail = pd.read_csv('6_data.zip', compression='zip', encoding='ISO-8859-1')\n",
    "\n"
   ]
  },
  {
   "cell_type": "markdown",
   "metadata": {
    "id": "q6zDfsUIv-l0"
   },
   "source": [
    "4. Посмотрите на содержимое датафрейма, проверьте его размер"
   ]
  },
  {
   "cell_type": "markdown",
   "metadata": {
    "id": "CnxvR8NZv-l0"
   },
   "source": [
    "<details>\n",
    "<summary>&#9658; Нажмите сюда, чтобы увидеть подсказку</summary>\n",
    "  <p>\n",
    "      \n",
    "**Как посмотреть на содержимое датафрейма?** Используйте метод `head()`\n",
    "\n",
    "**Как проверить размер датафрейма?** Используйте атрибут `shape`, чтобы узнать количество строк и столбцов. Этот атрибут возвращает кортеж, первый элемент которого указывает на количество строк, а второй — на количество столбцов в датафрейме.  \n",
    "      \n",
    "**Как обратиться к атрибуту датафрейма?** Для этого нужно написать переменную, где хранится датафрейм, поставить точку и написать название атрибута (без скобок!). Например:\n",
    "```python\n",
    "df.some_attribute\n",
    "```\n",
    "так мы обратимся к атрибуту `some_attribute` у датафрейма в переменной `df`\n",
    "      \n",
    "**Как использовать метод?** Например применим метод `some_method()` к датафрейму `df`:\n",
    "```python\n",
    "df.some_method()\n",
    "```\n",
    "</p>\n",
    "</details>"
   ]
  },
  {
   "cell_type": "code",
   "execution_count": 4,
   "metadata": {
    "id": "e8qGv0Bgv-l1"
   },
   "outputs": [
    {
     "data": {
      "text/plain": [
       "<bound method DataFrame.info of        InvoiceNo StockCode                          Description  Quantity  \\\n",
       "0         536365    85123A   WHITE HANGING HEART T-LIGHT HOLDER         6   \n",
       "1         536365     71053                  WHITE METAL LANTERN         6   \n",
       "2         536365    84406B       CREAM CUPID HEARTS COAT HANGER         8   \n",
       "3         536365    84029G  KNITTED UNION FLAG HOT WATER BOTTLE         6   \n",
       "4         536365    84029E       RED WOOLLY HOTTIE WHITE HEART.         6   \n",
       "...          ...       ...                                  ...       ...   \n",
       "541904    581587     22613          PACK OF 20 SPACEBOY NAPKINS        12   \n",
       "541905    581587     22899         CHILDREN'S APRON DOLLY GIRL          6   \n",
       "541906    581587     23254        CHILDRENS CUTLERY DOLLY GIRL          4   \n",
       "541907    581587     23255      CHILDRENS CUTLERY CIRCUS PARADE         4   \n",
       "541908    581587     22138        BAKING SET 9 PIECE RETROSPOT          3   \n",
       "\n",
       "            InvoiceDate  UnitPrice  CustomerID         Country  \n",
       "0        12/1/2010 8:26       2.55     17850.0  United Kingdom  \n",
       "1        12/1/2010 8:26       3.39     17850.0  United Kingdom  \n",
       "2        12/1/2010 8:26       2.75     17850.0  United Kingdom  \n",
       "3        12/1/2010 8:26       3.39     17850.0  United Kingdom  \n",
       "4        12/1/2010 8:26       3.39     17850.0  United Kingdom  \n",
       "...                 ...        ...         ...             ...  \n",
       "541904  12/9/2011 12:50       0.85     12680.0          France  \n",
       "541905  12/9/2011 12:50       2.10     12680.0          France  \n",
       "541906  12/9/2011 12:50       4.15     12680.0          France  \n",
       "541907  12/9/2011 12:50       4.15     12680.0          France  \n",
       "541908  12/9/2011 12:50       4.95     12680.0          France  \n",
       "\n",
       "[541909 rows x 8 columns]>"
      ]
     },
     "execution_count": 4,
     "metadata": {},
     "output_type": "execute_result"
    }
   ],
   "source": [
    "retail.info\n",
    "\n"
   ]
  },
  {
   "cell_type": "code",
   "execution_count": 5,
   "metadata": {},
   "outputs": [
    {
     "data": {
      "text/html": [
       "<div>\n",
       "<style scoped>\n",
       "    .dataframe tbody tr th:only-of-type {\n",
       "        vertical-align: middle;\n",
       "    }\n",
       "\n",
       "    .dataframe tbody tr th {\n",
       "        vertical-align: top;\n",
       "    }\n",
       "\n",
       "    .dataframe thead th {\n",
       "        text-align: right;\n",
       "    }\n",
       "</style>\n",
       "<table border=\"1\" class=\"dataframe\">\n",
       "  <thead>\n",
       "    <tr style=\"text-align: right;\">\n",
       "      <th></th>\n",
       "      <th>InvoiceNo</th>\n",
       "      <th>StockCode</th>\n",
       "      <th>Description</th>\n",
       "      <th>Quantity</th>\n",
       "      <th>InvoiceDate</th>\n",
       "      <th>UnitPrice</th>\n",
       "      <th>CustomerID</th>\n",
       "      <th>Country</th>\n",
       "    </tr>\n",
       "  </thead>\n",
       "  <tbody>\n",
       "    <tr>\n",
       "      <th>0</th>\n",
       "      <td>536365</td>\n",
       "      <td>85123A</td>\n",
       "      <td>WHITE HANGING HEART T-LIGHT HOLDER</td>\n",
       "      <td>6</td>\n",
       "      <td>12/1/2010 8:26</td>\n",
       "      <td>2.55</td>\n",
       "      <td>17850.0</td>\n",
       "      <td>United Kingdom</td>\n",
       "    </tr>\n",
       "    <tr>\n",
       "      <th>1</th>\n",
       "      <td>536365</td>\n",
       "      <td>71053</td>\n",
       "      <td>WHITE METAL LANTERN</td>\n",
       "      <td>6</td>\n",
       "      <td>12/1/2010 8:26</td>\n",
       "      <td>3.39</td>\n",
       "      <td>17850.0</td>\n",
       "      <td>United Kingdom</td>\n",
       "    </tr>\n",
       "    <tr>\n",
       "      <th>2</th>\n",
       "      <td>536365</td>\n",
       "      <td>84406B</td>\n",
       "      <td>CREAM CUPID HEARTS COAT HANGER</td>\n",
       "      <td>8</td>\n",
       "      <td>12/1/2010 8:26</td>\n",
       "      <td>2.75</td>\n",
       "      <td>17850.0</td>\n",
       "      <td>United Kingdom</td>\n",
       "    </tr>\n",
       "    <tr>\n",
       "      <th>3</th>\n",
       "      <td>536365</td>\n",
       "      <td>84029G</td>\n",
       "      <td>KNITTED UNION FLAG HOT WATER BOTTLE</td>\n",
       "      <td>6</td>\n",
       "      <td>12/1/2010 8:26</td>\n",
       "      <td>3.39</td>\n",
       "      <td>17850.0</td>\n",
       "      <td>United Kingdom</td>\n",
       "    </tr>\n",
       "    <tr>\n",
       "      <th>4</th>\n",
       "      <td>536365</td>\n",
       "      <td>84029E</td>\n",
       "      <td>RED WOOLLY HOTTIE WHITE HEART.</td>\n",
       "      <td>6</td>\n",
       "      <td>12/1/2010 8:26</td>\n",
       "      <td>3.39</td>\n",
       "      <td>17850.0</td>\n",
       "      <td>United Kingdom</td>\n",
       "    </tr>\n",
       "  </tbody>\n",
       "</table>\n",
       "</div>"
      ],
      "text/plain": [
       "  InvoiceNo StockCode                          Description  Quantity  \\\n",
       "0    536365    85123A   WHITE HANGING HEART T-LIGHT HOLDER         6   \n",
       "1    536365     71053                  WHITE METAL LANTERN         6   \n",
       "2    536365    84406B       CREAM CUPID HEARTS COAT HANGER         8   \n",
       "3    536365    84029G  KNITTED UNION FLAG HOT WATER BOTTLE         6   \n",
       "4    536365    84029E       RED WOOLLY HOTTIE WHITE HEART.         6   \n",
       "\n",
       "      InvoiceDate  UnitPrice  CustomerID         Country  \n",
       "0  12/1/2010 8:26       2.55     17850.0  United Kingdom  \n",
       "1  12/1/2010 8:26       3.39     17850.0  United Kingdom  \n",
       "2  12/1/2010 8:26       2.75     17850.0  United Kingdom  \n",
       "3  12/1/2010 8:26       3.39     17850.0  United Kingdom  \n",
       "4  12/1/2010 8:26       3.39     17850.0  United Kingdom  "
      ]
     },
     "execution_count": 5,
     "metadata": {},
     "output_type": "execute_result"
    }
   ],
   "source": [
    "retail.head()"
   ]
  },
  {
   "cell_type": "markdown",
   "metadata": {
    "id": "d9-HFNWrv-l1"
   },
   "source": [
    "5. Отберите в датафрейме только повторяющиеся наблюдения (дубликаты)"
   ]
  },
  {
   "cell_type": "markdown",
   "metadata": {
    "id": "NyeX4kddv-l2"
   },
   "source": [
    "<details>\n",
    "<summary>&#9658; Нажмите сюда, чтобы увидеть подсказку</summary>\n",
    "  <p>\n",
    "\n",
    "**Чтобы отобрать только нужные записи,** используйте аксессор `loc[]`, внутри которого примените к датафрейму метод `duplicated()`. Этот метод определяет, является ли строчка дубликатом другой строки или нет.\n",
    "\n",
    "**Как применить метод?** Например применим метод `some_method()` к датафрейму `df`:\n",
    "```python\n",
    "df.some_method()\n",
    "```\n",
    "      \n",
    "**Как использовать аксессор?** Например, код\n",
    "```python\n",
    "df.loc[df.some_method()]\n",
    "```\n",
    "вернет только те строки датафрейма `df`, где в результате применения метода `some_method()` будет `True`.\n",
    "</p>\n",
    "</details>"
   ]
  },
  {
   "cell_type": "code",
   "execution_count": 8,
   "metadata": {
    "id": "bL_27txFv-l2"
   },
   "outputs": [],
   "source": [
    "dupl = retail.loc[retail.duplicated()]\n"
   ]
  },
  {
   "cell_type": "markdown",
   "metadata": {
    "id": "0WXld6HWv-l2"
   },
   "source": [
    "6. Определите количество записей в получившемся датафрейме с дубликатами"
   ]
  },
  {
   "cell_type": "markdown",
   "metadata": {
    "id": "vLaJ0VKVv-l2"
   },
   "source": [
    "<details>\n",
    "<summary>&#9658; Нажмите сюда, чтобы увидеть подсказку</summary>\n",
    "  <p>\n",
    "      \n",
    "Используйте атрибут `shape`, чтобы узнать количество строк. Этот атрибут возвращает кортеж, первый элемент которого указывает на количество строк, а второй — на количество столбцов в датафрейме.  \n",
    "      \n",
    "**Как обратиться к атрибуту датафрейма?** Для этого нужно написать переменную, где хранится датафрейм, поставить точку и написать название атрибута (без скобок!). Например:\n",
    "```python\n",
    "df.some_attribute\n",
    "```\n",
    "</p>\n",
    "</details>"
   ]
  },
  {
   "cell_type": "code",
   "execution_count": 10,
   "metadata": {
    "id": "6z33f-xCv-l3"
   },
   "outputs": [
    {
     "data": {
      "text/plain": [
       "(5268, 8)"
      ]
     },
     "execution_count": 10,
     "metadata": {},
     "output_type": "execute_result"
    }
   ],
   "source": [
    "dupl.shape\n"
   ]
  },
  {
   "cell_type": "markdown",
   "metadata": {
    "id": "LVdNK9RZv-l3"
   },
   "source": [
    "7. Удалите повторяющиеся наблюдения из `retail`, результат сохранив в этот же датафрейм"
   ]
  },
  {
   "cell_type": "markdown",
   "metadata": {
    "id": "XWgG6ZTYv-l3"
   },
   "source": [
    "<details>\n",
    "<summary>&#9658; Нажмите сюда, чтобы увидеть подсказку</summary>\n",
    "  <p>\n",
    "\n",
    "**Чтобы удалить дубликаты,** используйте метод `drop_duplicates()`.\n",
    "\n",
    "**Как применить метод?** Например, применим метод `some_method()` к датафрейму `df` и сохраним результат в тот же датафрейм:\n",
    "```python\n",
    "df = df.some_method()\n",
    "```\n",
    "     \n",
    "</p>\n",
    "</details>"
   ]
  },
  {
   "cell_type": "code",
   "execution_count": 11,
   "metadata": {
    "id": "RuofIH-9v-l4"
   },
   "outputs": [],
   "source": [
    "retail = retail.drop_duplicates()\n",
    "\n"
   ]
  },
  {
   "cell_type": "markdown",
   "metadata": {
    "id": "AsxLi5J1v-l4"
   },
   "source": [
    "8. Проверьте размер получившегося датафрейма `retail` и убедитесь, что удаление дубликатов прошло корректно"
   ]
  },
  {
   "cell_type": "markdown",
   "metadata": {
    "id": "DTd7Vjvkv-l4"
   },
   "source": [
    "<details>\n",
    "<summary>&#9658; Нажмите сюда, чтобы увидеть подсказку</summary>\n",
    "  <p>\n",
    "      \n",
    "**Используйте атрибут `shape`, чтобы узнать количество строк и столбцов.** Этот атрибут возвращает кортеж, первый элемент которого указывает на количество строк, а второй — на количество столбцов в датафрейме.  \n",
    "      \n",
    "**Как обратиться к атрибуту датафрейма?** Для этого нужно написать переменную, где хранится датафрейм, поставить точку и написать название атрибута (без скобок!). Например:\n",
    "```python\n",
    "df.some_attribute\n",
    "```\n",
    "      \n",
    "**Как понять, что удаление дубликатов прошло корректно?** У вас должно получиться количество строк, равное разнице между первоначальным числом строк этого датафрейма и количеством удаленных дубликатов. При этом количество столбцов должно остаться неизменным.\n",
    "</p>\n",
    "</details>"
   ]
  },
  {
   "cell_type": "code",
   "execution_count": 12,
   "metadata": {
    "id": "NGsbRncGv-l5"
   },
   "outputs": [
    {
     "data": {
      "text/plain": [
       "(536641, 8)"
      ]
     },
     "execution_count": 12,
     "metadata": {},
     "output_type": "execute_result"
    }
   ],
   "source": [
    "retail.shape\n",
    "\n"
   ]
  },
  {
   "cell_type": "code",
   "execution_count": 13,
   "metadata": {},
   "outputs": [
    {
     "data": {
      "text/html": [
       "<div>\n",
       "<style scoped>\n",
       "    .dataframe tbody tr th:only-of-type {\n",
       "        vertical-align: middle;\n",
       "    }\n",
       "\n",
       "    .dataframe tbody tr th {\n",
       "        vertical-align: top;\n",
       "    }\n",
       "\n",
       "    .dataframe thead th {\n",
       "        text-align: right;\n",
       "    }\n",
       "</style>\n",
       "<table border=\"1\" class=\"dataframe\">\n",
       "  <thead>\n",
       "    <tr style=\"text-align: right;\">\n",
       "      <th></th>\n",
       "      <th>InvoiceNo</th>\n",
       "      <th>StockCode</th>\n",
       "      <th>Description</th>\n",
       "      <th>Quantity</th>\n",
       "      <th>InvoiceDate</th>\n",
       "      <th>UnitPrice</th>\n",
       "      <th>CustomerID</th>\n",
       "      <th>Country</th>\n",
       "    </tr>\n",
       "  </thead>\n",
       "  <tbody>\n",
       "    <tr>\n",
       "      <th>0</th>\n",
       "      <td>536365</td>\n",
       "      <td>85123A</td>\n",
       "      <td>WHITE HANGING HEART T-LIGHT HOLDER</td>\n",
       "      <td>6</td>\n",
       "      <td>12/1/2010 8:26</td>\n",
       "      <td>2.55</td>\n",
       "      <td>17850.0</td>\n",
       "      <td>United Kingdom</td>\n",
       "    </tr>\n",
       "    <tr>\n",
       "      <th>1</th>\n",
       "      <td>536365</td>\n",
       "      <td>71053</td>\n",
       "      <td>WHITE METAL LANTERN</td>\n",
       "      <td>6</td>\n",
       "      <td>12/1/2010 8:26</td>\n",
       "      <td>3.39</td>\n",
       "      <td>17850.0</td>\n",
       "      <td>United Kingdom</td>\n",
       "    </tr>\n",
       "    <tr>\n",
       "      <th>2</th>\n",
       "      <td>536365</td>\n",
       "      <td>84406B</td>\n",
       "      <td>CREAM CUPID HEARTS COAT HANGER</td>\n",
       "      <td>8</td>\n",
       "      <td>12/1/2010 8:26</td>\n",
       "      <td>2.75</td>\n",
       "      <td>17850.0</td>\n",
       "      <td>United Kingdom</td>\n",
       "    </tr>\n",
       "    <tr>\n",
       "      <th>3</th>\n",
       "      <td>536365</td>\n",
       "      <td>84029G</td>\n",
       "      <td>KNITTED UNION FLAG HOT WATER BOTTLE</td>\n",
       "      <td>6</td>\n",
       "      <td>12/1/2010 8:26</td>\n",
       "      <td>3.39</td>\n",
       "      <td>17850.0</td>\n",
       "      <td>United Kingdom</td>\n",
       "    </tr>\n",
       "    <tr>\n",
       "      <th>4</th>\n",
       "      <td>536365</td>\n",
       "      <td>84029E</td>\n",
       "      <td>RED WOOLLY HOTTIE WHITE HEART.</td>\n",
       "      <td>6</td>\n",
       "      <td>12/1/2010 8:26</td>\n",
       "      <td>3.39</td>\n",
       "      <td>17850.0</td>\n",
       "      <td>United Kingdom</td>\n",
       "    </tr>\n",
       "  </tbody>\n",
       "</table>\n",
       "</div>"
      ],
      "text/plain": [
       "  InvoiceNo StockCode                          Description  Quantity  \\\n",
       "0    536365    85123A   WHITE HANGING HEART T-LIGHT HOLDER         6   \n",
       "1    536365     71053                  WHITE METAL LANTERN         6   \n",
       "2    536365    84406B       CREAM CUPID HEARTS COAT HANGER         8   \n",
       "3    536365    84029G  KNITTED UNION FLAG HOT WATER BOTTLE         6   \n",
       "4    536365    84029E       RED WOOLLY HOTTIE WHITE HEART.         6   \n",
       "\n",
       "      InvoiceDate  UnitPrice  CustomerID         Country  \n",
       "0  12/1/2010 8:26       2.55     17850.0  United Kingdom  \n",
       "1  12/1/2010 8:26       3.39     17850.0  United Kingdom  \n",
       "2  12/1/2010 8:26       2.75     17850.0  United Kingdom  \n",
       "3  12/1/2010 8:26       3.39     17850.0  United Kingdom  \n",
       "4  12/1/2010 8:26       3.39     17850.0  United Kingdom  "
      ]
     },
     "execution_count": 13,
     "metadata": {},
     "output_type": "execute_result"
    }
   ],
   "source": [
    "retail.head()"
   ]
  },
  {
   "cell_type": "markdown",
   "metadata": {
    "id": "3xQVd81Tv-l-"
   },
   "source": [
    "## Шаг 3"
   ]
  },
  {
   "cell_type": "markdown",
   "metadata": {
    "id": "TcsYe27Gv-mI"
   },
   "source": [
    "Продолжим предобработку данных перед их анализом. Данные содержат в себе записи как об успешных транзакциях, так и об отмененных. Если пользователь отменил транзакцию, в начале номера заказа (см.колонку `InvoiceNo`) ставится `C` (от `canceled`). **Сколько всего транзакций отменили пользователи?** Удалите эти записи из датафрейма `retail`, дальше они нам не понадобятся"
   ]
  },
  {
   "cell_type": "markdown",
   "metadata": {
    "id": "8Vlp2e5yv-mJ"
   },
   "source": [
    "Шаги выполнения:  \n",
    "1. Определите для каждой строки в колонке `InvoiceNo`, начинается ли эта строка с английской буквы `C`"
   ]
  },
  {
   "cell_type": "markdown",
   "metadata": {
    "id": "ovO2x7P9v-mK"
   },
   "source": [
    "<details>\n",
    "<summary>&#9658; Нажмите сюда, чтобы увидеть подсказку</summary>\n",
    "  <p>\n",
    "\n",
    "Используйте аксессор `str` и метод `startswith()`. Этот метод определяет, начинается ли строка с той подстроки, что подана в метод.\n",
    "\n",
    "**Как применить метод?** Например:\n",
    "```python\n",
    "df.col_str.str.startswith('abc')\n",
    "```\n",
    "используя аксессор `str`, применим строковый метод `some_method()` к колонке `col_str` со строковыми данными и подадим в метод подстроку 'abc'. Этот код вернёт колонку из логических значений:  \n",
    "`True`, если значение в ячейке начинается со строки `abc`  \n",
    "`False`, если значение начинается с чего-то другого.   \n",
    "</p>\n",
    "</details>"
   ]
  },
  {
   "cell_type": "code",
   "execution_count": 14,
   "metadata": {
    "id": "gurW3xP8v-mK"
   },
   "outputs": [
    {
     "data": {
      "text/plain": [
       "0         False\n",
       "1         False\n",
       "2         False\n",
       "3         False\n",
       "4         False\n",
       "          ...  \n",
       "541904    False\n",
       "541905    False\n",
       "541906    False\n",
       "541907    False\n",
       "541908    False\n",
       "Name: InvoiceNo, Length: 536641, dtype: bool"
      ]
     },
     "execution_count": 14,
     "metadata": {},
     "output_type": "execute_result"
    }
   ],
   "source": [
    "retail.InvoiceNo.str.startswith('C')\n",
    "\n"
   ]
  },
  {
   "cell_type": "markdown",
   "metadata": {
    "id": "LXcCrq4Yv-mK"
   },
   "source": [
    "2. Посчитайте количество строк в колонке `InvoiceNo`, начинающихся с английской буквы `C`"
   ]
  },
  {
   "cell_type": "markdown",
   "metadata": {
    "id": "ui9FqgW-v-mL"
   },
   "source": [
    "<details>\n",
    "<summary>&#9658; Нажмите сюда, чтобы увидеть подсказку</summary>\n",
    "  <p>\n",
    "\n",
    "Используйте метод `sum()`, применив его к результату с первого шага выполнения, где для каждой ячейки указано `True` или `False`. Этот метод позволит вам посчитать, сколько ячеек начинается с английской буквы `C` (`True` считается как 1, `False` - как 0)\n",
    "\n",
    "Как использовать метод? Например применим метод `some_method()` к колонке `column_name` датафрейма `df`:\n",
    "```python\n",
    "df.column_name.some_method()\n",
    "```\n",
    "</p>\n",
    "</details>\n"
   ]
  },
  {
   "cell_type": "code",
   "execution_count": 15,
   "metadata": {
    "id": "qxR1c8_vv-mL"
   },
   "outputs": [
    {
     "data": {
      "text/plain": [
       "False    527390\n",
       "True       9251\n",
       "Name: InvoiceNo, dtype: int64"
      ]
     },
     "execution_count": 15,
     "metadata": {},
     "output_type": "execute_result"
    }
   ],
   "source": [
    "retail.InvoiceNo.str.startswith('C').value_counts()\n",
    "\n"
   ]
  },
  {
   "cell_type": "markdown",
   "metadata": {
    "id": "9hxFBVvgv-mL"
   },
   "source": [
    "3. Удалите записи об отмененных транзакциях из датафрейма `retail` - то есть ОСТАВЬТЕ в нем только те строки, которые в колонке `InvoiceNo` НЕ начинаются с английской буквы `C`"
   ]
  },
  {
   "cell_type": "markdown",
   "metadata": {
    "id": "qNtAnGPIv-mM"
   },
   "source": [
    "<details>\n",
    "<summary>&#9658; Нажмите сюда, чтобы увидеть подсказку</summary>\n",
    "  <p>\n",
    "\n",
    "**Чтобы оставить только нужные записи,** используйте аксессор `loc[]`, внутрь которого передайте условие, что значение в колонке `InvoiceNo` НЕ начинается с английской буквы `C`. Для этого внутри аксессора напишите код из первого шага выполнения и поставьте перед ним, но всё также внутри квадратных скобок знак `~`, который означает, что это условие не должно выполняться\n",
    "\n",
    "**Как использовать аксессор?** Например, код\n",
    "```python\n",
    "df = df.loc[~df.some_method()]\n",
    "```\n",
    "оставит в датафрейме `df` только те строки, где в результате применения метода `some_method()` будет `False`\n",
    "      \n",
    "Не забудьте сохранить результат применения аксессора в тот же датафрейм `retail`\n",
    "</p>\n",
    "</details>"
   ]
  },
  {
   "cell_type": "code",
   "execution_count": 16,
   "metadata": {
    "id": "m7lt7JZkv-mM"
   },
   "outputs": [],
   "source": [
    "retail = retail.loc[~retail.InvoiceNo.str.startswith('C')]\n",
    "\n"
   ]
  },
  {
   "cell_type": "code",
   "execution_count": 17,
   "metadata": {},
   "outputs": [
    {
     "data": {
      "text/plain": [
       "(527390, 8)"
      ]
     },
     "execution_count": 17,
     "metadata": {},
     "output_type": "execute_result"
    }
   ],
   "source": [
    "retail.shape"
   ]
  },
  {
   "cell_type": "markdown",
   "metadata": {
    "id": "Cu0S1ii4v-mU"
   },
   "source": [
    "## Шаг 4"
   ]
  },
  {
   "cell_type": "markdown",
   "metadata": {
    "id": "1hvjTr7Hv-mU"
   },
   "source": [
    "Ваша задача — проанализировать покупки наиболее активных пользователей одной из стран. **Для этого сначала вам нужно найти пользователей из Германии, которые совершили значительное количество заказов, т.е. выше определенного порога N**. Ваши коллеги уже расчитали, что этот порог — 80-й процентиль. Иными словами, вам нужно посчитать число заказов (см.колонку `InvoiceNo`) для каждого пользователя (см. колонку `CustomerID`) из Германии (Germany) и оставить только тех, кто совершил более N заказов, где N – 80-й процентиль. Запишите полученные id пользователей в переменную `germany_top` (не весь датафрейм, только id).\n",
    "\n",
    "**На LMS датафрейм сохранен в переменную `retail`. Загрузите в LMS Ваш код, в котором выполняете все эти шаги**"
   ]
  },
  {
   "cell_type": "markdown",
   "metadata": {
    "id": "CuMiv4qNv-mV"
   },
   "source": [
    "Шаги выполнения:  \n",
    "1. Оставьте только записи о пользователях из Германии (см.колонку `Country`)"
   ]
  },
  {
   "cell_type": "markdown",
   "metadata": {
    "id": "WZZOUcByv-mW"
   },
   "source": [
    "<details>\n",
    "<summary>&#9658; Нажмите сюда, чтобы увидеть подсказку</summary>\n",
    "  <p>\n",
    "\n",
    "**Чтобы отобрать только нужные записи, используйте метод `query()`**, внутри которого напишите строку с условием: значение в колонке `Country` равно 'Germany'.\n",
    "\n",
    "**Как использовать метод?** Давайте применим метод `some_method()` к датафрейму `df`:\n",
    "```python\n",
    "df.some_method()\n",
    "```\n",
    "           \n",
    "Учтите, что условие нужно написать в единых кавычках, а название колонки — без кавычек. Целые числа и булевы значения (True, False) также пишутся без кавычек, а строки — в кавычках (двойных или одинарных — главное, не тех, в которые взяты оба условия).\n",
    "      \n",
    "Помните, что один знак равно означает присвоение, а два — проверку на равенство.\n",
    "      \n",
    "</p>\n",
    "</details>"
   ]
  },
  {
   "cell_type": "code",
   "execution_count": 63,
   "metadata": {
    "id": "tgRVSIPkv-mX"
   },
   "outputs": [
    {
     "data": {
      "text/html": [
       "<div>\n",
       "<style scoped>\n",
       "    .dataframe tbody tr th:only-of-type {\n",
       "        vertical-align: middle;\n",
       "    }\n",
       "\n",
       "    .dataframe tbody tr th {\n",
       "        vertical-align: top;\n",
       "    }\n",
       "\n",
       "    .dataframe thead th {\n",
       "        text-align: right;\n",
       "    }\n",
       "</style>\n",
       "<table border=\"1\" class=\"dataframe\">\n",
       "  <thead>\n",
       "    <tr style=\"text-align: right;\">\n",
       "      <th></th>\n",
       "      <th>InvoiceNo</th>\n",
       "      <th>StockCode</th>\n",
       "      <th>Description</th>\n",
       "      <th>Quantity</th>\n",
       "      <th>InvoiceDate</th>\n",
       "      <th>UnitPrice</th>\n",
       "      <th>CustomerID</th>\n",
       "      <th>Country</th>\n",
       "    </tr>\n",
       "  </thead>\n",
       "  <tbody>\n",
       "    <tr>\n",
       "      <th>1109</th>\n",
       "      <td>536527</td>\n",
       "      <td>22809</td>\n",
       "      <td>SET OF 6 T-LIGHTS SANTA</td>\n",
       "      <td>6</td>\n",
       "      <td>12/1/2010 13:04</td>\n",
       "      <td>2.95</td>\n",
       "      <td>12662.0</td>\n",
       "      <td>Germany</td>\n",
       "    </tr>\n",
       "    <tr>\n",
       "      <th>1110</th>\n",
       "      <td>536527</td>\n",
       "      <td>84347</td>\n",
       "      <td>ROTATING SILVER ANGELS T-LIGHT HLDR</td>\n",
       "      <td>6</td>\n",
       "      <td>12/1/2010 13:04</td>\n",
       "      <td>2.55</td>\n",
       "      <td>12662.0</td>\n",
       "      <td>Germany</td>\n",
       "    </tr>\n",
       "    <tr>\n",
       "      <th>1111</th>\n",
       "      <td>536527</td>\n",
       "      <td>84945</td>\n",
       "      <td>MULTI COLOUR SILVER T-LIGHT HOLDER</td>\n",
       "      <td>12</td>\n",
       "      <td>12/1/2010 13:04</td>\n",
       "      <td>0.85</td>\n",
       "      <td>12662.0</td>\n",
       "      <td>Germany</td>\n",
       "    </tr>\n",
       "    <tr>\n",
       "      <th>1112</th>\n",
       "      <td>536527</td>\n",
       "      <td>22242</td>\n",
       "      <td>5 HOOK HANGER MAGIC TOADSTOOL</td>\n",
       "      <td>12</td>\n",
       "      <td>12/1/2010 13:04</td>\n",
       "      <td>1.65</td>\n",
       "      <td>12662.0</td>\n",
       "      <td>Germany</td>\n",
       "    </tr>\n",
       "    <tr>\n",
       "      <th>1113</th>\n",
       "      <td>536527</td>\n",
       "      <td>22244</td>\n",
       "      <td>3 HOOK HANGER MAGIC GARDEN</td>\n",
       "      <td>12</td>\n",
       "      <td>12/1/2010 13:04</td>\n",
       "      <td>1.95</td>\n",
       "      <td>12662.0</td>\n",
       "      <td>Germany</td>\n",
       "    </tr>\n",
       "    <tr>\n",
       "      <th>...</th>\n",
       "      <td>...</td>\n",
       "      <td>...</td>\n",
       "      <td>...</td>\n",
       "      <td>...</td>\n",
       "      <td>...</td>\n",
       "      <td>...</td>\n",
       "      <td>...</td>\n",
       "      <td>...</td>\n",
       "    </tr>\n",
       "    <tr>\n",
       "      <th>541801</th>\n",
       "      <td>581578</td>\n",
       "      <td>22993</td>\n",
       "      <td>SET OF 4 PANTRY JELLY MOULDS</td>\n",
       "      <td>12</td>\n",
       "      <td>12/9/2011 12:16</td>\n",
       "      <td>1.25</td>\n",
       "      <td>12713.0</td>\n",
       "      <td>Germany</td>\n",
       "    </tr>\n",
       "    <tr>\n",
       "      <th>541802</th>\n",
       "      <td>581578</td>\n",
       "      <td>22907</td>\n",
       "      <td>PACK OF 20 NAPKINS PANTRY DESIGN</td>\n",
       "      <td>12</td>\n",
       "      <td>12/9/2011 12:16</td>\n",
       "      <td>0.85</td>\n",
       "      <td>12713.0</td>\n",
       "      <td>Germany</td>\n",
       "    </tr>\n",
       "    <tr>\n",
       "      <th>541803</th>\n",
       "      <td>581578</td>\n",
       "      <td>22908</td>\n",
       "      <td>PACK OF 20 NAPKINS RED APPLES</td>\n",
       "      <td>12</td>\n",
       "      <td>12/9/2011 12:16</td>\n",
       "      <td>0.85</td>\n",
       "      <td>12713.0</td>\n",
       "      <td>Germany</td>\n",
       "    </tr>\n",
       "    <tr>\n",
       "      <th>541804</th>\n",
       "      <td>581578</td>\n",
       "      <td>23215</td>\n",
       "      <td>JINGLE BELL HEART ANTIQUE SILVER</td>\n",
       "      <td>12</td>\n",
       "      <td>12/9/2011 12:16</td>\n",
       "      <td>2.08</td>\n",
       "      <td>12713.0</td>\n",
       "      <td>Germany</td>\n",
       "    </tr>\n",
       "    <tr>\n",
       "      <th>541805</th>\n",
       "      <td>581578</td>\n",
       "      <td>22736</td>\n",
       "      <td>RIBBON REEL MAKING SNOWMEN</td>\n",
       "      <td>10</td>\n",
       "      <td>12/9/2011 12:16</td>\n",
       "      <td>1.65</td>\n",
       "      <td>12713.0</td>\n",
       "      <td>Germany</td>\n",
       "    </tr>\n",
       "  </tbody>\n",
       "</table>\n",
       "<p>9027 rows × 8 columns</p>\n",
       "</div>"
      ],
      "text/plain": [
       "       InvoiceNo StockCode                          Description  Quantity  \\\n",
       "1109      536527     22809              SET OF 6 T-LIGHTS SANTA         6   \n",
       "1110      536527     84347  ROTATING SILVER ANGELS T-LIGHT HLDR         6   \n",
       "1111      536527     84945   MULTI COLOUR SILVER T-LIGHT HOLDER        12   \n",
       "1112      536527     22242        5 HOOK HANGER MAGIC TOADSTOOL        12   \n",
       "1113      536527     22244           3 HOOK HANGER MAGIC GARDEN        12   \n",
       "...          ...       ...                                  ...       ...   \n",
       "541801    581578     22993         SET OF 4 PANTRY JELLY MOULDS        12   \n",
       "541802    581578     22907     PACK OF 20 NAPKINS PANTRY DESIGN        12   \n",
       "541803    581578     22908        PACK OF 20 NAPKINS RED APPLES        12   \n",
       "541804    581578     23215     JINGLE BELL HEART ANTIQUE SILVER        12   \n",
       "541805    581578     22736          RIBBON REEL MAKING SNOWMEN         10   \n",
       "\n",
       "            InvoiceDate  UnitPrice  CustomerID  Country  \n",
       "1109    12/1/2010 13:04       2.95     12662.0  Germany  \n",
       "1110    12/1/2010 13:04       2.55     12662.0  Germany  \n",
       "1111    12/1/2010 13:04       0.85     12662.0  Germany  \n",
       "1112    12/1/2010 13:04       1.65     12662.0  Germany  \n",
       "1113    12/1/2010 13:04       1.95     12662.0  Germany  \n",
       "...                 ...        ...         ...      ...  \n",
       "541801  12/9/2011 12:16       1.25     12713.0  Germany  \n",
       "541802  12/9/2011 12:16       0.85     12713.0  Germany  \n",
       "541803  12/9/2011 12:16       0.85     12713.0  Germany  \n",
       "541804  12/9/2011 12:16       2.08     12713.0  Germany  \n",
       "541805  12/9/2011 12:16       1.65     12713.0  Germany  \n",
       "\n",
       "[9027 rows x 8 columns]"
      ]
     },
     "execution_count": 63,
     "metadata": {},
     "output_type": "execute_result"
    }
   ],
   "source": [
    "retail.query('Country == \"Germany\"')\n",
    "\n"
   ]
  },
  {
   "cell_type": "markdown",
   "metadata": {
    "id": "_QOwzmWRv-mY"
   },
   "source": [
    "2. Посчитайте количество заказов (не транзакций) для каждого пользователя и сохраните результат в новый датафрейм `invoice_dist`"
   ]
  },
  {
   "cell_type": "markdown",
   "metadata": {
    "id": "n3YSOz3kv-mZ"
   },
   "source": [
    "<details>\n",
    "<summary>&#9658; Нажмите сюда, чтобы увидеть подсказку</summary>\n",
    "  <p>\n",
    "\n",
    "**Сгруппируйте данные по столбцу `CustomerID`, используя метод `groupby()`**. Его вызов группирует строки по значениям в какой-то колонке (или комбинации значений из нескольких колонок). Чтобы колонка `CustomerID` не оказалась в индексе, используйте параметр `as_index=False`. Например,\n",
    "\n",
    "```python\n",
    "df.groupby('col_1', as_index=False)\n",
    "```\n",
    "сгруппирует данные датафрейма `df` по колонке `col_1`. При этом колонка `col_1` останется колонкой, а не индексом. Сама по себе группировка не вычисляет что-то по группам.\n",
    "      \n",
    "**После группировки используйте метод `agg()`**, в котором примените агрегирующую функцию `nunique` к колонке `InvoiceNo`. Функция посчитает число уникальных значений в колонке для каждого клиента\n",
    "\n",
    "**Как использовать метод `agg()`?** Например, применим его к датафрейму `df` и посчитаем сумму по столбцу `column_name`:\n",
    "```python\n",
    "df.agg({'column_name':'sum'})\n",
    "```\n",
    "\n",
    "**Как использовать метод `agg()` после группировки?** Используйте цепочку методов, применив их друг за другом. Например:\n",
    "```python\n",
    "df.some_method_1().some_method_2()\n",
    "```      \n",
    "</p>\n",
    "</details>"
   ]
  },
  {
   "cell_type": "code",
   "execution_count": 75,
   "metadata": {
    "id": "4WGg53nlv-ma"
   },
   "outputs": [],
   "source": [
    "invoice_dist = retail.query('Country == \"Germany\"') \\\n",
    "    .groupby(\"CustomerID\", as_index=False) \\\n",
    "    .agg({'InvoiceNo' : 'nunique'})\n",
    "    \n",
    "\n"
   ]
  },
  {
   "cell_type": "markdown",
   "metadata": {
    "id": "DOC-_FHhv-mb"
   },
   "source": [
    "3. В получившемся датафрейме переименуйте колонку с числом заказов в `total_invoices`"
   ]
  },
  {
   "cell_type": "markdown",
   "metadata": {
    "id": "QV1SrPb_v-mb"
   },
   "source": [
    "<details>\n",
    "<summary>&#9658; Нажмите сюда, чтобы увидеть подсказку</summary>\n",
    "  <p>\n",
    "\n",
    "Для переименования колонки передайте в метод `rename()` в параметр `columns` словарь, где ключами являются старые названия колонок, а значениями - новые названия. Например:\n",
    "\n",
    "```python\n",
    "df = df.rename(columns={'old_name':'new_name'})\n",
    "```\n",
    "</p>\n",
    "</details>"
   ]
  },
  {
   "cell_type": "code",
   "execution_count": 79,
   "metadata": {
    "id": "N0ZvDZRJv-mc"
   },
   "outputs": [],
   "source": [
    "invoice_dist = retail.query('Country == \"Germany\"') \\\n",
    "    .groupby(\"CustomerID\", as_index=False) \\\n",
    "    .agg({'InvoiceNo' : 'nunique'}) \\\n",
    "    .rename(columns={'InvoiceNo' : 'total_invoices'})\n",
    "\n"
   ]
  },
  {
   "cell_type": "code",
   "execution_count": 80,
   "metadata": {},
   "outputs": [
    {
     "data": {
      "text/html": [
       "<div>\n",
       "<style scoped>\n",
       "    .dataframe tbody tr th:only-of-type {\n",
       "        vertical-align: middle;\n",
       "    }\n",
       "\n",
       "    .dataframe tbody tr th {\n",
       "        vertical-align: top;\n",
       "    }\n",
       "\n",
       "    .dataframe thead th {\n",
       "        text-align: right;\n",
       "    }\n",
       "</style>\n",
       "<table border=\"1\" class=\"dataframe\">\n",
       "  <thead>\n",
       "    <tr style=\"text-align: right;\">\n",
       "      <th></th>\n",
       "      <th>CustomerID</th>\n",
       "      <th>total_invoices</th>\n",
       "    </tr>\n",
       "  </thead>\n",
       "  <tbody>\n",
       "    <tr>\n",
       "      <th>0</th>\n",
       "      <td>12426.0</td>\n",
       "      <td>1</td>\n",
       "    </tr>\n",
       "    <tr>\n",
       "      <th>1</th>\n",
       "      <td>12427.0</td>\n",
       "      <td>3</td>\n",
       "    </tr>\n",
       "    <tr>\n",
       "      <th>2</th>\n",
       "      <td>12468.0</td>\n",
       "      <td>2</td>\n",
       "    </tr>\n",
       "    <tr>\n",
       "      <th>3</th>\n",
       "      <td>12471.0</td>\n",
       "      <td>30</td>\n",
       "    </tr>\n",
       "    <tr>\n",
       "      <th>4</th>\n",
       "      <td>12472.0</td>\n",
       "      <td>7</td>\n",
       "    </tr>\n",
       "  </tbody>\n",
       "</table>\n",
       "</div>"
      ],
      "text/plain": [
       "   CustomerID  total_invoices\n",
       "0     12426.0               1\n",
       "1     12427.0               3\n",
       "2     12468.0               2\n",
       "3     12471.0              30\n",
       "4     12472.0               7"
      ]
     },
     "execution_count": 80,
     "metadata": {},
     "output_type": "execute_result"
    }
   ],
   "source": [
    "invoice_dist.head()"
   ]
  },
  {
   "cell_type": "markdown",
   "metadata": {
    "id": "_yf9CkXiv-mc"
   },
   "source": [
    "4. Определите значение порога N – 80го процентиля для числа заказов"
   ]
  },
  {
   "cell_type": "markdown",
   "metadata": {
    "id": "qJk_dB-rv-md"
   },
   "source": [
    "<details>\n",
    "<summary>&#9658; Нажмите сюда, чтобы увидеть подсказку</summary>\n",
    "  <p>\n",
    "\n",
    "**Используйте метод `quantile()` с параметром `q` равным 0.8**. Примените метод к колонке `total_invoices` в новом датафрейме `invoice_dist`\n",
    "\n",
    "**Как использовать метод?** Например применим метод `some_method()` с параметром p равным 5 к колонке `column_name` датафрейма `df`:\n",
    "```python\n",
    "df.column_name.some_method(p=5)    \n",
    "```\n",
    "\n",
    "**Результат сохраните в переменную N**\n",
    "</p>\n",
    "</details>"
   ]
  },
  {
   "cell_type": "code",
   "execution_count": 81,
   "metadata": {
    "id": "_x5GmzZBv-md"
   },
   "outputs": [],
   "source": [
    "N = invoice_dist.total_invoices.quantile(q=0.8)\n",
    "\n"
   ]
  },
  {
   "cell_type": "code",
   "execution_count": 68,
   "metadata": {},
   "outputs": [
    {
     "data": {
      "text/plain": [
       "1.0"
      ]
     },
     "execution_count": 68,
     "metadata": {},
     "output_type": "execute_result"
    }
   ],
   "source": [
    "N"
   ]
  },
  {
   "cell_type": "markdown",
   "metadata": {
    "id": "oacmh1iZv-md"
   },
   "source": [
    "5. Оставьте только записи о тех клиентах, кто совершил заказов больше, чем порог N"
   ]
  },
  {
   "cell_type": "markdown",
   "metadata": {
    "id": "yxp377CVv-me"
   },
   "source": [
    "<details>\n",
    "<summary>&#9658; Нажмите сюда, чтобы увидеть подсказку</summary>\n",
    "  <p>\n",
    "\n",
    "**Чтобы отобрать только нужные записи,** используйте аксессор `loc[]`, внутри которого напишите условие, что значение в колонке `total_invoices` выше, чем значение в переменной `N`\n",
    "      \n",
    "**Как использовать аксессор?** Например, код\n",
    "```python\n",
    "df.loc[df.col_name == some_variable]\n",
    "```\n",
    "вернет только те строки датафрейма `df`, где значение в колонке `col_name` равно значению в переменной `some_variable`\n",
    "      \n",
    "Обратите внимание, что при фильтрации с помощью `loc` ставить `@` перед названием переменной не нужно, а при фильтрации с помощью `query` - нужно\n",
    "</p>\n",
    "</details>"
   ]
  },
  {
   "cell_type": "code",
   "execution_count": 82,
   "metadata": {
    "id": "qrFD8vnZv-me"
   },
   "outputs": [
    {
     "data": {
      "text/html": [
       "<div>\n",
       "<style scoped>\n",
       "    .dataframe tbody tr th:only-of-type {\n",
       "        vertical-align: middle;\n",
       "    }\n",
       "\n",
       "    .dataframe tbody tr th {\n",
       "        vertical-align: top;\n",
       "    }\n",
       "\n",
       "    .dataframe thead th {\n",
       "        text-align: right;\n",
       "    }\n",
       "</style>\n",
       "<table border=\"1\" class=\"dataframe\">\n",
       "  <thead>\n",
       "    <tr style=\"text-align: right;\">\n",
       "      <th></th>\n",
       "      <th>CustomerID</th>\n",
       "      <th>total_invoices</th>\n",
       "    </tr>\n",
       "  </thead>\n",
       "  <tbody>\n",
       "    <tr>\n",
       "      <th>3</th>\n",
       "      <td>12471.0</td>\n",
       "      <td>30</td>\n",
       "    </tr>\n",
       "    <tr>\n",
       "      <th>6</th>\n",
       "      <td>12474.0</td>\n",
       "      <td>18</td>\n",
       "    </tr>\n",
       "    <tr>\n",
       "      <th>8</th>\n",
       "      <td>12476.0</td>\n",
       "      <td>11</td>\n",
       "    </tr>\n",
       "    <tr>\n",
       "      <th>12</th>\n",
       "      <td>12481.0</td>\n",
       "      <td>10</td>\n",
       "    </tr>\n",
       "    <tr>\n",
       "      <th>16</th>\n",
       "      <td>12500.0</td>\n",
       "      <td>11</td>\n",
       "    </tr>\n",
       "    <tr>\n",
       "      <th>26</th>\n",
       "      <td>12524.0</td>\n",
       "      <td>8</td>\n",
       "    </tr>\n",
       "    <tr>\n",
       "      <th>37</th>\n",
       "      <td>12569.0</td>\n",
       "      <td>32</td>\n",
       "    </tr>\n",
       "    <tr>\n",
       "      <th>44</th>\n",
       "      <td>12600.0</td>\n",
       "      <td>10</td>\n",
       "    </tr>\n",
       "    <tr>\n",
       "      <th>51</th>\n",
       "      <td>12619.0</td>\n",
       "      <td>9</td>\n",
       "    </tr>\n",
       "    <tr>\n",
       "      <th>52</th>\n",
       "      <td>12621.0</td>\n",
       "      <td>20</td>\n",
       "    </tr>\n",
       "    <tr>\n",
       "      <th>56</th>\n",
       "      <td>12626.0</td>\n",
       "      <td>9</td>\n",
       "    </tr>\n",
       "    <tr>\n",
       "      <th>64</th>\n",
       "      <td>12647.0</td>\n",
       "      <td>12</td>\n",
       "    </tr>\n",
       "    <tr>\n",
       "      <th>69</th>\n",
       "      <td>12662.0</td>\n",
       "      <td>11</td>\n",
       "    </tr>\n",
       "    <tr>\n",
       "      <th>77</th>\n",
       "      <td>12705.0</td>\n",
       "      <td>9</td>\n",
       "    </tr>\n",
       "    <tr>\n",
       "      <th>78</th>\n",
       "      <td>12708.0</td>\n",
       "      <td>10</td>\n",
       "    </tr>\n",
       "    <tr>\n",
       "      <th>79</th>\n",
       "      <td>12709.0</td>\n",
       "      <td>15</td>\n",
       "    </tr>\n",
       "    <tr>\n",
       "      <th>81</th>\n",
       "      <td>12712.0</td>\n",
       "      <td>13</td>\n",
       "    </tr>\n",
       "    <tr>\n",
       "      <th>83</th>\n",
       "      <td>12720.0</td>\n",
       "      <td>25</td>\n",
       "    </tr>\n",
       "  </tbody>\n",
       "</table>\n",
       "</div>"
      ],
      "text/plain": [
       "    CustomerID  total_invoices\n",
       "3      12471.0              30\n",
       "6      12474.0              18\n",
       "8      12476.0              11\n",
       "12     12481.0              10\n",
       "16     12500.0              11\n",
       "26     12524.0               8\n",
       "37     12569.0              32\n",
       "44     12600.0              10\n",
       "51     12619.0               9\n",
       "52     12621.0              20\n",
       "56     12626.0               9\n",
       "64     12647.0              12\n",
       "69     12662.0              11\n",
       "77     12705.0               9\n",
       "78     12708.0              10\n",
       "79     12709.0              15\n",
       "81     12712.0              13\n",
       "83     12720.0              25"
      ]
     },
     "execution_count": 82,
     "metadata": {},
     "output_type": "execute_result"
    }
   ],
   "source": [
    "invoice_dist.query('total_invoices > @N')\n",
    "\n"
   ]
  },
  {
   "cell_type": "markdown",
   "metadata": {
    "id": "Q2dZG4ehv-me"
   },
   "source": [
    "6. Запишите в переменную `germany_top` только оставшиеся id пользователей"
   ]
  },
  {
   "cell_type": "markdown",
   "metadata": {
    "id": "zcVCvc6Bv-mf"
   },
   "source": [
    "<details>\n",
    "<summary>&#9658; Нажмите сюда, чтобы увидеть подсказку</summary>\n",
    "  <p>\n",
    "\n",
    "**Обратитесь к колонке `CustomerID` в отфильтрованном на пятом шаге выполнения датафрейме.**\n",
    "      \n",
    "**Как сохранить колонку в переменную?** Например, код\n",
    "```python\n",
    "new_variable = df['col_name']\n",
    "```\n",
    "сохранит в переменную `new_variable` значения из колонки `col_name` датафрейма. `df`\n",
    "</p>\n",
    "</details>"
   ]
  },
  {
   "cell_type": "code",
   "execution_count": 83,
   "metadata": {
    "id": "r5qmSnJQv-mg"
   },
   "outputs": [],
   "source": [
    "germany_top = invoice_dist.query('total_invoices > @N')['CustomerID']"
   ]
  },
  {
   "cell_type": "code",
   "execution_count": 84,
   "metadata": {},
   "outputs": [
    {
     "data": {
      "text/plain": [
       "3     12471.0\n",
       "6     12474.0\n",
       "8     12476.0\n",
       "12    12481.0\n",
       "16    12500.0\n",
       "26    12524.0\n",
       "37    12569.0\n",
       "44    12600.0\n",
       "51    12619.0\n",
       "52    12621.0\n",
       "56    12626.0\n",
       "64    12647.0\n",
       "69    12662.0\n",
       "77    12705.0\n",
       "78    12708.0\n",
       "79    12709.0\n",
       "81    12712.0\n",
       "83    12720.0\n",
       "Name: CustomerID, dtype: float64"
      ]
     },
     "execution_count": 84,
     "metadata": {},
     "output_type": "execute_result"
    }
   ],
   "source": [
    "germany_top"
   ]
  },
  {
   "cell_type": "markdown",
   "metadata": {
    "id": "YhMhwhi8v-mh"
   },
   "source": [
    "7. Скопируйте и загрузите в LMS весь ваш код для этого задания"
   ]
  },
  {
   "cell_type": "markdown",
   "metadata": {
    "id": "3FHJv8RUv-mq"
   },
   "source": [
    "## Шаг 5"
   ]
  },
  {
   "cell_type": "markdown",
   "metadata": {
    "id": "9VJChOx7v-mq"
   },
   "source": [
    "Теперь, когда у вас есть нужные id пользователей (в переменной `germany_top` с предыдущего шага), вы можете отобрать все записи о транзакциях этих пользователей, чтобы потом их проанализировать. **Возьмите из датафрейма `retail` записи только по интересующим нас пользователям из переменной `germany_top`. Результирующий датафрейм запишите в `top_retail_germany`.**\n",
    "\n",
    "**На LMS датафрейм с данными о транзакциях сохранен в переменную `retail`, а нужные id пользователей – в `germany_top`. Загрузите в LMS ваш код, в котором сохраняете в датафрейм `top_retail_germany` только записи о транзакциях нужных пользователей**"
   ]
  },
  {
   "cell_type": "markdown",
   "metadata": {
    "id": "Ett6MDm2v-mr"
   },
   "source": [
    "Шаги выполнения:  \n",
    "1. Отберите из датафрейма `retail` записи только по интересующим нас пользователям из переменной `germany_top`"
   ]
  },
  {
   "cell_type": "markdown",
   "metadata": {
    "id": "Coo8Czf-v-ms"
   },
   "source": [
    "<details>\n",
    "<summary>&#9658; Нажмите сюда, чтобы увидеть подсказку</summary>\n",
    "  <p>\n",
    "\n",
    "**Чтобы отобрать только нужные записи,** используйте аксессор `loc[]`, внутри которого примените к колонке `CustomerID` датафрейма `retail` метод `isin()`. В качестве аргумента в метод подайте переменную `germany_top`. Этот метод определит, есть ли значение из каждой ячейки в переменной.\n",
    "\n",
    "**Как применить метод?** Например, применим метод `some_method()` с аргументом `some_argument` к колонке `col_name` датафрейма `df`:\n",
    "```python\n",
    "df.col_name.some_method(some_argument)\n",
    "```\n",
    "      \n",
    "**Как использовать аксессор?** Например, код\n",
    "```python\n",
    "df.loc[df.some_method()]\n",
    "```\n",
    "вернет только те строки датафрейма `df`, где в результате применения метода `some_method()` будет `True`.\n",
    "</p>\n",
    "</details>"
   ]
  },
  {
   "cell_type": "code",
   "execution_count": 88,
   "metadata": {
    "id": "Jn8pUJUAv-mt"
   },
   "outputs": [
    {
     "data": {
      "text/html": [
       "<div>\n",
       "<style scoped>\n",
       "    .dataframe tbody tr th:only-of-type {\n",
       "        vertical-align: middle;\n",
       "    }\n",
       "\n",
       "    .dataframe tbody tr th {\n",
       "        vertical-align: top;\n",
       "    }\n",
       "\n",
       "    .dataframe thead th {\n",
       "        text-align: right;\n",
       "    }\n",
       "</style>\n",
       "<table border=\"1\" class=\"dataframe\">\n",
       "  <thead>\n",
       "    <tr style=\"text-align: right;\">\n",
       "      <th></th>\n",
       "      <th>InvoiceNo</th>\n",
       "      <th>StockCode</th>\n",
       "      <th>Description</th>\n",
       "      <th>Quantity</th>\n",
       "      <th>InvoiceDate</th>\n",
       "      <th>UnitPrice</th>\n",
       "      <th>CustomerID</th>\n",
       "      <th>Country</th>\n",
       "    </tr>\n",
       "  </thead>\n",
       "  <tbody>\n",
       "    <tr>\n",
       "      <th>1109</th>\n",
       "      <td>536527</td>\n",
       "      <td>22809</td>\n",
       "      <td>SET OF 6 T-LIGHTS SANTA</td>\n",
       "      <td>6</td>\n",
       "      <td>12/1/2010 13:04</td>\n",
       "      <td>2.95</td>\n",
       "      <td>12662.0</td>\n",
       "      <td>Germany</td>\n",
       "    </tr>\n",
       "    <tr>\n",
       "      <th>1110</th>\n",
       "      <td>536527</td>\n",
       "      <td>84347</td>\n",
       "      <td>ROTATING SILVER ANGELS T-LIGHT HLDR</td>\n",
       "      <td>6</td>\n",
       "      <td>12/1/2010 13:04</td>\n",
       "      <td>2.55</td>\n",
       "      <td>12662.0</td>\n",
       "      <td>Germany</td>\n",
       "    </tr>\n",
       "    <tr>\n",
       "      <th>1111</th>\n",
       "      <td>536527</td>\n",
       "      <td>84945</td>\n",
       "      <td>MULTI COLOUR SILVER T-LIGHT HOLDER</td>\n",
       "      <td>12</td>\n",
       "      <td>12/1/2010 13:04</td>\n",
       "      <td>0.85</td>\n",
       "      <td>12662.0</td>\n",
       "      <td>Germany</td>\n",
       "    </tr>\n",
       "    <tr>\n",
       "      <th>1112</th>\n",
       "      <td>536527</td>\n",
       "      <td>22242</td>\n",
       "      <td>5 HOOK HANGER MAGIC TOADSTOOL</td>\n",
       "      <td>12</td>\n",
       "      <td>12/1/2010 13:04</td>\n",
       "      <td>1.65</td>\n",
       "      <td>12662.0</td>\n",
       "      <td>Germany</td>\n",
       "    </tr>\n",
       "    <tr>\n",
       "      <th>1113</th>\n",
       "      <td>536527</td>\n",
       "      <td>22244</td>\n",
       "      <td>3 HOOK HANGER MAGIC GARDEN</td>\n",
       "      <td>12</td>\n",
       "      <td>12/1/2010 13:04</td>\n",
       "      <td>1.95</td>\n",
       "      <td>12662.0</td>\n",
       "      <td>Germany</td>\n",
       "    </tr>\n",
       "    <tr>\n",
       "      <th>...</th>\n",
       "      <td>...</td>\n",
       "      <td>...</td>\n",
       "      <td>...</td>\n",
       "      <td>...</td>\n",
       "      <td>...</td>\n",
       "      <td>...</td>\n",
       "      <td>...</td>\n",
       "      <td>...</td>\n",
       "    </tr>\n",
       "    <tr>\n",
       "      <th>541726</th>\n",
       "      <td>581570</td>\n",
       "      <td>22139</td>\n",
       "      <td>RETROSPOT TEA SET CERAMIC 11 PC</td>\n",
       "      <td>3</td>\n",
       "      <td>12/9/2011 11:59</td>\n",
       "      <td>4.95</td>\n",
       "      <td>12662.0</td>\n",
       "      <td>Germany</td>\n",
       "    </tr>\n",
       "    <tr>\n",
       "      <th>541727</th>\n",
       "      <td>581570</td>\n",
       "      <td>23077</td>\n",
       "      <td>DOUGHNUT LIP GLOSS</td>\n",
       "      <td>20</td>\n",
       "      <td>12/9/2011 11:59</td>\n",
       "      <td>1.25</td>\n",
       "      <td>12662.0</td>\n",
       "      <td>Germany</td>\n",
       "    </tr>\n",
       "    <tr>\n",
       "      <th>541728</th>\n",
       "      <td>581570</td>\n",
       "      <td>20750</td>\n",
       "      <td>RED RETROSPOT MINI CASES</td>\n",
       "      <td>2</td>\n",
       "      <td>12/9/2011 11:59</td>\n",
       "      <td>7.95</td>\n",
       "      <td>12662.0</td>\n",
       "      <td>Germany</td>\n",
       "    </tr>\n",
       "    <tr>\n",
       "      <th>541729</th>\n",
       "      <td>581570</td>\n",
       "      <td>22505</td>\n",
       "      <td>MEMO BOARD COTTAGE DESIGN</td>\n",
       "      <td>4</td>\n",
       "      <td>12/9/2011 11:59</td>\n",
       "      <td>4.95</td>\n",
       "      <td>12662.0</td>\n",
       "      <td>Germany</td>\n",
       "    </tr>\n",
       "    <tr>\n",
       "      <th>541730</th>\n",
       "      <td>581570</td>\n",
       "      <td>POST</td>\n",
       "      <td>POSTAGE</td>\n",
       "      <td>1</td>\n",
       "      <td>12/9/2011 11:59</td>\n",
       "      <td>18.00</td>\n",
       "      <td>12662.0</td>\n",
       "      <td>Germany</td>\n",
       "    </tr>\n",
       "  </tbody>\n",
       "</table>\n",
       "<p>4175 rows × 8 columns</p>\n",
       "</div>"
      ],
      "text/plain": [
       "       InvoiceNo StockCode                          Description  Quantity  \\\n",
       "1109      536527     22809              SET OF 6 T-LIGHTS SANTA         6   \n",
       "1110      536527     84347  ROTATING SILVER ANGELS T-LIGHT HLDR         6   \n",
       "1111      536527     84945   MULTI COLOUR SILVER T-LIGHT HOLDER        12   \n",
       "1112      536527     22242        5 HOOK HANGER MAGIC TOADSTOOL        12   \n",
       "1113      536527     22244           3 HOOK HANGER MAGIC GARDEN        12   \n",
       "...          ...       ...                                  ...       ...   \n",
       "541726    581570     22139     RETROSPOT TEA SET CERAMIC 11 PC          3   \n",
       "541727    581570     23077                  DOUGHNUT LIP GLOSS         20   \n",
       "541728    581570     20750             RED RETROSPOT MINI CASES         2   \n",
       "541729    581570     22505            MEMO BOARD COTTAGE DESIGN         4   \n",
       "541730    581570      POST                              POSTAGE         1   \n",
       "\n",
       "            InvoiceDate  UnitPrice  CustomerID  Country  \n",
       "1109    12/1/2010 13:04       2.95     12662.0  Germany  \n",
       "1110    12/1/2010 13:04       2.55     12662.0  Germany  \n",
       "1111    12/1/2010 13:04       0.85     12662.0  Germany  \n",
       "1112    12/1/2010 13:04       1.65     12662.0  Germany  \n",
       "1113    12/1/2010 13:04       1.95     12662.0  Germany  \n",
       "...                 ...        ...         ...      ...  \n",
       "541726  12/9/2011 11:59       4.95     12662.0  Germany  \n",
       "541727  12/9/2011 11:59       1.25     12662.0  Germany  \n",
       "541728  12/9/2011 11:59       7.95     12662.0  Germany  \n",
       "541729  12/9/2011 11:59       4.95     12662.0  Germany  \n",
       "541730  12/9/2011 11:59      18.00     12662.0  Germany  \n",
       "\n",
       "[4175 rows x 8 columns]"
      ]
     },
     "execution_count": 88,
     "metadata": {},
     "output_type": "execute_result"
    }
   ],
   "source": [
    "retail.loc[retail.CustomerID.isin(germany_top)]\n",
    "\n"
   ]
  },
  {
   "cell_type": "markdown",
   "metadata": {
    "id": "2nTVN3ndv-mt"
   },
   "source": [
    "2. Сохраните отобранные записи в новый датафрейм `top_retail_germany`"
   ]
  },
  {
   "cell_type": "markdown",
   "metadata": {
    "id": "82Ehoqnov-mv"
   },
   "source": [
    "<details>\n",
    "<summary>&#9658; Нажмите сюда, чтобы увидеть подсказку</summary>\n",
    "  <p>\n",
    "    \n",
    "**Как сохранить отобранные записи в новый датафрейм?** Например, код\n",
    "```python\n",
    "new_df = df.loc[]\n",
    "```\n",
    "сохранит в датафрейм `new_df` только отобранные значения из датафрейма `df`\n",
    "</p>\n",
    "</details>"
   ]
  },
  {
   "cell_type": "code",
   "execution_count": 89,
   "metadata": {
    "id": "Xcp4YfcEv-mv"
   },
   "outputs": [],
   "source": [
    "top_retail_germany = retail.loc[retail.CustomerID.isin(germany_top)]\n",
    "\n"
   ]
  },
  {
   "cell_type": "markdown",
   "metadata": {
    "id": "iEwK0h-uv-mw"
   },
   "source": [
    "3. Скопируйте и загрузите в LMS код, в котором сохраняете в датафрейм `top_retail_germany` только записи о транзакциях нужных пользователей"
   ]
  },
  {
   "cell_type": "markdown",
   "metadata": {
    "id": "KtlufTGlv-m0"
   },
   "source": [
    "## Шаг 6"
   ]
  },
  {
   "cell_type": "markdown",
   "metadata": {
    "id": "ObcEWR_jv-m1"
   },
   "source": [
    "Наконец можем переходить непосредственно к анализу данных! **Определите, какой товар отобранные нами активные пользователи из Германии (см.датафрейм `top_retail_germany`) добавляли в корзину чаще всего (без учета количества товара).** Не берите в расчет услугу доставки, обозначенную как `POST`."
   ]
  },
  {
   "cell_type": "markdown",
   "metadata": {
    "id": "WfRDrrpav-m1"
   },
   "source": [
    "Шаги выполнения:  \n",
    "1. Посчитайте, сколько раз каждый из товаров добавляли в корзину"
   ]
  },
  {
   "cell_type": "markdown",
   "metadata": {
    "id": "Z-D1EvORv-m2"
   },
   "source": [
    "<details>\n",
    "<summary>&#9658; Нажмите сюда, чтобы увидеть подсказку</summary>\n",
    "  <p>\n",
    "\n",
    "**Используйте метод `value_counts()`**, применив его к столбцу `StockCode` датафрейма `top_retail_germany`. Этот метод возвращает серию, где индексы — это уникальные значения из столбца, а значения — это число их встречаний (количество строк с таким значением).\n",
    "      \n",
    "**Как использовать метод?** Например, применим метод `some_method()` к колонке `column_name` датафрейма `df`:\n",
    "```python\n",
    "df.column_name.some_method()\n",
    "```\n",
    "</p>\n",
    "</details>"
   ]
  },
  {
   "cell_type": "code",
   "execution_count": 90,
   "metadata": {
    "id": "kXQe5Rcdv-m2"
   },
   "outputs": [
    {
     "data": {
      "text/plain": [
       "POST     213\n",
       "22326     52\n",
       "22328     38\n",
       "22423     34\n",
       "20719     30\n",
       "        ... \n",
       "85094      1\n",
       "23358      1\n",
       "22610      1\n",
       "22902      1\n",
       "22437      1\n",
       "Name: StockCode, Length: 1158, dtype: int64"
      ]
     },
     "execution_count": 90,
     "metadata": {},
     "output_type": "execute_result"
    }
   ],
   "source": [
    "top_retail_germany.StockCode.value_counts()\n",
    "\n"
   ]
  },
  {
   "cell_type": "markdown",
   "metadata": {
    "id": "eWvGuvQav-m3"
   },
   "source": [
    "2. Определите, какой товар добавляли в корзину чаще всего. Не берите в расчет услугу доставки, обозначенную как `POST`."
   ]
  },
  {
   "cell_type": "markdown",
   "metadata": {
    "id": "iTjR4NRov-m4"
   },
   "source": [
    "<details>\n",
    "<summary>&#9658; Нажмите сюда, чтобы увидеть подсказку</summary>\n",
    "  <p>\n",
    "\n",
    "Метод `value_counts()` сам сортирует значения от большего к меньшему, поэтому достаточно посмотреть на самый верхний код товара, за исключением `POST`\n",
    "</p>\n",
    "</details>"
   ]
  },
  {
   "cell_type": "markdown",
   "metadata": {
    "id": "p2njnDP1v-m7"
   },
   "source": [
    "## Шаг 7"
   ]
  },
  {
   "cell_type": "markdown",
   "metadata": {
    "id": "-ohcZBCYv-m7"
   },
   "source": [
    "Вернемся к анализу датафрейма `retail`. **Вам нужно найти 5 наиболее крупных по выручке заказов.**  Для этого сначала посчитайте сумму покупки для каждой транзакции, т.е. создайте колонку `Revenue` с суммой покупки, используя колонки `Quantity` и `UnitPrice`. Потом для каждого заказа (см.колонку `InvoiceNo`) суммируйте выручку всех входящих в него транзакций — это будет колонка `TotalRevenue`. Отсортируйте записи в порядке убывания `TotalRevenue`. **В качестве ответа укажите топ-5 заказов (см.колонку `InvoiceNo`) по сумме заказа (через запятую с пробелом, в том же порядке)**"
   ]
  },
  {
   "cell_type": "markdown",
   "metadata": {
    "id": "e_yddZMpv-m8"
   },
   "source": [
    "Шаги выполнения:  \n",
    "1. Используя колонки `Quantity` и `UnitPrice`, посчитайте сумму покупки для каждой транзакции и сохраните значения в колонку `Revenue`"
   ]
  },
  {
   "cell_type": "markdown",
   "metadata": {
    "id": "ApsPDusKv-m8"
   },
   "source": [
    "<details>\n",
    "<summary>&#9658; Нажмите сюда, чтобы увидеть подсказку</summary>\n",
    "  <p>\n",
    "\n",
    "**Используйте метод `assign()`**, применив его к датафрейму `retail`. В метод передайте аргумент формата `название колонки = её содержимое`. Здесь названия колонок нужно писать без кавычек. Результат применения метода сохраните в тот же датафрейм `retail`.\n",
    "      \n",
    "Помните, что значение выручки можно получить, умножив стоимость единицы товара на количество единиц этого товара.\n",
    "      \n",
    "**Как использовать метод?** Например применим метод `some_method()` к датафрейму `df` и результат сохраним в тот же датафрейм:\n",
    "```python\n",
    "df = df.some_method()\n",
    "```\n",
    "</p>\n",
    "</details>"
   ]
  },
  {
   "cell_type": "code",
   "execution_count": 92,
   "metadata": {
    "id": "D1MBJGsLv-m9"
   },
   "outputs": [],
   "source": [
    "retail = retail.assign(Revenue = retail.Quantity * retail.UnitPrice)\n",
    "\n"
   ]
  },
  {
   "cell_type": "code",
   "execution_count": 93,
   "metadata": {},
   "outputs": [
    {
     "data": {
      "text/html": [
       "<div>\n",
       "<style scoped>\n",
       "    .dataframe tbody tr th:only-of-type {\n",
       "        vertical-align: middle;\n",
       "    }\n",
       "\n",
       "    .dataframe tbody tr th {\n",
       "        vertical-align: top;\n",
       "    }\n",
       "\n",
       "    .dataframe thead th {\n",
       "        text-align: right;\n",
       "    }\n",
       "</style>\n",
       "<table border=\"1\" class=\"dataframe\">\n",
       "  <thead>\n",
       "    <tr style=\"text-align: right;\">\n",
       "      <th></th>\n",
       "      <th>InvoiceNo</th>\n",
       "      <th>StockCode</th>\n",
       "      <th>Description</th>\n",
       "      <th>Quantity</th>\n",
       "      <th>InvoiceDate</th>\n",
       "      <th>UnitPrice</th>\n",
       "      <th>CustomerID</th>\n",
       "      <th>Country</th>\n",
       "      <th>Revenue</th>\n",
       "    </tr>\n",
       "  </thead>\n",
       "  <tbody>\n",
       "    <tr>\n",
       "      <th>0</th>\n",
       "      <td>536365</td>\n",
       "      <td>85123A</td>\n",
       "      <td>WHITE HANGING HEART T-LIGHT HOLDER</td>\n",
       "      <td>6</td>\n",
       "      <td>12/1/2010 8:26</td>\n",
       "      <td>2.55</td>\n",
       "      <td>17850.0</td>\n",
       "      <td>United Kingdom</td>\n",
       "      <td>15.30</td>\n",
       "    </tr>\n",
       "    <tr>\n",
       "      <th>1</th>\n",
       "      <td>536365</td>\n",
       "      <td>71053</td>\n",
       "      <td>WHITE METAL LANTERN</td>\n",
       "      <td>6</td>\n",
       "      <td>12/1/2010 8:26</td>\n",
       "      <td>3.39</td>\n",
       "      <td>17850.0</td>\n",
       "      <td>United Kingdom</td>\n",
       "      <td>20.34</td>\n",
       "    </tr>\n",
       "    <tr>\n",
       "      <th>2</th>\n",
       "      <td>536365</td>\n",
       "      <td>84406B</td>\n",
       "      <td>CREAM CUPID HEARTS COAT HANGER</td>\n",
       "      <td>8</td>\n",
       "      <td>12/1/2010 8:26</td>\n",
       "      <td>2.75</td>\n",
       "      <td>17850.0</td>\n",
       "      <td>United Kingdom</td>\n",
       "      <td>22.00</td>\n",
       "    </tr>\n",
       "    <tr>\n",
       "      <th>3</th>\n",
       "      <td>536365</td>\n",
       "      <td>84029G</td>\n",
       "      <td>KNITTED UNION FLAG HOT WATER BOTTLE</td>\n",
       "      <td>6</td>\n",
       "      <td>12/1/2010 8:26</td>\n",
       "      <td>3.39</td>\n",
       "      <td>17850.0</td>\n",
       "      <td>United Kingdom</td>\n",
       "      <td>20.34</td>\n",
       "    </tr>\n",
       "    <tr>\n",
       "      <th>4</th>\n",
       "      <td>536365</td>\n",
       "      <td>84029E</td>\n",
       "      <td>RED WOOLLY HOTTIE WHITE HEART.</td>\n",
       "      <td>6</td>\n",
       "      <td>12/1/2010 8:26</td>\n",
       "      <td>3.39</td>\n",
       "      <td>17850.0</td>\n",
       "      <td>United Kingdom</td>\n",
       "      <td>20.34</td>\n",
       "    </tr>\n",
       "  </tbody>\n",
       "</table>\n",
       "</div>"
      ],
      "text/plain": [
       "  InvoiceNo StockCode                          Description  Quantity  \\\n",
       "0    536365    85123A   WHITE HANGING HEART T-LIGHT HOLDER         6   \n",
       "1    536365     71053                  WHITE METAL LANTERN         6   \n",
       "2    536365    84406B       CREAM CUPID HEARTS COAT HANGER         8   \n",
       "3    536365    84029G  KNITTED UNION FLAG HOT WATER BOTTLE         6   \n",
       "4    536365    84029E       RED WOOLLY HOTTIE WHITE HEART.         6   \n",
       "\n",
       "      InvoiceDate  UnitPrice  CustomerID         Country  Revenue  \n",
       "0  12/1/2010 8:26       2.55     17850.0  United Kingdom    15.30  \n",
       "1  12/1/2010 8:26       3.39     17850.0  United Kingdom    20.34  \n",
       "2  12/1/2010 8:26       2.75     17850.0  United Kingdom    22.00  \n",
       "3  12/1/2010 8:26       3.39     17850.0  United Kingdom    20.34  \n",
       "4  12/1/2010 8:26       3.39     17850.0  United Kingdom    20.34  "
      ]
     },
     "execution_count": 93,
     "metadata": {},
     "output_type": "execute_result"
    }
   ],
   "source": [
    "retail.head()"
   ]
  },
  {
   "cell_type": "markdown",
   "metadata": {
    "id": "LxBak6K8v-m9"
   },
   "source": [
    "2. Для каждого заказа (см.колонку `InvoiceNo`) суммируйте выручку всех входящих в него транзакций"
   ]
  },
  {
   "cell_type": "markdown",
   "metadata": {
    "id": "eseI4Jjuv-m9"
   },
   "source": [
    "<details>\n",
    "<summary>&#9658; Нажмите сюда, чтобы увидеть подсказку</summary>\n",
    "  <p>\n",
    "\n",
    "**Сгруппируйте данные по столбцу `InvoiceNo`, используя метод `groupby()`**. Его вызов группирует строки по значениям в какой-то колонке (или комбинации значений из нескольких колонок). Например,\n",
    "\n",
    "```python\n",
    "df.groupby('col_1')\n",
    "```\n",
    "сгруппирует данные датафрейма `df` по колонке `col_1`. Сама по себе группировка не вычисляет что-то по группам.\n",
    "      \n",
    "**После группировки используйте метод `agg()`**, в котором примените агрегирующую функцию `sum` к колонке `Revenue`. Функция суммирует значения в колонке для каждого заказа.\n",
    "\n",
    "**Как использовать метод `agg()`?** Например, применим его к датафрейму `df` и посчитаем число строк в столбце `column_name`:\n",
    "```python\n",
    "df.agg({'column_name':'count'})\n",
    "```\n",
    "\n",
    "**Как использовать метод `agg()` после группировки?** Используйте цепочку методов, применив их друг за другом. Например:\n",
    "```python\n",
    "df.some_method_1().some_method_2()\n",
    "```      \n",
    "</p>\n",
    "</details>"
   ]
  },
  {
   "cell_type": "code",
   "execution_count": 97,
   "metadata": {
    "id": "tla9oLgkv-m-"
   },
   "outputs": [
    {
     "data": {
      "text/html": [
       "<div>\n",
       "<style scoped>\n",
       "    .dataframe tbody tr th:only-of-type {\n",
       "        vertical-align: middle;\n",
       "    }\n",
       "\n",
       "    .dataframe tbody tr th {\n",
       "        vertical-align: top;\n",
       "    }\n",
       "\n",
       "    .dataframe thead th {\n",
       "        text-align: right;\n",
       "    }\n",
       "</style>\n",
       "<table border=\"1\" class=\"dataframe\">\n",
       "  <thead>\n",
       "    <tr style=\"text-align: right;\">\n",
       "      <th></th>\n",
       "      <th>InvoiceNo</th>\n",
       "      <th>Revenue</th>\n",
       "    </tr>\n",
       "  </thead>\n",
       "  <tbody>\n",
       "    <tr>\n",
       "      <th>0</th>\n",
       "      <td>536365</td>\n",
       "      <td>139.12</td>\n",
       "    </tr>\n",
       "    <tr>\n",
       "      <th>1</th>\n",
       "      <td>536366</td>\n",
       "      <td>22.20</td>\n",
       "    </tr>\n",
       "    <tr>\n",
       "      <th>2</th>\n",
       "      <td>536367</td>\n",
       "      <td>278.73</td>\n",
       "    </tr>\n",
       "    <tr>\n",
       "      <th>3</th>\n",
       "      <td>536368</td>\n",
       "      <td>70.05</td>\n",
       "    </tr>\n",
       "    <tr>\n",
       "      <th>4</th>\n",
       "      <td>536369</td>\n",
       "      <td>17.85</td>\n",
       "    </tr>\n",
       "    <tr>\n",
       "      <th>...</th>\n",
       "      <td>...</td>\n",
       "      <td>...</td>\n",
       "    </tr>\n",
       "    <tr>\n",
       "      <th>22059</th>\n",
       "      <td>581586</td>\n",
       "      <td>339.20</td>\n",
       "    </tr>\n",
       "    <tr>\n",
       "      <th>22060</th>\n",
       "      <td>581587</td>\n",
       "      <td>249.45</td>\n",
       "    </tr>\n",
       "    <tr>\n",
       "      <th>22061</th>\n",
       "      <td>A563185</td>\n",
       "      <td>11062.06</td>\n",
       "    </tr>\n",
       "    <tr>\n",
       "      <th>22062</th>\n",
       "      <td>A563186</td>\n",
       "      <td>-11062.06</td>\n",
       "    </tr>\n",
       "    <tr>\n",
       "      <th>22063</th>\n",
       "      <td>A563187</td>\n",
       "      <td>-11062.06</td>\n",
       "    </tr>\n",
       "  </tbody>\n",
       "</table>\n",
       "<p>22064 rows × 2 columns</p>\n",
       "</div>"
      ],
      "text/plain": [
       "      InvoiceNo   Revenue\n",
       "0        536365    139.12\n",
       "1        536366     22.20\n",
       "2        536367    278.73\n",
       "3        536368     70.05\n",
       "4        536369     17.85\n",
       "...         ...       ...\n",
       "22059    581586    339.20\n",
       "22060    581587    249.45\n",
       "22061   A563185  11062.06\n",
       "22062   A563186 -11062.06\n",
       "22063   A563187 -11062.06\n",
       "\n",
       "[22064 rows x 2 columns]"
      ]
     },
     "execution_count": 97,
     "metadata": {},
     "output_type": "execute_result"
    }
   ],
   "source": [
    "retail.groupby('InvoiceNo', as_index=False).agg({'Revenue' : 'sum'})\n"
   ]
  },
  {
   "cell_type": "markdown",
   "metadata": {
    "id": "pVlTcsouv-m-"
   },
   "source": [
    "3. В получившемся датафрейме переименуйте колонку `Revenue` в `TotalRevenue`"
   ]
  },
  {
   "cell_type": "markdown",
   "metadata": {
    "id": "ZHLfGKHZv-m_"
   },
   "source": [
    "<details>\n",
    "<summary>&#9658; Нажмите сюда, чтобы увидеть подсказку</summary>\n",
    "  <p>\n",
    "\n",
    "Для переименования колонки передайте в метод `rename()` в параметр `columns` словарь, где ключами являются старые названия колонок, а значениями - новые названия. Например:\n",
    "\n",
    "```python\n",
    "df = df.rename(columns={'old_name':'new_name'})\n",
    "```\n",
    "</p>\n",
    "</details>"
   ]
  },
  {
   "cell_type": "code",
   "execution_count": 98,
   "metadata": {
    "id": "2P19YoGZv-m_"
   },
   "outputs": [
    {
     "data": {
      "text/html": [
       "<div>\n",
       "<style scoped>\n",
       "    .dataframe tbody tr th:only-of-type {\n",
       "        vertical-align: middle;\n",
       "    }\n",
       "\n",
       "    .dataframe tbody tr th {\n",
       "        vertical-align: top;\n",
       "    }\n",
       "\n",
       "    .dataframe thead th {\n",
       "        text-align: right;\n",
       "    }\n",
       "</style>\n",
       "<table border=\"1\" class=\"dataframe\">\n",
       "  <thead>\n",
       "    <tr style=\"text-align: right;\">\n",
       "      <th></th>\n",
       "      <th>InvoiceNo</th>\n",
       "      <th>TotalRevenue</th>\n",
       "    </tr>\n",
       "  </thead>\n",
       "  <tbody>\n",
       "    <tr>\n",
       "      <th>0</th>\n",
       "      <td>536365</td>\n",
       "      <td>139.12</td>\n",
       "    </tr>\n",
       "    <tr>\n",
       "      <th>1</th>\n",
       "      <td>536366</td>\n",
       "      <td>22.20</td>\n",
       "    </tr>\n",
       "    <tr>\n",
       "      <th>2</th>\n",
       "      <td>536367</td>\n",
       "      <td>278.73</td>\n",
       "    </tr>\n",
       "    <tr>\n",
       "      <th>3</th>\n",
       "      <td>536368</td>\n",
       "      <td>70.05</td>\n",
       "    </tr>\n",
       "    <tr>\n",
       "      <th>4</th>\n",
       "      <td>536369</td>\n",
       "      <td>17.85</td>\n",
       "    </tr>\n",
       "    <tr>\n",
       "      <th>...</th>\n",
       "      <td>...</td>\n",
       "      <td>...</td>\n",
       "    </tr>\n",
       "    <tr>\n",
       "      <th>22059</th>\n",
       "      <td>581586</td>\n",
       "      <td>339.20</td>\n",
       "    </tr>\n",
       "    <tr>\n",
       "      <th>22060</th>\n",
       "      <td>581587</td>\n",
       "      <td>249.45</td>\n",
       "    </tr>\n",
       "    <tr>\n",
       "      <th>22061</th>\n",
       "      <td>A563185</td>\n",
       "      <td>11062.06</td>\n",
       "    </tr>\n",
       "    <tr>\n",
       "      <th>22062</th>\n",
       "      <td>A563186</td>\n",
       "      <td>-11062.06</td>\n",
       "    </tr>\n",
       "    <tr>\n",
       "      <th>22063</th>\n",
       "      <td>A563187</td>\n",
       "      <td>-11062.06</td>\n",
       "    </tr>\n",
       "  </tbody>\n",
       "</table>\n",
       "<p>22064 rows × 2 columns</p>\n",
       "</div>"
      ],
      "text/plain": [
       "      InvoiceNo  TotalRevenue\n",
       "0        536365        139.12\n",
       "1        536366         22.20\n",
       "2        536367        278.73\n",
       "3        536368         70.05\n",
       "4        536369         17.85\n",
       "...         ...           ...\n",
       "22059    581586        339.20\n",
       "22060    581587        249.45\n",
       "22061   A563185      11062.06\n",
       "22062   A563186     -11062.06\n",
       "22063   A563187     -11062.06\n",
       "\n",
       "[22064 rows x 2 columns]"
      ]
     },
     "execution_count": 98,
     "metadata": {},
     "output_type": "execute_result"
    }
   ],
   "source": [
    "retail.groupby('InvoiceNo', as_index=False) \\\n",
    "    .agg({'Revenue' : 'sum'}) \\\n",
    "    .rename(columns={'Revenue' : 'TotalRevenue'})\n",
    "\n"
   ]
  },
  {
   "cell_type": "markdown",
   "metadata": {
    "id": "MPR5RbZWv-nB"
   },
   "source": [
    "4. Отсортируйте записи в порядке убывания значений в колонке `TotalRevenue`"
   ]
  },
  {
   "cell_type": "markdown",
   "metadata": {
    "id": "RGkTUgGwv-nC"
   },
   "source": [
    "<details>\n",
    "<summary>&#9658; Нажмите сюда, чтобы увидеть подсказку</summary>\n",
    "  <p>\n",
    "\n",
    "Используйте метод `sort_values()`. Он сортирует строки по значениям в какой-то колонке. Например,\n",
    "\n",
    "```python\n",
    "df.sort_values('col_1', ascending=True)\n",
    "```\n",
    "\n",
    "отсортирует данные датафрейма `df` по значениям в колонке `col_1`. Параметр `ascending` отвечает за сортировку по возрастанию (True — по возрастанию, False — по убыванию)    \n",
    "\n",
    "</p>\n",
    "</details>"
   ]
  },
  {
   "cell_type": "code",
   "execution_count": 103,
   "metadata": {
    "id": "vb5m-zYdv-nC"
   },
   "outputs": [
    {
     "data": {
      "text/html": [
       "<div>\n",
       "<style scoped>\n",
       "    .dataframe tbody tr th:only-of-type {\n",
       "        vertical-align: middle;\n",
       "    }\n",
       "\n",
       "    .dataframe tbody tr th {\n",
       "        vertical-align: top;\n",
       "    }\n",
       "\n",
       "    .dataframe thead th {\n",
       "        text-align: right;\n",
       "    }\n",
       "</style>\n",
       "<table border=\"1\" class=\"dataframe\">\n",
       "  <thead>\n",
       "    <tr style=\"text-align: right;\">\n",
       "      <th></th>\n",
       "      <th>InvoiceNo</th>\n",
       "      <th>TotalRevenue</th>\n",
       "    </tr>\n",
       "  </thead>\n",
       "  <tbody>\n",
       "    <tr>\n",
       "      <th>22025</th>\n",
       "      <td>581483</td>\n",
       "      <td>168469.60</td>\n",
       "    </tr>\n",
       "    <tr>\n",
       "      <th>2303</th>\n",
       "      <td>541431</td>\n",
       "      <td>77183.60</td>\n",
       "    </tr>\n",
       "    <tr>\n",
       "      <th>18776</th>\n",
       "      <td>574941</td>\n",
       "      <td>52940.94</td>\n",
       "    </tr>\n",
       "    <tr>\n",
       "      <th>19468</th>\n",
       "      <td>576365</td>\n",
       "      <td>50653.91</td>\n",
       "    </tr>\n",
       "    <tr>\n",
       "      <th>9741</th>\n",
       "      <td>556444</td>\n",
       "      <td>38970.00</td>\n",
       "    </tr>\n",
       "    <tr>\n",
       "      <th>...</th>\n",
       "      <td>...</td>\n",
       "      <td>...</td>\n",
       "    </tr>\n",
       "    <tr>\n",
       "      <th>5977</th>\n",
       "      <td>548999</td>\n",
       "      <td>0.00</td>\n",
       "    </tr>\n",
       "    <tr>\n",
       "      <th>5976</th>\n",
       "      <td>548998</td>\n",
       "      <td>0.00</td>\n",
       "    </tr>\n",
       "    <tr>\n",
       "      <th>5975</th>\n",
       "      <td>548997</td>\n",
       "      <td>0.00</td>\n",
       "    </tr>\n",
       "    <tr>\n",
       "      <th>22062</th>\n",
       "      <td>A563186</td>\n",
       "      <td>-11062.06</td>\n",
       "    </tr>\n",
       "    <tr>\n",
       "      <th>22063</th>\n",
       "      <td>A563187</td>\n",
       "      <td>-11062.06</td>\n",
       "    </tr>\n",
       "  </tbody>\n",
       "</table>\n",
       "<p>22064 rows × 2 columns</p>\n",
       "</div>"
      ],
      "text/plain": [
       "      InvoiceNo  TotalRevenue\n",
       "22025    581483     168469.60\n",
       "2303     541431      77183.60\n",
       "18776    574941      52940.94\n",
       "19468    576365      50653.91\n",
       "9741     556444      38970.00\n",
       "...         ...           ...\n",
       "5977     548999          0.00\n",
       "5976     548998          0.00\n",
       "5975     548997          0.00\n",
       "22062   A563186     -11062.06\n",
       "22063   A563187     -11062.06\n",
       "\n",
       "[22064 rows x 2 columns]"
      ]
     },
     "execution_count": 103,
     "metadata": {},
     "output_type": "execute_result"
    }
   ],
   "source": [
    "retail.groupby('InvoiceNo', as_index=False) \\\n",
    "    .agg({'Revenue' : 'sum'}) \\\n",
    "    .rename(columns={'Revenue' : 'TotalRevenue'}) \\\n",
    "    .sort_values('TotalRevenue', ascending=False)\n",
    "\n"
   ]
  },
  {
   "cell_type": "markdown",
   "metadata": {
    "id": "1cLHDnAwv-nD"
   },
   "source": [
    "5. В отсортированном датафрейме возьмите только 5 первых записей"
   ]
  },
  {
   "cell_type": "markdown",
   "metadata": {
    "id": "ZgOMv5Gev-nD"
   },
   "source": [
    "<details>\n",
    "<summary>&#9658; Нажмите сюда, чтобы увидеть подсказку</summary>\n",
    "  <p>\n",
    "      \n",
    "Используйте метод `head()`. Например код\n",
    "```python\n",
    "df.head(10)\n",
    "```\n",
    "вернет первые 10 строк датафрейма `df`\n",
    "</p>\n",
    "</details>"
   ]
  },
  {
   "cell_type": "code",
   "execution_count": 104,
   "metadata": {
    "id": "jmyvsxBjv-nE"
   },
   "outputs": [
    {
     "data": {
      "text/html": [
       "<div>\n",
       "<style scoped>\n",
       "    .dataframe tbody tr th:only-of-type {\n",
       "        vertical-align: middle;\n",
       "    }\n",
       "\n",
       "    .dataframe tbody tr th {\n",
       "        vertical-align: top;\n",
       "    }\n",
       "\n",
       "    .dataframe thead th {\n",
       "        text-align: right;\n",
       "    }\n",
       "</style>\n",
       "<table border=\"1\" class=\"dataframe\">\n",
       "  <thead>\n",
       "    <tr style=\"text-align: right;\">\n",
       "      <th></th>\n",
       "      <th>InvoiceNo</th>\n",
       "      <th>TotalRevenue</th>\n",
       "    </tr>\n",
       "  </thead>\n",
       "  <tbody>\n",
       "    <tr>\n",
       "      <th>22025</th>\n",
       "      <td>581483</td>\n",
       "      <td>168469.60</td>\n",
       "    </tr>\n",
       "    <tr>\n",
       "      <th>2303</th>\n",
       "      <td>541431</td>\n",
       "      <td>77183.60</td>\n",
       "    </tr>\n",
       "    <tr>\n",
       "      <th>18776</th>\n",
       "      <td>574941</td>\n",
       "      <td>52940.94</td>\n",
       "    </tr>\n",
       "    <tr>\n",
       "      <th>19468</th>\n",
       "      <td>576365</td>\n",
       "      <td>50653.91</td>\n",
       "    </tr>\n",
       "    <tr>\n",
       "      <th>9741</th>\n",
       "      <td>556444</td>\n",
       "      <td>38970.00</td>\n",
       "    </tr>\n",
       "  </tbody>\n",
       "</table>\n",
       "</div>"
      ],
      "text/plain": [
       "      InvoiceNo  TotalRevenue\n",
       "22025    581483     168469.60\n",
       "2303     541431      77183.60\n",
       "18776    574941      52940.94\n",
       "19468    576365      50653.91\n",
       "9741     556444      38970.00"
      ]
     },
     "execution_count": 104,
     "metadata": {},
     "output_type": "execute_result"
    }
   ],
   "source": [
    "retail.groupby('InvoiceNo', as_index=False) \\\n",
    "    .agg({'Revenue' : 'sum'}) \\\n",
    "    .rename(columns={'Revenue' : 'TotalRevenue'}) \\\n",
    "    .sort_values('TotalRevenue', ascending=False) \\\n",
    "    .head()\n",
    "\n"
   ]
  },
  {
   "cell_type": "markdown",
   "metadata": {
    "id": "Eb8XXGaWv-nE"
   },
   "source": [
    "6. Скопируйте в LMS номера 5 оставшихся заказов"
   ]
  },
  {
   "cell_type": "markdown",
   "metadata": {
    "id": "A9Y1Pmf_v-nE"
   },
   "source": [
    "<details>\n",
    "<summary>&#9658; Нажмите сюда, чтобы увидеть подсказку</summary>\n",
    "  <p>\n",
    "\n",
    "**Если номера заказов у вас в индексах**, обратитесь к ним через атрибут `index`.\n",
    "      \n",
    "**Как обратиться к атрибуту датафрейма?** Для этого нужно написать переменную, где хранится датафрейм, поставить точку и написать название атрибута (без скобок!). Например:\n",
    "```python\n",
    "df.some_attribute\n",
    "```\n",
    "так мы обратимся к атрибуту `some_attribute` у датафрейма в переменной `df`       \n",
    "      \n",
    "**Если номера заказов у вас в колонке `InvoiceNo`,** примените к ней атрибут `values`. Например, применим атрибут `some_attribute` к колонке `col_name` датафрейма `df`\n",
    "\n",
    "```python\n",
    "df.col_name.some_attribute\n",
    "```\n",
    "\n",
    "**В LMS номера заказов скопируйте через запятую с пробелом, в том же порядке и без кавычек**    \n",
    "\n",
    "</p>\n",
    "</details>"
   ]
  },
  {
   "cell_type": "code",
   "execution_count": 106,
   "metadata": {
    "id": "6Ve599YVv-nF"
   },
   "outputs": [
    {
     "data": {
      "text/plain": [
       "array(['581483', '541431', '574941', '576365', '556444'], dtype=object)"
      ]
     },
     "execution_count": 106,
     "metadata": {},
     "output_type": "execute_result"
    }
   ],
   "source": [
    "retail.groupby('InvoiceNo', as_index=False) \\\n",
    "    .agg({'Revenue' : 'sum'}) \\\n",
    "    .rename(columns={'Revenue' : 'TotalRevenue'}) \\\n",
    "    .sort_values('TotalRevenue', ascending=False) \\\n",
    "    .head() \\\n",
    "    .InvoiceNo \\\n",
    "    .values\n",
    "\n"
   ]
  },
  {
   "cell_type": "markdown",
   "metadata": {
    "id": "eLwt-AOtv-nL"
   },
   "source": [
    "# Часть 2"
   ]
  },
  {
   "cell_type": "markdown",
   "metadata": {
    "id": "-Veepq2ev-nM"
   },
   "source": [
    "Работать с прошлыми данными вы закончили. Да, иногда приходится решать разовые задачи (их ещё называют ad-hoc задачами) и не редкость, что этап подготовки данных занимает больше времени, чем сам их анализ.\n",
    "\n",
    "**Переключаемся на работу с новым датасетом `transaction_data.csv`. Ваш коллега описывает данные следующим образом:**\n",
    "\n",
    "- date – дата (2020-03-02 00:00:00 – 2020-03-02 01:29:05)  \n",
    "- name – имя пользователя  \n",
    "- transaction – статус транзакции  \n",
    "- minute – сколько минут прошло с начала дня (эта колонка будет доступна в данных с определенного шага)\n",
    "\n",
    "Каждая строка — это отдельная транзакция."
   ]
  },
  {
   "cell_type": "markdown",
   "metadata": {
    "id": "1yUoczYAv-nM"
   },
   "source": [
    "## Шаг 8"
   ]
  },
  {
   "cell_type": "markdown",
   "metadata": {
    "id": "RGvUC9zev-nN"
   },
   "source": [
    "Как всегда, начнем работу со знакомства с набором данных, проверим их полноту и получим общее представление о структуре данных. Загрузите датасет `transaction_data.csv` и посмотрите на его содержимое. Проверьте размер таблицы, типы данных и описательную статистику. **Определите, сколько в датасете пропущенных значений?**"
   ]
  },
  {
   "cell_type": "markdown",
   "metadata": {
    "id": "fY4ADWBVv-nN"
   },
   "source": [
    "Шаги выполнения:  \n",
    "1. Загрузите csv файл к уроку в свою папку в JupyterНub\n",
    "2. Прочитайте этот датасет, сохранив результат в переменную `data`"
   ]
  },
  {
   "cell_type": "markdown",
   "metadata": {
    "id": "hN3UOi_Uv-nN"
   },
   "source": [
    "<details>\n",
    "<summary>&#9658; Нажмите сюда, чтобы увидеть подсказку</summary>\n",
    "  <p>\n",
    "      \n",
    "Данные находятся в файле формата CSV. Для их загрузки воспользуйтесь функцией `pd.read_csv()`, передав в качестве аргумента путь к файлу. Например,\n",
    "```python\n",
    "df = pd.read_csv('data.csv')\n",
    "```\n",
    "считает файл `data.csv`, хранящийся в той же папке, что и юпитер ноутбук, в котором вы сейчас работаете.\n",
    "</p>\n",
    "</details>"
   ]
  },
  {
   "cell_type": "code",
   "execution_count": 107,
   "metadata": {
    "id": "QGFhN3YWv-nN"
   },
   "outputs": [],
   "source": [
    "data = pd.read_csv('transaction_data.csv')\n",
    "\n"
   ]
  },
  {
   "cell_type": "markdown",
   "metadata": {
    "id": "Gs9mbA1Wv-nO"
   },
   "source": [
    "3. Посмотрите на содержимое датафрейма, проверьте его размер"
   ]
  },
  {
   "cell_type": "markdown",
   "metadata": {
    "id": "NpaOuHTuv-nO"
   },
   "source": [
    "<details>\n",
    "<summary>&#9658; Нажмите сюда, чтобы увидеть подсказку</summary>\n",
    "  <p>\n",
    "      \n",
    "**Как посмотреть на содержимое датафрейма?** Используйте метод `head()`.\n",
    "\n",
    "**Как проверить размер датафрейма?** Используйте атрибут `shape`, чтобы узнать количество строк и столбцов. Этот атрибут возвращает кортеж, первый элемент которого указывает на количество строк, а второй — на количество столбцов в датафрейме.  \n",
    "      \n",
    "**Как обратиться к атрибуту датафрейма?** Для этого нужно написать переменную, где хранится датафрейм, поставить точку и написать название атрибута (без скобок!). Например:\n",
    "```python\n",
    "df.some_attribute\n",
    "```\n",
    "так мы обратимся к атрибуту `some_attribute` у датафрейма в переменной `df`.\n",
    "      \n",
    "**Как использовать метод?** Например, применим метод `some_method()` к датафрейму `df`:\n",
    "```python\n",
    "df.some_method()\n",
    "```\n",
    "</p>\n",
    "</details>"
   ]
  },
  {
   "cell_type": "code",
   "execution_count": 108,
   "metadata": {
    "id": "4BWqadDzv-nQ"
   },
   "outputs": [
    {
     "data": {
      "text/html": [
       "<div>\n",
       "<style scoped>\n",
       "    .dataframe tbody tr th:only-of-type {\n",
       "        vertical-align: middle;\n",
       "    }\n",
       "\n",
       "    .dataframe tbody tr th {\n",
       "        vertical-align: top;\n",
       "    }\n",
       "\n",
       "    .dataframe thead th {\n",
       "        text-align: right;\n",
       "    }\n",
       "</style>\n",
       "<table border=\"1\" class=\"dataframe\">\n",
       "  <thead>\n",
       "    <tr style=\"text-align: right;\">\n",
       "      <th></th>\n",
       "      <th>date</th>\n",
       "      <th>name</th>\n",
       "      <th>transaction</th>\n",
       "    </tr>\n",
       "  </thead>\n",
       "  <tbody>\n",
       "    <tr>\n",
       "      <th>0</th>\n",
       "      <td>2020-03-02 00:37:20</td>\n",
       "      <td>Ekaterina_Petrova</td>\n",
       "      <td>cancelled</td>\n",
       "    </tr>\n",
       "    <tr>\n",
       "      <th>1</th>\n",
       "      <td>2020-03-02 00:59:09</td>\n",
       "      <td>Irina_Fedorova</td>\n",
       "      <td>successfull</td>\n",
       "    </tr>\n",
       "    <tr>\n",
       "      <th>2</th>\n",
       "      <td>2020-03-02 01:06:14</td>\n",
       "      <td>Ekaterina_Smirnova</td>\n",
       "      <td>successfull</td>\n",
       "    </tr>\n",
       "    <tr>\n",
       "      <th>3</th>\n",
       "      <td>2020-03-02 00:02:58</td>\n",
       "      <td>Lolita_Polyanova</td>\n",
       "      <td>cancelled</td>\n",
       "    </tr>\n",
       "    <tr>\n",
       "      <th>4</th>\n",
       "      <td>2020-03-02 00:17:52</td>\n",
       "      <td>Julia_Smirnova</td>\n",
       "      <td>cancelled</td>\n",
       "    </tr>\n",
       "  </tbody>\n",
       "</table>\n",
       "</div>"
      ],
      "text/plain": [
       "                  date                name  transaction\n",
       "0  2020-03-02 00:37:20   Ekaterina_Petrova    cancelled\n",
       "1  2020-03-02 00:59:09      Irina_Fedorova  successfull\n",
       "2  2020-03-02 01:06:14  Ekaterina_Smirnova  successfull\n",
       "3  2020-03-02 00:02:58    Lolita_Polyanova    cancelled\n",
       "4  2020-03-02 00:17:52      Julia_Smirnova    cancelled"
      ]
     },
     "execution_count": 108,
     "metadata": {},
     "output_type": "execute_result"
    }
   ],
   "source": [
    "data.head()\n",
    "\n"
   ]
  },
  {
   "cell_type": "code",
   "execution_count": 109,
   "metadata": {},
   "outputs": [
    {
     "data": {
      "text/plain": [
       "(5315, 3)"
      ]
     },
     "execution_count": 109,
     "metadata": {},
     "output_type": "execute_result"
    }
   ],
   "source": [
    "data.shape"
   ]
  },
  {
   "cell_type": "markdown",
   "metadata": {
    "id": "jvUy0LD9v-nR"
   },
   "source": [
    "4. Определите типы данных"
   ]
  },
  {
   "cell_type": "markdown",
   "metadata": {
    "id": "WnuEewLBv-nR"
   },
   "source": [
    "<details>\n",
    "<summary>&#9658; Нажмите сюда, чтобы увидеть подсказку</summary>\n",
    "  <p>\n",
    "Есть 2 способа узнать типы данных:\n",
    "      \n",
    "1) Используйте атрибут `dtypes`. Он возвращает серию, индексами которой являются названия столбцов, а значениями — тип данных в этих столбцах.  \n",
    "\n",
    "Для обращения к атрибуту датафрейма нужно написать переменную, где хранится датафрейм, поставить точку и написать название атрибута (без скобок!). Например:\n",
    "```python\n",
    "df.some_attribute\n",
    "```\n",
    "так мы обратимся к атрибуту `some_attribute` у датафрейма в переменной `df`\n",
    "      \n",
    "2) Либо примените к датафрейму метод `info()`, который выводит подробную информацию о датафрейме и его колонках.\n",
    "      \n",
    "Как использовать метод? Например применим метод `some_method()` к датафрейму `df`:\n",
    "```python\n",
    "df.some_method()\n",
    "```\n",
    "</p>\n",
    "</details>"
   ]
  },
  {
   "cell_type": "code",
   "execution_count": 110,
   "metadata": {
    "id": "e5fcttSLv-nS"
   },
   "outputs": [
    {
     "data": {
      "text/plain": [
       "date           object\n",
       "name           object\n",
       "transaction    object\n",
       "dtype: object"
      ]
     },
     "execution_count": 110,
     "metadata": {},
     "output_type": "execute_result"
    }
   ],
   "source": [
    "data.dtypes\n",
    "\n"
   ]
  },
  {
   "cell_type": "markdown",
   "metadata": {
    "id": "ny-Nh3Kov-nT"
   },
   "source": [
    "5. Выведите описательную статистику"
   ]
  },
  {
   "cell_type": "markdown",
   "metadata": {
    "id": "7refHvowv-nT"
   },
   "source": [
    "<details>\n",
    "<summary>&#9658; Нажмите сюда, чтобы увидеть подсказку</summary>\n",
    "  <p>\n",
    "      \n",
    "**Как получить описательную статистику по столбцам?** Используйте метод `describe()`. Если в датафрейме только числовые или только категориальные переменные (тип `object`), метод выведет описательную статистику для них. А если есть ещё и переменные другого типа, то чтобы вывести описательную статистику по всем колонкам, используйте параметр `include=all`\n",
    "      \n",
    "**Как использовать метод?** Например применим метод `some_method()` к датафрейму `df`:\n",
    "```python\n",
    "df.some_method()\n",
    "```\n",
    "</p>\n",
    "</details>"
   ]
  },
  {
   "cell_type": "code",
   "execution_count": 111,
   "metadata": {
    "id": "hTEDPbjbv-nT"
   },
   "outputs": [
    {
     "data": {
      "text/html": [
       "<div>\n",
       "<style scoped>\n",
       "    .dataframe tbody tr th:only-of-type {\n",
       "        vertical-align: middle;\n",
       "    }\n",
       "\n",
       "    .dataframe tbody tr th {\n",
       "        vertical-align: top;\n",
       "    }\n",
       "\n",
       "    .dataframe thead th {\n",
       "        text-align: right;\n",
       "    }\n",
       "</style>\n",
       "<table border=\"1\" class=\"dataframe\">\n",
       "  <thead>\n",
       "    <tr style=\"text-align: right;\">\n",
       "      <th></th>\n",
       "      <th>date</th>\n",
       "      <th>name</th>\n",
       "      <th>transaction</th>\n",
       "    </tr>\n",
       "  </thead>\n",
       "  <tbody>\n",
       "    <tr>\n",
       "      <th>count</th>\n",
       "      <td>5315</td>\n",
       "      <td>5315</td>\n",
       "      <td>5315</td>\n",
       "    </tr>\n",
       "    <tr>\n",
       "      <th>unique</th>\n",
       "      <td>3373</td>\n",
       "      <td>56</td>\n",
       "      <td>3</td>\n",
       "    </tr>\n",
       "    <tr>\n",
       "      <th>top</th>\n",
       "      <td>2020-03-02 00:33:10</td>\n",
       "      <td>Masha_Ozerova</td>\n",
       "      <td>successfull</td>\n",
       "    </tr>\n",
       "    <tr>\n",
       "      <th>freq</th>\n",
       "      <td>6</td>\n",
       "      <td>112</td>\n",
       "      <td>3692</td>\n",
       "    </tr>\n",
       "  </tbody>\n",
       "</table>\n",
       "</div>"
      ],
      "text/plain": [
       "                       date           name  transaction\n",
       "count                  5315           5315         5315\n",
       "unique                 3373             56            3\n",
       "top     2020-03-02 00:33:10  Masha_Ozerova  successfull\n",
       "freq                      6            112         3692"
      ]
     },
     "execution_count": 111,
     "metadata": {},
     "output_type": "execute_result"
    }
   ],
   "source": [
    "data.describe()\n",
    "\n"
   ]
  },
  {
   "cell_type": "markdown",
   "metadata": {
    "id": "KINXbkTFv-nU"
   },
   "source": [
    "6. Посчитайте, сколько в датасете пропущенных значений"
   ]
  },
  {
   "cell_type": "markdown",
   "metadata": {
    "id": "i-8ROt_nv-nU"
   },
   "source": [
    "<details>\n",
    "<summary>&#9658; Нажмите сюда, чтобы увидеть подсказку</summary>\n",
    "  <p>\n",
    "      \n",
    "**Есть два способа узнать, есть ли в данных пропущенные значения:**\n",
    "\n",
    "**1) Примените к датафрейму метод `info()`.** Посмотрите на значение в столбце `Non-Null Count` — оно говорит о том, сколько **не пустых** значений есть в каждой колонке. Если это число совпадает с количеством строк всего датафрейма — пустых значений нет. А если строк во всем датафрейме больше, чем это число — то пустые значения в этой колонке есть, их количество равно разнице между числом строк всего датафрейма и числом не пустых строк в этой колонке.\n",
    "      \n",
    "**Как использовать метод?** Например, применим метод `some_method()` к датафрейму `df`:\n",
    "```python\n",
    "df.some_method()\n",
    "```\n",
    "      \n",
    "**2) Примените к датафрейму два метода друг за другом: `isna()` и `sum()`.** Первым используйте метод `isna()`, вторым — `sum()`\n",
    "      \n",
    "**Как применить к датафрейму два метода друг за другом?** Используйте цепочку методов: напишите два метода подряд, поставив перед каждым точку. Например:\n",
    "```python\n",
    "df.some_method_1().some_method_2()\n",
    "```   \n",
    "\n",
    "</p>\n",
    "</details>"
   ]
  },
  {
   "cell_type": "code",
   "execution_count": 112,
   "metadata": {
    "id": "Us1oBXZYv-nV"
   },
   "outputs": [
    {
     "name": "stdout",
     "output_type": "stream",
     "text": [
      "<class 'pandas.core.frame.DataFrame'>\n",
      "RangeIndex: 5315 entries, 0 to 5314\n",
      "Data columns (total 3 columns):\n",
      " #   Column       Non-Null Count  Dtype \n",
      "---  ------       --------------  ----- \n",
      " 0   date         5315 non-null   object\n",
      " 1   name         5315 non-null   object\n",
      " 2   transaction  5315 non-null   object\n",
      "dtypes: object(3)\n",
      "memory usage: 124.7+ KB\n"
     ]
    }
   ],
   "source": [
    "data.info()\n",
    "\n"
   ]
  },
  {
   "cell_type": "markdown",
   "metadata": {
    "id": "Lphtfsq8v-ns"
   },
   "source": [
    "## Шаг 9"
   ]
  },
  {
   "cell_type": "markdown",
   "metadata": {
    "id": "gMLMavFOv-ns"
   },
   "source": [
    "Ваша задача — проанализировать транзакции пользователей с точки зрения статуса транзакций. **Для начала определите количество транзакций того или иного статуса и визуально представьте эту информацию с помощью графика барплот.** Подумайте, является ли проблемой количество транзакций со статусом `error` (ошибка)?\n",
    "\n",
    "Расположите статусы в порядке убывания числа относящихся к ним записям (от большего к меньшему):  \n",
    "1. cancelled  \n",
    "2. error  \n",
    "3. successfull"
   ]
  },
  {
   "cell_type": "markdown",
   "metadata": {
    "id": "6g1qlfMzv-ns"
   },
   "source": [
    "Шаги выполнения:  \n",
    "1. Посчитайте количество записей для каждого статуса транзакций"
   ]
  },
  {
   "cell_type": "markdown",
   "metadata": {
    "id": "-IHzCfzbv-ns"
   },
   "source": [
    "<details>\n",
    "<summary>&#9658; Нажмите сюда, чтобы увидеть подсказку</summary>\n",
    "  <p>\n",
    "\n",
    "**Используйте метод `value_counts()`**, применив его к столбцу `transaction` датафрейма `data`. Этот метод возвращает серию, где индексы — это уникальные значения из столбца, а значения — это число их встречаний (количество строк с таким значением).\n",
    "      \n",
    "**Как использовать метод?** Например применим метод `some_method()` к колонке `column_name` датафрейма `df`:\n",
    "```python\n",
    "df.column_name.some_method()\n",
    "```\n",
    "</p>\n",
    "</details>"
   ]
  },
  {
   "cell_type": "code",
   "execution_count": 115,
   "metadata": {
    "id": "v_kSyDjVv-ns"
   },
   "outputs": [],
   "source": [
    "ser = data.transaction.value_counts()\n",
    "\n"
   ]
  },
  {
   "cell_type": "markdown",
   "metadata": {
    "id": "m2xVI3puv-nt"
   },
   "source": [
    "2. Импортируйте библиотеку `seaborn`"
   ]
  },
  {
   "cell_type": "markdown",
   "metadata": {
    "id": "uIHcGqw6v-nt"
   },
   "source": [
    "<details>\n",
    "<summary>&#9658; Нажмите сюда, чтобы увидеть подсказку</summary>\n",
    "  <p>\n",
    "      \n",
    "Для импорта библиотеки напишите\n",
    "```python\n",
    "import library as shortcut\n",
    "```\n",
    "где вместо `library` подставьте название библиотеки, а вместо `shortcut` — её общераспространённое сокращённое название.\n",
    "</p>\n",
    "</details>"
   ]
  },
  {
   "cell_type": "code",
   "execution_count": 114,
   "metadata": {
    "id": "am3DNDBNv-nt"
   },
   "outputs": [],
   "source": [
    "import seaborn as sns\n",
    "\n"
   ]
  },
  {
   "cell_type": "markdown",
   "metadata": {
    "id": "7J77OCmcv-nu"
   },
   "source": [
    "3. Постройте барплот с помощью функции `barplot` из библиотеки `seaborn` так, что по оси `x` будет расположено название статуса, а по оси `y` – количество транзакций с таким статусом"
   ]
  },
  {
   "cell_type": "markdown",
   "metadata": {
    "id": "Mepw-WC5v-nu"
   },
   "source": [
    "<details>\n",
    "<summary>&#9658; Нажмите сюда, чтобы увидеть подсказку</summary>\n",
    "  <p>\n",
    "\n",
    "Передайте в функцию `sns.barplot()` следующие параметры:  \n",
    "      `x` — индексы (`index`) серии, с названиями статусов  \n",
    "      `y` — значения (`values`) серии, с количеством транзакций для каждого статуса\n",
    "      \n",
    "Например:      \n",
    "```python\n",
    "sns.barplot(x=series.index, y=series.values)\n",
    "```\n",
    "нарисует график на основе данных из серии `series` так, что по оси х будут идти названия из индекса, а по оси y — соответствующие им значения.\n",
    "</p>\n",
    "</details>"
   ]
  },
  {
   "cell_type": "code",
   "execution_count": 116,
   "metadata": {
    "id": "L4Yl-VX-v-nu"
   },
   "outputs": [
    {
     "data": {
      "text/plain": [
       "<matplotlib.axes._subplots.AxesSubplot at 0x7fa020abd6d8>"
      ]
     },
     "execution_count": 116,
     "metadata": {},
     "output_type": "execute_result"
    },
    {
     "data": {
      "image/png": "[encoded data removed]",
      "text/plain": [
       "<Figure size 432x288 with 1 Axes>"
      ]
     },
     "metadata": {
      "needs_background": "light"
     },
     "output_type": "display_data"
    }
   ],
   "source": [
    "sns.barplot(x = ser.index, y = ser.values)\n",
    "\n"
   ]
  },
  {
   "cell_type": "markdown",
   "metadata": {
    "id": "boo7VxRrv-nz"
   },
   "source": [
    "## Шаг 10"
   ]
  },
  {
   "cell_type": "markdown",
   "metadata": {
    "id": "a1Rl-fNrv-nz"
   },
   "source": [
    "**А теперь посчитайте, сколько успешных транзакций совершил каждый пользователь.**\n",
    "\n",
    "**Выберите одно или несколько верных утверждений:**  \n",
    "- Пользователи в среднем совершили примерно по 66 транзакций  \n",
    "- Максимальное число транзакций – 82  \n",
    "- Пользователи в среднем совершили по 64 транзакции  \n",
    "- Примерно 25% пользователей совершили менее 61 транзакции  \n",
    "- Примерно 25% пользователей совершили более 61 транзакции  \n",
    "- Пользователи в среднем совершили примерно по 56 транзакций  \n",
    "- Максимальное число транзакций – 112  \n",
    "- Пользователи в среднем совершили примерно по 94 транзакции"
   ]
  },
  {
   "cell_type": "markdown",
   "metadata": {
    "id": "FOhr1Qopv-nz"
   },
   "source": [
    "Шаги выполнения:  \n",
    "1. Оставьте только записи об успешных транзакциях (см.колонку `transaction`)"
   ]
  },
  {
   "cell_type": "markdown",
   "metadata": {
    "id": "6Xerg_aUv-n0"
   },
   "source": [
    "<details>\n",
    "<summary>&#9658; Нажмите сюда, чтобы увидеть подсказку</summary>\n",
    "  <p>\n",
    "\n",
    "Чтобы отобрать только нужные записи, есть два способа:\n",
    "\n",
    "1) Используйте аксессор `loc[]`, внутри которого напишите условие, что значение в столбце `transaction` датафрейма `data` равно `'successfull'`.\n",
    "\n",
    "Как использовать аксессор? Например, код\n",
    "```python\n",
    "df.loc[df[\"col_1\"] > 35]\n",
    "```\n",
    "вернет только те строки датафрейма `df`, где значения в колонке `col_1` больше 35.\n",
    "\n",
    "2) Используйте метод `query()`, внутри которого напишите строку с условием, что значение в столбце `transaction` датафрейма `data` равно `'successfull'`. Учтите, что условие нужно писать в кавычках, а название колонки — без кавычек.\n",
    "\n",
    "Как использовать метод? Например применим метод `some_method()` к датафрейму `df`:\n",
    "```python\n",
    "df.some_method()\n",
    "```\n",
    "      \n",
    "Помните, что один знак равно означает присвоение, а два — проверку на равенство\n",
    "      \n",
    "</p>\n",
    "</details>"
   ]
  },
  {
   "cell_type": "code",
   "execution_count": 117,
   "metadata": {
    "id": "dlBPy4B8v-n0"
   },
   "outputs": [
    {
     "data": {
      "text/html": [
       "<div>\n",
       "<style scoped>\n",
       "    .dataframe tbody tr th:only-of-type {\n",
       "        vertical-align: middle;\n",
       "    }\n",
       "\n",
       "    .dataframe tbody tr th {\n",
       "        vertical-align: top;\n",
       "    }\n",
       "\n",
       "    .dataframe thead th {\n",
       "        text-align: right;\n",
       "    }\n",
       "</style>\n",
       "<table border=\"1\" class=\"dataframe\">\n",
       "  <thead>\n",
       "    <tr style=\"text-align: right;\">\n",
       "      <th></th>\n",
       "      <th>date</th>\n",
       "      <th>name</th>\n",
       "      <th>transaction</th>\n",
       "    </tr>\n",
       "  </thead>\n",
       "  <tbody>\n",
       "    <tr>\n",
       "      <th>1</th>\n",
       "      <td>2020-03-02 00:59:09</td>\n",
       "      <td>Irina_Fedorova</td>\n",
       "      <td>successfull</td>\n",
       "    </tr>\n",
       "    <tr>\n",
       "      <th>2</th>\n",
       "      <td>2020-03-02 01:06:14</td>\n",
       "      <td>Ekaterina_Smirnova</td>\n",
       "      <td>successfull</td>\n",
       "    </tr>\n",
       "    <tr>\n",
       "      <th>6</th>\n",
       "      <td>2020-03-02 00:54:12</td>\n",
       "      <td>Olga_Lesnova</td>\n",
       "      <td>successfull</td>\n",
       "    </tr>\n",
       "    <tr>\n",
       "      <th>7</th>\n",
       "      <td>2020-03-02 00:18:43</td>\n",
       "      <td>Irina_Lesnova</td>\n",
       "      <td>successfull</td>\n",
       "    </tr>\n",
       "    <tr>\n",
       "      <th>8</th>\n",
       "      <td>2020-03-02 00:06:10</td>\n",
       "      <td>Vasilisa_Petrova</td>\n",
       "      <td>successfull</td>\n",
       "    </tr>\n",
       "    <tr>\n",
       "      <th>...</th>\n",
       "      <td>...</td>\n",
       "      <td>...</td>\n",
       "      <td>...</td>\n",
       "    </tr>\n",
       "    <tr>\n",
       "      <th>5309</th>\n",
       "      <td>2020-03-02 01:26:13</td>\n",
       "      <td>Olga_Ozerova</td>\n",
       "      <td>successfull</td>\n",
       "    </tr>\n",
       "    <tr>\n",
       "      <th>5310</th>\n",
       "      <td>2020-03-02 00:09:28</td>\n",
       "      <td>Vasilisa_Fedorova</td>\n",
       "      <td>successfull</td>\n",
       "    </tr>\n",
       "    <tr>\n",
       "      <th>5311</th>\n",
       "      <td>2020-03-02 00:46:31</td>\n",
       "      <td>Vasilisa_Ozerova</td>\n",
       "      <td>successfull</td>\n",
       "    </tr>\n",
       "    <tr>\n",
       "      <th>5312</th>\n",
       "      <td>2020-03-02 00:16:38</td>\n",
       "      <td>Olga_Polyanova</td>\n",
       "      <td>successfull</td>\n",
       "    </tr>\n",
       "    <tr>\n",
       "      <th>5313</th>\n",
       "      <td>2020-03-02 00:13:00</td>\n",
       "      <td>Ekaterina_Smirnova</td>\n",
       "      <td>successfull</td>\n",
       "    </tr>\n",
       "  </tbody>\n",
       "</table>\n",
       "<p>3692 rows × 3 columns</p>\n",
       "</div>"
      ],
      "text/plain": [
       "                     date                name  transaction\n",
       "1     2020-03-02 00:59:09      Irina_Fedorova  successfull\n",
       "2     2020-03-02 01:06:14  Ekaterina_Smirnova  successfull\n",
       "6     2020-03-02 00:54:12        Olga_Lesnova  successfull\n",
       "7     2020-03-02 00:18:43       Irina_Lesnova  successfull\n",
       "8     2020-03-02 00:06:10    Vasilisa_Petrova  successfull\n",
       "...                   ...                 ...          ...\n",
       "5309  2020-03-02 01:26:13        Olga_Ozerova  successfull\n",
       "5310  2020-03-02 00:09:28   Vasilisa_Fedorova  successfull\n",
       "5311  2020-03-02 00:46:31    Vasilisa_Ozerova  successfull\n",
       "5312  2020-03-02 00:16:38      Olga_Polyanova  successfull\n",
       "5313  2020-03-02 00:13:00  Ekaterina_Smirnova  successfull\n",
       "\n",
       "[3692 rows x 3 columns]"
      ]
     },
     "execution_count": 117,
     "metadata": {},
     "output_type": "execute_result"
    }
   ],
   "source": [
    "data.query('transaction == \"successfull\"')\n",
    "\n"
   ]
  },
  {
   "cell_type": "markdown",
   "metadata": {
    "id": "orl1uglRv-n0"
   },
   "source": [
    "2. Посчитайте, сколько успешных транзакций совершил каждый пользователь"
   ]
  },
  {
   "cell_type": "markdown",
   "metadata": {
    "id": "OnOTbhqDv-n0"
   },
   "source": [
    "<details>\n",
    "<summary>&#9658; Нажмите сюда, чтобы увидеть подсказку</summary>\n",
    "  <p>\n",
    "\n",
    "**Сгруппируйте данные по столбцу `name`, используя метод `groupby()`**. Его вызов группирует строки по значениям в какой-то колонке (или комбинации значений из нескольких колонок). Чтобы колонка `name` не оказалась в индексе, используйте параметр `as_index=False`. Например,\n",
    "\n",
    "```python\n",
    "df.groupby('col_1', as_index=False)\n",
    "```\n",
    "сгруппирует данные датафрейма `df` по колонке `col_1`. При этом колонка `col_1` останется колонкой, а не индексом. Сама по себе группировка не вычисляет что-то по группам.\n",
    "      \n",
    "**После группировки используйте метод `size()`**, который посчитает, сколько раз встречается каждое значение из колонки, по которой была проведена группировка. В метод ничего подавать не нужно.\n",
    "\n",
    "**Как использовать метод `size()` после группировки?** Используйте цепочку методов, применив их друг за другом. Например:\n",
    "```python\n",
    "df.some_method_1().some_method_2()\n",
    "```      \n",
    "</p>\n",
    "</details>"
   ]
  },
  {
   "cell_type": "code",
   "execution_count": 127,
   "metadata": {
    "id": "hBUWrPDav-n1"
   },
   "outputs": [],
   "source": [
    "df = data.query('transaction == \"successfull\"') \\\n",
    "    .groupby('name', as_index=False) \\\n",
    "    .size() \\\n",
    "    .rename(columns={'size' : 'count_succses'})\n",
    "\n"
   ]
  },
  {
   "cell_type": "code",
   "execution_count": 128,
   "metadata": {},
   "outputs": [
    {
     "data": {
      "text/html": [
       "<div>\n",
       "<style scoped>\n",
       "    .dataframe tbody tr th:only-of-type {\n",
       "        vertical-align: middle;\n",
       "    }\n",
       "\n",
       "    .dataframe tbody tr th {\n",
       "        vertical-align: top;\n",
       "    }\n",
       "\n",
       "    .dataframe thead th {\n",
       "        text-align: right;\n",
       "    }\n",
       "</style>\n",
       "<table border=\"1\" class=\"dataframe\">\n",
       "  <thead>\n",
       "    <tr style=\"text-align: right;\">\n",
       "      <th></th>\n",
       "      <th>name</th>\n",
       "      <th>count_succses</th>\n",
       "    </tr>\n",
       "  </thead>\n",
       "  <tbody>\n",
       "    <tr>\n",
       "      <th>0</th>\n",
       "      <td>Ekaterina_Fedorova</td>\n",
       "      <td>72</td>\n",
       "    </tr>\n",
       "    <tr>\n",
       "      <th>1</th>\n",
       "      <td>Ekaterina_Ivanova</td>\n",
       "      <td>59</td>\n",
       "    </tr>\n",
       "    <tr>\n",
       "      <th>2</th>\n",
       "      <td>Ekaterina_Lesnova</td>\n",
       "      <td>63</td>\n",
       "    </tr>\n",
       "    <tr>\n",
       "      <th>3</th>\n",
       "      <td>Ekaterina_Ozerova</td>\n",
       "      <td>72</td>\n",
       "    </tr>\n",
       "    <tr>\n",
       "      <th>4</th>\n",
       "      <td>Ekaterina_Petrova</td>\n",
       "      <td>68</td>\n",
       "    </tr>\n",
       "    <tr>\n",
       "      <th>5</th>\n",
       "      <td>Ekaterina_Polyanova</td>\n",
       "      <td>68</td>\n",
       "    </tr>\n",
       "    <tr>\n",
       "      <th>6</th>\n",
       "      <td>Ekaterina_Smirnova</td>\n",
       "      <td>77</td>\n",
       "    </tr>\n",
       "    <tr>\n",
       "      <th>7</th>\n",
       "      <td>Irina_Fedorova</td>\n",
       "      <td>62</td>\n",
       "    </tr>\n",
       "    <tr>\n",
       "      <th>8</th>\n",
       "      <td>Irina_Ivanova</td>\n",
       "      <td>60</td>\n",
       "    </tr>\n",
       "    <tr>\n",
       "      <th>9</th>\n",
       "      <td>Irina_Lesnova</td>\n",
       "      <td>76</td>\n",
       "    </tr>\n",
       "    <tr>\n",
       "      <th>10</th>\n",
       "      <td>Irina_Ozerova</td>\n",
       "      <td>76</td>\n",
       "    </tr>\n",
       "    <tr>\n",
       "      <th>11</th>\n",
       "      <td>Irina_Petrova</td>\n",
       "      <td>66</td>\n",
       "    </tr>\n",
       "    <tr>\n",
       "      <th>12</th>\n",
       "      <td>Irina_Polyanova</td>\n",
       "      <td>59</td>\n",
       "    </tr>\n",
       "    <tr>\n",
       "      <th>13</th>\n",
       "      <td>Irina_Smirnova</td>\n",
       "      <td>63</td>\n",
       "    </tr>\n",
       "    <tr>\n",
       "      <th>14</th>\n",
       "      <td>Julia_Fedorova</td>\n",
       "      <td>67</td>\n",
       "    </tr>\n",
       "    <tr>\n",
       "      <th>15</th>\n",
       "      <td>Julia_Ivanova</td>\n",
       "      <td>63</td>\n",
       "    </tr>\n",
       "    <tr>\n",
       "      <th>16</th>\n",
       "      <td>Julia_Lesnova</td>\n",
       "      <td>55</td>\n",
       "    </tr>\n",
       "    <tr>\n",
       "      <th>17</th>\n",
       "      <td>Julia_Ozerova</td>\n",
       "      <td>60</td>\n",
       "    </tr>\n",
       "    <tr>\n",
       "      <th>18</th>\n",
       "      <td>Julia_Petrova</td>\n",
       "      <td>74</td>\n",
       "    </tr>\n",
       "    <tr>\n",
       "      <th>19</th>\n",
       "      <td>Julia_Polyanova</td>\n",
       "      <td>61</td>\n",
       "    </tr>\n",
       "    <tr>\n",
       "      <th>20</th>\n",
       "      <td>Julia_Smirnova</td>\n",
       "      <td>67</td>\n",
       "    </tr>\n",
       "    <tr>\n",
       "      <th>21</th>\n",
       "      <td>Lolita_Fedorova</td>\n",
       "      <td>70</td>\n",
       "    </tr>\n",
       "    <tr>\n",
       "      <th>22</th>\n",
       "      <td>Lolita_Ivanova</td>\n",
       "      <td>76</td>\n",
       "    </tr>\n",
       "    <tr>\n",
       "      <th>23</th>\n",
       "      <td>Lolita_Lesnova</td>\n",
       "      <td>52</td>\n",
       "    </tr>\n",
       "    <tr>\n",
       "      <th>24</th>\n",
       "      <td>Lolita_Ozerova</td>\n",
       "      <td>63</td>\n",
       "    </tr>\n",
       "    <tr>\n",
       "      <th>25</th>\n",
       "      <td>Lolita_Petrova</td>\n",
       "      <td>64</td>\n",
       "    </tr>\n",
       "    <tr>\n",
       "      <th>26</th>\n",
       "      <td>Lolita_Polyanova</td>\n",
       "      <td>59</td>\n",
       "    </tr>\n",
       "    <tr>\n",
       "      <th>27</th>\n",
       "      <td>Lolita_Smirnova</td>\n",
       "      <td>65</td>\n",
       "    </tr>\n",
       "    <tr>\n",
       "      <th>28</th>\n",
       "      <td>Masha_Fedorova</td>\n",
       "      <td>69</td>\n",
       "    </tr>\n",
       "    <tr>\n",
       "      <th>29</th>\n",
       "      <td>Masha_Ivanova</td>\n",
       "      <td>73</td>\n",
       "    </tr>\n",
       "    <tr>\n",
       "      <th>30</th>\n",
       "      <td>Masha_Lesnova</td>\n",
       "      <td>63</td>\n",
       "    </tr>\n",
       "    <tr>\n",
       "      <th>31</th>\n",
       "      <td>Masha_Ozerova</td>\n",
       "      <td>80</td>\n",
       "    </tr>\n",
       "    <tr>\n",
       "      <th>32</th>\n",
       "      <td>Masha_Petrova</td>\n",
       "      <td>62</td>\n",
       "    </tr>\n",
       "    <tr>\n",
       "      <th>33</th>\n",
       "      <td>Masha_Polyanova</td>\n",
       "      <td>78</td>\n",
       "    </tr>\n",
       "    <tr>\n",
       "      <th>34</th>\n",
       "      <td>Masha_Smirnova</td>\n",
       "      <td>57</td>\n",
       "    </tr>\n",
       "    <tr>\n",
       "      <th>35</th>\n",
       "      <td>Olga_Fedorova</td>\n",
       "      <td>72</td>\n",
       "    </tr>\n",
       "    <tr>\n",
       "      <th>36</th>\n",
       "      <td>Olga_Ivanova</td>\n",
       "      <td>64</td>\n",
       "    </tr>\n",
       "    <tr>\n",
       "      <th>37</th>\n",
       "      <td>Olga_Lesnova</td>\n",
       "      <td>56</td>\n",
       "    </tr>\n",
       "    <tr>\n",
       "      <th>38</th>\n",
       "      <td>Olga_Ozerova</td>\n",
       "      <td>65</td>\n",
       "    </tr>\n",
       "    <tr>\n",
       "      <th>39</th>\n",
       "      <td>Olga_Petrova</td>\n",
       "      <td>67</td>\n",
       "    </tr>\n",
       "    <tr>\n",
       "      <th>40</th>\n",
       "      <td>Olga_Polyanova</td>\n",
       "      <td>70</td>\n",
       "    </tr>\n",
       "    <tr>\n",
       "      <th>41</th>\n",
       "      <td>Olga_Smirnova</td>\n",
       "      <td>80</td>\n",
       "    </tr>\n",
       "    <tr>\n",
       "      <th>42</th>\n",
       "      <td>Svetlana_Fedorova</td>\n",
       "      <td>67</td>\n",
       "    </tr>\n",
       "    <tr>\n",
       "      <th>43</th>\n",
       "      <td>Svetlana_Ivanova</td>\n",
       "      <td>79</td>\n",
       "    </tr>\n",
       "    <tr>\n",
       "      <th>44</th>\n",
       "      <td>Svetlana_Lesnova</td>\n",
       "      <td>60</td>\n",
       "    </tr>\n",
       "    <tr>\n",
       "      <th>45</th>\n",
       "      <td>Svetlana_Ozerova</td>\n",
       "      <td>62</td>\n",
       "    </tr>\n",
       "    <tr>\n",
       "      <th>46</th>\n",
       "      <td>Svetlana_Petrova</td>\n",
       "      <td>58</td>\n",
       "    </tr>\n",
       "    <tr>\n",
       "      <th>47</th>\n",
       "      <td>Svetlana_Polyanova</td>\n",
       "      <td>78</td>\n",
       "    </tr>\n",
       "    <tr>\n",
       "      <th>48</th>\n",
       "      <td>Svetlana_Smirnova</td>\n",
       "      <td>82</td>\n",
       "    </tr>\n",
       "    <tr>\n",
       "      <th>49</th>\n",
       "      <td>Vasilisa_Fedorova</td>\n",
       "      <td>61</td>\n",
       "    </tr>\n",
       "    <tr>\n",
       "      <th>50</th>\n",
       "      <td>Vasilisa_Ivanova</td>\n",
       "      <td>62</td>\n",
       "    </tr>\n",
       "    <tr>\n",
       "      <th>51</th>\n",
       "      <td>Vasilisa_Lesnova</td>\n",
       "      <td>55</td>\n",
       "    </tr>\n",
       "    <tr>\n",
       "      <th>52</th>\n",
       "      <td>Vasilisa_Ozerova</td>\n",
       "      <td>62</td>\n",
       "    </tr>\n",
       "    <tr>\n",
       "      <th>53</th>\n",
       "      <td>Vasilisa_Petrova</td>\n",
       "      <td>63</td>\n",
       "    </tr>\n",
       "    <tr>\n",
       "      <th>54</th>\n",
       "      <td>Vasilisa_Polyanova</td>\n",
       "      <td>46</td>\n",
       "    </tr>\n",
       "    <tr>\n",
       "      <th>55</th>\n",
       "      <td>Vasilisa_Smirnova</td>\n",
       "      <td>64</td>\n",
       "    </tr>\n",
       "  </tbody>\n",
       "</table>\n",
       "</div>"
      ],
      "text/plain": [
       "                   name  count_succses\n",
       "0    Ekaterina_Fedorova             72\n",
       "1     Ekaterina_Ivanova             59\n",
       "2     Ekaterina_Lesnova             63\n",
       "3     Ekaterina_Ozerova             72\n",
       "4     Ekaterina_Petrova             68\n",
       "5   Ekaterina_Polyanova             68\n",
       "6    Ekaterina_Smirnova             77\n",
       "7        Irina_Fedorova             62\n",
       "8         Irina_Ivanova             60\n",
       "9         Irina_Lesnova             76\n",
       "10        Irina_Ozerova             76\n",
       "11        Irina_Petrova             66\n",
       "12      Irina_Polyanova             59\n",
       "13       Irina_Smirnova             63\n",
       "14       Julia_Fedorova             67\n",
       "15        Julia_Ivanova             63\n",
       "16        Julia_Lesnova             55\n",
       "17        Julia_Ozerova             60\n",
       "18        Julia_Petrova             74\n",
       "19      Julia_Polyanova             61\n",
       "20       Julia_Smirnova             67\n",
       "21      Lolita_Fedorova             70\n",
       "22       Lolita_Ivanova             76\n",
       "23       Lolita_Lesnova             52\n",
       "24       Lolita_Ozerova             63\n",
       "25       Lolita_Petrova             64\n",
       "26     Lolita_Polyanova             59\n",
       "27      Lolita_Smirnova             65\n",
       "28       Masha_Fedorova             69\n",
       "29        Masha_Ivanova             73\n",
       "30        Masha_Lesnova             63\n",
       "31        Masha_Ozerova             80\n",
       "32        Masha_Petrova             62\n",
       "33      Masha_Polyanova             78\n",
       "34       Masha_Smirnova             57\n",
       "35        Olga_Fedorova             72\n",
       "36         Olga_Ivanova             64\n",
       "37         Olga_Lesnova             56\n",
       "38         Olga_Ozerova             65\n",
       "39         Olga_Petrova             67\n",
       "40       Olga_Polyanova             70\n",
       "41        Olga_Smirnova             80\n",
       "42    Svetlana_Fedorova             67\n",
       "43     Svetlana_Ivanova             79\n",
       "44     Svetlana_Lesnova             60\n",
       "45     Svetlana_Ozerova             62\n",
       "46     Svetlana_Petrova             58\n",
       "47   Svetlana_Polyanova             78\n",
       "48    Svetlana_Smirnova             82\n",
       "49    Vasilisa_Fedorova             61\n",
       "50     Vasilisa_Ivanova             62\n",
       "51     Vasilisa_Lesnova             55\n",
       "52     Vasilisa_Ozerova             62\n",
       "53     Vasilisa_Petrova             63\n",
       "54   Vasilisa_Polyanova             46\n",
       "55    Vasilisa_Smirnova             64"
      ]
     },
     "execution_count": 128,
     "metadata": {},
     "output_type": "execute_result"
    }
   ],
   "source": [
    "df"
   ]
  },
  {
   "cell_type": "markdown",
   "metadata": {
    "id": "PvJYJVpmv-n9"
   },
   "source": [
    "3. Выведите описательную статистику, чтобы получить точные цифры"
   ]
  },
  {
   "cell_type": "markdown",
   "metadata": {
    "id": "FDgVUcURv-n9"
   },
   "source": [
    "<details>\n",
    "<summary>&#9658; Нажмите сюда, чтобы увидеть подсказку</summary>\n",
    "  <p>\n",
    "      \n",
    "**Как получить описательную статистику по столбцам?** Используйте метод `describe()`, применив его к датафрейму с числом успешных транзакций для каждого пользователя (со 2 шага выполнения)\n",
    "      \n",
    "**Как использовать метод?** Например применим метод `some_method()` к датафрейму `df`:\n",
    "```python\n",
    "df.some_method()\n",
    "```\n",
    "</p>\n",
    "</details>"
   ]
  },
  {
   "cell_type": "code",
   "execution_count": 129,
   "metadata": {
    "id": "NQajb8cpv-n-"
   },
   "outputs": [
    {
     "data": {
      "text/html": [
       "<div>\n",
       "<style scoped>\n",
       "    .dataframe tbody tr th:only-of-type {\n",
       "        vertical-align: middle;\n",
       "    }\n",
       "\n",
       "    .dataframe tbody tr th {\n",
       "        vertical-align: top;\n",
       "    }\n",
       "\n",
       "    .dataframe thead th {\n",
       "        text-align: right;\n",
       "    }\n",
       "</style>\n",
       "<table border=\"1\" class=\"dataframe\">\n",
       "  <thead>\n",
       "    <tr style=\"text-align: right;\">\n",
       "      <th></th>\n",
       "      <th>count_succses</th>\n",
       "    </tr>\n",
       "  </thead>\n",
       "  <tbody>\n",
       "    <tr>\n",
       "      <th>count</th>\n",
       "      <td>56.000000</td>\n",
       "    </tr>\n",
       "    <tr>\n",
       "      <th>mean</th>\n",
       "      <td>65.928571</td>\n",
       "    </tr>\n",
       "    <tr>\n",
       "      <th>std</th>\n",
       "      <td>7.787769</td>\n",
       "    </tr>\n",
       "    <tr>\n",
       "      <th>min</th>\n",
       "      <td>46.000000</td>\n",
       "    </tr>\n",
       "    <tr>\n",
       "      <th>25%</th>\n",
       "      <td>61.000000</td>\n",
       "    </tr>\n",
       "    <tr>\n",
       "      <th>50%</th>\n",
       "      <td>64.000000</td>\n",
       "    </tr>\n",
       "    <tr>\n",
       "      <th>75%</th>\n",
       "      <td>72.000000</td>\n",
       "    </tr>\n",
       "    <tr>\n",
       "      <th>max</th>\n",
       "      <td>82.000000</td>\n",
       "    </tr>\n",
       "  </tbody>\n",
       "</table>\n",
       "</div>"
      ],
      "text/plain": [
       "       count_succses\n",
       "count      56.000000\n",
       "mean       65.928571\n",
       "std         7.787769\n",
       "min        46.000000\n",
       "25%        61.000000\n",
       "50%        64.000000\n",
       "75%        72.000000\n",
       "max        82.000000"
      ]
     },
     "execution_count": 129,
     "metadata": {},
     "output_type": "execute_result"
    }
   ],
   "source": [
    "df.describe()\n",
    "\n"
   ]
  },
  {
   "cell_type": "markdown",
   "metadata": {
    "id": "woZ8zmAjv-n-"
   },
   "source": [
    "4. Выберите верные утверждения"
   ]
  },
  {
   "cell_type": "markdown",
   "metadata": {
    "id": "vvfmGSqmv-n-"
   },
   "source": [
    "<details>\n",
    "<summary>&#9658; Нажмите сюда, чтобы увидеть подсказку</summary>\n",
    "  <p>\n",
    "      \n",
    "Ориентируйтесь на значения, полученные с помощью метода describe.\n",
    "      \n",
    "**Что значат показатели, полученные с помощью метода describe?**\n",
    "- count — количество значений, не считая пропуски\n",
    "- mean — среднее значение по столбцу\n",
    "- std — стандартное отклонение по столбцу\n",
    "- min, max — минимальное и максимальное значения в столбце\n",
    "- 25%, 50%, 75% — квартили распределения (числа, которые больше определённого процента значений в распределении). Например, 50%-й квартиль больше известен как медиана — число, которое больше 50% всех значений.      \n",
    "</p>\n",
    "</details>"
   ]
  },
  {
   "cell_type": "markdown",
   "metadata": {
    "id": "jDE1yJnkv-oA"
   },
   "source": [
    "## Шаг 11"
   ]
  },
  {
   "cell_type": "markdown",
   "metadata": {
    "id": "EfyTs937v-oB"
   },
   "source": [
    "**На основе расчетов с прошлого шага постройте гистограмму, на которой по оси `x` будет отложено число транзакций, а по оси `y` — количество пользователей с таким числом транзакций.**\n",
    "\n",
    "**Выберите одно или несколько верных утверждений:**  \n",
    "- Ни один пользователь не совершил 45 транзакций  \n",
    "- Пользователей, совершивших от 45 до 55 транзакций, меньше, чем пользователей, совершивших от 70 до 80 транзакций  \n",
    "- Пользователей, совершивших от 45 до 55 транзакций, больше, чем пользователей, совершивших от 70 до 80 транзакций  \n",
    "- Распределение явно скошено влево (пик слева и низкие значения в центре и справа)\n",
    "- Распределение имеет пик по центру и снижающиеся значения по бокам"
   ]
  },
  {
   "cell_type": "markdown",
   "metadata": {
    "id": "rmE0vrovv-oB"
   },
   "source": [
    "Шаги выполнения:  \n",
    "1. На основе данных из прошлого шага постройте гистограмму, используя функцию `sns.displot()`. Функция визуализации сама посчитает, сколько пользователей совершили то или иное число транзакций)"
   ]
  },
  {
   "cell_type": "markdown",
   "metadata": {
    "id": "R5BRBRZJv-oB"
   },
   "source": [
    "<details>\n",
    "<summary>&#9658; Нажмите сюда, чтобы увидеть подсказку</summary>\n",
    "  <p>\n",
    "\n",
    "Передайте в функцию `sns.displot()` следующие параметры:  \n",
    "      `data` — датафрейм с расчетами, сколько успешных транзакций совершил каждый пользователь (с прошлого шага)  \n",
    "      `x` — название колонки из этого датафрейма (`size`) с числом транзакций   \n",
    "      \n",
    "Например:      \n",
    "```python\n",
    "sns.displot(data=df, x='col_name')\n",
    "```\n",
    "построит гистограмму на основе данных из колонки `col_name` датафрейма `df`\n",
    "</p>\n",
    "</details>"
   ]
  },
  {
   "cell_type": "code",
   "execution_count": 130,
   "metadata": {
    "id": "0x2m_RUcv-oB"
   },
   "outputs": [
    {
     "data": {
      "text/plain": [
       "<seaborn.axisgrid.FacetGrid at 0x7fa0206ca3c8>"
      ]
     },
     "execution_count": 130,
     "metadata": {},
     "output_type": "execute_result"
    },
    {
     "data": {
      "image/png": "[encoded data removed]",
      "text/plain": [
       "<Figure size 360x360 with 1 Axes>"
      ]
     },
     "metadata": {
      "needs_background": "light"
     },
     "output_type": "display_data"
    }
   ],
   "source": [
    "sns.displot(data=df, x = 'count_succses')\n",
    "\n"
   ]
  },
  {
   "cell_type": "markdown",
   "metadata": {
    "id": "zAIVpP4Wv-oC"
   },
   "source": [
    "2. Выберите одно или несколько верных утверждений"
   ]
  },
  {
   "cell_type": "markdown",
   "metadata": {
    "id": "1CkyqAuZv-oD"
   },
   "source": [
    "## Шаг 12"
   ]
  },
  {
   "cell_type": "markdown",
   "metadata": {
    "id": "gka9OsRPv-oE"
   },
   "source": [
    "**К вам пришёл коллега из маркетингового отдела с немного обновленными данными — см.датасет `transaction_data_updated.csv`.** Он попросил сформировать сводную таблицу, которая покажет, какое количество операций осуществлял каждый пользователь в каждую минуту наблюдаемого временного промежутка. Эта информация нужна вашему коллеге для того, чтобы оценить, не было ли аномального скачка в количестве операций — как раз в то время рекламу вашей компании опубликовал известный блогер, ваш коллега хочет отследить, была ли быстрая реакция на неё.\n",
    "\n",
    "**Постройте сводную таблицу `pivot_trans_per_min`,** где:\n",
    "\n",
    "- столбцы – имена пользователей  \n",
    "- строки – минута времени осуществления операции (см.колонку `minute`)  \n",
    "- значения – число совершённых операций\n",
    "\n",
    "Пропущенные значения заполните нулями.\n",
    "\n",
    "Note: фильтровать успешные транзакции не нужно — постройте табличку по всем.\n",
    "\n",
    "**На LMS датафрейм сохранен в переменную `df`. Загрузите в LMS Ваш код, в котором создаете сводную таблицу `pivot_trans_per_min` и заполняете пропуски нулями**"
   ]
  },
  {
   "cell_type": "markdown",
   "metadata": {
    "id": "9BQRqzJ_v-oF"
   },
   "source": [
    "Шаги выполнения:  \n",
    "1. Загрузите csv файл к уроку в свою папку в JupyterНub\n",
    "2. Прочитайте этот датасет, результат сохранив в переменную `df`. Колонку `date` прочитайте как дату — это понадобится дальше"
   ]
  },
  {
   "cell_type": "markdown",
   "metadata": {
    "id": "ijYqWqB4v-oF"
   },
   "source": [
    "<details>\n",
    "<summary>&#9658; Нажмите сюда, чтобы увидеть подсказку</summary>\n",
    "  <p>\n",
    "      \n",
    "Данные находятся в файле формата CSV. Для их загрузки воспользуйтесь функцией `pd.read_csv()`, передав в качестве аргумента путь к файлу. В параметр `parse_dates` передайте список, содержащий название единственной колонки — `date`. Например,\n",
    "```python\n",
    "df = pd.read_csv('data.csv', parse_dates=['col_date'])\n",
    "```\n",
    "считает файл `data.csv`, хранящийся в той же папке, что и юпитер ноутбук, в котором вы сейчас работаете. В колонке `col_date` тип данных будет datetime\n",
    "</p>\n",
    "</details>"
   ]
  },
  {
   "cell_type": "code",
   "execution_count": 131,
   "metadata": {
    "id": "CBCTM-Y8v-oF"
   },
   "outputs": [],
   "source": [
    "df = pd.read_csv('transaction_data_updated.csv', parse_dates=['date'])\n",
    "\n"
   ]
  },
  {
   "cell_type": "markdown",
   "metadata": {
    "id": "1dZ8lmbIv-oG"
   },
   "source": [
    "3. Посмотрите на содержимое датафрейма, проверьте его размер"
   ]
  },
  {
   "cell_type": "markdown",
   "metadata": {
    "id": "cBy7wbVNv-oI"
   },
   "source": [
    "<details>\n",
    "<summary>&#9658; Нажмите сюда, чтобы увидеть подсказку</summary>\n",
    "  <p>\n",
    "      \n",
    "**Как посмотреть на содержимое датафрейма?** Используйте метод `head()`\n",
    "\n",
    "**Как проверить размер датафрейма?** Используйте атрибут `shape`, чтобы узнать количество строк и столбцов. Этот атрибут возвращает кортеж, первый элемент которого указывает на количество строк, а второй — на количество столбцов в датафрейме.  \n",
    "      \n",
    "**Как обратиться к атрибуту датафрейма?** Для этого нужно написать переменную, где хранится датафрейм, поставить точку и написать название атрибута (без скобок!). Например:\n",
    "```python\n",
    "df.some_attribute\n",
    "```\n",
    "так мы обратимся к атрибуту `some_attribute` у датафрейма в переменной `df`\n",
    "      \n",
    "**Как использовать метод?** Например применим метод `some_method()` к датафрейму `df`:\n",
    "```python\n",
    "df.some_method()\n",
    "```\n",
    "</p>\n",
    "</details>"
   ]
  },
  {
   "cell_type": "code",
   "execution_count": 158,
   "metadata": {
    "id": "jRq52nKXv-oI"
   },
   "outputs": [
    {
     "name": "stdout",
     "output_type": "stream",
     "text": [
      "<class 'pandas.core.frame.DataFrame'>\n",
      "RangeIndex: 5315 entries, 0 to 5314\n",
      "Data columns (total 4 columns):\n",
      " #   Column       Non-Null Count  Dtype         \n",
      "---  ------       --------------  -----         \n",
      " 0   date         5315 non-null   datetime64[ns]\n",
      " 1   name         5315 non-null   object        \n",
      " 2   transaction  5315 non-null   object        \n",
      " 3   minute       5315 non-null   int64         \n",
      "dtypes: datetime64[ns](1), int64(1), object(2)\n",
      "memory usage: 166.2+ KB\n"
     ]
    }
   ],
   "source": [
    "df.info()\n",
    "\n"
   ]
  },
  {
   "cell_type": "code",
   "execution_count": 133,
   "metadata": {},
   "outputs": [
    {
     "data": {
      "text/plain": [
       "(5315, 4)"
      ]
     },
     "execution_count": 133,
     "metadata": {},
     "output_type": "execute_result"
    }
   ],
   "source": [
    "df.shape"
   ]
  },
  {
   "cell_type": "markdown",
   "metadata": {
    "id": "D1fX1BwAv-oJ"
   },
   "source": [
    "4. Посчитайте, какое количество операций осуществлял каждый пользователь (см.колонку `name`) в каждую минуту (см.колонку `minute`)"
   ]
  },
  {
   "cell_type": "markdown",
   "metadata": {
    "id": "TAfiCx2wv-oJ"
   },
   "source": [
    "<details>\n",
    "<summary>&#9658; Нажмите сюда, чтобы увидеть подсказку</summary>\n",
    "  <p>\n",
    "\n",
    "**Сгруппируйте данные данные одновременно по двум колонкам — `name` и `minute`, используя метод `groupby()`**.\n",
    "\n",
    "**Как сгруппировать по нескольким колонкам?** Передайте в метод `groupby()` не строку-название колонки, а список с названиями колонок. Например:\n",
    "```python\n",
    "df.groupby(['col_1', 'col_2'])\n",
    "```\n",
    "сгруппирует по комбинации значений `col_1` и `col_2`.\n",
    "      \n",
    "**Не забудьте использовать параметр `as_index=False` при группировке, это нам понадобится для следующего шага.**\n",
    "      \n",
    "**После группировки используйте метод `size()`**, который посчитает, сколько раз встречается каждая пара значений из двух колонок, по которым была проведена группировка. В метод ничего подавать не нужно.\n",
    "\n",
    "**Как использовать метод `size()` после группировки?** Используйте цепочку методов, применив их друг за другом. Например:\n",
    "```python\n",
    "df.some_method_1().some_method_2()\n",
    "```      \n",
    "</p>\n",
    "</details>"
   ]
  },
  {
   "cell_type": "code",
   "execution_count": 140,
   "metadata": {
    "id": "nv-utIxFv-oK"
   },
   "outputs": [
    {
     "data": {
      "text/html": [
       "<div>\n",
       "<style scoped>\n",
       "    .dataframe tbody tr th:only-of-type {\n",
       "        vertical-align: middle;\n",
       "    }\n",
       "\n",
       "    .dataframe tbody tr th {\n",
       "        vertical-align: top;\n",
       "    }\n",
       "\n",
       "    .dataframe thead th {\n",
       "        text-align: right;\n",
       "    }\n",
       "</style>\n",
       "<table border=\"1\" class=\"dataframe\">\n",
       "  <thead>\n",
       "    <tr style=\"text-align: right;\">\n",
       "      <th></th>\n",
       "      <th>name</th>\n",
       "      <th>minute</th>\n",
       "      <th>count_trans</th>\n",
       "    </tr>\n",
       "  </thead>\n",
       "  <tbody>\n",
       "    <tr>\n",
       "      <th>0</th>\n",
       "      <td>Ekaterina_Fedorova</td>\n",
       "      <td>0</td>\n",
       "      <td>3</td>\n",
       "    </tr>\n",
       "    <tr>\n",
       "      <th>1</th>\n",
       "      <td>Ekaterina_Fedorova</td>\n",
       "      <td>1</td>\n",
       "      <td>4</td>\n",
       "    </tr>\n",
       "    <tr>\n",
       "      <th>2</th>\n",
       "      <td>Ekaterina_Fedorova</td>\n",
       "      <td>2</td>\n",
       "      <td>1</td>\n",
       "    </tr>\n",
       "    <tr>\n",
       "      <th>3</th>\n",
       "      <td>Ekaterina_Fedorova</td>\n",
       "      <td>3</td>\n",
       "      <td>3</td>\n",
       "    </tr>\n",
       "    <tr>\n",
       "      <th>4</th>\n",
       "      <td>Ekaterina_Fedorova</td>\n",
       "      <td>4</td>\n",
       "      <td>3</td>\n",
       "    </tr>\n",
       "    <tr>\n",
       "      <th>...</th>\n",
       "      <td>...</td>\n",
       "      <td>...</td>\n",
       "      <td>...</td>\n",
       "    </tr>\n",
       "    <tr>\n",
       "      <th>2573</th>\n",
       "      <td>Vasilisa_Smirnova</td>\n",
       "      <td>52</td>\n",
       "      <td>1</td>\n",
       "    </tr>\n",
       "    <tr>\n",
       "      <th>2574</th>\n",
       "      <td>Vasilisa_Smirnova</td>\n",
       "      <td>53</td>\n",
       "      <td>1</td>\n",
       "    </tr>\n",
       "    <tr>\n",
       "      <th>2575</th>\n",
       "      <td>Vasilisa_Smirnova</td>\n",
       "      <td>54</td>\n",
       "      <td>2</td>\n",
       "    </tr>\n",
       "    <tr>\n",
       "      <th>2576</th>\n",
       "      <td>Vasilisa_Smirnova</td>\n",
       "      <td>56</td>\n",
       "      <td>3</td>\n",
       "    </tr>\n",
       "    <tr>\n",
       "      <th>2577</th>\n",
       "      <td>Vasilisa_Smirnova</td>\n",
       "      <td>58</td>\n",
       "      <td>1</td>\n",
       "    </tr>\n",
       "  </tbody>\n",
       "</table>\n",
       "<p>2578 rows × 3 columns</p>\n",
       "</div>"
      ],
      "text/plain": [
       "                    name  minute  count_trans\n",
       "0     Ekaterina_Fedorova       0            3\n",
       "1     Ekaterina_Fedorova       1            4\n",
       "2     Ekaterina_Fedorova       2            1\n",
       "3     Ekaterina_Fedorova       3            3\n",
       "4     Ekaterina_Fedorova       4            3\n",
       "...                  ...     ...          ...\n",
       "2573   Vasilisa_Smirnova      52            1\n",
       "2574   Vasilisa_Smirnova      53            1\n",
       "2575   Vasilisa_Smirnova      54            2\n",
       "2576   Vasilisa_Smirnova      56            3\n",
       "2577   Vasilisa_Smirnova      58            1\n",
       "\n",
       "[2578 rows x 3 columns]"
      ]
     },
     "execution_count": 140,
     "metadata": {},
     "output_type": "execute_result"
    }
   ],
   "source": [
    "df.groupby(['name', 'minute'], as_index=False) \\\n",
    "    .size() \\\n",
    "    .rename(columns={'size' : 'count_trans'})\n",
    "\n"
   ]
  },
  {
   "cell_type": "markdown",
   "metadata": {
    "id": "Xx5U0ueNv-oK"
   },
   "source": [
    "5. Измените структуру получившегося датафрейма так, чтобы в столбцах были имена пользователей, в строках – минуты времени осуществления операции, а в значениях – число совершённых операций"
   ]
  },
  {
   "cell_type": "markdown",
   "metadata": {
    "id": "29rcT2Jzv-oK"
   },
   "source": [
    "<details>\n",
    "<summary>&#9658; Нажмите сюда, чтобы увидеть подсказку</summary>\n",
    "  <p>\n",
    "\n",
    "**Используйте метод `pivot()`**. В параметр `index` передайте название колонки с минутами, в параметр `columns` — название колонки с именами, а в параметр `values` — название колонки с числом операций.\n",
    "\n",
    "**Как использовать метод?** Например, применим метод `some_method()` к датафрейму `df`:\n",
    "```python\n",
    "df.some_method()\n",
    "```\n",
    "\n",
    "**Если не получается**, убедитесь, что вы использовали параметр `as_index=False` при группировке.\n",
    "</p>\n",
    "</details>"
   ]
  },
  {
   "cell_type": "code",
   "execution_count": 141,
   "metadata": {
    "id": "YS9HWF_8v-oL"
   },
   "outputs": [
    {
     "data": {
      "text/html": [
       "<div>\n",
       "<style scoped>\n",
       "    .dataframe tbody tr th:only-of-type {\n",
       "        vertical-align: middle;\n",
       "    }\n",
       "\n",
       "    .dataframe tbody tr th {\n",
       "        vertical-align: top;\n",
       "    }\n",
       "\n",
       "    .dataframe thead th {\n",
       "        text-align: right;\n",
       "    }\n",
       "</style>\n",
       "<table border=\"1\" class=\"dataframe\">\n",
       "  <thead>\n",
       "    <tr style=\"text-align: right;\">\n",
       "      <th>name</th>\n",
       "      <th>Ekaterina_Fedorova</th>\n",
       "      <th>Ekaterina_Ivanova</th>\n",
       "      <th>Ekaterina_Lesnova</th>\n",
       "      <th>Ekaterina_Ozerova</th>\n",
       "      <th>Ekaterina_Petrova</th>\n",
       "      <th>Ekaterina_Polyanova</th>\n",
       "      <th>Ekaterina_Smirnova</th>\n",
       "      <th>Irina_Fedorova</th>\n",
       "      <th>Irina_Ivanova</th>\n",
       "      <th>Irina_Lesnova</th>\n",
       "      <th>...</th>\n",
       "      <th>Svetlana_Petrova</th>\n",
       "      <th>Svetlana_Polyanova</th>\n",
       "      <th>Svetlana_Smirnova</th>\n",
       "      <th>Vasilisa_Fedorova</th>\n",
       "      <th>Vasilisa_Ivanova</th>\n",
       "      <th>Vasilisa_Lesnova</th>\n",
       "      <th>Vasilisa_Ozerova</th>\n",
       "      <th>Vasilisa_Petrova</th>\n",
       "      <th>Vasilisa_Polyanova</th>\n",
       "      <th>Vasilisa_Smirnova</th>\n",
       "    </tr>\n",
       "    <tr>\n",
       "      <th>minute</th>\n",
       "      <th></th>\n",
       "      <th></th>\n",
       "      <th></th>\n",
       "      <th></th>\n",
       "      <th></th>\n",
       "      <th></th>\n",
       "      <th></th>\n",
       "      <th></th>\n",
       "      <th></th>\n",
       "      <th></th>\n",
       "      <th></th>\n",
       "      <th></th>\n",
       "      <th></th>\n",
       "      <th></th>\n",
       "      <th></th>\n",
       "      <th></th>\n",
       "      <th></th>\n",
       "      <th></th>\n",
       "      <th></th>\n",
       "      <th></th>\n",
       "      <th></th>\n",
       "    </tr>\n",
       "  </thead>\n",
       "  <tbody>\n",
       "    <tr>\n",
       "      <th>0</th>\n",
       "      <td>3.0</td>\n",
       "      <td>4.0</td>\n",
       "      <td>2.0</td>\n",
       "      <td>3.0</td>\n",
       "      <td>4.0</td>\n",
       "      <td>4.0</td>\n",
       "      <td>2.0</td>\n",
       "      <td>1.0</td>\n",
       "      <td>2.0</td>\n",
       "      <td>2.0</td>\n",
       "      <td>...</td>\n",
       "      <td>NaN</td>\n",
       "      <td>3.0</td>\n",
       "      <td>1.0</td>\n",
       "      <td>1.0</td>\n",
       "      <td>4.0</td>\n",
       "      <td>1.0</td>\n",
       "      <td>3.0</td>\n",
       "      <td>NaN</td>\n",
       "      <td>NaN</td>\n",
       "      <td>1.0</td>\n",
       "    </tr>\n",
       "    <tr>\n",
       "      <th>1</th>\n",
       "      <td>4.0</td>\n",
       "      <td>4.0</td>\n",
       "      <td>NaN</td>\n",
       "      <td>4.0</td>\n",
       "      <td>2.0</td>\n",
       "      <td>5.0</td>\n",
       "      <td>4.0</td>\n",
       "      <td>4.0</td>\n",
       "      <td>4.0</td>\n",
       "      <td>3.0</td>\n",
       "      <td>...</td>\n",
       "      <td>4.0</td>\n",
       "      <td>5.0</td>\n",
       "      <td>3.0</td>\n",
       "      <td>2.0</td>\n",
       "      <td>3.0</td>\n",
       "      <td>3.0</td>\n",
       "      <td>NaN</td>\n",
       "      <td>NaN</td>\n",
       "      <td>3.0</td>\n",
       "      <td>2.0</td>\n",
       "    </tr>\n",
       "    <tr>\n",
       "      <th>2</th>\n",
       "      <td>1.0</td>\n",
       "      <td>2.0</td>\n",
       "      <td>4.0</td>\n",
       "      <td>4.0</td>\n",
       "      <td>2.0</td>\n",
       "      <td>1.0</td>\n",
       "      <td>3.0</td>\n",
       "      <td>2.0</td>\n",
       "      <td>3.0</td>\n",
       "      <td>3.0</td>\n",
       "      <td>...</td>\n",
       "      <td>4.0</td>\n",
       "      <td>1.0</td>\n",
       "      <td>3.0</td>\n",
       "      <td>3.0</td>\n",
       "      <td>NaN</td>\n",
       "      <td>1.0</td>\n",
       "      <td>2.0</td>\n",
       "      <td>1.0</td>\n",
       "      <td>3.0</td>\n",
       "      <td>1.0</td>\n",
       "    </tr>\n",
       "    <tr>\n",
       "      <th>3</th>\n",
       "      <td>3.0</td>\n",
       "      <td>NaN</td>\n",
       "      <td>2.0</td>\n",
       "      <td>NaN</td>\n",
       "      <td>5.0</td>\n",
       "      <td>2.0</td>\n",
       "      <td>1.0</td>\n",
       "      <td>3.0</td>\n",
       "      <td>2.0</td>\n",
       "      <td>2.0</td>\n",
       "      <td>...</td>\n",
       "      <td>1.0</td>\n",
       "      <td>5.0</td>\n",
       "      <td>5.0</td>\n",
       "      <td>2.0</td>\n",
       "      <td>4.0</td>\n",
       "      <td>NaN</td>\n",
       "      <td>3.0</td>\n",
       "      <td>4.0</td>\n",
       "      <td>1.0</td>\n",
       "      <td>NaN</td>\n",
       "    </tr>\n",
       "    <tr>\n",
       "      <th>4</th>\n",
       "      <td>3.0</td>\n",
       "      <td>NaN</td>\n",
       "      <td>NaN</td>\n",
       "      <td>3.0</td>\n",
       "      <td>1.0</td>\n",
       "      <td>1.0</td>\n",
       "      <td>2.0</td>\n",
       "      <td>3.0</td>\n",
       "      <td>2.0</td>\n",
       "      <td>1.0</td>\n",
       "      <td>...</td>\n",
       "      <td>1.0</td>\n",
       "      <td>2.0</td>\n",
       "      <td>2.0</td>\n",
       "      <td>1.0</td>\n",
       "      <td>1.0</td>\n",
       "      <td>2.0</td>\n",
       "      <td>2.0</td>\n",
       "      <td>3.0</td>\n",
       "      <td>NaN</td>\n",
       "      <td>1.0</td>\n",
       "    </tr>\n",
       "    <tr>\n",
       "      <th>5</th>\n",
       "      <td>3.0</td>\n",
       "      <td>NaN</td>\n",
       "      <td>2.0</td>\n",
       "      <td>3.0</td>\n",
       "      <td>1.0</td>\n",
       "      <td>NaN</td>\n",
       "      <td>5.0</td>\n",
       "      <td>3.0</td>\n",
       "      <td>1.0</td>\n",
       "      <td>3.0</td>\n",
       "      <td>...</td>\n",
       "      <td>NaN</td>\n",
       "      <td>2.0</td>\n",
       "      <td>3.0</td>\n",
       "      <td>1.0</td>\n",
       "      <td>NaN</td>\n",
       "      <td>NaN</td>\n",
       "      <td>3.0</td>\n",
       "      <td>NaN</td>\n",
       "      <td>2.0</td>\n",
       "      <td>1.0</td>\n",
       "    </tr>\n",
       "    <tr>\n",
       "      <th>6</th>\n",
       "      <td>4.0</td>\n",
       "      <td>1.0</td>\n",
       "      <td>2.0</td>\n",
       "      <td>2.0</td>\n",
       "      <td>NaN</td>\n",
       "      <td>4.0</td>\n",
       "      <td>5.0</td>\n",
       "      <td>2.0</td>\n",
       "      <td>2.0</td>\n",
       "      <td>2.0</td>\n",
       "      <td>...</td>\n",
       "      <td>2.0</td>\n",
       "      <td>1.0</td>\n",
       "      <td>4.0</td>\n",
       "      <td>1.0</td>\n",
       "      <td>2.0</td>\n",
       "      <td>4.0</td>\n",
       "      <td>1.0</td>\n",
       "      <td>2.0</td>\n",
       "      <td>NaN</td>\n",
       "      <td>2.0</td>\n",
       "    </tr>\n",
       "    <tr>\n",
       "      <th>7</th>\n",
       "      <td>3.0</td>\n",
       "      <td>2.0</td>\n",
       "      <td>1.0</td>\n",
       "      <td>2.0</td>\n",
       "      <td>2.0</td>\n",
       "      <td>3.0</td>\n",
       "      <td>4.0</td>\n",
       "      <td>1.0</td>\n",
       "      <td>1.0</td>\n",
       "      <td>3.0</td>\n",
       "      <td>...</td>\n",
       "      <td>3.0</td>\n",
       "      <td>1.0</td>\n",
       "      <td>1.0</td>\n",
       "      <td>2.0</td>\n",
       "      <td>4.0</td>\n",
       "      <td>1.0</td>\n",
       "      <td>NaN</td>\n",
       "      <td>1.0</td>\n",
       "      <td>2.0</td>\n",
       "      <td>2.0</td>\n",
       "    </tr>\n",
       "    <tr>\n",
       "      <th>8</th>\n",
       "      <td>2.0</td>\n",
       "      <td>4.0</td>\n",
       "      <td>3.0</td>\n",
       "      <td>1.0</td>\n",
       "      <td>NaN</td>\n",
       "      <td>3.0</td>\n",
       "      <td>2.0</td>\n",
       "      <td>1.0</td>\n",
       "      <td>1.0</td>\n",
       "      <td>NaN</td>\n",
       "      <td>...</td>\n",
       "      <td>NaN</td>\n",
       "      <td>1.0</td>\n",
       "      <td>NaN</td>\n",
       "      <td>1.0</td>\n",
       "      <td>2.0</td>\n",
       "      <td>4.0</td>\n",
       "      <td>2.0</td>\n",
       "      <td>1.0</td>\n",
       "      <td>1.0</td>\n",
       "      <td>1.0</td>\n",
       "    </tr>\n",
       "    <tr>\n",
       "      <th>9</th>\n",
       "      <td>2.0</td>\n",
       "      <td>4.0</td>\n",
       "      <td>2.0</td>\n",
       "      <td>3.0</td>\n",
       "      <td>4.0</td>\n",
       "      <td>NaN</td>\n",
       "      <td>3.0</td>\n",
       "      <td>2.0</td>\n",
       "      <td>2.0</td>\n",
       "      <td>5.0</td>\n",
       "      <td>...</td>\n",
       "      <td>2.0</td>\n",
       "      <td>3.0</td>\n",
       "      <td>1.0</td>\n",
       "      <td>2.0</td>\n",
       "      <td>4.0</td>\n",
       "      <td>2.0</td>\n",
       "      <td>3.0</td>\n",
       "      <td>NaN</td>\n",
       "      <td>1.0</td>\n",
       "      <td>4.0</td>\n",
       "    </tr>\n",
       "    <tr>\n",
       "      <th>10</th>\n",
       "      <td>NaN</td>\n",
       "      <td>3.0</td>\n",
       "      <td>3.0</td>\n",
       "      <td>1.0</td>\n",
       "      <td>4.0</td>\n",
       "      <td>4.0</td>\n",
       "      <td>1.0</td>\n",
       "      <td>NaN</td>\n",
       "      <td>5.0</td>\n",
       "      <td>2.0</td>\n",
       "      <td>...</td>\n",
       "      <td>NaN</td>\n",
       "      <td>2.0</td>\n",
       "      <td>2.0</td>\n",
       "      <td>2.0</td>\n",
       "      <td>4.0</td>\n",
       "      <td>3.0</td>\n",
       "      <td>2.0</td>\n",
       "      <td>1.0</td>\n",
       "      <td>4.0</td>\n",
       "      <td>2.0</td>\n",
       "    </tr>\n",
       "    <tr>\n",
       "      <th>11</th>\n",
       "      <td>2.0</td>\n",
       "      <td>3.0</td>\n",
       "      <td>3.0</td>\n",
       "      <td>4.0</td>\n",
       "      <td>1.0</td>\n",
       "      <td>3.0</td>\n",
       "      <td>4.0</td>\n",
       "      <td>NaN</td>\n",
       "      <td>1.0</td>\n",
       "      <td>1.0</td>\n",
       "      <td>...</td>\n",
       "      <td>4.0</td>\n",
       "      <td>2.0</td>\n",
       "      <td>2.0</td>\n",
       "      <td>1.0</td>\n",
       "      <td>1.0</td>\n",
       "      <td>1.0</td>\n",
       "      <td>4.0</td>\n",
       "      <td>2.0</td>\n",
       "      <td>1.0</td>\n",
       "      <td>2.0</td>\n",
       "    </tr>\n",
       "    <tr>\n",
       "      <th>12</th>\n",
       "      <td>4.0</td>\n",
       "      <td>3.0</td>\n",
       "      <td>NaN</td>\n",
       "      <td>1.0</td>\n",
       "      <td>3.0</td>\n",
       "      <td>2.0</td>\n",
       "      <td>3.0</td>\n",
       "      <td>2.0</td>\n",
       "      <td>7.0</td>\n",
       "      <td>2.0</td>\n",
       "      <td>...</td>\n",
       "      <td>3.0</td>\n",
       "      <td>1.0</td>\n",
       "      <td>NaN</td>\n",
       "      <td>NaN</td>\n",
       "      <td>4.0</td>\n",
       "      <td>2.0</td>\n",
       "      <td>5.0</td>\n",
       "      <td>3.0</td>\n",
       "      <td>6.0</td>\n",
       "      <td>2.0</td>\n",
       "    </tr>\n",
       "    <tr>\n",
       "      <th>13</th>\n",
       "      <td>1.0</td>\n",
       "      <td>2.0</td>\n",
       "      <td>2.0</td>\n",
       "      <td>4.0</td>\n",
       "      <td>NaN</td>\n",
       "      <td>3.0</td>\n",
       "      <td>4.0</td>\n",
       "      <td>5.0</td>\n",
       "      <td>2.0</td>\n",
       "      <td>2.0</td>\n",
       "      <td>...</td>\n",
       "      <td>3.0</td>\n",
       "      <td>2.0</td>\n",
       "      <td>3.0</td>\n",
       "      <td>4.0</td>\n",
       "      <td>4.0</td>\n",
       "      <td>NaN</td>\n",
       "      <td>5.0</td>\n",
       "      <td>2.0</td>\n",
       "      <td>NaN</td>\n",
       "      <td>4.0</td>\n",
       "    </tr>\n",
       "    <tr>\n",
       "      <th>14</th>\n",
       "      <td>4.0</td>\n",
       "      <td>2.0</td>\n",
       "      <td>2.0</td>\n",
       "      <td>2.0</td>\n",
       "      <td>2.0</td>\n",
       "      <td>5.0</td>\n",
       "      <td>3.0</td>\n",
       "      <td>2.0</td>\n",
       "      <td>3.0</td>\n",
       "      <td>5.0</td>\n",
       "      <td>...</td>\n",
       "      <td>5.0</td>\n",
       "      <td>1.0</td>\n",
       "      <td>4.0</td>\n",
       "      <td>5.0</td>\n",
       "      <td>2.0</td>\n",
       "      <td>1.0</td>\n",
       "      <td>1.0</td>\n",
       "      <td>2.0</td>\n",
       "      <td>2.0</td>\n",
       "      <td>3.0</td>\n",
       "    </tr>\n",
       "    <tr>\n",
       "      <th>15</th>\n",
       "      <td>3.0</td>\n",
       "      <td>1.0</td>\n",
       "      <td>1.0</td>\n",
       "      <td>1.0</td>\n",
       "      <td>3.0</td>\n",
       "      <td>1.0</td>\n",
       "      <td>2.0</td>\n",
       "      <td>2.0</td>\n",
       "      <td>3.0</td>\n",
       "      <td>4.0</td>\n",
       "      <td>...</td>\n",
       "      <td>2.0</td>\n",
       "      <td>3.0</td>\n",
       "      <td>3.0</td>\n",
       "      <td>NaN</td>\n",
       "      <td>1.0</td>\n",
       "      <td>1.0</td>\n",
       "      <td>2.0</td>\n",
       "      <td>3.0</td>\n",
       "      <td>3.0</td>\n",
       "      <td>2.0</td>\n",
       "    </tr>\n",
       "    <tr>\n",
       "      <th>16</th>\n",
       "      <td>6.0</td>\n",
       "      <td>1.0</td>\n",
       "      <td>2.0</td>\n",
       "      <td>1.0</td>\n",
       "      <td>1.0</td>\n",
       "      <td>3.0</td>\n",
       "      <td>2.0</td>\n",
       "      <td>3.0</td>\n",
       "      <td>3.0</td>\n",
       "      <td>1.0</td>\n",
       "      <td>...</td>\n",
       "      <td>1.0</td>\n",
       "      <td>4.0</td>\n",
       "      <td>3.0</td>\n",
       "      <td>3.0</td>\n",
       "      <td>NaN</td>\n",
       "      <td>2.0</td>\n",
       "      <td>1.0</td>\n",
       "      <td>2.0</td>\n",
       "      <td>3.0</td>\n",
       "      <td>1.0</td>\n",
       "    </tr>\n",
       "    <tr>\n",
       "      <th>17</th>\n",
       "      <td>2.0</td>\n",
       "      <td>3.0</td>\n",
       "      <td>1.0</td>\n",
       "      <td>NaN</td>\n",
       "      <td>5.0</td>\n",
       "      <td>2.0</td>\n",
       "      <td>4.0</td>\n",
       "      <td>1.0</td>\n",
       "      <td>2.0</td>\n",
       "      <td>2.0</td>\n",
       "      <td>...</td>\n",
       "      <td>1.0</td>\n",
       "      <td>NaN</td>\n",
       "      <td>NaN</td>\n",
       "      <td>NaN</td>\n",
       "      <td>2.0</td>\n",
       "      <td>5.0</td>\n",
       "      <td>2.0</td>\n",
       "      <td>2.0</td>\n",
       "      <td>NaN</td>\n",
       "      <td>4.0</td>\n",
       "    </tr>\n",
       "    <tr>\n",
       "      <th>18</th>\n",
       "      <td>3.0</td>\n",
       "      <td>NaN</td>\n",
       "      <td>2.0</td>\n",
       "      <td>7.0</td>\n",
       "      <td>1.0</td>\n",
       "      <td>NaN</td>\n",
       "      <td>1.0</td>\n",
       "      <td>1.0</td>\n",
       "      <td>NaN</td>\n",
       "      <td>2.0</td>\n",
       "      <td>...</td>\n",
       "      <td>1.0</td>\n",
       "      <td>1.0</td>\n",
       "      <td>1.0</td>\n",
       "      <td>2.0</td>\n",
       "      <td>5.0</td>\n",
       "      <td>4.0</td>\n",
       "      <td>2.0</td>\n",
       "      <td>4.0</td>\n",
       "      <td>2.0</td>\n",
       "      <td>3.0</td>\n",
       "    </tr>\n",
       "    <tr>\n",
       "      <th>19</th>\n",
       "      <td>NaN</td>\n",
       "      <td>3.0</td>\n",
       "      <td>3.0</td>\n",
       "      <td>1.0</td>\n",
       "      <td>NaN</td>\n",
       "      <td>3.0</td>\n",
       "      <td>2.0</td>\n",
       "      <td>NaN</td>\n",
       "      <td>2.0</td>\n",
       "      <td>6.0</td>\n",
       "      <td>...</td>\n",
       "      <td>1.0</td>\n",
       "      <td>3.0</td>\n",
       "      <td>1.0</td>\n",
       "      <td>2.0</td>\n",
       "      <td>2.0</td>\n",
       "      <td>1.0</td>\n",
       "      <td>NaN</td>\n",
       "      <td>1.0</td>\n",
       "      <td>1.0</td>\n",
       "      <td>3.0</td>\n",
       "    </tr>\n",
       "    <tr>\n",
       "      <th>20</th>\n",
       "      <td>1.0</td>\n",
       "      <td>2.0</td>\n",
       "      <td>3.0</td>\n",
       "      <td>3.0</td>\n",
       "      <td>4.0</td>\n",
       "      <td>3.0</td>\n",
       "      <td>2.0</td>\n",
       "      <td>3.0</td>\n",
       "      <td>2.0</td>\n",
       "      <td>1.0</td>\n",
       "      <td>...</td>\n",
       "      <td>3.0</td>\n",
       "      <td>3.0</td>\n",
       "      <td>1.0</td>\n",
       "      <td>3.0</td>\n",
       "      <td>2.0</td>\n",
       "      <td>1.0</td>\n",
       "      <td>1.0</td>\n",
       "      <td>1.0</td>\n",
       "      <td>1.0</td>\n",
       "      <td>2.0</td>\n",
       "    </tr>\n",
       "    <tr>\n",
       "      <th>21</th>\n",
       "      <td>NaN</td>\n",
       "      <td>NaN</td>\n",
       "      <td>4.0</td>\n",
       "      <td>3.0</td>\n",
       "      <td>2.0</td>\n",
       "      <td>2.0</td>\n",
       "      <td>NaN</td>\n",
       "      <td>5.0</td>\n",
       "      <td>2.0</td>\n",
       "      <td>1.0</td>\n",
       "      <td>...</td>\n",
       "      <td>4.0</td>\n",
       "      <td>4.0</td>\n",
       "      <td>2.0</td>\n",
       "      <td>1.0</td>\n",
       "      <td>6.0</td>\n",
       "      <td>2.0</td>\n",
       "      <td>2.0</td>\n",
       "      <td>2.0</td>\n",
       "      <td>3.0</td>\n",
       "      <td>NaN</td>\n",
       "    </tr>\n",
       "    <tr>\n",
       "      <th>22</th>\n",
       "      <td>3.0</td>\n",
       "      <td>1.0</td>\n",
       "      <td>1.0</td>\n",
       "      <td>2.0</td>\n",
       "      <td>3.0</td>\n",
       "      <td>1.0</td>\n",
       "      <td>2.0</td>\n",
       "      <td>5.0</td>\n",
       "      <td>2.0</td>\n",
       "      <td>1.0</td>\n",
       "      <td>...</td>\n",
       "      <td>3.0</td>\n",
       "      <td>2.0</td>\n",
       "      <td>1.0</td>\n",
       "      <td>1.0</td>\n",
       "      <td>NaN</td>\n",
       "      <td>3.0</td>\n",
       "      <td>1.0</td>\n",
       "      <td>2.0</td>\n",
       "      <td>2.0</td>\n",
       "      <td>2.0</td>\n",
       "    </tr>\n",
       "    <tr>\n",
       "      <th>23</th>\n",
       "      <td>2.0</td>\n",
       "      <td>5.0</td>\n",
       "      <td>4.0</td>\n",
       "      <td>2.0</td>\n",
       "      <td>1.0</td>\n",
       "      <td>NaN</td>\n",
       "      <td>2.0</td>\n",
       "      <td>1.0</td>\n",
       "      <td>3.0</td>\n",
       "      <td>5.0</td>\n",
       "      <td>...</td>\n",
       "      <td>NaN</td>\n",
       "      <td>2.0</td>\n",
       "      <td>3.0</td>\n",
       "      <td>NaN</td>\n",
       "      <td>2.0</td>\n",
       "      <td>NaN</td>\n",
       "      <td>3.0</td>\n",
       "      <td>5.0</td>\n",
       "      <td>NaN</td>\n",
       "      <td>NaN</td>\n",
       "    </tr>\n",
       "    <tr>\n",
       "      <th>24</th>\n",
       "      <td>2.0</td>\n",
       "      <td>NaN</td>\n",
       "      <td>3.0</td>\n",
       "      <td>2.0</td>\n",
       "      <td>1.0</td>\n",
       "      <td>3.0</td>\n",
       "      <td>5.0</td>\n",
       "      <td>5.0</td>\n",
       "      <td>1.0</td>\n",
       "      <td>4.0</td>\n",
       "      <td>...</td>\n",
       "      <td>NaN</td>\n",
       "      <td>3.0</td>\n",
       "      <td>4.0</td>\n",
       "      <td>2.0</td>\n",
       "      <td>NaN</td>\n",
       "      <td>2.0</td>\n",
       "      <td>2.0</td>\n",
       "      <td>4.0</td>\n",
       "      <td>4.0</td>\n",
       "      <td>1.0</td>\n",
       "    </tr>\n",
       "    <tr>\n",
       "      <th>25</th>\n",
       "      <td>7.0</td>\n",
       "      <td>2.0</td>\n",
       "      <td>2.0</td>\n",
       "      <td>4.0</td>\n",
       "      <td>3.0</td>\n",
       "      <td>1.0</td>\n",
       "      <td>2.0</td>\n",
       "      <td>2.0</td>\n",
       "      <td>1.0</td>\n",
       "      <td>1.0</td>\n",
       "      <td>...</td>\n",
       "      <td>4.0</td>\n",
       "      <td>2.0</td>\n",
       "      <td>2.0</td>\n",
       "      <td>2.0</td>\n",
       "      <td>NaN</td>\n",
       "      <td>2.0</td>\n",
       "      <td>1.0</td>\n",
       "      <td>2.0</td>\n",
       "      <td>1.0</td>\n",
       "      <td>2.0</td>\n",
       "    </tr>\n",
       "    <tr>\n",
       "      <th>26</th>\n",
       "      <td>1.0</td>\n",
       "      <td>1.0</td>\n",
       "      <td>1.0</td>\n",
       "      <td>2.0</td>\n",
       "      <td>3.0</td>\n",
       "      <td>1.0</td>\n",
       "      <td>4.0</td>\n",
       "      <td>1.0</td>\n",
       "      <td>1.0</td>\n",
       "      <td>1.0</td>\n",
       "      <td>...</td>\n",
       "      <td>1.0</td>\n",
       "      <td>NaN</td>\n",
       "      <td>2.0</td>\n",
       "      <td>2.0</td>\n",
       "      <td>1.0</td>\n",
       "      <td>4.0</td>\n",
       "      <td>NaN</td>\n",
       "      <td>1.0</td>\n",
       "      <td>2.0</td>\n",
       "      <td>1.0</td>\n",
       "    </tr>\n",
       "    <tr>\n",
       "      <th>27</th>\n",
       "      <td>5.0</td>\n",
       "      <td>3.0</td>\n",
       "      <td>1.0</td>\n",
       "      <td>3.0</td>\n",
       "      <td>3.0</td>\n",
       "      <td>4.0</td>\n",
       "      <td>NaN</td>\n",
       "      <td>1.0</td>\n",
       "      <td>1.0</td>\n",
       "      <td>3.0</td>\n",
       "      <td>...</td>\n",
       "      <td>1.0</td>\n",
       "      <td>3.0</td>\n",
       "      <td>5.0</td>\n",
       "      <td>4.0</td>\n",
       "      <td>2.0</td>\n",
       "      <td>1.0</td>\n",
       "      <td>2.0</td>\n",
       "      <td>1.0</td>\n",
       "      <td>1.0</td>\n",
       "      <td>4.0</td>\n",
       "    </tr>\n",
       "    <tr>\n",
       "      <th>28</th>\n",
       "      <td>1.0</td>\n",
       "      <td>2.0</td>\n",
       "      <td>NaN</td>\n",
       "      <td>3.0</td>\n",
       "      <td>1.0</td>\n",
       "      <td>2.0</td>\n",
       "      <td>2.0</td>\n",
       "      <td>4.0</td>\n",
       "      <td>1.0</td>\n",
       "      <td>2.0</td>\n",
       "      <td>...</td>\n",
       "      <td>2.0</td>\n",
       "      <td>3.0</td>\n",
       "      <td>4.0</td>\n",
       "      <td>3.0</td>\n",
       "      <td>2.0</td>\n",
       "      <td>2.0</td>\n",
       "      <td>1.0</td>\n",
       "      <td>4.0</td>\n",
       "      <td>3.0</td>\n",
       "      <td>3.0</td>\n",
       "    </tr>\n",
       "    <tr>\n",
       "      <th>29</th>\n",
       "      <td>4.0</td>\n",
       "      <td>NaN</td>\n",
       "      <td>NaN</td>\n",
       "      <td>2.0</td>\n",
       "      <td>1.0</td>\n",
       "      <td>NaN</td>\n",
       "      <td>1.0</td>\n",
       "      <td>2.0</td>\n",
       "      <td>NaN</td>\n",
       "      <td>1.0</td>\n",
       "      <td>...</td>\n",
       "      <td>1.0</td>\n",
       "      <td>3.0</td>\n",
       "      <td>NaN</td>\n",
       "      <td>1.0</td>\n",
       "      <td>1.0</td>\n",
       "      <td>NaN</td>\n",
       "      <td>1.0</td>\n",
       "      <td>NaN</td>\n",
       "      <td>2.0</td>\n",
       "      <td>2.0</td>\n",
       "    </tr>\n",
       "    <tr>\n",
       "      <th>30</th>\n",
       "      <td>NaN</td>\n",
       "      <td>1.0</td>\n",
       "      <td>2.0</td>\n",
       "      <td>2.0</td>\n",
       "      <td>2.0</td>\n",
       "      <td>1.0</td>\n",
       "      <td>2.0</td>\n",
       "      <td>NaN</td>\n",
       "      <td>2.0</td>\n",
       "      <td>1.0</td>\n",
       "      <td>...</td>\n",
       "      <td>NaN</td>\n",
       "      <td>2.0</td>\n",
       "      <td>3.0</td>\n",
       "      <td>1.0</td>\n",
       "      <td>1.0</td>\n",
       "      <td>NaN</td>\n",
       "      <td>2.0</td>\n",
       "      <td>2.0</td>\n",
       "      <td>NaN</td>\n",
       "      <td>1.0</td>\n",
       "    </tr>\n",
       "    <tr>\n",
       "      <th>31</th>\n",
       "      <td>NaN</td>\n",
       "      <td>NaN</td>\n",
       "      <td>NaN</td>\n",
       "      <td>NaN</td>\n",
       "      <td>2.0</td>\n",
       "      <td>3.0</td>\n",
       "      <td>NaN</td>\n",
       "      <td>2.0</td>\n",
       "      <td>1.0</td>\n",
       "      <td>2.0</td>\n",
       "      <td>...</td>\n",
       "      <td>1.0</td>\n",
       "      <td>NaN</td>\n",
       "      <td>2.0</td>\n",
       "      <td>NaN</td>\n",
       "      <td>1.0</td>\n",
       "      <td>3.0</td>\n",
       "      <td>1.0</td>\n",
       "      <td>1.0</td>\n",
       "      <td>1.0</td>\n",
       "      <td>3.0</td>\n",
       "    </tr>\n",
       "    <tr>\n",
       "      <th>32</th>\n",
       "      <td>NaN</td>\n",
       "      <td>1.0</td>\n",
       "      <td>2.0</td>\n",
       "      <td>1.0</td>\n",
       "      <td>3.0</td>\n",
       "      <td>2.0</td>\n",
       "      <td>2.0</td>\n",
       "      <td>1.0</td>\n",
       "      <td>1.0</td>\n",
       "      <td>2.0</td>\n",
       "      <td>...</td>\n",
       "      <td>1.0</td>\n",
       "      <td>4.0</td>\n",
       "      <td>4.0</td>\n",
       "      <td>NaN</td>\n",
       "      <td>1.0</td>\n",
       "      <td>3.0</td>\n",
       "      <td>1.0</td>\n",
       "      <td>2.0</td>\n",
       "      <td>1.0</td>\n",
       "      <td>1.0</td>\n",
       "    </tr>\n",
       "    <tr>\n",
       "      <th>33</th>\n",
       "      <td>NaN</td>\n",
       "      <td>2.0</td>\n",
       "      <td>1.0</td>\n",
       "      <td>1.0</td>\n",
       "      <td>3.0</td>\n",
       "      <td>NaN</td>\n",
       "      <td>3.0</td>\n",
       "      <td>2.0</td>\n",
       "      <td>3.0</td>\n",
       "      <td>1.0</td>\n",
       "      <td>...</td>\n",
       "      <td>2.0</td>\n",
       "      <td>1.0</td>\n",
       "      <td>1.0</td>\n",
       "      <td>1.0</td>\n",
       "      <td>1.0</td>\n",
       "      <td>3.0</td>\n",
       "      <td>NaN</td>\n",
       "      <td>NaN</td>\n",
       "      <td>1.0</td>\n",
       "      <td>NaN</td>\n",
       "    </tr>\n",
       "    <tr>\n",
       "      <th>34</th>\n",
       "      <td>1.0</td>\n",
       "      <td>1.0</td>\n",
       "      <td>NaN</td>\n",
       "      <td>2.0</td>\n",
       "      <td>1.0</td>\n",
       "      <td>1.0</td>\n",
       "      <td>NaN</td>\n",
       "      <td>1.0</td>\n",
       "      <td>NaN</td>\n",
       "      <td>2.0</td>\n",
       "      <td>...</td>\n",
       "      <td>2.0</td>\n",
       "      <td>2.0</td>\n",
       "      <td>1.0</td>\n",
       "      <td>1.0</td>\n",
       "      <td>NaN</td>\n",
       "      <td>1.0</td>\n",
       "      <td>NaN</td>\n",
       "      <td>1.0</td>\n",
       "      <td>NaN</td>\n",
       "      <td>NaN</td>\n",
       "    </tr>\n",
       "    <tr>\n",
       "      <th>35</th>\n",
       "      <td>2.0</td>\n",
       "      <td>NaN</td>\n",
       "      <td>1.0</td>\n",
       "      <td>NaN</td>\n",
       "      <td>NaN</td>\n",
       "      <td>NaN</td>\n",
       "      <td>2.0</td>\n",
       "      <td>1.0</td>\n",
       "      <td>NaN</td>\n",
       "      <td>2.0</td>\n",
       "      <td>...</td>\n",
       "      <td>2.0</td>\n",
       "      <td>4.0</td>\n",
       "      <td>1.0</td>\n",
       "      <td>NaN</td>\n",
       "      <td>1.0</td>\n",
       "      <td>1.0</td>\n",
       "      <td>NaN</td>\n",
       "      <td>NaN</td>\n",
       "      <td>2.0</td>\n",
       "      <td>1.0</td>\n",
       "    </tr>\n",
       "    <tr>\n",
       "      <th>36</th>\n",
       "      <td>NaN</td>\n",
       "      <td>NaN</td>\n",
       "      <td>1.0</td>\n",
       "      <td>2.0</td>\n",
       "      <td>1.0</td>\n",
       "      <td>1.0</td>\n",
       "      <td>NaN</td>\n",
       "      <td>2.0</td>\n",
       "      <td>3.0</td>\n",
       "      <td>NaN</td>\n",
       "      <td>...</td>\n",
       "      <td>3.0</td>\n",
       "      <td>1.0</td>\n",
       "      <td>2.0</td>\n",
       "      <td>2.0</td>\n",
       "      <td>2.0</td>\n",
       "      <td>NaN</td>\n",
       "      <td>NaN</td>\n",
       "      <td>NaN</td>\n",
       "      <td>1.0</td>\n",
       "      <td>3.0</td>\n",
       "    </tr>\n",
       "    <tr>\n",
       "      <th>37</th>\n",
       "      <td>3.0</td>\n",
       "      <td>1.0</td>\n",
       "      <td>2.0</td>\n",
       "      <td>2.0</td>\n",
       "      <td>2.0</td>\n",
       "      <td>2.0</td>\n",
       "      <td>NaN</td>\n",
       "      <td>2.0</td>\n",
       "      <td>NaN</td>\n",
       "      <td>1.0</td>\n",
       "      <td>...</td>\n",
       "      <td>2.0</td>\n",
       "      <td>2.0</td>\n",
       "      <td>1.0</td>\n",
       "      <td>2.0</td>\n",
       "      <td>NaN</td>\n",
       "      <td>1.0</td>\n",
       "      <td>1.0</td>\n",
       "      <td>2.0</td>\n",
       "      <td>NaN</td>\n",
       "      <td>NaN</td>\n",
       "    </tr>\n",
       "    <tr>\n",
       "      <th>38</th>\n",
       "      <td>1.0</td>\n",
       "      <td>2.0</td>\n",
       "      <td>NaN</td>\n",
       "      <td>3.0</td>\n",
       "      <td>1.0</td>\n",
       "      <td>2.0</td>\n",
       "      <td>1.0</td>\n",
       "      <td>1.0</td>\n",
       "      <td>1.0</td>\n",
       "      <td>NaN</td>\n",
       "      <td>...</td>\n",
       "      <td>NaN</td>\n",
       "      <td>1.0</td>\n",
       "      <td>NaN</td>\n",
       "      <td>1.0</td>\n",
       "      <td>NaN</td>\n",
       "      <td>1.0</td>\n",
       "      <td>NaN</td>\n",
       "      <td>2.0</td>\n",
       "      <td>3.0</td>\n",
       "      <td>1.0</td>\n",
       "    </tr>\n",
       "    <tr>\n",
       "      <th>39</th>\n",
       "      <td>NaN</td>\n",
       "      <td>NaN</td>\n",
       "      <td>NaN</td>\n",
       "      <td>2.0</td>\n",
       "      <td>2.0</td>\n",
       "      <td>NaN</td>\n",
       "      <td>1.0</td>\n",
       "      <td>1.0</td>\n",
       "      <td>3.0</td>\n",
       "      <td>2.0</td>\n",
       "      <td>...</td>\n",
       "      <td>1.0</td>\n",
       "      <td>NaN</td>\n",
       "      <td>2.0</td>\n",
       "      <td>1.0</td>\n",
       "      <td>3.0</td>\n",
       "      <td>NaN</td>\n",
       "      <td>NaN</td>\n",
       "      <td>2.0</td>\n",
       "      <td>3.0</td>\n",
       "      <td>1.0</td>\n",
       "    </tr>\n",
       "    <tr>\n",
       "      <th>40</th>\n",
       "      <td>2.0</td>\n",
       "      <td>1.0</td>\n",
       "      <td>NaN</td>\n",
       "      <td>NaN</td>\n",
       "      <td>NaN</td>\n",
       "      <td>NaN</td>\n",
       "      <td>NaN</td>\n",
       "      <td>3.0</td>\n",
       "      <td>1.0</td>\n",
       "      <td>NaN</td>\n",
       "      <td>...</td>\n",
       "      <td>NaN</td>\n",
       "      <td>1.0</td>\n",
       "      <td>1.0</td>\n",
       "      <td>2.0</td>\n",
       "      <td>NaN</td>\n",
       "      <td>2.0</td>\n",
       "      <td>NaN</td>\n",
       "      <td>NaN</td>\n",
       "      <td>1.0</td>\n",
       "      <td>1.0</td>\n",
       "    </tr>\n",
       "    <tr>\n",
       "      <th>41</th>\n",
       "      <td>NaN</td>\n",
       "      <td>3.0</td>\n",
       "      <td>2.0</td>\n",
       "      <td>1.0</td>\n",
       "      <td>1.0</td>\n",
       "      <td>2.0</td>\n",
       "      <td>1.0</td>\n",
       "      <td>1.0</td>\n",
       "      <td>NaN</td>\n",
       "      <td>2.0</td>\n",
       "      <td>...</td>\n",
       "      <td>1.0</td>\n",
       "      <td>NaN</td>\n",
       "      <td>NaN</td>\n",
       "      <td>1.0</td>\n",
       "      <td>2.0</td>\n",
       "      <td>2.0</td>\n",
       "      <td>1.0</td>\n",
       "      <td>1.0</td>\n",
       "      <td>1.0</td>\n",
       "      <td>1.0</td>\n",
       "    </tr>\n",
       "    <tr>\n",
       "      <th>42</th>\n",
       "      <td>2.0</td>\n",
       "      <td>2.0</td>\n",
       "      <td>NaN</td>\n",
       "      <td>NaN</td>\n",
       "      <td>1.0</td>\n",
       "      <td>NaN</td>\n",
       "      <td>2.0</td>\n",
       "      <td>1.0</td>\n",
       "      <td>NaN</td>\n",
       "      <td>3.0</td>\n",
       "      <td>...</td>\n",
       "      <td>NaN</td>\n",
       "      <td>1.0</td>\n",
       "      <td>2.0</td>\n",
       "      <td>1.0</td>\n",
       "      <td>1.0</td>\n",
       "      <td>1.0</td>\n",
       "      <td>1.0</td>\n",
       "      <td>2.0</td>\n",
       "      <td>1.0</td>\n",
       "      <td>3.0</td>\n",
       "    </tr>\n",
       "    <tr>\n",
       "      <th>43</th>\n",
       "      <td>2.0</td>\n",
       "      <td>2.0</td>\n",
       "      <td>2.0</td>\n",
       "      <td>1.0</td>\n",
       "      <td>2.0</td>\n",
       "      <td>NaN</td>\n",
       "      <td>1.0</td>\n",
       "      <td>1.0</td>\n",
       "      <td>1.0</td>\n",
       "      <td>1.0</td>\n",
       "      <td>...</td>\n",
       "      <td>1.0</td>\n",
       "      <td>NaN</td>\n",
       "      <td>1.0</td>\n",
       "      <td>1.0</td>\n",
       "      <td>2.0</td>\n",
       "      <td>2.0</td>\n",
       "      <td>1.0</td>\n",
       "      <td>2.0</td>\n",
       "      <td>NaN</td>\n",
       "      <td>3.0</td>\n",
       "    </tr>\n",
       "    <tr>\n",
       "      <th>44</th>\n",
       "      <td>1.0</td>\n",
       "      <td>NaN</td>\n",
       "      <td>1.0</td>\n",
       "      <td>2.0</td>\n",
       "      <td>NaN</td>\n",
       "      <td>1.0</td>\n",
       "      <td>1.0</td>\n",
       "      <td>NaN</td>\n",
       "      <td>1.0</td>\n",
       "      <td>NaN</td>\n",
       "      <td>...</td>\n",
       "      <td>2.0</td>\n",
       "      <td>1.0</td>\n",
       "      <td>NaN</td>\n",
       "      <td>1.0</td>\n",
       "      <td>2.0</td>\n",
       "      <td>NaN</td>\n",
       "      <td>1.0</td>\n",
       "      <td>NaN</td>\n",
       "      <td>NaN</td>\n",
       "      <td>1.0</td>\n",
       "    </tr>\n",
       "    <tr>\n",
       "      <th>45</th>\n",
       "      <td>2.0</td>\n",
       "      <td>NaN</td>\n",
       "      <td>NaN</td>\n",
       "      <td>1.0</td>\n",
       "      <td>1.0</td>\n",
       "      <td>NaN</td>\n",
       "      <td>NaN</td>\n",
       "      <td>NaN</td>\n",
       "      <td>2.0</td>\n",
       "      <td>2.0</td>\n",
       "      <td>...</td>\n",
       "      <td>1.0</td>\n",
       "      <td>2.0</td>\n",
       "      <td>3.0</td>\n",
       "      <td>2.0</td>\n",
       "      <td>NaN</td>\n",
       "      <td>NaN</td>\n",
       "      <td>2.0</td>\n",
       "      <td>2.0</td>\n",
       "      <td>1.0</td>\n",
       "      <td>3.0</td>\n",
       "    </tr>\n",
       "    <tr>\n",
       "      <th>46</th>\n",
       "      <td>NaN</td>\n",
       "      <td>2.0</td>\n",
       "      <td>2.0</td>\n",
       "      <td>1.0</td>\n",
       "      <td>NaN</td>\n",
       "      <td>1.0</td>\n",
       "      <td>2.0</td>\n",
       "      <td>2.0</td>\n",
       "      <td>1.0</td>\n",
       "      <td>NaN</td>\n",
       "      <td>...</td>\n",
       "      <td>NaN</td>\n",
       "      <td>1.0</td>\n",
       "      <td>1.0</td>\n",
       "      <td>3.0</td>\n",
       "      <td>NaN</td>\n",
       "      <td>NaN</td>\n",
       "      <td>2.0</td>\n",
       "      <td>NaN</td>\n",
       "      <td>2.0</td>\n",
       "      <td>1.0</td>\n",
       "    </tr>\n",
       "    <tr>\n",
       "      <th>47</th>\n",
       "      <td>1.0</td>\n",
       "      <td>1.0</td>\n",
       "      <td>NaN</td>\n",
       "      <td>NaN</td>\n",
       "      <td>NaN</td>\n",
       "      <td>NaN</td>\n",
       "      <td>2.0</td>\n",
       "      <td>NaN</td>\n",
       "      <td>1.0</td>\n",
       "      <td>NaN</td>\n",
       "      <td>...</td>\n",
       "      <td>1.0</td>\n",
       "      <td>NaN</td>\n",
       "      <td>NaN</td>\n",
       "      <td>NaN</td>\n",
       "      <td>4.0</td>\n",
       "      <td>1.0</td>\n",
       "      <td>NaN</td>\n",
       "      <td>1.0</td>\n",
       "      <td>2.0</td>\n",
       "      <td>1.0</td>\n",
       "    </tr>\n",
       "    <tr>\n",
       "      <th>48</th>\n",
       "      <td>2.0</td>\n",
       "      <td>1.0</td>\n",
       "      <td>3.0</td>\n",
       "      <td>1.0</td>\n",
       "      <td>1.0</td>\n",
       "      <td>2.0</td>\n",
       "      <td>NaN</td>\n",
       "      <td>1.0</td>\n",
       "      <td>NaN</td>\n",
       "      <td>2.0</td>\n",
       "      <td>...</td>\n",
       "      <td>1.0</td>\n",
       "      <td>NaN</td>\n",
       "      <td>NaN</td>\n",
       "      <td>2.0</td>\n",
       "      <td>NaN</td>\n",
       "      <td>2.0</td>\n",
       "      <td>NaN</td>\n",
       "      <td>NaN</td>\n",
       "      <td>2.0</td>\n",
       "      <td>NaN</td>\n",
       "    </tr>\n",
       "    <tr>\n",
       "      <th>49</th>\n",
       "      <td>2.0</td>\n",
       "      <td>1.0</td>\n",
       "      <td>NaN</td>\n",
       "      <td>1.0</td>\n",
       "      <td>2.0</td>\n",
       "      <td>2.0</td>\n",
       "      <td>NaN</td>\n",
       "      <td>NaN</td>\n",
       "      <td>NaN</td>\n",
       "      <td>1.0</td>\n",
       "      <td>...</td>\n",
       "      <td>2.0</td>\n",
       "      <td>2.0</td>\n",
       "      <td>NaN</td>\n",
       "      <td>1.0</td>\n",
       "      <td>2.0</td>\n",
       "      <td>NaN</td>\n",
       "      <td>1.0</td>\n",
       "      <td>NaN</td>\n",
       "      <td>NaN</td>\n",
       "      <td>NaN</td>\n",
       "    </tr>\n",
       "    <tr>\n",
       "      <th>50</th>\n",
       "      <td>1.0</td>\n",
       "      <td>NaN</td>\n",
       "      <td>NaN</td>\n",
       "      <td>3.0</td>\n",
       "      <td>1.0</td>\n",
       "      <td>3.0</td>\n",
       "      <td>1.0</td>\n",
       "      <td>3.0</td>\n",
       "      <td>2.0</td>\n",
       "      <td>3.0</td>\n",
       "      <td>...</td>\n",
       "      <td>1.0</td>\n",
       "      <td>3.0</td>\n",
       "      <td>1.0</td>\n",
       "      <td>NaN</td>\n",
       "      <td>NaN</td>\n",
       "      <td>1.0</td>\n",
       "      <td>NaN</td>\n",
       "      <td>1.0</td>\n",
       "      <td>NaN</td>\n",
       "      <td>1.0</td>\n",
       "    </tr>\n",
       "    <tr>\n",
       "      <th>51</th>\n",
       "      <td>1.0</td>\n",
       "      <td>NaN</td>\n",
       "      <td>2.0</td>\n",
       "      <td>1.0</td>\n",
       "      <td>5.0</td>\n",
       "      <td>1.0</td>\n",
       "      <td>1.0</td>\n",
       "      <td>1.0</td>\n",
       "      <td>1.0</td>\n",
       "      <td>NaN</td>\n",
       "      <td>...</td>\n",
       "      <td>1.0</td>\n",
       "      <td>1.0</td>\n",
       "      <td>1.0</td>\n",
       "      <td>1.0</td>\n",
       "      <td>1.0</td>\n",
       "      <td>2.0</td>\n",
       "      <td>3.0</td>\n",
       "      <td>NaN</td>\n",
       "      <td>NaN</td>\n",
       "      <td>NaN</td>\n",
       "    </tr>\n",
       "    <tr>\n",
       "      <th>52</th>\n",
       "      <td>2.0</td>\n",
       "      <td>NaN</td>\n",
       "      <td>2.0</td>\n",
       "      <td>3.0</td>\n",
       "      <td>1.0</td>\n",
       "      <td>2.0</td>\n",
       "      <td>NaN</td>\n",
       "      <td>1.0</td>\n",
       "      <td>NaN</td>\n",
       "      <td>1.0</td>\n",
       "      <td>...</td>\n",
       "      <td>1.0</td>\n",
       "      <td>NaN</td>\n",
       "      <td>2.0</td>\n",
       "      <td>NaN</td>\n",
       "      <td>NaN</td>\n",
       "      <td>NaN</td>\n",
       "      <td>2.0</td>\n",
       "      <td>1.0</td>\n",
       "      <td>1.0</td>\n",
       "      <td>1.0</td>\n",
       "    </tr>\n",
       "    <tr>\n",
       "      <th>53</th>\n",
       "      <td>1.0</td>\n",
       "      <td>NaN</td>\n",
       "      <td>NaN</td>\n",
       "      <td>NaN</td>\n",
       "      <td>1.0</td>\n",
       "      <td>NaN</td>\n",
       "      <td>NaN</td>\n",
       "      <td>NaN</td>\n",
       "      <td>NaN</td>\n",
       "      <td>1.0</td>\n",
       "      <td>...</td>\n",
       "      <td>2.0</td>\n",
       "      <td>NaN</td>\n",
       "      <td>2.0</td>\n",
       "      <td>1.0</td>\n",
       "      <td>1.0</td>\n",
       "      <td>NaN</td>\n",
       "      <td>1.0</td>\n",
       "      <td>1.0</td>\n",
       "      <td>NaN</td>\n",
       "      <td>1.0</td>\n",
       "    </tr>\n",
       "    <tr>\n",
       "      <th>54</th>\n",
       "      <td>2.0</td>\n",
       "      <td>NaN</td>\n",
       "      <td>1.0</td>\n",
       "      <td>1.0</td>\n",
       "      <td>NaN</td>\n",
       "      <td>NaN</td>\n",
       "      <td>NaN</td>\n",
       "      <td>2.0</td>\n",
       "      <td>NaN</td>\n",
       "      <td>1.0</td>\n",
       "      <td>...</td>\n",
       "      <td>1.0</td>\n",
       "      <td>1.0</td>\n",
       "      <td>2.0</td>\n",
       "      <td>1.0</td>\n",
       "      <td>1.0</td>\n",
       "      <td>NaN</td>\n",
       "      <td>3.0</td>\n",
       "      <td>3.0</td>\n",
       "      <td>1.0</td>\n",
       "      <td>2.0</td>\n",
       "    </tr>\n",
       "    <tr>\n",
       "      <th>55</th>\n",
       "      <td>NaN</td>\n",
       "      <td>NaN</td>\n",
       "      <td>3.0</td>\n",
       "      <td>2.0</td>\n",
       "      <td>2.0</td>\n",
       "      <td>2.0</td>\n",
       "      <td>NaN</td>\n",
       "      <td>NaN</td>\n",
       "      <td>NaN</td>\n",
       "      <td>1.0</td>\n",
       "      <td>...</td>\n",
       "      <td>NaN</td>\n",
       "      <td>NaN</td>\n",
       "      <td>1.0</td>\n",
       "      <td>1.0</td>\n",
       "      <td>1.0</td>\n",
       "      <td>1.0</td>\n",
       "      <td>1.0</td>\n",
       "      <td>1.0</td>\n",
       "      <td>2.0</td>\n",
       "      <td>NaN</td>\n",
       "    </tr>\n",
       "    <tr>\n",
       "      <th>56</th>\n",
       "      <td>NaN</td>\n",
       "      <td>NaN</td>\n",
       "      <td>NaN</td>\n",
       "      <td>2.0</td>\n",
       "      <td>NaN</td>\n",
       "      <td>NaN</td>\n",
       "      <td>NaN</td>\n",
       "      <td>1.0</td>\n",
       "      <td>1.0</td>\n",
       "      <td>2.0</td>\n",
       "      <td>...</td>\n",
       "      <td>NaN</td>\n",
       "      <td>NaN</td>\n",
       "      <td>3.0</td>\n",
       "      <td>1.0</td>\n",
       "      <td>1.0</td>\n",
       "      <td>1.0</td>\n",
       "      <td>1.0</td>\n",
       "      <td>NaN</td>\n",
       "      <td>2.0</td>\n",
       "      <td>3.0</td>\n",
       "    </tr>\n",
       "    <tr>\n",
       "      <th>57</th>\n",
       "      <td>1.0</td>\n",
       "      <td>1.0</td>\n",
       "      <td>2.0</td>\n",
       "      <td>1.0</td>\n",
       "      <td>1.0</td>\n",
       "      <td>2.0</td>\n",
       "      <td>4.0</td>\n",
       "      <td>NaN</td>\n",
       "      <td>NaN</td>\n",
       "      <td>NaN</td>\n",
       "      <td>...</td>\n",
       "      <td>NaN</td>\n",
       "      <td>1.0</td>\n",
       "      <td>2.0</td>\n",
       "      <td>2.0</td>\n",
       "      <td>NaN</td>\n",
       "      <td>NaN</td>\n",
       "      <td>1.0</td>\n",
       "      <td>NaN</td>\n",
       "      <td>2.0</td>\n",
       "      <td>NaN</td>\n",
       "    </tr>\n",
       "    <tr>\n",
       "      <th>58</th>\n",
       "      <td>NaN</td>\n",
       "      <td>2.0</td>\n",
       "      <td>1.0</td>\n",
       "      <td>NaN</td>\n",
       "      <td>NaN</td>\n",
       "      <td>1.0</td>\n",
       "      <td>1.0</td>\n",
       "      <td>1.0</td>\n",
       "      <td>NaN</td>\n",
       "      <td>2.0</td>\n",
       "      <td>...</td>\n",
       "      <td>2.0</td>\n",
       "      <td>NaN</td>\n",
       "      <td>NaN</td>\n",
       "      <td>1.0</td>\n",
       "      <td>NaN</td>\n",
       "      <td>NaN</td>\n",
       "      <td>2.0</td>\n",
       "      <td>1.0</td>\n",
       "      <td>1.0</td>\n",
       "      <td>1.0</td>\n",
       "    </tr>\n",
       "    <tr>\n",
       "      <th>59</th>\n",
       "      <td>1.0</td>\n",
       "      <td>1.0</td>\n",
       "      <td>1.0</td>\n",
       "      <td>1.0</td>\n",
       "      <td>1.0</td>\n",
       "      <td>NaN</td>\n",
       "      <td>1.0</td>\n",
       "      <td>1.0</td>\n",
       "      <td>2.0</td>\n",
       "      <td>NaN</td>\n",
       "      <td>...</td>\n",
       "      <td>1.0</td>\n",
       "      <td>1.0</td>\n",
       "      <td>NaN</td>\n",
       "      <td>2.0</td>\n",
       "      <td>1.0</td>\n",
       "      <td>2.0</td>\n",
       "      <td>2.0</td>\n",
       "      <td>4.0</td>\n",
       "      <td>NaN</td>\n",
       "      <td>NaN</td>\n",
       "    </tr>\n",
       "  </tbody>\n",
       "</table>\n",
       "<p>60 rows × 56 columns</p>\n",
       "</div>"
      ],
      "text/plain": [
       "name    Ekaterina_Fedorova  Ekaterina_Ivanova  Ekaterina_Lesnova  \\\n",
       "minute                                                             \n",
       "0                      3.0                4.0                2.0   \n",
       "1                      4.0                4.0                NaN   \n",
       "2                      1.0                2.0                4.0   \n",
       "3                      3.0                NaN                2.0   \n",
       "4                      3.0                NaN                NaN   \n",
       "5                      3.0                NaN                2.0   \n",
       "6                      4.0                1.0                2.0   \n",
       "7                      3.0                2.0                1.0   \n",
       "8                      2.0                4.0                3.0   \n",
       "9                      2.0                4.0                2.0   \n",
       "10                     NaN                3.0                3.0   \n",
       "11                     2.0                3.0                3.0   \n",
       "12                     4.0                3.0                NaN   \n",
       "13                     1.0                2.0                2.0   \n",
       "14                     4.0                2.0                2.0   \n",
       "15                     3.0                1.0                1.0   \n",
       "16                     6.0                1.0                2.0   \n",
       "17                     2.0                3.0                1.0   \n",
       "18                     3.0                NaN                2.0   \n",
       "19                     NaN                3.0                3.0   \n",
       "20                     1.0                2.0                3.0   \n",
       "21                     NaN                NaN                4.0   \n",
       "22                     3.0                1.0                1.0   \n",
       "23                     2.0                5.0                4.0   \n",
       "24                     2.0                NaN                3.0   \n",
       "25                     7.0                2.0                2.0   \n",
       "26                     1.0                1.0                1.0   \n",
       "27                     5.0                3.0                1.0   \n",
       "28                     1.0                2.0                NaN   \n",
       "29                     4.0                NaN                NaN   \n",
       "30                     NaN                1.0                2.0   \n",
       "31                     NaN                NaN                NaN   \n",
       "32                     NaN                1.0                2.0   \n",
       "33                     NaN                2.0                1.0   \n",
       "34                     1.0                1.0                NaN   \n",
       "35                     2.0                NaN                1.0   \n",
       "36                     NaN                NaN                1.0   \n",
       "37                     3.0                1.0                2.0   \n",
       "38                     1.0                2.0                NaN   \n",
       "39                     NaN                NaN                NaN   \n",
       "40                     2.0                1.0                NaN   \n",
       "41                     NaN                3.0                2.0   \n",
       "42                     2.0                2.0                NaN   \n",
       "43                     2.0                2.0                2.0   \n",
       "44                     1.0                NaN                1.0   \n",
       "45                     2.0                NaN                NaN   \n",
       "46                     NaN                2.0                2.0   \n",
       "47                     1.0                1.0                NaN   \n",
       "48                     2.0                1.0                3.0   \n",
       "49                     2.0                1.0                NaN   \n",
       "50                     1.0                NaN                NaN   \n",
       "51                     1.0                NaN                2.0   \n",
       "52                     2.0                NaN                2.0   \n",
       "53                     1.0                NaN                NaN   \n",
       "54                     2.0                NaN                1.0   \n",
       "55                     NaN                NaN                3.0   \n",
       "56                     NaN                NaN                NaN   \n",
       "57                     1.0                1.0                2.0   \n",
       "58                     NaN                2.0                1.0   \n",
       "59                     1.0                1.0                1.0   \n",
       "\n",
       "name    Ekaterina_Ozerova  Ekaterina_Petrova  Ekaterina_Polyanova  \\\n",
       "minute                                                              \n",
       "0                     3.0                4.0                  4.0   \n",
       "1                     4.0                2.0                  5.0   \n",
       "2                     4.0                2.0                  1.0   \n",
       "3                     NaN                5.0                  2.0   \n",
       "4                     3.0                1.0                  1.0   \n",
       "5                     3.0                1.0                  NaN   \n",
       "6                     2.0                NaN                  4.0   \n",
       "7                     2.0                2.0                  3.0   \n",
       "8                     1.0                NaN                  3.0   \n",
       "9                     3.0                4.0                  NaN   \n",
       "10                    1.0                4.0                  4.0   \n",
       "11                    4.0                1.0                  3.0   \n",
       "12                    1.0                3.0                  2.0   \n",
       "13                    4.0                NaN                  3.0   \n",
       "14                    2.0                2.0                  5.0   \n",
       "15                    1.0                3.0                  1.0   \n",
       "16                    1.0                1.0                  3.0   \n",
       "17                    NaN                5.0                  2.0   \n",
       "18                    7.0                1.0                  NaN   \n",
       "19                    1.0                NaN                  3.0   \n",
       "20                    3.0                4.0                  3.0   \n",
       "21                    3.0                2.0                  2.0   \n",
       "22                    2.0                3.0                  1.0   \n",
       "23                    2.0                1.0                  NaN   \n",
       "24                    2.0                1.0                  3.0   \n",
       "25                    4.0                3.0                  1.0   \n",
       "26                    2.0                3.0                  1.0   \n",
       "27                    3.0                3.0                  4.0   \n",
       "28                    3.0                1.0                  2.0   \n",
       "29                    2.0                1.0                  NaN   \n",
       "30                    2.0                2.0                  1.0   \n",
       "31                    NaN                2.0                  3.0   \n",
       "32                    1.0                3.0                  2.0   \n",
       "33                    1.0                3.0                  NaN   \n",
       "34                    2.0                1.0                  1.0   \n",
       "35                    NaN                NaN                  NaN   \n",
       "36                    2.0                1.0                  1.0   \n",
       "37                    2.0                2.0                  2.0   \n",
       "38                    3.0                1.0                  2.0   \n",
       "39                    2.0                2.0                  NaN   \n",
       "40                    NaN                NaN                  NaN   \n",
       "41                    1.0                1.0                  2.0   \n",
       "42                    NaN                1.0                  NaN   \n",
       "43                    1.0                2.0                  NaN   \n",
       "44                    2.0                NaN                  1.0   \n",
       "45                    1.0                1.0                  NaN   \n",
       "46                    1.0                NaN                  1.0   \n",
       "47                    NaN                NaN                  NaN   \n",
       "48                    1.0                1.0                  2.0   \n",
       "49                    1.0                2.0                  2.0   \n",
       "50                    3.0                1.0                  3.0   \n",
       "51                    1.0                5.0                  1.0   \n",
       "52                    3.0                1.0                  2.0   \n",
       "53                    NaN                1.0                  NaN   \n",
       "54                    1.0                NaN                  NaN   \n",
       "55                    2.0                2.0                  2.0   \n",
       "56                    2.0                NaN                  NaN   \n",
       "57                    1.0                1.0                  2.0   \n",
       "58                    NaN                NaN                  1.0   \n",
       "59                    1.0                1.0                  NaN   \n",
       "\n",
       "name    Ekaterina_Smirnova  Irina_Fedorova  Irina_Ivanova  Irina_Lesnova  ...  \\\n",
       "minute                                                                    ...   \n",
       "0                      2.0             1.0            2.0            2.0  ...   \n",
       "1                      4.0             4.0            4.0            3.0  ...   \n",
       "2                      3.0             2.0            3.0            3.0  ...   \n",
       "3                      1.0             3.0            2.0            2.0  ...   \n",
       "4                      2.0             3.0            2.0            1.0  ...   \n",
       "5                      5.0             3.0            1.0            3.0  ...   \n",
       "6                      5.0             2.0            2.0            2.0  ...   \n",
       "7                      4.0             1.0            1.0            3.0  ...   \n",
       "8                      2.0             1.0            1.0            NaN  ...   \n",
       "9                      3.0             2.0            2.0            5.0  ...   \n",
       "10                     1.0             NaN            5.0            2.0  ...   \n",
       "11                     4.0             NaN            1.0            1.0  ...   \n",
       "12                     3.0             2.0            7.0            2.0  ...   \n",
       "13                     4.0             5.0            2.0            2.0  ...   \n",
       "14                     3.0             2.0            3.0            5.0  ...   \n",
       "15                     2.0             2.0            3.0            4.0  ...   \n",
       "16                     2.0             3.0            3.0            1.0  ...   \n",
       "17                     4.0             1.0            2.0            2.0  ...   \n",
       "18                     1.0             1.0            NaN            2.0  ...   \n",
       "19                     2.0             NaN            2.0            6.0  ...   \n",
       "20                     2.0             3.0            2.0            1.0  ...   \n",
       "21                     NaN             5.0            2.0            1.0  ...   \n",
       "22                     2.0             5.0            2.0            1.0  ...   \n",
       "23                     2.0             1.0            3.0            5.0  ...   \n",
       "24                     5.0             5.0            1.0            4.0  ...   \n",
       "25                     2.0             2.0            1.0            1.0  ...   \n",
       "26                     4.0             1.0            1.0            1.0  ...   \n",
       "27                     NaN             1.0            1.0            3.0  ...   \n",
       "28                     2.0             4.0            1.0            2.0  ...   \n",
       "29                     1.0             2.0            NaN            1.0  ...   \n",
       "30                     2.0             NaN            2.0            1.0  ...   \n",
       "31                     NaN             2.0            1.0            2.0  ...   \n",
       "32                     2.0             1.0            1.0            2.0  ...   \n",
       "33                     3.0             2.0            3.0            1.0  ...   \n",
       "34                     NaN             1.0            NaN            2.0  ...   \n",
       "35                     2.0             1.0            NaN            2.0  ...   \n",
       "36                     NaN             2.0            3.0            NaN  ...   \n",
       "37                     NaN             2.0            NaN            1.0  ...   \n",
       "38                     1.0             1.0            1.0            NaN  ...   \n",
       "39                     1.0             1.0            3.0            2.0  ...   \n",
       "40                     NaN             3.0            1.0            NaN  ...   \n",
       "41                     1.0             1.0            NaN            2.0  ...   \n",
       "42                     2.0             1.0            NaN            3.0  ...   \n",
       "43                     1.0             1.0            1.0            1.0  ...   \n",
       "44                     1.0             NaN            1.0            NaN  ...   \n",
       "45                     NaN             NaN            2.0            2.0  ...   \n",
       "46                     2.0             2.0            1.0            NaN  ...   \n",
       "47                     2.0             NaN            1.0            NaN  ...   \n",
       "48                     NaN             1.0            NaN            2.0  ...   \n",
       "49                     NaN             NaN            NaN            1.0  ...   \n",
       "50                     1.0             3.0            2.0            3.0  ...   \n",
       "51                     1.0             1.0            1.0            NaN  ...   \n",
       "52                     NaN             1.0            NaN            1.0  ...   \n",
       "53                     NaN             NaN            NaN            1.0  ...   \n",
       "54                     NaN             2.0            NaN            1.0  ...   \n",
       "55                     NaN             NaN            NaN            1.0  ...   \n",
       "56                     NaN             1.0            1.0            2.0  ...   \n",
       "57                     4.0             NaN            NaN            NaN  ...   \n",
       "58                     1.0             1.0            NaN            2.0  ...   \n",
       "59                     1.0             1.0            2.0            NaN  ...   \n",
       "\n",
       "name    Svetlana_Petrova  Svetlana_Polyanova  Svetlana_Smirnova  \\\n",
       "minute                                                            \n",
       "0                    NaN                 3.0                1.0   \n",
       "1                    4.0                 5.0                3.0   \n",
       "2                    4.0                 1.0                3.0   \n",
       "3                    1.0                 5.0                5.0   \n",
       "4                    1.0                 2.0                2.0   \n",
       "5                    NaN                 2.0                3.0   \n",
       "6                    2.0                 1.0                4.0   \n",
       "7                    3.0                 1.0                1.0   \n",
       "8                    NaN                 1.0                NaN   \n",
       "9                    2.0                 3.0                1.0   \n",
       "10                   NaN                 2.0                2.0   \n",
       "11                   4.0                 2.0                2.0   \n",
       "12                   3.0                 1.0                NaN   \n",
       "13                   3.0                 2.0                3.0   \n",
       "14                   5.0                 1.0                4.0   \n",
       "15                   2.0                 3.0                3.0   \n",
       "16                   1.0                 4.0                3.0   \n",
       "17                   1.0                 NaN                NaN   \n",
       "18                   1.0                 1.0                1.0   \n",
       "19                   1.0                 3.0                1.0   \n",
       "20                   3.0                 3.0                1.0   \n",
       "21                   4.0                 4.0                2.0   \n",
       "22                   3.0                 2.0                1.0   \n",
       "23                   NaN                 2.0                3.0   \n",
       "24                   NaN                 3.0                4.0   \n",
       "25                   4.0                 2.0                2.0   \n",
       "26                   1.0                 NaN                2.0   \n",
       "27                   1.0                 3.0                5.0   \n",
       "28                   2.0                 3.0                4.0   \n",
       "29                   1.0                 3.0                NaN   \n",
       "30                   NaN                 2.0                3.0   \n",
       "31                   1.0                 NaN                2.0   \n",
       "32                   1.0                 4.0                4.0   \n",
       "33                   2.0                 1.0                1.0   \n",
       "34                   2.0                 2.0                1.0   \n",
       "35                   2.0                 4.0                1.0   \n",
       "36                   3.0                 1.0                2.0   \n",
       "37                   2.0                 2.0                1.0   \n",
       "38                   NaN                 1.0                NaN   \n",
       "39                   1.0                 NaN                2.0   \n",
       "40                   NaN                 1.0                1.0   \n",
       "41                   1.0                 NaN                NaN   \n",
       "42                   NaN                 1.0                2.0   \n",
       "43                   1.0                 NaN                1.0   \n",
       "44                   2.0                 1.0                NaN   \n",
       "45                   1.0                 2.0                3.0   \n",
       "46                   NaN                 1.0                1.0   \n",
       "47                   1.0                 NaN                NaN   \n",
       "48                   1.0                 NaN                NaN   \n",
       "49                   2.0                 2.0                NaN   \n",
       "50                   1.0                 3.0                1.0   \n",
       "51                   1.0                 1.0                1.0   \n",
       "52                   1.0                 NaN                2.0   \n",
       "53                   2.0                 NaN                2.0   \n",
       "54                   1.0                 1.0                2.0   \n",
       "55                   NaN                 NaN                1.0   \n",
       "56                   NaN                 NaN                3.0   \n",
       "57                   NaN                 1.0                2.0   \n",
       "58                   2.0                 NaN                NaN   \n",
       "59                   1.0                 1.0                NaN   \n",
       "\n",
       "name    Vasilisa_Fedorova  Vasilisa_Ivanova  Vasilisa_Lesnova  \\\n",
       "minute                                                          \n",
       "0                     1.0               4.0               1.0   \n",
       "1                     2.0               3.0               3.0   \n",
       "2                     3.0               NaN               1.0   \n",
       "3                     2.0               4.0               NaN   \n",
       "4                     1.0               1.0               2.0   \n",
       "5                     1.0               NaN               NaN   \n",
       "6                     1.0               2.0               4.0   \n",
       "7                     2.0               4.0               1.0   \n",
       "8                     1.0               2.0               4.0   \n",
       "9                     2.0               4.0               2.0   \n",
       "10                    2.0               4.0               3.0   \n",
       "11                    1.0               1.0               1.0   \n",
       "12                    NaN               4.0               2.0   \n",
       "13                    4.0               4.0               NaN   \n",
       "14                    5.0               2.0               1.0   \n",
       "15                    NaN               1.0               1.0   \n",
       "16                    3.0               NaN               2.0   \n",
       "17                    NaN               2.0               5.0   \n",
       "18                    2.0               5.0               4.0   \n",
       "19                    2.0               2.0               1.0   \n",
       "20                    3.0               2.0               1.0   \n",
       "21                    1.0               6.0               2.0   \n",
       "22                    1.0               NaN               3.0   \n",
       "23                    NaN               2.0               NaN   \n",
       "24                    2.0               NaN               2.0   \n",
       "25                    2.0               NaN               2.0   \n",
       "26                    2.0               1.0               4.0   \n",
       "27                    4.0               2.0               1.0   \n",
       "28                    3.0               2.0               2.0   \n",
       "29                    1.0               1.0               NaN   \n",
       "30                    1.0               1.0               NaN   \n",
       "31                    NaN               1.0               3.0   \n",
       "32                    NaN               1.0               3.0   \n",
       "33                    1.0               1.0               3.0   \n",
       "34                    1.0               NaN               1.0   \n",
       "35                    NaN               1.0               1.0   \n",
       "36                    2.0               2.0               NaN   \n",
       "37                    2.0               NaN               1.0   \n",
       "38                    1.0               NaN               1.0   \n",
       "39                    1.0               3.0               NaN   \n",
       "40                    2.0               NaN               2.0   \n",
       "41                    1.0               2.0               2.0   \n",
       "42                    1.0               1.0               1.0   \n",
       "43                    1.0               2.0               2.0   \n",
       "44                    1.0               2.0               NaN   \n",
       "45                    2.0               NaN               NaN   \n",
       "46                    3.0               NaN               NaN   \n",
       "47                    NaN               4.0               1.0   \n",
       "48                    2.0               NaN               2.0   \n",
       "49                    1.0               2.0               NaN   \n",
       "50                    NaN               NaN               1.0   \n",
       "51                    1.0               1.0               2.0   \n",
       "52                    NaN               NaN               NaN   \n",
       "53                    1.0               1.0               NaN   \n",
       "54                    1.0               1.0               NaN   \n",
       "55                    1.0               1.0               1.0   \n",
       "56                    1.0               1.0               1.0   \n",
       "57                    2.0               NaN               NaN   \n",
       "58                    1.0               NaN               NaN   \n",
       "59                    2.0               1.0               2.0   \n",
       "\n",
       "name    Vasilisa_Ozerova  Vasilisa_Petrova  Vasilisa_Polyanova  \\\n",
       "minute                                                           \n",
       "0                    3.0               NaN                 NaN   \n",
       "1                    NaN               NaN                 3.0   \n",
       "2                    2.0               1.0                 3.0   \n",
       "3                    3.0               4.0                 1.0   \n",
       "4                    2.0               3.0                 NaN   \n",
       "5                    3.0               NaN                 2.0   \n",
       "6                    1.0               2.0                 NaN   \n",
       "7                    NaN               1.0                 2.0   \n",
       "8                    2.0               1.0                 1.0   \n",
       "9                    3.0               NaN                 1.0   \n",
       "10                   2.0               1.0                 4.0   \n",
       "11                   4.0               2.0                 1.0   \n",
       "12                   5.0               3.0                 6.0   \n",
       "13                   5.0               2.0                 NaN   \n",
       "14                   1.0               2.0                 2.0   \n",
       "15                   2.0               3.0                 3.0   \n",
       "16                   1.0               2.0                 3.0   \n",
       "17                   2.0               2.0                 NaN   \n",
       "18                   2.0               4.0                 2.0   \n",
       "19                   NaN               1.0                 1.0   \n",
       "20                   1.0               1.0                 1.0   \n",
       "21                   2.0               2.0                 3.0   \n",
       "22                   1.0               2.0                 2.0   \n",
       "23                   3.0               5.0                 NaN   \n",
       "24                   2.0               4.0                 4.0   \n",
       "25                   1.0               2.0                 1.0   \n",
       "26                   NaN               1.0                 2.0   \n",
       "27                   2.0               1.0                 1.0   \n",
       "28                   1.0               4.0                 3.0   \n",
       "29                   1.0               NaN                 2.0   \n",
       "30                   2.0               2.0                 NaN   \n",
       "31                   1.0               1.0                 1.0   \n",
       "32                   1.0               2.0                 1.0   \n",
       "33                   NaN               NaN                 1.0   \n",
       "34                   NaN               1.0                 NaN   \n",
       "35                   NaN               NaN                 2.0   \n",
       "36                   NaN               NaN                 1.0   \n",
       "37                   1.0               2.0                 NaN   \n",
       "38                   NaN               2.0                 3.0   \n",
       "39                   NaN               2.0                 3.0   \n",
       "40                   NaN               NaN                 1.0   \n",
       "41                   1.0               1.0                 1.0   \n",
       "42                   1.0               2.0                 1.0   \n",
       "43                   1.0               2.0                 NaN   \n",
       "44                   1.0               NaN                 NaN   \n",
       "45                   2.0               2.0                 1.0   \n",
       "46                   2.0               NaN                 2.0   \n",
       "47                   NaN               1.0                 2.0   \n",
       "48                   NaN               NaN                 2.0   \n",
       "49                   1.0               NaN                 NaN   \n",
       "50                   NaN               1.0                 NaN   \n",
       "51                   3.0               NaN                 NaN   \n",
       "52                   2.0               1.0                 1.0   \n",
       "53                   1.0               1.0                 NaN   \n",
       "54                   3.0               3.0                 1.0   \n",
       "55                   1.0               1.0                 2.0   \n",
       "56                   1.0               NaN                 2.0   \n",
       "57                   1.0               NaN                 2.0   \n",
       "58                   2.0               1.0                 1.0   \n",
       "59                   2.0               4.0                 NaN   \n",
       "\n",
       "name    Vasilisa_Smirnova  \n",
       "minute                     \n",
       "0                     1.0  \n",
       "1                     2.0  \n",
       "2                     1.0  \n",
       "3                     NaN  \n",
       "4                     1.0  \n",
       "5                     1.0  \n",
       "6                     2.0  \n",
       "7                     2.0  \n",
       "8                     1.0  \n",
       "9                     4.0  \n",
       "10                    2.0  \n",
       "11                    2.0  \n",
       "12                    2.0  \n",
       "13                    4.0  \n",
       "14                    3.0  \n",
       "15                    2.0  \n",
       "16                    1.0  \n",
       "17                    4.0  \n",
       "18                    3.0  \n",
       "19                    3.0  \n",
       "20                    2.0  \n",
       "21                    NaN  \n",
       "22                    2.0  \n",
       "23                    NaN  \n",
       "24                    1.0  \n",
       "25                    2.0  \n",
       "26                    1.0  \n",
       "27                    4.0  \n",
       "28                    3.0  \n",
       "29                    2.0  \n",
       "30                    1.0  \n",
       "31                    3.0  \n",
       "32                    1.0  \n",
       "33                    NaN  \n",
       "34                    NaN  \n",
       "35                    1.0  \n",
       "36                    3.0  \n",
       "37                    NaN  \n",
       "38                    1.0  \n",
       "39                    1.0  \n",
       "40                    1.0  \n",
       "41                    1.0  \n",
       "42                    3.0  \n",
       "43                    3.0  \n",
       "44                    1.0  \n",
       "45                    3.0  \n",
       "46                    1.0  \n",
       "47                    1.0  \n",
       "48                    NaN  \n",
       "49                    NaN  \n",
       "50                    1.0  \n",
       "51                    NaN  \n",
       "52                    1.0  \n",
       "53                    1.0  \n",
       "54                    2.0  \n",
       "55                    NaN  \n",
       "56                    3.0  \n",
       "57                    NaN  \n",
       "58                    1.0  \n",
       "59                    NaN  \n",
       "\n",
       "[60 rows x 56 columns]"
      ]
     },
     "execution_count": 141,
     "metadata": {},
     "output_type": "execute_result"
    }
   ],
   "source": [
    "df.groupby(['name', 'minute'], as_index=False) \\\n",
    "    .size() \\\n",
    "    .rename(columns={'size' : 'count_trans'}) \\\n",
    "    .pivot(index='minute', columns='name', values='count_trans')\n",
    "\n"
   ]
  },
  {
   "cell_type": "markdown",
   "metadata": {
    "id": "TKYHo1lvv-oM"
   },
   "source": [
    "6. Заполните пропущенные значения нулями и сохраните получившийся результат в переменную `pivot_trans_per_min`"
   ]
  },
  {
   "cell_type": "markdown",
   "metadata": {
    "id": "3erwMTZNv-oM"
   },
   "source": [
    "<details>\n",
    "<summary>&#9658; Нажмите сюда, чтобы увидеть подсказку</summary>\n",
    "  <p>\n",
    "\n",
    "**Используйте метод `fillna()`**. В качестве аргумента подайте в него то значение, которым хотите заполнить пропуски\n",
    "\n",
    "**Как использовать метод?** Например, применим метод `some_method()` к датафрейму `df` и сохраним результат в `df_new`:\n",
    "```python\n",
    "df_new = df.some_method()\n",
    "```\n",
    "</p>\n",
    "</details>"
   ]
  },
  {
   "cell_type": "code",
   "execution_count": 146,
   "metadata": {
    "id": "Nb8CqPnQv-oN"
   },
   "outputs": [],
   "source": [
    "pivot_trans_per_min = df.groupby(['name', 'minute'], as_index=False) \\\n",
    "    .size() \\\n",
    "    .rename(columns={'size' : 'count_trans'}) \\\n",
    "    .pivot(index='minute', columns='name', values='count_trans') \\\n",
    "    .fillna(0)\n",
    "\n"
   ]
  },
  {
   "cell_type": "markdown",
   "metadata": {
    "id": "ClMEbXnHv-oN"
   },
   "source": [
    "7. Скопируйте и загрузите в LMS Ваш код, начиная с 4 шага выполнения"
   ]
  },
  {
   "cell_type": "markdown",
   "metadata": {
    "id": "GnDfBPcVv-oS"
   },
   "source": [
    "## Шаг 13"
   ]
  },
  {
   "cell_type": "markdown",
   "metadata": {
    "id": "Tkqtmd17v-oS"
   },
   "source": [
    "Получив сводную таблицу, ваш коллега построил по ней график, где по оси `x` – минута транзакции (сколько минут прошло с начала дня), а по оси `y` – число транзакций. Но коллега сомневается, что в данных нет ошибки"
   ]
  },
  {
   "cell_type": "markdown",
   "metadata": {
    "id": "ME8mzc7Jv-oS"
   },
   "source": [
    "![](https://ucarecdn.com/76242146-2d40-40d8-9a4d-2069d97da56f/-/crop/746x502/52,40/-/preview/)"
   ]
  },
  {
   "cell_type": "markdown",
   "metadata": {
    "id": "Cm17wHDxv-oT"
   },
   "source": [
    "**Определите, из-за чего мы видим такую картину. Произошла ошибка или с данными всё хорошо? Выберите один вариант:**\n",
    "\n",
    "- Всё хорошо!  \n",
    "- Вместо минут извлекли дни, а не сколько минут прошло с начала дня  \n",
    "- Извлекли минутную часть времени, а не число минут с начала дня  \n",
    "- В столбец minute записали число транзакций, совершенных пользователем"
   ]
  },
  {
   "cell_type": "markdown",
   "metadata": {
    "id": "Z4cU_Hssv-oT"
   },
   "source": [
    "Шаги выполнения:  \n",
    "1. Суммируйте количество транзакций в каждую минуту, используя датафрейм `pivot_trans_per_min`, полученный на предыдущем шаге"
   ]
  },
  {
   "cell_type": "markdown",
   "metadata": {
    "id": "MNlccgifv-oT"
   },
   "source": [
    "<details>\n",
    "<summary>&#9658; Нажмите сюда, чтобы увидеть подсказку</summary>\n",
    "  <p>\n",
    "\n",
    "Используйте метод `sum()`, применив его к датафрейму `pivot_trans_per_min`. В методе задайте параметр `axis=1`, чтобы складывались значения из всех колонок построчно.\n",
    "\n",
    "Как использовать метод? Например применим метод `some_method()` к датафрейму `df`, задав параметр `some_parameter` равным нулю:\n",
    "```python\n",
    "df.some_method(some_parameter=0)\n",
    "```\n",
    "</p>\n",
    "</details>"
   ]
  },
  {
   "cell_type": "code",
   "execution_count": 148,
   "metadata": {
    "id": "hSNWOFEpv-oV"
   },
   "outputs": [],
   "source": [
    "ser = pivot_trans_per_min.sum(axis=1)\n",
    "\n"
   ]
  },
  {
   "cell_type": "markdown",
   "metadata": {
    "id": "LazmX7KJv-oV"
   },
   "source": [
    "2. На основе получившегося датафрейма постройте барплот (столбчатую диаграмму)"
   ]
  },
  {
   "cell_type": "markdown",
   "metadata": {
    "id": "RWr1_ebMv-oW"
   },
   "source": [
    "<details>\n",
    "<summary>&#9658; Нажмите сюда, чтобы увидеть подсказку</summary>\n",
    "  <p>\n",
    "\n",
    "Примените к получившимся данным аксессор `plot` и метод `bar()` из библиотеки `pandas`. Чтобы график был читаемым, увеличьте его размер, задав параметр `figsize` внутри метода. Например:\n",
    "```python\n",
    "df.plot.bar(figsize=(5,5))\n",
    "```      \n",
    "построит барплот на основе данных из датафрейма `df`, при этом размер графика будет 5 на 5 дюймов\n",
    "</p>\n",
    "</details>"
   ]
  },
  {
   "cell_type": "code",
   "execution_count": 152,
   "metadata": {
    "id": "ByDp3Ph3v-oW"
   },
   "outputs": [
    {
     "data": {
      "text/plain": [
       "<matplotlib.axes._subplots.AxesSubplot at 0x7fa042f7f860>"
      ]
     },
     "execution_count": 152,
     "metadata": {},
     "output_type": "execute_result"
    },
    {
     "data": {
      "image/png": "[encoded data removed]",
      "text/plain": [
       "<Figure size 864x864 with 1 Axes>"
      ]
     },
     "metadata": {
      "needs_background": "light"
     },
     "output_type": "display_data"
    }
   ],
   "source": [
    "ser.plot.bar(figsize=(12,12))\n",
    "\n"
   ]
  },
  {
   "cell_type": "markdown",
   "metadata": {
    "id": "4ORmRnPkv-oW"
   },
   "source": [
    "3. Посмотрите, получился ли у вас такой же график, как у вашего коллеги? Подумайте, с чем это может быть связано?"
   ]
  },
  {
   "cell_type": "markdown",
   "metadata": {
    "id": "CKcwIvAgv-oY"
   },
   "source": [
    "<details>\n",
    "<summary>&#9658; Нажмите сюда, чтобы увидеть подсказку</summary>\n",
    "  <p>\n",
    "\n",
    "Обратите внимание на максимальное число минут и на то, что количество транзакций в первой половине графика отличается от количества во второй.\n",
    "</p>\n",
    "</details>"
   ]
  },
  {
   "cell_type": "markdown",
   "metadata": {
    "id": "5pS4xeAHv-oY"
   },
   "source": [
    "4. Посмотрите на данные в колонке `date` — соответствует ли им график?"
   ]
  },
  {
   "cell_type": "markdown",
   "metadata": {
    "id": "XuPWaFoYv-oY"
   },
   "source": [
    "<details>\n",
    "<summary>&#9658; Нажмите сюда, чтобы увидеть подсказку</summary>\n",
    "<p>\n",
    "\n",
    "Используйте метод `describe()`, применив его к колонке `date`. Чтобы вывести нужные показатели по дате, используйте параметр `datetime_is_numeric=True`. Если выполняли задание не в JupyterHub нашего курса, то параметр может и не понадобиться.\n",
    "      \n",
    "**Как использовать метод?** Например применим метод `some_method()`, с параметром `some_parameter` равным False, к колонке `col_name` датафрейма `df`:\n",
    "```python\n",
    "df.col_name.some_method(some_parameter=False)\n",
    "```\n",
    "    \n",
    "**Убедитесь, что колонка `date` имеет тип datetime**\n",
    "    \n",
    "**Обратите внимание на максимальное значение времени — отражено ли оно на графике?**\n",
    "</p>\n",
    "</details>"
   ]
  },
  {
   "cell_type": "code",
   "execution_count": 155,
   "metadata": {
    "id": "BBxkF2vmv-oZ"
   },
   "outputs": [
    {
     "data": {
      "text/plain": [
       "count                             5315\n",
       "mean     2020-03-02 00:43:56.628974592\n",
       "min                2020-03-02 00:00:00\n",
       "25%         2020-03-02 00:21:50.500000\n",
       "50%                2020-03-02 00:43:26\n",
       "75%         2020-03-02 01:06:22.500000\n",
       "max                2020-03-02 01:29:05\n",
       "Name: date, dtype: object"
      ]
     },
     "execution_count": 155,
     "metadata": {},
     "output_type": "execute_result"
    }
   ],
   "source": [
    "df.date.describe(datetime_is_numeric=True)\n",
    "\n"
   ]
  },
  {
   "cell_type": "markdown",
   "metadata": {
    "id": "9LUa7i29v-ob"
   },
   "source": [
    "## Шаг 14"
   ]
  },
  {
   "cell_type": "markdown",
   "metadata": {
    "id": "YkY9uoZIv-oc"
   },
   "source": [
    "Что ж, ошибку в работе с данными совершить легко. **Исправьте её и подсчитайте правильное количество минут, прошедших с начала дня, сохранив результаты в новой колонке `true_minute`.**\n",
    "\n",
    "Постройте график и посмотрите, произошли ли изменения. Из-за того, что теперь вариантов минут больше, используйте другой тип графика — гистограмму распределения (см.функцию `sns.displot`).\n",
    "\n",
    "**На LMS датафрейм сохранен в переменную `df`, колонка `date` прочитана как дата. Загрузите в LMS Ваш код, в котором создаете колонку `true_minute`. Код с построением графика копировать в LMS не нужно**"
   ]
  },
  {
   "cell_type": "markdown",
   "metadata": {
    "id": "ziNEU9M5v-od"
   },
   "source": [
    "Шаги выполнения:  \n",
    "1. Подсчитайте правильное количество минут, учтя в том числе количество часов, прошедших с начала дня. Результаты сохраните в новой колонке `true_minute`"
   ]
  },
  {
   "cell_type": "markdown",
   "metadata": {
    "id": "1CTIFNi4v-oe"
   },
   "source": [
    "<details>\n",
    "<summary>&#9658; Нажмите сюда, чтобы увидеть подсказку</summary>\n",
    "  <p>\n",
    "\n",
    "**Сложите число минут и число часов, умноженное на 60 (чтобы перевести часы в минуты)**.\n",
    "      \n",
    "**Чтобы получить число минут,** используйте аксессор `dt` и укажите период `minute`.\n",
    "\n",
    "**Чтобы получить число часов,** используйте аксессор `dt` и укажите период `hour`.\n",
    "\n",
    "Например:\n",
    "```python\n",
    "df.col_datetime.dt.day\n",
    "```    \n",
    "вернет номера дней в колонке `col_datetime` с типом данных datetime\n",
    "      \n",
    "**Колонка `date` должна иметь тип `datetime`**.  \n",
    "</p>\n",
    "</details>"
   ]
  },
  {
   "cell_type": "code",
   "execution_count": 162,
   "metadata": {
    "id": "IIPHFG3Jv-oe"
   },
   "outputs": [],
   "source": [
    "df = df.assign(true_minute = df.date.dt.hour * 60 + df.date.dt.minute)\n"
   ]
  },
  {
   "cell_type": "code",
   "execution_count": 163,
   "metadata": {},
   "outputs": [
    {
     "data": {
      "text/html": [
       "<div>\n",
       "<style scoped>\n",
       "    .dataframe tbody tr th:only-of-type {\n",
       "        vertical-align: middle;\n",
       "    }\n",
       "\n",
       "    .dataframe tbody tr th {\n",
       "        vertical-align: top;\n",
       "    }\n",
       "\n",
       "    .dataframe thead th {\n",
       "        text-align: right;\n",
       "    }\n",
       "</style>\n",
       "<table border=\"1\" class=\"dataframe\">\n",
       "  <thead>\n",
       "    <tr style=\"text-align: right;\">\n",
       "      <th></th>\n",
       "      <th>date</th>\n",
       "      <th>name</th>\n",
       "      <th>transaction</th>\n",
       "      <th>minute</th>\n",
       "      <th>true_minute</th>\n",
       "    </tr>\n",
       "  </thead>\n",
       "  <tbody>\n",
       "    <tr>\n",
       "      <th>0</th>\n",
       "      <td>2020-03-02 00:37:20</td>\n",
       "      <td>Ekaterina_Petrova</td>\n",
       "      <td>cancelled</td>\n",
       "      <td>37</td>\n",
       "      <td>37</td>\n",
       "    </tr>\n",
       "    <tr>\n",
       "      <th>1</th>\n",
       "      <td>2020-03-02 00:59:09</td>\n",
       "      <td>Irina_Fedorova</td>\n",
       "      <td>successfull</td>\n",
       "      <td>59</td>\n",
       "      <td>59</td>\n",
       "    </tr>\n",
       "    <tr>\n",
       "      <th>2</th>\n",
       "      <td>2020-03-02 01:06:14</td>\n",
       "      <td>Ekaterina_Smirnova</td>\n",
       "      <td>successfull</td>\n",
       "      <td>6</td>\n",
       "      <td>66</td>\n",
       "    </tr>\n",
       "    <tr>\n",
       "      <th>3</th>\n",
       "      <td>2020-03-02 00:02:58</td>\n",
       "      <td>Lolita_Polyanova</td>\n",
       "      <td>cancelled</td>\n",
       "      <td>2</td>\n",
       "      <td>2</td>\n",
       "    </tr>\n",
       "    <tr>\n",
       "      <th>4</th>\n",
       "      <td>2020-03-02 00:17:52</td>\n",
       "      <td>Julia_Smirnova</td>\n",
       "      <td>cancelled</td>\n",
       "      <td>17</td>\n",
       "      <td>17</td>\n",
       "    </tr>\n",
       "  </tbody>\n",
       "</table>\n",
       "</div>"
      ],
      "text/plain": [
       "                 date                name  transaction  minute  true_minute\n",
       "0 2020-03-02 00:37:20   Ekaterina_Petrova    cancelled      37           37\n",
       "1 2020-03-02 00:59:09      Irina_Fedorova  successfull      59           59\n",
       "2 2020-03-02 01:06:14  Ekaterina_Smirnova  successfull       6           66\n",
       "3 2020-03-02 00:02:58    Lolita_Polyanova    cancelled       2            2\n",
       "4 2020-03-02 00:17:52      Julia_Smirnova    cancelled      17           17"
      ]
     },
     "execution_count": 163,
     "metadata": {},
     "output_type": "execute_result"
    }
   ],
   "source": [
    "df.head()"
   ]
  },
  {
   "cell_type": "markdown",
   "metadata": {
    "id": "eCSebCfhv-of"
   },
   "source": [
    "2. Постройте гистограмму распределения количества транзакций по минутам, прошедшим с начала дня"
   ]
  },
  {
   "cell_type": "markdown",
   "metadata": {
    "id": "A4Tk4cVPv-of"
   },
   "source": [
    "<details>\n",
    "<summary>&#9658; Нажмите сюда, чтобы увидеть подсказку</summary>\n",
    "  <p>\n",
    "\n",
    "Передайте в функцию `sns.displot()` следующие параметры:  \n",
    "      `data` — датафрейм с данными  \n",
    "      `x` — название колонки из этого датафрейма (`true_minute`) с числом минут, прошедшим с начала дня\n",
    "      \n",
    "Например:      \n",
    "```python\n",
    "sns.displot(data=df, x='col_name')\n",
    "```\n",
    "построит гистограмму на основе данных из колонки `col_name` датафрейма `df`.\n",
    "</p>\n",
    "</details>"
   ]
  },
  {
   "cell_type": "code",
   "execution_count": 165,
   "metadata": {
    "id": "3RjJB-B4v-of"
   },
   "outputs": [
    {
     "data": {
      "text/plain": [
       "<seaborn.axisgrid.FacetGrid at 0x7fa01d0dc7b8>"
      ]
     },
     "execution_count": 165,
     "metadata": {},
     "output_type": "execute_result"
    },
    {
     "data": {
      "image/png": "[encoded data removed]",
      "text/plain": [
       "<Figure size 360x360 with 1 Axes>"
      ]
     },
     "metadata": {
      "needs_background": "light"
     },
     "output_type": "display_data"
    }
   ],
   "source": [
    "sns.displot(data=df, x = 'true_minute')\n",
    "\n"
   ]
  },
  {
   "cell_type": "markdown",
   "metadata": {
    "id": "oLVrbvLrv-of"
   },
   "source": [
    "3. Скопируйте и загрузите в LMS ваш код с первого шага выполнения — в котором создаете колонку `true_minute`"
   ]
  },
  {
   "cell_type": "markdown",
   "metadata": {
    "id": "ZDlsizQqv-oh"
   },
   "source": [
    "## Итоги"
   ]
  },
  {
   "cell_type": "markdown",
   "metadata": {
    "id": "_a0jmAO9v-oh"
   },
   "source": [
    "В этом уроке вы проанализировали несколько наборов данных о транзакциях и научились подготавливать данные к анализу, удалять дубликаты и другие лишние данные, определять, какие данные нужно оставить, а в каких есть ошибка, заполнять пропуски, строить сводные таблицы и корректные графики."
   ]
  }
 ],
 "metadata": {
  "colab": {
   "provenance": []
  },
  "kernelspec": {
   "display_name": "Python 3",
   "language": "python",
   "name": "python3"
  },
  "language_info": {
   "codemirror_mode": {
    "name": "ipython",
    "version": 3
   },
   "file_extension": ".py",
   "mimetype": "text/x-python",
   "name": "python",
   "nbconvert_exporter": "python",
   "pygments_lexer": "ipython3",
   "version": "3.7.3"
  }
 },
 "nbformat": 4,
 "nbformat_minor": 1
}
