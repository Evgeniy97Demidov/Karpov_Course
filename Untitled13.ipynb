{
 "cells": [
  {
   "cell_type": "code",
   "execution_count": 55,
   "metadata": {},
   "outputs": [],
   "source": [
    "import pandas as pd\n",
    "import seaborn as sns\n",
    "import matplotlib.pyplot as plt\n",
    "import numpy as np"
   ]
  },
  {
   "cell_type": "code",
   "execution_count": 56,
   "metadata": {},
   "outputs": [],
   "source": [
    "london = pd.read_csv('london.csv')"
   ]
  },
  {
   "cell_type": "code",
   "execution_count": 57,
   "metadata": {},
   "outputs": [
    {
     "data": {
      "text/html": [
       "<div>\n",
       "<style scoped>\n",
       "    .dataframe tbody tr th:only-of-type {\n",
       "        vertical-align: middle;\n",
       "    }\n",
       "\n",
       "    .dataframe tbody tr th {\n",
       "        vertical-align: top;\n",
       "    }\n",
       "\n",
       "    .dataframe thead th {\n",
       "        text-align: right;\n",
       "    }\n",
       "</style>\n",
       "<table border=\"1\" class=\"dataframe\">\n",
       "  <thead>\n",
       "    <tr style=\"text-align: right;\">\n",
       "      <th></th>\n",
       "      <th>timestamp</th>\n",
       "      <th>cnt</th>\n",
       "      <th>t1</th>\n",
       "      <th>t2</th>\n",
       "      <th>hum</th>\n",
       "      <th>wind_speed</th>\n",
       "      <th>weather_code</th>\n",
       "      <th>is_holiday</th>\n",
       "      <th>is_weekend</th>\n",
       "      <th>season</th>\n",
       "    </tr>\n",
       "  </thead>\n",
       "  <tbody>\n",
       "    <tr>\n",
       "      <th>0</th>\n",
       "      <td>2015-01-04 00:00:00</td>\n",
       "      <td>182</td>\n",
       "      <td>3.0</td>\n",
       "      <td>2.0</td>\n",
       "      <td>93.0</td>\n",
       "      <td>6.0</td>\n",
       "      <td>3.0</td>\n",
       "      <td>0.0</td>\n",
       "      <td>1.0</td>\n",
       "      <td>3.0</td>\n",
       "    </tr>\n",
       "    <tr>\n",
       "      <th>1</th>\n",
       "      <td>2015-01-04 01:00:00</td>\n",
       "      <td>138</td>\n",
       "      <td>3.0</td>\n",
       "      <td>2.5</td>\n",
       "      <td>93.0</td>\n",
       "      <td>5.0</td>\n",
       "      <td>1.0</td>\n",
       "      <td>0.0</td>\n",
       "      <td>1.0</td>\n",
       "      <td>3.0</td>\n",
       "    </tr>\n",
       "    <tr>\n",
       "      <th>2</th>\n",
       "      <td>2015-01-04 02:00:00</td>\n",
       "      <td>134</td>\n",
       "      <td>2.5</td>\n",
       "      <td>2.5</td>\n",
       "      <td>96.5</td>\n",
       "      <td>0.0</td>\n",
       "      <td>1.0</td>\n",
       "      <td>0.0</td>\n",
       "      <td>1.0</td>\n",
       "      <td>3.0</td>\n",
       "    </tr>\n",
       "    <tr>\n",
       "      <th>3</th>\n",
       "      <td>2015-01-04 03:00:00</td>\n",
       "      <td>72</td>\n",
       "      <td>2.0</td>\n",
       "      <td>2.0</td>\n",
       "      <td>100.0</td>\n",
       "      <td>0.0</td>\n",
       "      <td>1.0</td>\n",
       "      <td>0.0</td>\n",
       "      <td>1.0</td>\n",
       "      <td>3.0</td>\n",
       "    </tr>\n",
       "    <tr>\n",
       "      <th>4</th>\n",
       "      <td>2015-01-04 04:00:00</td>\n",
       "      <td>47</td>\n",
       "      <td>2.0</td>\n",
       "      <td>0.0</td>\n",
       "      <td>93.0</td>\n",
       "      <td>6.5</td>\n",
       "      <td>1.0</td>\n",
       "      <td>0.0</td>\n",
       "      <td>1.0</td>\n",
       "      <td>3.0</td>\n",
       "    </tr>\n",
       "  </tbody>\n",
       "</table>\n",
       "</div>"
      ],
      "text/plain": [
       "             timestamp  cnt   t1   t2    hum  wind_speed  weather_code  \\\n",
       "0  2015-01-04 00:00:00  182  3.0  2.0   93.0         6.0           3.0   \n",
       "1  2015-01-04 01:00:00  138  3.0  2.5   93.0         5.0           1.0   \n",
       "2  2015-01-04 02:00:00  134  2.5  2.5   96.5         0.0           1.0   \n",
       "3  2015-01-04 03:00:00   72  2.0  2.0  100.0         0.0           1.0   \n",
       "4  2015-01-04 04:00:00   47  2.0  0.0   93.0         6.5           1.0   \n",
       "\n",
       "   is_holiday  is_weekend  season  \n",
       "0         0.0         1.0     3.0  \n",
       "1         0.0         1.0     3.0  \n",
       "2         0.0         1.0     3.0  \n",
       "3         0.0         1.0     3.0  \n",
       "4         0.0         1.0     3.0  "
      ]
     },
     "execution_count": 57,
     "metadata": {},
     "output_type": "execute_result"
    }
   ],
   "source": [
    "london.head()"
   ]
  },
  {
   "cell_type": "code",
   "execution_count": 58,
   "metadata": {},
   "outputs": [
    {
     "name": "stdout",
     "output_type": "stream",
     "text": [
      "<class 'pandas.core.frame.DataFrame'>\n",
      "RangeIndex: 17414 entries, 0 to 17413\n",
      "Data columns (total 10 columns):\n",
      " #   Column        Non-Null Count  Dtype  \n",
      "---  ------        --------------  -----  \n",
      " 0   timestamp     17414 non-null  object \n",
      " 1   cnt           17414 non-null  int64  \n",
      " 2   t1            17414 non-null  float64\n",
      " 3   t2            17414 non-null  float64\n",
      " 4   hum           17414 non-null  float64\n",
      " 5   wind_speed    17414 non-null  float64\n",
      " 6   weather_code  17414 non-null  float64\n",
      " 7   is_holiday    17414 non-null  float64\n",
      " 8   is_weekend    17414 non-null  float64\n",
      " 9   season        17414 non-null  float64\n",
      "dtypes: float64(8), int64(1), object(1)\n",
      "memory usage: 1.3+ MB\n"
     ]
    }
   ],
   "source": [
    "london.info()"
   ]
  },
  {
   "cell_type": "code",
   "execution_count": 59,
   "metadata": {},
   "outputs": [],
   "source": [
    "london['timestamp'] = pd.to_datetime(london['timestamp'])"
   ]
  },
  {
   "cell_type": "code",
   "execution_count": 60,
   "metadata": {},
   "outputs": [
    {
     "name": "stdout",
     "output_type": "stream",
     "text": [
      "<class 'pandas.core.frame.DataFrame'>\n",
      "RangeIndex: 17414 entries, 0 to 17413\n",
      "Data columns (total 10 columns):\n",
      " #   Column        Non-Null Count  Dtype         \n",
      "---  ------        --------------  -----         \n",
      " 0   timestamp     17414 non-null  datetime64[ns]\n",
      " 1   cnt           17414 non-null  int64         \n",
      " 2   t1            17414 non-null  float64       \n",
      " 3   t2            17414 non-null  float64       \n",
      " 4   hum           17414 non-null  float64       \n",
      " 5   wind_speed    17414 non-null  float64       \n",
      " 6   weather_code  17414 non-null  float64       \n",
      " 7   is_holiday    17414 non-null  float64       \n",
      " 8   is_weekend    17414 non-null  float64       \n",
      " 9   season        17414 non-null  float64       \n",
      "dtypes: datetime64[ns](1), float64(8), int64(1)\n",
      "memory usage: 1.3 MB\n"
     ]
    }
   ],
   "source": [
    "london.info()"
   ]
  },
  {
   "cell_type": "code",
   "execution_count": 61,
   "metadata": {},
   "outputs": [
    {
     "data": {
      "text/plain": [
       "<matplotlib.axes._subplots.AxesSubplot at 0x7f39fc6a27f0>"
      ]
     },
     "execution_count": 61,
     "metadata": {},
     "output_type": "execute_result"
    },
    {
     "data": {
      "image/png": "[encoded data removed]",
      "text/plain": [
       "<Figure size 432x288 with 1 Axes>"
      ]
     },
     "metadata": {
      "needs_background": "light"
     },
     "output_type": "display_data"
    }
   ],
   "source": [
    "sns.lineplot(data=london, x='timestamp', y='cnt')"
   ]
  },
  {
   "cell_type": "code",
   "execution_count": 62,
   "metadata": {},
   "outputs": [],
   "source": [
    "cnt_on_day = london.sort_values('timestamp').set_index('timestamp').resample(rule='D').cnt.sum().reset_index()"
   ]
  },
  {
   "cell_type": "code",
   "execution_count": 63,
   "metadata": {},
   "outputs": [
    {
     "data": {
      "image/png": "[encoded data removed]",
      "text/plain": [
       "<Figure size 864x648 with 1 Axes>"
      ]
     },
     "metadata": {
      "needs_background": "light"
     },
     "output_type": "display_data"
    }
   ],
   "source": [
    "plt.figure(figsize=(12, 9))\n",
    "sns.lineplot(data=cnt_on_day, x='timestamp', y='cnt')\n",
    "plt.show()"
   ]
  },
  {
   "cell_type": "code",
   "execution_count": 64,
   "metadata": {},
   "outputs": [],
   "source": [
    "roll = cnt_on_day.rolling(window=3).mean().rename(columns={'cnt' : 'roll_cnt'})"
   ]
  },
  {
   "cell_type": "code",
   "execution_count": 65,
   "metadata": {},
   "outputs": [],
   "source": [
    "merged_df = pd.merge(cnt_on_day, roll, left_index=True, right_index=True)"
   ]
  },
  {
   "cell_type": "code",
   "execution_count": 66,
   "metadata": {},
   "outputs": [
    {
     "data": {
      "text/html": [
       "<div>\n",
       "<style scoped>\n",
       "    .dataframe tbody tr th:only-of-type {\n",
       "        vertical-align: middle;\n",
       "    }\n",
       "\n",
       "    .dataframe tbody tr th {\n",
       "        vertical-align: top;\n",
       "    }\n",
       "\n",
       "    .dataframe thead th {\n",
       "        text-align: right;\n",
       "    }\n",
       "</style>\n",
       "<table border=\"1\" class=\"dataframe\">\n",
       "  <thead>\n",
       "    <tr style=\"text-align: right;\">\n",
       "      <th></th>\n",
       "      <th>timestamp</th>\n",
       "      <th>cnt</th>\n",
       "      <th>roll_cnt</th>\n",
       "    </tr>\n",
       "  </thead>\n",
       "  <tbody>\n",
       "    <tr>\n",
       "      <th>186</th>\n",
       "      <td>2015-07-09</td>\n",
       "      <td>72504</td>\n",
       "      <td>50705.0</td>\n",
       "    </tr>\n",
       "  </tbody>\n",
       "</table>\n",
       "</div>"
      ],
      "text/plain": [
       "     timestamp    cnt  roll_cnt\n",
       "186 2015-07-09  72504   50705.0"
      ]
     },
     "execution_count": 66,
     "metadata": {},
     "output_type": "execute_result"
    }
   ],
   "source": [
    "merged_df.query('timestamp == \"2015-07-09\"')"
   ]
  },
  {
   "cell_type": "code",
   "execution_count": 67,
   "metadata": {},
   "outputs": [],
   "source": [
    "merged_df['diff_cnt'] = merged_df['cnt'] - merged_df['roll_cnt']"
   ]
  },
  {
   "cell_type": "code",
   "execution_count": 68,
   "metadata": {},
   "outputs": [
    {
     "data": {
      "text/html": [
       "<div>\n",
       "<style scoped>\n",
       "    .dataframe tbody tr th:only-of-type {\n",
       "        vertical-align: middle;\n",
       "    }\n",
       "\n",
       "    .dataframe tbody tr th {\n",
       "        vertical-align: top;\n",
       "    }\n",
       "\n",
       "    .dataframe thead th {\n",
       "        text-align: right;\n",
       "    }\n",
       "</style>\n",
       "<table border=\"1\" class=\"dataframe\">\n",
       "  <thead>\n",
       "    <tr style=\"text-align: right;\">\n",
       "      <th></th>\n",
       "      <th>timestamp</th>\n",
       "      <th>cnt</th>\n",
       "      <th>roll_cnt</th>\n",
       "      <th>diff_cnt</th>\n",
       "    </tr>\n",
       "  </thead>\n",
       "  <tbody>\n",
       "    <tr>\n",
       "      <th>0</th>\n",
       "      <td>2015-01-04</td>\n",
       "      <td>9234</td>\n",
       "      <td>NaN</td>\n",
       "      <td>NaN</td>\n",
       "    </tr>\n",
       "    <tr>\n",
       "      <th>1</th>\n",
       "      <td>2015-01-05</td>\n",
       "      <td>20372</td>\n",
       "      <td>NaN</td>\n",
       "      <td>NaN</td>\n",
       "    </tr>\n",
       "    <tr>\n",
       "      <th>2</th>\n",
       "      <td>2015-01-06</td>\n",
       "      <td>20613</td>\n",
       "      <td>16739.666667</td>\n",
       "      <td>3873.333333</td>\n",
       "    </tr>\n",
       "    <tr>\n",
       "      <th>3</th>\n",
       "      <td>2015-01-07</td>\n",
       "      <td>21064</td>\n",
       "      <td>20683.000000</td>\n",
       "      <td>381.000000</td>\n",
       "    </tr>\n",
       "    <tr>\n",
       "      <th>4</th>\n",
       "      <td>2015-01-08</td>\n",
       "      <td>15601</td>\n",
       "      <td>19092.666667</td>\n",
       "      <td>-3491.666667</td>\n",
       "    </tr>\n",
       "    <tr>\n",
       "      <th>...</th>\n",
       "      <td>...</td>\n",
       "      <td>...</td>\n",
       "      <td>...</td>\n",
       "      <td>...</td>\n",
       "    </tr>\n",
       "    <tr>\n",
       "      <th>726</th>\n",
       "      <td>2016-12-30</td>\n",
       "      <td>11566</td>\n",
       "      <td>12682.000000</td>\n",
       "      <td>-1116.000000</td>\n",
       "    </tr>\n",
       "    <tr>\n",
       "      <th>727</th>\n",
       "      <td>2016-12-31</td>\n",
       "      <td>11424</td>\n",
       "      <td>12347.333333</td>\n",
       "      <td>-923.333333</td>\n",
       "    </tr>\n",
       "    <tr>\n",
       "      <th>728</th>\n",
       "      <td>2017-01-01</td>\n",
       "      <td>6421</td>\n",
       "      <td>9803.666667</td>\n",
       "      <td>-3382.666667</td>\n",
       "    </tr>\n",
       "    <tr>\n",
       "      <th>729</th>\n",
       "      <td>2017-01-02</td>\n",
       "      <td>11823</td>\n",
       "      <td>9889.333333</td>\n",
       "      <td>1933.666667</td>\n",
       "    </tr>\n",
       "    <tr>\n",
       "      <th>730</th>\n",
       "      <td>2017-01-03</td>\n",
       "      <td>19436</td>\n",
       "      <td>12560.000000</td>\n",
       "      <td>6876.000000</td>\n",
       "    </tr>\n",
       "  </tbody>\n",
       "</table>\n",
       "<p>731 rows × 4 columns</p>\n",
       "</div>"
      ],
      "text/plain": [
       "     timestamp    cnt      roll_cnt     diff_cnt\n",
       "0   2015-01-04   9234           NaN          NaN\n",
       "1   2015-01-05  20372           NaN          NaN\n",
       "2   2015-01-06  20613  16739.666667  3873.333333\n",
       "3   2015-01-07  21064  20683.000000   381.000000\n",
       "4   2015-01-08  15601  19092.666667 -3491.666667\n",
       "..         ...    ...           ...          ...\n",
       "726 2016-12-30  11566  12682.000000 -1116.000000\n",
       "727 2016-12-31  11424  12347.333333  -923.333333\n",
       "728 2017-01-01   6421   9803.666667 -3382.666667\n",
       "729 2017-01-02  11823   9889.333333  1933.666667\n",
       "730 2017-01-03  19436  12560.000000  6876.000000\n",
       "\n",
       "[731 rows x 4 columns]"
      ]
     },
     "execution_count": 68,
     "metadata": {},
     "output_type": "execute_result"
    }
   ],
   "source": [
    "merged_df"
   ]
  },
  {
   "cell_type": "code",
   "execution_count": 69,
   "metadata": {},
   "outputs": [],
   "source": [
    "std = np.std(merged_df.diff_cnt)"
   ]
  },
  {
   "cell_type": "code",
   "execution_count": 70,
   "metadata": {},
   "outputs": [
    {
     "data": {
      "text/plain": [
       "4558.58664111794"
      ]
     },
     "execution_count": 70,
     "metadata": {},
     "output_type": "execute_result"
    }
   ],
   "source": [
    "std"
   ]
  },
  {
   "cell_type": "code",
   "execution_count": 71,
   "metadata": {},
   "outputs": [],
   "source": [
    "merged_df['upper_bound'] = merged_df['roll_cnt'] + 2.576 * std"
   ]
  },
  {
   "cell_type": "code",
   "execution_count": 72,
   "metadata": {},
   "outputs": [],
   "source": [
    "merged_df['lower_bound'] = merged_df['roll_cnt'] - 2.576 * std"
   ]
  },
  {
   "cell_type": "code",
   "execution_count": 73,
   "metadata": {},
   "outputs": [
    {
     "data": {
      "text/html": [
       "<div>\n",
       "<style scoped>\n",
       "    .dataframe tbody tr th:only-of-type {\n",
       "        vertical-align: middle;\n",
       "    }\n",
       "\n",
       "    .dataframe tbody tr th {\n",
       "        vertical-align: top;\n",
       "    }\n",
       "\n",
       "    .dataframe thead th {\n",
       "        text-align: right;\n",
       "    }\n",
       "</style>\n",
       "<table border=\"1\" class=\"dataframe\">\n",
       "  <thead>\n",
       "    <tr style=\"text-align: right;\">\n",
       "      <th></th>\n",
       "      <th>timestamp</th>\n",
       "      <th>cnt</th>\n",
       "      <th>roll_cnt</th>\n",
       "      <th>diff_cnt</th>\n",
       "      <th>upper_bound</th>\n",
       "      <th>lower_bound</th>\n",
       "    </tr>\n",
       "  </thead>\n",
       "  <tbody>\n",
       "    <tr>\n",
       "      <th>0</th>\n",
       "      <td>2015-01-04</td>\n",
       "      <td>9234</td>\n",
       "      <td>NaN</td>\n",
       "      <td>NaN</td>\n",
       "      <td>NaN</td>\n",
       "      <td>NaN</td>\n",
       "    </tr>\n",
       "    <tr>\n",
       "      <th>1</th>\n",
       "      <td>2015-01-05</td>\n",
       "      <td>20372</td>\n",
       "      <td>NaN</td>\n",
       "      <td>NaN</td>\n",
       "      <td>NaN</td>\n",
       "      <td>NaN</td>\n",
       "    </tr>\n",
       "    <tr>\n",
       "      <th>2</th>\n",
       "      <td>2015-01-06</td>\n",
       "      <td>20613</td>\n",
       "      <td>16739.666667</td>\n",
       "      <td>3873.333333</td>\n",
       "      <td>28482.585854</td>\n",
       "      <td>4996.747479</td>\n",
       "    </tr>\n",
       "    <tr>\n",
       "      <th>3</th>\n",
       "      <td>2015-01-07</td>\n",
       "      <td>21064</td>\n",
       "      <td>20683.000000</td>\n",
       "      <td>381.000000</td>\n",
       "      <td>32425.919188</td>\n",
       "      <td>8940.080812</td>\n",
       "    </tr>\n",
       "    <tr>\n",
       "      <th>4</th>\n",
       "      <td>2015-01-08</td>\n",
       "      <td>15601</td>\n",
       "      <td>19092.666667</td>\n",
       "      <td>-3491.666667</td>\n",
       "      <td>30835.585854</td>\n",
       "      <td>7349.747479</td>\n",
       "    </tr>\n",
       "    <tr>\n",
       "      <th>...</th>\n",
       "      <td>...</td>\n",
       "      <td>...</td>\n",
       "      <td>...</td>\n",
       "      <td>...</td>\n",
       "      <td>...</td>\n",
       "      <td>...</td>\n",
       "    </tr>\n",
       "    <tr>\n",
       "      <th>726</th>\n",
       "      <td>2016-12-30</td>\n",
       "      <td>11566</td>\n",
       "      <td>12682.000000</td>\n",
       "      <td>-1116.000000</td>\n",
       "      <td>24424.919188</td>\n",
       "      <td>939.080812</td>\n",
       "    </tr>\n",
       "    <tr>\n",
       "      <th>727</th>\n",
       "      <td>2016-12-31</td>\n",
       "      <td>11424</td>\n",
       "      <td>12347.333333</td>\n",
       "      <td>-923.333333</td>\n",
       "      <td>24090.252521</td>\n",
       "      <td>604.414146</td>\n",
       "    </tr>\n",
       "    <tr>\n",
       "      <th>728</th>\n",
       "      <td>2017-01-01</td>\n",
       "      <td>6421</td>\n",
       "      <td>9803.666667</td>\n",
       "      <td>-3382.666667</td>\n",
       "      <td>21546.585854</td>\n",
       "      <td>-1939.252521</td>\n",
       "    </tr>\n",
       "    <tr>\n",
       "      <th>729</th>\n",
       "      <td>2017-01-02</td>\n",
       "      <td>11823</td>\n",
       "      <td>9889.333333</td>\n",
       "      <td>1933.666667</td>\n",
       "      <td>21632.252521</td>\n",
       "      <td>-1853.585854</td>\n",
       "    </tr>\n",
       "    <tr>\n",
       "      <th>730</th>\n",
       "      <td>2017-01-03</td>\n",
       "      <td>19436</td>\n",
       "      <td>12560.000000</td>\n",
       "      <td>6876.000000</td>\n",
       "      <td>24302.919188</td>\n",
       "      <td>817.080812</td>\n",
       "    </tr>\n",
       "  </tbody>\n",
       "</table>\n",
       "<p>731 rows × 6 columns</p>\n",
       "</div>"
      ],
      "text/plain": [
       "     timestamp    cnt      roll_cnt     diff_cnt   upper_bound  lower_bound\n",
       "0   2015-01-04   9234           NaN          NaN           NaN          NaN\n",
       "1   2015-01-05  20372           NaN          NaN           NaN          NaN\n",
       "2   2015-01-06  20613  16739.666667  3873.333333  28482.585854  4996.747479\n",
       "3   2015-01-07  21064  20683.000000   381.000000  32425.919188  8940.080812\n",
       "4   2015-01-08  15601  19092.666667 -3491.666667  30835.585854  7349.747479\n",
       "..         ...    ...           ...          ...           ...          ...\n",
       "726 2016-12-30  11566  12682.000000 -1116.000000  24424.919188   939.080812\n",
       "727 2016-12-31  11424  12347.333333  -923.333333  24090.252521   604.414146\n",
       "728 2017-01-01   6421   9803.666667 -3382.666667  21546.585854 -1939.252521\n",
       "729 2017-01-02  11823   9889.333333  1933.666667  21632.252521 -1853.585854\n",
       "730 2017-01-03  19436  12560.000000  6876.000000  24302.919188   817.080812\n",
       "\n",
       "[731 rows x 6 columns]"
      ]
     },
     "execution_count": 73,
     "metadata": {},
     "output_type": "execute_result"
    }
   ],
   "source": [
    "merged_df"
   ]
  },
  {
   "cell_type": "code",
   "execution_count": 74,
   "metadata": {},
   "outputs": [
    {
     "data": {
      "text/html": [
       "<div>\n",
       "<style scoped>\n",
       "    .dataframe tbody tr th:only-of-type {\n",
       "        vertical-align: middle;\n",
       "    }\n",
       "\n",
       "    .dataframe tbody tr th {\n",
       "        vertical-align: top;\n",
       "    }\n",
       "\n",
       "    .dataframe thead th {\n",
       "        text-align: right;\n",
       "    }\n",
       "</style>\n",
       "<table border=\"1\" class=\"dataframe\">\n",
       "  <thead>\n",
       "    <tr style=\"text-align: right;\">\n",
       "      <th></th>\n",
       "      <th>timestamp</th>\n",
       "      <th>cnt</th>\n",
       "      <th>roll_cnt</th>\n",
       "      <th>diff_cnt</th>\n",
       "      <th>upper_bound</th>\n",
       "      <th>lower_bound</th>\n",
       "    </tr>\n",
       "  </thead>\n",
       "  <tbody>\n",
       "    <tr>\n",
       "      <th>609</th>\n",
       "      <td>2016-09-04</td>\n",
       "      <td>27512</td>\n",
       "      <td>14259.000000</td>\n",
       "      <td>13253.000000</td>\n",
       "      <td>26001.919188</td>\n",
       "      <td>2516.080812</td>\n",
       "    </tr>\n",
       "    <tr>\n",
       "      <th>721</th>\n",
       "      <td>2016-12-25</td>\n",
       "      <td>36653</td>\n",
       "      <td>19650.666667</td>\n",
       "      <td>17002.333333</td>\n",
       "      <td>31393.585854</td>\n",
       "      <td>7907.747479</td>\n",
       "    </tr>\n",
       "    <tr>\n",
       "      <th>214</th>\n",
       "      <td>2015-08-06</td>\n",
       "      <td>63468</td>\n",
       "      <td>46627.333333</td>\n",
       "      <td>16840.666667</td>\n",
       "      <td>58370.252521</td>\n",
       "      <td>34884.414146</td>\n",
       "    </tr>\n",
       "    <tr>\n",
       "      <th>186</th>\n",
       "      <td>2015-07-09</td>\n",
       "      <td>72504</td>\n",
       "      <td>50705.000000</td>\n",
       "      <td>21799.000000</td>\n",
       "      <td>62447.919188</td>\n",
       "      <td>38962.080812</td>\n",
       "    </tr>\n",
       "  </tbody>\n",
       "</table>\n",
       "</div>"
      ],
      "text/plain": [
       "     timestamp    cnt      roll_cnt      diff_cnt   upper_bound   lower_bound\n",
       "609 2016-09-04  27512  14259.000000  13253.000000  26001.919188   2516.080812\n",
       "721 2016-12-25  36653  19650.666667  17002.333333  31393.585854   7907.747479\n",
       "214 2015-08-06  63468  46627.333333  16840.666667  58370.252521  34884.414146\n",
       "186 2015-07-09  72504  50705.000000  21799.000000  62447.919188  38962.080812"
      ]
     },
     "execution_count": 74,
     "metadata": {},
     "output_type": "execute_result"
    }
   ],
   "source": [
    "merged_df.query('cnt > upper_bound').sort_values('cnt')"
   ]
  },
  {
   "cell_type": "code",
   "execution_count": 75,
   "metadata": {},
   "outputs": [
    {
     "data": {
      "text/html": [
       "<div>\n",
       "<style scoped>\n",
       "    .dataframe tbody tr th:only-of-type {\n",
       "        vertical-align: middle;\n",
       "    }\n",
       "\n",
       "    .dataframe tbody tr th {\n",
       "        vertical-align: top;\n",
       "    }\n",
       "\n",
       "    .dataframe thead th {\n",
       "        text-align: right;\n",
       "    }\n",
       "</style>\n",
       "<table border=\"1\" class=\"dataframe\">\n",
       "  <thead>\n",
       "    <tr style=\"text-align: right;\">\n",
       "      <th></th>\n",
       "      <th>timestamp</th>\n",
       "      <th>cnt</th>\n",
       "      <th>roll_cnt</th>\n",
       "      <th>diff_cnt</th>\n",
       "      <th>upper_bound</th>\n",
       "      <th>lower_bound</th>\n",
       "    </tr>\n",
       "  </thead>\n",
       "  <tbody>\n",
       "    <tr>\n",
       "      <th>607</th>\n",
       "      <td>2016-09-02</td>\n",
       "      <td>0</td>\n",
       "      <td>26086.333333</td>\n",
       "      <td>-26086.333333</td>\n",
       "      <td>37829.252521</td>\n",
       "      <td>14343.414146</td>\n",
       "    </tr>\n",
       "    <tr>\n",
       "      <th>314</th>\n",
       "      <td>2015-11-14</td>\n",
       "      <td>8898</td>\n",
       "      <td>21037.333333</td>\n",
       "      <td>-12139.333333</td>\n",
       "      <td>32780.252521</td>\n",
       "      <td>9294.414146</td>\n",
       "    </tr>\n",
       "    <tr>\n",
       "      <th>678</th>\n",
       "      <td>2016-11-12</td>\n",
       "      <td>8990</td>\n",
       "      <td>20878.000000</td>\n",
       "      <td>-11888.000000</td>\n",
       "      <td>32620.919188</td>\n",
       "      <td>9135.080812</td>\n",
       "    </tr>\n",
       "    <tr>\n",
       "      <th>130</th>\n",
       "      <td>2015-05-14</td>\n",
       "      <td>15609</td>\n",
       "      <td>28709.333333</td>\n",
       "      <td>-13100.333333</td>\n",
       "      <td>40452.252521</td>\n",
       "      <td>16966.414146</td>\n",
       "    </tr>\n",
       "    <tr>\n",
       "      <th>201</th>\n",
       "      <td>2015-07-24</td>\n",
       "      <td>16034</td>\n",
       "      <td>31013.666667</td>\n",
       "      <td>-14979.666667</td>\n",
       "      <td>42756.585854</td>\n",
       "      <td>19270.747479</td>\n",
       "    </tr>\n",
       "    <tr>\n",
       "      <th>615</th>\n",
       "      <td>2016-09-10</td>\n",
       "      <td>17080</td>\n",
       "      <td>31262.000000</td>\n",
       "      <td>-14182.000000</td>\n",
       "      <td>43004.919188</td>\n",
       "      <td>19519.080812</td>\n",
       "    </tr>\n",
       "    <tr>\n",
       "      <th>232</th>\n",
       "      <td>2015-08-24</td>\n",
       "      <td>17400</td>\n",
       "      <td>29529.333333</td>\n",
       "      <td>-12129.333333</td>\n",
       "      <td>41272.252521</td>\n",
       "      <td>17786.414146</td>\n",
       "    </tr>\n",
       "    <tr>\n",
       "      <th>621</th>\n",
       "      <td>2016-09-16</td>\n",
       "      <td>21967</td>\n",
       "      <td>36193.333333</td>\n",
       "      <td>-14226.333333</td>\n",
       "      <td>47936.252521</td>\n",
       "      <td>24450.414146</td>\n",
       "    </tr>\n",
       "    <tr>\n",
       "      <th>189</th>\n",
       "      <td>2015-07-12</td>\n",
       "      <td>23240</td>\n",
       "      <td>36036.666667</td>\n",
       "      <td>-12796.666667</td>\n",
       "      <td>47779.585854</td>\n",
       "      <td>24293.747479</td>\n",
       "    </tr>\n",
       "  </tbody>\n",
       "</table>\n",
       "</div>"
      ],
      "text/plain": [
       "     timestamp    cnt      roll_cnt      diff_cnt   upper_bound   lower_bound\n",
       "607 2016-09-02      0  26086.333333 -26086.333333  37829.252521  14343.414146\n",
       "314 2015-11-14   8898  21037.333333 -12139.333333  32780.252521   9294.414146\n",
       "678 2016-11-12   8990  20878.000000 -11888.000000  32620.919188   9135.080812\n",
       "130 2015-05-14  15609  28709.333333 -13100.333333  40452.252521  16966.414146\n",
       "201 2015-07-24  16034  31013.666667 -14979.666667  42756.585854  19270.747479\n",
       "615 2016-09-10  17080  31262.000000 -14182.000000  43004.919188  19519.080812\n",
       "232 2015-08-24  17400  29529.333333 -12129.333333  41272.252521  17786.414146\n",
       "621 2016-09-16  21967  36193.333333 -14226.333333  47936.252521  24450.414146\n",
       "189 2015-07-12  23240  36036.666667 -12796.666667  47779.585854  24293.747479"
      ]
     },
     "execution_count": 75,
     "metadata": {},
     "output_type": "execute_result"
    }
   ],
   "source": [
    "merged_df.query('cnt < lower_bound').sort_values('cnt')"
   ]
  }
 ],
 "metadata": {
  "kernelspec": {
   "display_name": "Python 3",
   "language": "python",
   "name": "python3"
  },
  "language_info": {
   "codemirror_mode": {
    "name": "ipython",
    "version": 3
   },
   "file_extension": ".py",
   "mimetype": "text/x-python",
   "name": "python",
   "nbconvert_exporter": "python",
   "pygments_lexer": "ipython3",
   "version": "3.7.3"
  }
 },
 "nbformat": 4,
 "nbformat_minor": 4
}
