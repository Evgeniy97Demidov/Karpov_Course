{
 "cells": [
  {
   "cell_type": "markdown",
   "metadata": {
    "id": "meHApm_GjObc"
   },
   "source": [
    "# Проект урока 4. Исследование данных и создание метрик\n",
    "#  «Анализ данных о поездках на такси в Перу»"
   ]
  },
  {
   "cell_type": "markdown",
   "metadata": {
    "id": "kS_jYqfgjObd"
   },
   "source": [
    "## Шаг 1"
   ]
  },
  {
   "cell_type": "markdown",
   "metadata": {
    "id": "67bnjCtvjObe"
   },
   "source": [
    "В этом проекте вы снова будете работать с данными по поездкам на такси, но теперь в Перу. Данные разделены на три датасета: в `passengers` информация о поездках со стороны пассажиров, в `drivers` — об этих же поездках со стороны водителей, в `taxi_2` — и та, и та информация, но о других поездках. В каждой строке каждого датасета — запись об одной поездке.\n",
    "\n",
    "**Описание данных:**\n",
    "\n",
    "passengers:\n",
    "- journey_id – уникальный id поездки  \n",
    "- user_id – id пользователя  \n",
    "- start_type – тип заказа (asap, reserved, delayed)  \n",
    "- start_lat – исходное местоположение пользователя, широта  \n",
    "- start_lon – исходное местоположение пользователя, долгота  \n",
    "- source – платформа, с которой сделан заказ  \n",
    "- driver_score – какую оценку клиент поставил водителю  \n",
    "\n",
    "drivers:\n",
    "- journey_id – уникальный id поездки  \n",
    "- driver_id – id водителя  \n",
    "- taxi_id – id машины  \n",
    "- icon – тип поездки  \n",
    "- start_at – время начала поездки  \n",
    "- end_at – время окончания поездки  \n",
    "- end_lat – итоговое местоположение, широта  \n",
    "- end_lon – итоговое местоположение, долгота  \n",
    "- end_state – состояние заказа  \n",
    "- driver_start_lat – исходное местоположение водителя, широта  \n",
    "- driver_start_lon – исходное местоположение водителя, долгота  \n",
    "- arrived_at – время прибытия водителя  \n",
    "- rider_score – какую оценку водитель поставил клиенту  "
   ]
  },
  {
   "cell_type": "markdown",
   "metadata": {
    "id": "NE0SEjfLjObe"
   },
   "source": [
    "Вы можете решать задания тем способом, который считаете наиболее удобным или оптимальным. А для того, чтобы лучше понять задание, следуйте по шагам выполнения. Бывает, что их можно выполнить в одну строчку, применяя методы друг за другом. А если выполняете шаги отдельно, не забудьте сохранить результат в переменную и в следующем шаге работать именно с ней.\n",
    "\n",
    "В ноутбуке место для вашего решения обозначено комментарием `# Ваш код здесь`, но вы можете писать код где вам удобно, добавлять или удалять ячейки с кодом или текстом по вашему усмотрению.\n",
    "\n",
    "Кроме того можно посмотреть подсказки, кликнув на строчку `► Нажмите сюда, чтобы увидеть подсказку`. Также не забывайте о наличии конспектов и возможности задать вопрос в Discord, ссылка на нужный тред есть на странице каждого шага в LMS"
   ]
  },
  {
   "cell_type": "markdown",
   "metadata": {
    "id": "O397IExwjObe"
   },
   "source": [
    "## Шаг 2"
   ]
  },
  {
   "cell_type": "markdown",
   "metadata": {
    "id": "kCp0pl5wjObe"
   },
   "source": [
    "**Соберите первую часть данных.** Для этого прочитайте датасеты `passengers` и `drivers`. Объедините датафреймы в единый по ключу — колонке `journey_id`.\n",
    "\n",
    "**Сколько столбцов с типом `object` у вас получилось в объединенном датафрейме?**"
   ]
  },
  {
   "cell_type": "markdown",
   "metadata": {
    "id": "C1cvEwDqjObf"
   },
   "source": [
    "Шаги выполнения:\n",
    "1. Импортируйте библиотеку pandas"
   ]
  },
  {
   "cell_type": "markdown",
   "metadata": {
    "id": "eh8if07ujObf"
   },
   "source": [
    "<details>\n",
    "<summary>&#9658; Нажмите сюда, чтобы увидеть подсказку</summary>\n",
    "  <p>\n",
    "      \n",
    "Для импорта библиотеки напишите:\n",
    "```python\n",
    "import library as shortcut\n",
    "```\n",
    "где вместо `library` подставьте название библиотеки, а вместо `shortcut` — её общераспространённое сокращённое название.\n",
    "</p>\n",
    "</details>"
   ]
  },
  {
   "cell_type": "code",
   "execution_count": 280,
   "metadata": {
    "id": "3IVuDZfljObf"
   },
   "outputs": [],
   "source": [
    "import pandas as pd\n",
    "\n"
   ]
  },
  {
   "cell_type": "markdown",
   "metadata": {
    "id": "VLkGoniojObg"
   },
   "source": [
    "2. Загрузите два csv файла к уроку в свою папку в JupyterНub\n",
    "3. Прочитайте эти датасеты, результаты сохранив в соответствующие переменные `passengers` и `drivers`"
   ]
  },
  {
   "cell_type": "markdown",
   "metadata": {
    "id": "SxQGstUCjObg"
   },
   "source": [
    "<details>\n",
    "<summary>&#9658; Нажмите сюда, чтобы увидеть подсказку</summary>\n",
    "  <p>\n",
    "      \n",
    "Датасеты находятся в файлах формата CSV. Для их чтения воспользуйтесь функцией `pd.read_csv()`, передав в качестве аргумента путь к файлу. Например,\n",
    "```python\n",
    "df = pd.read_csv('data.csv')\n",
    "```\n",
    "cчитает файл `data.csv`, хранящийся в той же папке, что и юпитер ноутбук, в котором вы сейчас работаете.\n",
    "</p>\n",
    "</details>"
   ]
  },
  {
   "cell_type": "code",
   "execution_count": 281,
   "metadata": {
    "id": "HqFz4DdRjObg"
   },
   "outputs": [],
   "source": [
    "passengers = pd.read_csv('passengers.csv')\n",
    "drivers = pd.read_csv('drivers.csv')\n",
    "\n"
   ]
  },
  {
   "cell_type": "markdown",
   "metadata": {
    "id": "WZjz-TujjObg"
   },
   "source": [
    "4. Посмотрите на содержимое датафреймов, проверьте размер каждой загруженной таблицы"
   ]
  },
  {
   "cell_type": "markdown",
   "metadata": {
    "id": "7kOFFzE8jObg"
   },
   "source": [
    "<details>\n",
    "<summary>&#9658; Нажмите сюда, чтобы увидеть подсказку</summary>\n",
    "  <p>\n",
    "      \n",
    "**Как посмотреть на содержимое датафреймов?** Используйте метод `head()`\n",
    "\n",
    "**Как проверить размер датафрейма?** Используйте атрибут `shape`, чтобы узнать количество строк и столбцов. Этот атрибут возвращает кортеж, первый элемент которого указывает на количество строк, а второй — на количество столбцов в датафрейме.  \n",
    "      \n",
    "**Как обратиться к атрибуту датафрейма?** Для этого нужно написать переменную, где хранится датафрейм, поставить точку и написать название атрибута (без скобок!). Например:\n",
    "```python\n",
    "df.some_attribute\n",
    "```\n",
    "так мы обратимся к атрибуту `some_attribute` у датафрейма в переменной `df`\n",
    "      \n",
    "**Как использовать метод?** Например применим метод `some_method()` к датафрейму `df`:\n",
    "```python\n",
    "df.some_method()\n",
    "```\n",
    "</p>\n",
    "</details>"
   ]
  },
  {
   "cell_type": "code",
   "execution_count": 282,
   "metadata": {
    "id": "SomStl9LjObg"
   },
   "outputs": [
    {
     "data": {
      "text/html": [
       "<div>\n",
       "<style scoped>\n",
       "    .dataframe tbody tr th:only-of-type {\n",
       "        vertical-align: middle;\n",
       "    }\n",
       "\n",
       "    .dataframe tbody tr th {\n",
       "        vertical-align: top;\n",
       "    }\n",
       "\n",
       "    .dataframe thead th {\n",
       "        text-align: right;\n",
       "    }\n",
       "</style>\n",
       "<table border=\"1\" class=\"dataframe\">\n",
       "  <thead>\n",
       "    <tr style=\"text-align: right;\">\n",
       "      <th></th>\n",
       "      <th>journey_id</th>\n",
       "      <th>driver_id</th>\n",
       "      <th>taxi_id</th>\n",
       "      <th>icon</th>\n",
       "      <th>start_at</th>\n",
       "      <th>end_at</th>\n",
       "      <th>end_lat</th>\n",
       "      <th>end_lon</th>\n",
       "      <th>end_state</th>\n",
       "      <th>driver_start_lat</th>\n",
       "      <th>driver_start_lon</th>\n",
       "      <th>arrived_at</th>\n",
       "      <th>rider_score</th>\n",
       "    </tr>\n",
       "  </thead>\n",
       "  <tbody>\n",
       "    <tr>\n",
       "      <th>0</th>\n",
       "      <td>23a1406fc6a11d866e3c82f22eed4d4c</td>\n",
       "      <td>583949a89a9ee17d19e3ca4f137b6b4c</td>\n",
       "      <td>b12f4f09c783e29fe0d0ea624530db56</td>\n",
       "      <td>executive</td>\n",
       "      <td>2010-11-16 16:44:00</td>\n",
       "      <td>2010-11-16 17:29:00</td>\n",
       "      <td>-12,05537033</td>\n",
       "      <td>-77,0413208</td>\n",
       "      <td>drop off</td>\n",
       "      <td>-12,10825481</td>\n",
       "      <td>-77,0272739</td>\n",
       "      <td>2010-11-16 17:02:00</td>\n",
       "      <td>5.0</td>\n",
       "    </tr>\n",
       "    <tr>\n",
       "      <th>1</th>\n",
       "      <td>dd2af4715d0dc16eded53afc0e243577</td>\n",
       "      <td>NaN</td>\n",
       "      <td>NaN</td>\n",
       "      <td>executive</td>\n",
       "      <td>2010-06-01 00:34:00</td>\n",
       "      <td>2010-06-01 00:37:00</td>\n",
       "      <td>-12,12465668</td>\n",
       "      <td>-77,02886963</td>\n",
       "      <td>not found</td>\n",
       "      <td>NaN</td>\n",
       "      <td>NaN</td>\n",
       "      <td>NaN</td>\n",
       "      <td>NaN</td>\n",
       "    </tr>\n",
       "    <tr>\n",
       "      <th>2</th>\n",
       "      <td>dd91e131888064bf7df3ce08f3d4b4ad</td>\n",
       "      <td>NaN</td>\n",
       "      <td>NaN</td>\n",
       "      <td>executive</td>\n",
       "      <td>2010-05-31 05:01:00</td>\n",
       "      <td>2010-05-31 05:04:00</td>\n",
       "      <td>-12,13883209</td>\n",
       "      <td>-76,99530029</td>\n",
       "      <td>not found</td>\n",
       "      <td>NaN</td>\n",
       "      <td>NaN</td>\n",
       "      <td>NaN</td>\n",
       "      <td>NaN</td>\n",
       "    </tr>\n",
       "    <tr>\n",
       "      <th>3</th>\n",
       "      <td>dd2af4715d0dc16eded53afc0e2466d0</td>\n",
       "      <td>NaN</td>\n",
       "      <td>NaN</td>\n",
       "      <td>executive</td>\n",
       "      <td>2010-06-01 00:29:00</td>\n",
       "      <td>2010-06-01 00:32:00</td>\n",
       "      <td>-12,12458801</td>\n",
       "      <td>-77,02896118</td>\n",
       "      <td>not found</td>\n",
       "      <td>NaN</td>\n",
       "      <td>NaN</td>\n",
       "      <td>NaN</td>\n",
       "      <td>NaN</td>\n",
       "    </tr>\n",
       "    <tr>\n",
       "      <th>4</th>\n",
       "      <td>85b7eabcf5d84e42dc7629b7d27781af</td>\n",
       "      <td>d665fb9f75ef5d9cd0fd89479380ba78</td>\n",
       "      <td>0accdd3aa5a322f4129fa20b53278c69</td>\n",
       "      <td>executive</td>\n",
       "      <td>2010-09-11 23:55:00</td>\n",
       "      <td>2010-09-12 01:07:00</td>\n",
       "      <td>-12,02223206</td>\n",
       "      <td>-77,10638428</td>\n",
       "      <td>drop off</td>\n",
       "      <td>-12,08311558</td>\n",
       "      <td>-76,9277072</td>\n",
       "      <td>2010-09-11 23:50:00</td>\n",
       "      <td>5.0</td>\n",
       "    </tr>\n",
       "  </tbody>\n",
       "</table>\n",
       "</div>"
      ],
      "text/plain": [
       "                         journey_id                         driver_id  \\\n",
       "0  23a1406fc6a11d866e3c82f22eed4d4c  583949a89a9ee17d19e3ca4f137b6b4c   \n",
       "1  dd2af4715d0dc16eded53afc0e243577                               NaN   \n",
       "2  dd91e131888064bf7df3ce08f3d4b4ad                               NaN   \n",
       "3  dd2af4715d0dc16eded53afc0e2466d0                               NaN   \n",
       "4  85b7eabcf5d84e42dc7629b7d27781af  d665fb9f75ef5d9cd0fd89479380ba78   \n",
       "\n",
       "                            taxi_id       icon             start_at  \\\n",
       "0  b12f4f09c783e29fe0d0ea624530db56  executive  2010-11-16 16:44:00   \n",
       "1                               NaN  executive  2010-06-01 00:34:00   \n",
       "2                               NaN  executive  2010-05-31 05:01:00   \n",
       "3                               NaN  executive  2010-06-01 00:29:00   \n",
       "4  0accdd3aa5a322f4129fa20b53278c69  executive  2010-09-11 23:55:00   \n",
       "\n",
       "                end_at       end_lat       end_lon  end_state  \\\n",
       "0  2010-11-16 17:29:00  -12,05537033   -77,0413208   drop off   \n",
       "1  2010-06-01 00:37:00  -12,12465668  -77,02886963  not found   \n",
       "2  2010-05-31 05:04:00  -12,13883209  -76,99530029  not found   \n",
       "3  2010-06-01 00:32:00  -12,12458801  -77,02896118  not found   \n",
       "4  2010-09-12 01:07:00  -12,02223206  -77,10638428   drop off   \n",
       "\n",
       "  driver_start_lat driver_start_lon           arrived_at  rider_score  \n",
       "0     -12,10825481      -77,0272739  2010-11-16 17:02:00          5.0  \n",
       "1              NaN              NaN                  NaN          NaN  \n",
       "2              NaN              NaN                  NaN          NaN  \n",
       "3              NaN              NaN                  NaN          NaN  \n",
       "4     -12,08311558      -76,9277072  2010-09-11 23:50:00          5.0  "
      ]
     },
     "execution_count": 282,
     "metadata": {},
     "output_type": "execute_result"
    }
   ],
   "source": [
    "# passengers.head()\n",
    "drivers.head()\n"
   ]
  },
  {
   "cell_type": "markdown",
   "metadata": {
    "id": "NDTXgCJmjObh"
   },
   "source": [
    "5. Объедините датафреймы в единый по ключу - колонке `journey_id`"
   ]
  },
  {
   "cell_type": "markdown",
   "metadata": {
    "id": "iJyyvmgAjObh"
   },
   "source": [
    "<details>\n",
    "<summary>&#9658; Нажмите сюда, чтобы увидеть подсказку</summary>\n",
    "  <p>\n",
    "\n",
    "Используйте метод `merge`, чтобы объединить два датафрейма по колонке. Он применяется к первому из двух датафреймов и принимает как параметр второй датафрейм. Также можно указать, по какой колонке объединять и как. Например:\n",
    "\n",
    "```python\n",
    "df_new = df.merge(other_df, on='same_column', how='inner')\n",
    "```\n",
    "где\n",
    "`other_df` — другой датафрэйм\n",
    "`on` — параметр, принимающий название общей колонки в двух датафреймах, по которой нужно объединять\n",
    "`how` — параметр, принимающий тип джойна\n",
    "То есть тут мы объединили `df` с `other_df` по колонке `same_column` типом джойна `inner` (тип можно не указывать, по умолчанию определен `inner`) и результат сохранили в `df_new`.\n",
    "</p>\n",
    "</details>"
   ]
  },
  {
   "cell_type": "code",
   "execution_count": 283,
   "metadata": {
    "id": "6qCNItcAjObh"
   },
   "outputs": [],
   "source": [
    "df = passengers.merge(drivers, on='journey_id')\n"
   ]
  },
  {
   "cell_type": "markdown",
   "metadata": {
    "id": "VRsyj1oMjObh"
   },
   "source": [
    "6. Посмотрите на получившийся датафрейм, проверьте его размер"
   ]
  },
  {
   "cell_type": "markdown",
   "metadata": {
    "id": "so69czQ_jObh"
   },
   "source": [
    "<details>\n",
    "<summary>&#9658; Нажмите сюда, чтобы увидеть подсказку</summary>\n",
    "  <p>\n",
    "      \n",
    "**Как посмотреть на содержимое датафреймов?** Используйте метод `head()`\n",
    "\n",
    "**Как проверить размер датафрейма?** Используйте атрибут `shape`, чтобы узнать количество строк и столбцов. Этот атрибут возвращает кортеж, первый элемент которого указывает на количество строк, а второй — на количество столбцов в датафрейме.  \n",
    "      \n",
    "**Как обратиться к атрибуту датафрейма?** Для этого нужно написать переменную, где хранится датафрейм, поставить точку и написать название атрибута (без скобок!). Например:\n",
    "```python\n",
    "df.some_attribute\n",
    "```\n",
    "так мы обратимся к атрибуту `some_attribute` у датафрейма в переменной `df`\n",
    "      \n",
    "**Как использовать метод?** Например применим метод `some_method()` к датафрейму `df`:\n",
    "```python\n",
    "df.some_method()\n",
    "```\n",
    "</p>\n",
    "</details>"
   ]
  },
  {
   "cell_type": "code",
   "execution_count": 284,
   "metadata": {
    "id": "8kqSuAuTjObh"
   },
   "outputs": [
    {
     "data": {
      "text/plain": [
       "(11555, 19)"
      ]
     },
     "execution_count": 284,
     "metadata": {},
     "output_type": "execute_result"
    }
   ],
   "source": [
    "df.shape\n",
    "\n"
   ]
  },
  {
   "cell_type": "markdown",
   "metadata": {
    "id": "M2P3tuv_jObh"
   },
   "source": [
    "7. Посчитайте, сколько столбцов с типом `object` у вас получилось в объединенном датафрейме"
   ]
  },
  {
   "cell_type": "markdown",
   "metadata": {
    "id": "7wRI5aQrjObh"
   },
   "source": [
    "<details>\n",
    "<summary>&#9658; Нажмите сюда, чтобы увидеть подсказку</summary>\n",
    "  <p>\n",
    "Есть два способа узнать типы данных:\n",
    "      \n",
    "1) Используйте атрибут `dtypes`. Он возвращает серию, индексами которой являются названия столбцов, а значениями — тип данных в этих столбцах. Количество столбцов каждого типа нужно будет посчитать самостоятельно.  \n",
    "\n",
    "Для обращения к атрибуту датафрейма нужно написать переменную, где хранится датафрейм, поставить точку и написать название атрибута (без скобок!). Например:\n",
    "```python\n",
    "df.some_attribute\n",
    "```\n",
    "так мы обратимся к атрибуту `some_attribute` у датафрейма в переменной `df`.\n",
    "      \n",
    "2) Либо примените к датафрейму метод `info()`, который выводит подробную информацию о датафрейме и его колонках. Смотрите на предпоследнюю строчку, которая начинается с `dtypes:`, количество колонок каждого типа указаны в скобках.\n",
    "      \n",
    "Как использовать метод? Например применим метод `some_method()` к датафрейму `df`:\n",
    "```python\n",
    "df.some_method()\n",
    "```\n",
    "</p>\n",
    "</details>"
   ]
  },
  {
   "cell_type": "code",
   "execution_count": 285,
   "metadata": {
    "id": "fVHI5tm1jObh"
   },
   "outputs": [
    {
     "name": "stdout",
     "output_type": "stream",
     "text": [
      "<class 'pandas.core.frame.DataFrame'>\n",
      "Int64Index: 11555 entries, 0 to 11554\n",
      "Data columns (total 19 columns):\n",
      " #   Column            Non-Null Count  Dtype  \n",
      "---  ------            --------------  -----  \n",
      " 0   journey_id        11555 non-null  object \n",
      " 1   user_id           11555 non-null  object \n",
      " 2   start_type        11555 non-null  object \n",
      " 3   start_lat         11555 non-null  object \n",
      " 4   start_lon         11555 non-null  object \n",
      " 5   source            11500 non-null  object \n",
      " 6   driver_score      3151 non-null   float64\n",
      " 7   driver_id         8170 non-null   object \n",
      " 8   taxi_id           8170 non-null   object \n",
      " 9   icon              11555 non-null  object \n",
      " 10  start_at          11555 non-null  object \n",
      " 11  end_at            11284 non-null  object \n",
      " 12  end_lat           11555 non-null  object \n",
      " 13  end_lon           11555 non-null  object \n",
      " 14  end_state         11543 non-null  object \n",
      " 15  driver_start_lat  8164 non-null   object \n",
      " 16  driver_start_lon  8164 non-null   object \n",
      " 17  arrived_at        7380 non-null   object \n",
      " 18  rider_score       6414 non-null   float64\n",
      "dtypes: float64(2), object(17)\n",
      "memory usage: 1.8+ MB\n"
     ]
    }
   ],
   "source": [
    "df.info()\n",
    "\n"
   ]
  },
  {
   "cell_type": "markdown",
   "metadata": {
    "id": "sQhQjo_XjObj"
   },
   "source": [
    "## Шаг 3"
   ]
  },
  {
   "cell_type": "markdown",
   "metadata": {
    "id": "IRjx0fhLjObj"
   },
   "source": [
    "**Теперь первую часть данных (объединенный датафрейм) нужно соединить со второй частью из датасета `taxi_2`.** Для этого сначала прочитайте датасет `taxi_2`. После этого соедините (сконкатенируйте) первую (полученную на прошлом шаге) и вторую часть данных. **Датафрейм какого размера у вас получился?**"
   ]
  },
  {
   "cell_type": "markdown",
   "metadata": {
    "id": "qDPKonO8jObr"
   },
   "source": [
    "Шаги выполнения:\n",
    "1. Загрузите csv файл `taxi_2` в свою папку в JupyterНub\n",
    "2. Прочитайте этот датасет"
   ]
  },
  {
   "cell_type": "markdown",
   "metadata": {
    "id": "t8kBWhydjObr"
   },
   "source": [
    "<details>\n",
    "<summary>&#9658; Нажмите сюда, чтобы увидеть подсказку</summary>\n",
    "  <p>\n",
    "      \n",
    "Датасет находится в файле формата CSV. Для чтения воспользуйтесь функцией `pd.read_csv()`, передав в качестве аргумента путь к файлу. Например,\n",
    "```python\n",
    "df = pd.read_csv('data.csv')\n",
    "```\n",
    "cчитает файл `data.csv`, хранящийся в той же папке, что и юпитер ноутбук, в котором вы сейчас работаете.\n",
    "</p>\n",
    "</details>"
   ]
  },
  {
   "cell_type": "code",
   "execution_count": 286,
   "metadata": {
    "id": "bw0v0ASSjObr"
   },
   "outputs": [],
   "source": [
    "taxi_2 = pd.read_csv('taxi_2.csv')\n",
    "\n"
   ]
  },
  {
   "cell_type": "markdown",
   "metadata": {
    "id": "21yBcVupjObr"
   },
   "source": [
    "3. Посмотрите на содержимое датафрейма, проверьте размер загруженной таблицы"
   ]
  },
  {
   "cell_type": "markdown",
   "metadata": {
    "id": "Z7UzfLjHjObr"
   },
   "source": [
    "<details>\n",
    "<summary>&#9658; Нажмите сюда, чтобы увидеть подсказку</summary>\n",
    "  <p>\n",
    "      \n",
    "**Как посмотреть на содержимое датафрейма?** Используйте метод `head()`\n",
    "\n",
    "**Как проверить размер датафрейма?** Используйте атрибут `shape`, чтобы узнать количество строк и столбцов. Этот атрибут возвращает кортеж, первый элемент которого указывает на количество строк, а второй — на количество столбцов в датафрейме.  \n",
    "      \n",
    "**Как обратиться к атрибуту датафрейма?** Для этого нужно написать переменную, где хранится датафрейм, поставить точку и написать название атрибута (без скобок!). Например:\n",
    "```python\n",
    "df.some_attribute\n",
    "```\n",
    "так мы обратимся к атрибуту `some_attribute` у датафрейма в переменной `df`\n",
    "      \n",
    "**Как использовать метод?** Например применим метод `some_method()` к датафрейму `df`:\n",
    "```python\n",
    "df.some_method()\n",
    "```\n",
    "</p>\n",
    "</details>"
   ]
  },
  {
   "cell_type": "code",
   "execution_count": 287,
   "metadata": {
    "id": "uHzrMafwjObr"
   },
   "outputs": [
    {
     "data": {
      "text/plain": [
       "(11556, 19)"
      ]
     },
     "execution_count": 287,
     "metadata": {},
     "output_type": "execute_result"
    }
   ],
   "source": [
    "taxi_2.shape\n",
    "\n"
   ]
  },
  {
   "cell_type": "markdown",
   "metadata": {
    "id": "j5HF7XMHjObr"
   },
   "source": [
    "4. Соедините (сконкатенируйте) первую (полученную на прошлом шаге) и вторую часть данных. Для этого используйте функцию `concat` из библиотеки `pandas`"
   ]
  },
  {
   "cell_type": "markdown",
   "metadata": {
    "id": "7b3lJ4WMjObr"
   },
   "source": [
    "<details>\n",
    "<summary>&#9658; Нажмите сюда, чтобы увидеть подсказку</summary>\n",
    "  <p>\n",
    "      \n",
    "**Как использовать функцию `pd.concat`?** Передайте в неё список датафреймов, которые нужно соединить. Например:\n",
    "```python\n",
    "df_new = pd.concat([df_1, df_2])\n",
    "```\n",
    "соединит датафреймы `df_1` и `df_2` и сохранит результат в `df_new`\n",
    "</p>\n",
    "</details>"
   ]
  },
  {
   "cell_type": "code",
   "execution_count": 288,
   "metadata": {
    "id": "ddVcwrk9jObs"
   },
   "outputs": [],
   "source": [
    "df_new = pd.concat([df, taxi_2])\n"
   ]
  },
  {
   "cell_type": "markdown",
   "metadata": {
    "id": "QQINwGrrjObs"
   },
   "source": [
    "5. Посмотрите на содержимое соединенного датафрейма, проверьте размер получившейся таблицы"
   ]
  },
  {
   "cell_type": "markdown",
   "metadata": {
    "id": "9g0VPvVUjObs"
   },
   "source": [
    "<details>\n",
    "<summary>&#9658; Нажмите сюда, чтобы увидеть подсказку</summary>\n",
    "  <p>\n",
    "      \n",
    "**Как посмотреть на содержимое датафрейма?** Используйте метод `head()`\n",
    "\n",
    "**Как проверить размер датафрейма?** Используйте атрибут `shape`, чтобы узнать количество строк и столбцов. Этот атрибут возвращает кортеж, первый элемент которого указывает на количество строк, а второй — на количество столбцов в датафрейме.  \n",
    "      \n",
    "**Как обратиться к атрибуту датафрейма?** Для этого нужно написать переменную, где хранится датафрейм, поставить точку и написать название атрибута (без скобок!). Например:\n",
    "```python\n",
    "df.some_attribute\n",
    "```\n",
    "так мы обратимся к атрибуту `some_attribute` у датафрейма в переменной `df`\n",
    "      \n",
    "**Как использовать метод?** Например применим метод `some_method()` к датафрейму `df`:\n",
    "```python\n",
    "df.some_method()\n",
    "```\n",
    "</p>\n",
    "</details>"
   ]
  },
  {
   "cell_type": "code",
   "execution_count": 289,
   "metadata": {
    "id": "k3MpEyjgjObs"
   },
   "outputs": [
    {
     "data": {
      "text/html": [
       "<div>\n",
       "<style scoped>\n",
       "    .dataframe tbody tr th:only-of-type {\n",
       "        vertical-align: middle;\n",
       "    }\n",
       "\n",
       "    .dataframe tbody tr th {\n",
       "        vertical-align: top;\n",
       "    }\n",
       "\n",
       "    .dataframe thead th {\n",
       "        text-align: right;\n",
       "    }\n",
       "</style>\n",
       "<table border=\"1\" class=\"dataframe\">\n",
       "  <thead>\n",
       "    <tr style=\"text-align: right;\">\n",
       "      <th></th>\n",
       "      <th>journey_id</th>\n",
       "      <th>user_id</th>\n",
       "      <th>start_type</th>\n",
       "      <th>start_lat</th>\n",
       "      <th>start_lon</th>\n",
       "      <th>source</th>\n",
       "      <th>driver_score</th>\n",
       "      <th>driver_id</th>\n",
       "      <th>taxi_id</th>\n",
       "      <th>icon</th>\n",
       "      <th>start_at</th>\n",
       "      <th>end_at</th>\n",
       "      <th>end_lat</th>\n",
       "      <th>end_lon</th>\n",
       "      <th>end_state</th>\n",
       "      <th>driver_start_lat</th>\n",
       "      <th>driver_start_lon</th>\n",
       "      <th>arrived_at</th>\n",
       "      <th>rider_score</th>\n",
       "    </tr>\n",
       "  </thead>\n",
       "  <tbody>\n",
       "    <tr>\n",
       "      <th>0</th>\n",
       "      <td>23a1406fc6a11d866e3c82f22eed4d4c</td>\n",
       "      <td>0e9af5bbf1edfe591b54ecdfd7e91e26</td>\n",
       "      <td>asap</td>\n",
       "      <td>-12,13983536</td>\n",
       "      <td>-77,02355957</td>\n",
       "      <td>iPhone</td>\n",
       "      <td>5.0</td>\n",
       "      <td>583949a89a9ee17d19e3ca4f137b6b4c</td>\n",
       "      <td>b12f4f09c783e29fe0d0ea624530db56</td>\n",
       "      <td>executive</td>\n",
       "      <td>2010-11-16 16:44:00</td>\n",
       "      <td>2010-11-16 17:29:00</td>\n",
       "      <td>-12,05537033</td>\n",
       "      <td>-77,0413208</td>\n",
       "      <td>drop off</td>\n",
       "      <td>-12,10825481</td>\n",
       "      <td>-77,0272739</td>\n",
       "      <td>2010-11-16 17:02:00</td>\n",
       "      <td>5.0</td>\n",
       "    </tr>\n",
       "    <tr>\n",
       "      <th>1</th>\n",
       "      <td>dd2af4715d0dc16eded53afc0e243577</td>\n",
       "      <td>a553c46e3a22fb9c326aeb3d72b3334e</td>\n",
       "      <td>asap</td>\n",
       "      <td>-12,13874817</td>\n",
       "      <td>-76,99536133</td>\n",
       "      <td>iPhone</td>\n",
       "      <td>NaN</td>\n",
       "      <td>NaN</td>\n",
       "      <td>NaN</td>\n",
       "      <td>executive</td>\n",
       "      <td>2010-06-01 00:34:00</td>\n",
       "      <td>2010-06-01 00:37:00</td>\n",
       "      <td>-12,12465668</td>\n",
       "      <td>-77,02886963</td>\n",
       "      <td>not found</td>\n",
       "      <td>NaN</td>\n",
       "      <td>NaN</td>\n",
       "      <td>NaN</td>\n",
       "      <td>NaN</td>\n",
       "    </tr>\n",
       "    <tr>\n",
       "      <th>2</th>\n",
       "      <td>dd91e131888064bf7df3ce08f3d4b4ad</td>\n",
       "      <td>a553c46e3a22fb9c326aeb3d72b3334e</td>\n",
       "      <td>asap</td>\n",
       "      <td>-12,12453079</td>\n",
       "      <td>-77,02780151</td>\n",
       "      <td>iPhone</td>\n",
       "      <td>NaN</td>\n",
       "      <td>NaN</td>\n",
       "      <td>NaN</td>\n",
       "      <td>executive</td>\n",
       "      <td>2010-05-31 05:01:00</td>\n",
       "      <td>2010-05-31 05:04:00</td>\n",
       "      <td>-12,13883209</td>\n",
       "      <td>-76,99530029</td>\n",
       "      <td>not found</td>\n",
       "      <td>NaN</td>\n",
       "      <td>NaN</td>\n",
       "      <td>NaN</td>\n",
       "      <td>NaN</td>\n",
       "    </tr>\n",
       "    <tr>\n",
       "      <th>3</th>\n",
       "      <td>dd2af4715d0dc16eded53afc0e2466d0</td>\n",
       "      <td>a553c46e3a22fb9c326aeb3d72b3334e</td>\n",
       "      <td>asap</td>\n",
       "      <td>-12,13885117</td>\n",
       "      <td>-76,99530029</td>\n",
       "      <td>iPhone</td>\n",
       "      <td>NaN</td>\n",
       "      <td>NaN</td>\n",
       "      <td>NaN</td>\n",
       "      <td>executive</td>\n",
       "      <td>2010-06-01 00:29:00</td>\n",
       "      <td>2010-06-01 00:32:00</td>\n",
       "      <td>-12,12458801</td>\n",
       "      <td>-77,02896118</td>\n",
       "      <td>not found</td>\n",
       "      <td>NaN</td>\n",
       "      <td>NaN</td>\n",
       "      <td>NaN</td>\n",
       "      <td>NaN</td>\n",
       "    </tr>\n",
       "    <tr>\n",
       "      <th>4</th>\n",
       "      <td>85b7eabcf5d84e42dc7629b7d27781af</td>\n",
       "      <td>56772d544fdfa589a020a1ff894a86f7</td>\n",
       "      <td>reserved</td>\n",
       "      <td>-12,08995438</td>\n",
       "      <td>-76,92626953</td>\n",
       "      <td>iPhone</td>\n",
       "      <td>4.0</td>\n",
       "      <td>d665fb9f75ef5d9cd0fd89479380ba78</td>\n",
       "      <td>0accdd3aa5a322f4129fa20b53278c69</td>\n",
       "      <td>executive</td>\n",
       "      <td>2010-09-11 23:55:00</td>\n",
       "      <td>2010-09-12 01:07:00</td>\n",
       "      <td>-12,02223206</td>\n",
       "      <td>-77,10638428</td>\n",
       "      <td>drop off</td>\n",
       "      <td>-12,08311558</td>\n",
       "      <td>-76,9277072</td>\n",
       "      <td>2010-09-11 23:50:00</td>\n",
       "      <td>5.0</td>\n",
       "    </tr>\n",
       "  </tbody>\n",
       "</table>\n",
       "</div>"
      ],
      "text/plain": [
       "                         journey_id                           user_id  \\\n",
       "0  23a1406fc6a11d866e3c82f22eed4d4c  0e9af5bbf1edfe591b54ecdfd7e91e26   \n",
       "1  dd2af4715d0dc16eded53afc0e243577  a553c46e3a22fb9c326aeb3d72b3334e   \n",
       "2  dd91e131888064bf7df3ce08f3d4b4ad  a553c46e3a22fb9c326aeb3d72b3334e   \n",
       "3  dd2af4715d0dc16eded53afc0e2466d0  a553c46e3a22fb9c326aeb3d72b3334e   \n",
       "4  85b7eabcf5d84e42dc7629b7d27781af  56772d544fdfa589a020a1ff894a86f7   \n",
       "\n",
       "  start_type     start_lat     start_lon  source  driver_score  \\\n",
       "0       asap  -12,13983536  -77,02355957  iPhone           5.0   \n",
       "1       asap  -12,13874817  -76,99536133  iPhone           NaN   \n",
       "2       asap  -12,12453079  -77,02780151  iPhone           NaN   \n",
       "3       asap  -12,13885117  -76,99530029  iPhone           NaN   \n",
       "4   reserved  -12,08995438  -76,92626953  iPhone           4.0   \n",
       "\n",
       "                          driver_id                           taxi_id  \\\n",
       "0  583949a89a9ee17d19e3ca4f137b6b4c  b12f4f09c783e29fe0d0ea624530db56   \n",
       "1                               NaN                               NaN   \n",
       "2                               NaN                               NaN   \n",
       "3                               NaN                               NaN   \n",
       "4  d665fb9f75ef5d9cd0fd89479380ba78  0accdd3aa5a322f4129fa20b53278c69   \n",
       "\n",
       "        icon             start_at               end_at       end_lat  \\\n",
       "0  executive  2010-11-16 16:44:00  2010-11-16 17:29:00  -12,05537033   \n",
       "1  executive  2010-06-01 00:34:00  2010-06-01 00:37:00  -12,12465668   \n",
       "2  executive  2010-05-31 05:01:00  2010-05-31 05:04:00  -12,13883209   \n",
       "3  executive  2010-06-01 00:29:00  2010-06-01 00:32:00  -12,12458801   \n",
       "4  executive  2010-09-11 23:55:00  2010-09-12 01:07:00  -12,02223206   \n",
       "\n",
       "        end_lon  end_state driver_start_lat driver_start_lon  \\\n",
       "0   -77,0413208   drop off     -12,10825481      -77,0272739   \n",
       "1  -77,02886963  not found              NaN              NaN   \n",
       "2  -76,99530029  not found              NaN              NaN   \n",
       "3  -77,02896118  not found              NaN              NaN   \n",
       "4  -77,10638428   drop off     -12,08311558      -76,9277072   \n",
       "\n",
       "            arrived_at  rider_score  \n",
       "0  2010-11-16 17:02:00          5.0  \n",
       "1                  NaN          NaN  \n",
       "2                  NaN          NaN  \n",
       "3                  NaN          NaN  \n",
       "4  2010-09-11 23:50:00          5.0  "
      ]
     },
     "execution_count": 289,
     "metadata": {},
     "output_type": "execute_result"
    }
   ],
   "source": [
    "df_new.head()\n",
    "\n"
   ]
  },
  {
   "cell_type": "markdown",
   "metadata": {
    "id": "XtimolQ3jObt"
   },
   "source": [
    "## Шаг 4"
   ]
  },
  {
   "cell_type": "markdown",
   "metadata": {
    "id": "9JaE_z38jObt"
   },
   "source": [
    "Теперь во всех заданиях будем работать с полным датафреймом, собранным из трех частей. Прежде чем перейдем к анализу этих данных, стоит узнать, есть ли в них пропущенные значения и как много. **Проверьте, в какой колонке датафрейма больше всего пропущенных значений.** Введите её название."
   ]
  },
  {
   "cell_type": "markdown",
   "metadata": {
    "id": "VNGzhHuGjObu"
   },
   "source": [
    "Шаги выполнения:\n",
    "1. Примените к датафрейму два метода друг за другом: `isna()` и `sum()`"
   ]
  },
  {
   "cell_type": "markdown",
   "metadata": {
    "id": "EI_om4e-jObu"
   },
   "source": [
    "<details>\n",
    "<summary>&#9658; Нажмите сюда, чтобы увидеть подсказку</summary>\n",
    "  <p>\n",
    "\n",
    "**Как применить к датафрейму два метода друг за другом?** Используйте цепочку методов: напишите два метода подряд, поставив перед каждым точку. Например:\n",
    "```python\n",
    "df.some_method_1().some_method_2()\n",
    "```   \n",
    "\n",
    "Первым используйте метод `isna()`, вторым — `sum()`.\n",
    "</p>\n",
    "</details>"
   ]
  },
  {
   "cell_type": "code",
   "execution_count": 290,
   "metadata": {
    "id": "PSI4ekEjjObu"
   },
   "outputs": [
    {
     "data": {
      "text/plain": [
       "journey_id              0\n",
       "user_id                 0\n",
       "start_type              0\n",
       "start_lat               0\n",
       "start_lon               0\n",
       "source                123\n",
       "driver_score        15461\n",
       "driver_id            3385\n",
       "taxi_id              3385\n",
       "icon                    0\n",
       "start_at                0\n",
       "end_at                276\n",
       "end_lat                 0\n",
       "end_lon                 0\n",
       "end_state              12\n",
       "driver_start_lat     3490\n",
       "driver_start_lon     3490\n",
       "arrived_at           5395\n",
       "rider_score          7721\n",
       "dtype: int64"
      ]
     },
     "execution_count": 290,
     "metadata": {},
     "output_type": "execute_result"
    }
   ],
   "source": [
    "df_new.isna().sum()\n",
    "\n"
   ]
  },
  {
   "cell_type": "markdown",
   "metadata": {
    "id": "pU_aHvkOjObu"
   },
   "source": [
    "2. Определите, в какой колонке больше всего пропущенных значений"
   ]
  },
  {
   "cell_type": "markdown",
   "metadata": {
    "id": "id1nMXKVjObu"
   },
   "source": [
    "<details>\n",
    "<summary>&#9658; Нажмите сюда, чтобы увидеть подсказку</summary>\n",
    "  <p>\n",
    "\n",
    "Это можно сделать, посмотрев на значения глазами — код здесь не нужен.\n",
    "</p>\n",
    "</details>"
   ]
  },
  {
   "cell_type": "markdown",
   "metadata": {
    "id": "qUVGJkpSjObu"
   },
   "source": [
    "## Шаг 5"
   ]
  },
  {
   "cell_type": "markdown",
   "metadata": {
    "id": "UHHQUN4rjObv"
   },
   "source": [
    "Теперь перейдем к анализу данных и начнем с платформ. Посмотрите, какие платформы есть в наших данных. **В ответе укажите число уникальных названий платформ**"
   ]
  },
  {
   "cell_type": "markdown",
   "metadata": {
    "id": "ay0vqi0pjObv"
   },
   "source": [
    "Шаги выполнения:\n",
    "1. Посмотрите на уникальные названия платформ (см.колонку `source`)"
   ]
  },
  {
   "cell_type": "markdown",
   "metadata": {
    "id": "ScWvfFeBjObv"
   },
   "source": [
    "<details>\n",
    "<summary>&#9658; Нажмите сюда, чтобы увидеть подсказку</summary>\n",
    "  <p>\n",
    "\n",
    "**Используйте метод `unique()`**, применив его к столбцу `source`. Этот метод возвращает уникальные значения в колонке.\n",
    "\n",
    "**Как использовать метод?** Например, применим метод `some_method()` к колонке `column_name` датафрейма `df`:\n",
    "```python\n",
    "df.column_name.some_method()\n",
    "```\n",
    "</p>\n",
    "</details>"
   ]
  },
  {
   "cell_type": "code",
   "execution_count": 291,
   "metadata": {
    "id": "ACuTLsDsjObv"
   },
   "outputs": [
    {
     "data": {
      "text/plain": [
       "array(['iPhone', 'Android', 'web', 'iPad', nan, 'Wap'], dtype=object)"
      ]
     },
     "execution_count": 291,
     "metadata": {},
     "output_type": "execute_result"
    }
   ],
   "source": [
    "df_new.source.unique()\n",
    "\n"
   ]
  },
  {
   "cell_type": "markdown",
   "metadata": {
    "id": "lYfuJsNFjObv"
   },
   "source": [
    "2. Посчитайте число уникальных названий платформ"
   ]
  },
  {
   "cell_type": "markdown",
   "metadata": {
    "id": "OL7VP50gjObv"
   },
   "source": [
    "<details>\n",
    "<summary>&#9658; Нажмите сюда, чтобы увидеть подсказку</summary>\n",
    "  <p>\n",
    "\n",
    "**Используйте метод `nunique()`**, применив его к столбцу `source`. Этот метод возвращает число уникальных значений в колонке (пропущенные значения не считаются)\n",
    "\n",
    "**Как использовать метод?** Например применим метод `some_method()` к колонке `column_name` датафрейма `df`:\n",
    "```python\n",
    "df.column_name.some_method()\n",
    "```\n",
    "</p>\n",
    "</details>"
   ]
  },
  {
   "cell_type": "code",
   "execution_count": 292,
   "metadata": {
    "id": "UzttDv7ZjObv"
   },
   "outputs": [
    {
     "data": {
      "text/plain": [
       "5"
      ]
     },
     "execution_count": 292,
     "metadata": {},
     "output_type": "execute_result"
    }
   ],
   "source": [
    "df_new.source.nunique()\n",
    "\n"
   ]
  },
  {
   "cell_type": "markdown",
   "metadata": {
    "id": "Y7mrCgQIjObw"
   },
   "source": [
    "## Шаг 6"
   ]
  },
  {
   "cell_type": "markdown",
   "metadata": {
    "id": "4589vsiBjObw"
   },
   "source": [
    "Перейдем к анализу этих платформ. **Определите долю заказов, сделанных с той или иной платформы.** У какой платформы эта доля самая большая? **В ответе укажите значение наибольшей доли заказов в %, округлённое до целого.**"
   ]
  },
  {
   "cell_type": "markdown",
   "metadata": {
    "id": "LdVEHhM6jObw"
   },
   "source": [
    "Шаги выполнения:  \n",
    "1. Определите долю заказов, сделанных с той или иной платформы (см.колонку `source`), т.е. посчитайте отношение количества заказов с конкретной платформы ко всему количеству заказов"
   ]
  },
  {
   "cell_type": "markdown",
   "metadata": {
    "id": "IZKe-DNTjObw"
   },
   "source": [
    "<details>\n",
    "<summary>&#9658; Нажмите сюда, чтобы увидеть подсказку</summary>\n",
    "  <p>\n",
    "\n",
    "**Используйте метод `value_counts()`**, применив его к столбцу `source`. Этот метод возвращает серию, где индексы — это уникальные значения из столбца, а значения — это число их встречаний (количество строк с таким значением).\n",
    "      \n",
    "**Как получить долю, а не число встречаний?** Обратите внимание на параметр `normalize` метода `value_counts`.\n",
    "\n",
    "**Как использовать метод?** Например применим метод `some_method()` к колонке `column_name` датафрейма `df`, задав параметр `parametr`:\n",
    "```python\n",
    "df.column_name.some_method(parametr = False)\n",
    "```\n",
    "</p>\n",
    "</details>"
   ]
  },
  {
   "cell_type": "code",
   "execution_count": 293,
   "metadata": {
    "id": "dV6CAOEnjObw"
   },
   "outputs": [
    {
     "data": {
      "text/plain": [
       "source\n",
       "iPhone     0.423743\n",
       "web        0.331956\n",
       "Android    0.213546\n",
       "iPad       0.024839\n",
       "Wap        0.005916\n",
       "dtype: float64"
      ]
     },
     "execution_count": 293,
     "metadata": {},
     "output_type": "execute_result"
    }
   ],
   "source": [
    "df_new.value_counts('source', normalize=True)\n"
   ]
  },
  {
   "cell_type": "markdown",
   "metadata": {
    "id": "yTiN38bFjObw"
   },
   "source": [
    "2. Чтобы получить значения в %, умножьте получившуюся серию на 100"
   ]
  },
  {
   "cell_type": "markdown",
   "metadata": {
    "id": "pPKrc3_8jObw"
   },
   "source": [
    "<details>\n",
    "<summary>&#9658; Нажмите сюда, чтобы увидеть подсказку</summary>\n",
    "  <p>\n",
    "\n",
    "**Как умножить значение в серии?** Арифметические операции с пандасовскими сериями делаются очень просто - прямо как с числами. Например, этот код:\n",
    "```python\n",
    "series * 5\n",
    "```\n",
    "умножит все значения из серии `series` на 5\n",
    "</p>\n",
    "</details>"
   ]
  },
  {
   "cell_type": "code",
   "execution_count": 294,
   "metadata": {
    "id": "aOWVJB_FjObx"
   },
   "outputs": [],
   "source": [
    "percent_source = df_new.value_counts('source', normalize=True) * 100\n",
    "\n"
   ]
  },
  {
   "cell_type": "markdown",
   "metadata": {
    "id": "B-7FJ_9JjObx"
   },
   "source": [
    "3. Округлите получившиеся значения до целого числа"
   ]
  },
  {
   "cell_type": "markdown",
   "metadata": {
    "id": "MhzA04yQjObx"
   },
   "source": [
    "<details>\n",
    "<summary>&#9658; Нажмите сюда, чтобы увидеть подсказку</summary>\n",
    "  <p>\n",
    "\n",
    "Используйте метод `round()`, который округляет значения. По умолчанию округление идет до целого числа. Чтобы задать нужное число знаков после точки, передайте в метод аргумент - целое число. Например применим метод к серии `series`, задав округление до 5 знаков после точки:\n",
    "```python\n",
    "series.round(5)\n",
    "```\n",
    "\n",
    "Если хотите выполнять умножение и округление в одной строчке, то не забудьте взять произведение в скобки и после них применять `round()`.\n",
    "</p>\n",
    "</details>"
   ]
  },
  {
   "cell_type": "code",
   "execution_count": 295,
   "metadata": {
    "id": "PdQMx2PWjObx"
   },
   "outputs": [
    {
     "data": {
      "text/plain": [
       "source\n",
       "iPhone     42.0\n",
       "web        33.0\n",
       "Android    21.0\n",
       "iPad        2.0\n",
       "Wap         1.0\n",
       "dtype: float64"
      ]
     },
     "execution_count": 295,
     "metadata": {},
     "output_type": "execute_result"
    }
   ],
   "source": [
    "percent_source.round()\n",
    "\n"
   ]
  },
  {
   "cell_type": "markdown",
   "metadata": {
    "id": "hUJ0Dc48jObx"
   },
   "source": [
    "4. Посмотрите, с какой платформы было сделано больше всего заказов, и какова её доля в % (в ответе знак % указывать не нужно)"
   ]
  },
  {
   "cell_type": "markdown",
   "metadata": {
    "id": "RlppiWoAjObx"
   },
   "source": [
    "<details>\n",
    "<summary>&#9658; Нажмите сюда, чтобы увидеть подсказку</summary>\n",
    "  <p>\n",
    "\n",
    "Это можно сделать просто глазами. По умолчанию метод `value_counts()` сортирует значения по убыванию. Соответственно, вам нужна самая первая строка.\n",
    "</p>\n",
    "</details>"
   ]
  },
  {
   "cell_type": "markdown",
   "metadata": {
    "id": "gWgA8CBKjObx"
   },
   "source": [
    "## Шаг 7"
   ]
  },
  {
   "cell_type": "markdown",
   "metadata": {
    "id": "IcChz-KEjOby"
   },
   "source": [
    "Чтобы различие в количестве заказов с той или иной платформы было нагляднее, построим график. **Агрегируйте данные и постройте барчарт, где по оси `x` будет расположено название платформы (`source`), а по оси `y` – количество заказов (абсолютные значения, не доля).**\n",
    "\n",
    "Выберите, какой график у вас получился?\n",
    "\n",
    "*Если на графике не видны значения на осях, используйте светлую тему в JupyterHub или посмотрите графики на LMS*"
   ]
  },
  {
   "cell_type": "markdown",
   "metadata": {},
   "source": [
    "![](https://storage.yandexcloud.net/klms-public/production/learning-content/65/801/6468/19025/78899/%D0%B7%D0%B0%D0%B4%D0%B0%D0%BD%D0%B8%D0%B5_3_10.png)"
   ]
  },
  {
   "cell_type": "markdown",
   "metadata": {
    "id": "PTlS0jDdjOby"
   },
   "source": [
    "Шаги выполнения:  \n",
    "1. Посчитайте количество заказов, сделанных с той или иной платформы (см.колонку `source`)"
   ]
  },
  {
   "cell_type": "markdown",
   "metadata": {
    "id": "2UGdT6qJjOby"
   },
   "source": [
    "<details>\n",
    "<summary>&#9658; Нажмите сюда, чтобы увидеть подсказку</summary>\n",
    "  <p>\n",
    "\n",
    "**Используйте метод `value_counts()`**, применив его к столбцу `source`. Этот метод возвращает серию, где индексы — это уникальные значения из столбца, а значения — это число их встречаний (количество строк с таким значением).\n",
    "\n",
    "**Как использовать метод?** Например применим метод `some_method()` к колонке `column_name` датафрейма `df`:\n",
    "```python\n",
    "df.column_name.some_method()\n",
    "```\n",
    "</p>\n",
    "</details>"
   ]
  },
  {
   "cell_type": "code",
   "execution_count": 296,
   "metadata": {
    "id": "_r2Yfg_kjOby"
   },
   "outputs": [
    {
     "data": {
      "text/plain": [
       "source\n",
       "iPhone     9741\n",
       "web        7631\n",
       "Android    4909\n",
       "iPad        571\n",
       "Wap         136\n",
       "dtype: int64"
      ]
     },
     "execution_count": 296,
     "metadata": {},
     "output_type": "execute_result"
    }
   ],
   "source": [
    "df_new.value_counts('source')\n"
   ]
  },
  {
   "cell_type": "markdown",
   "metadata": {
    "id": "aT9h9pEGjOby"
   },
   "source": [
    "2. Чтобы перевести индекс в колонку, выполните сброс индекса"
   ]
  },
  {
   "cell_type": "markdown",
   "metadata": {
    "id": "ZeXnrYapjOby"
   },
   "source": [
    "<details>\n",
    "<summary>&#9658; Нажмите сюда, чтобы увидеть подсказку</summary>\n",
    "  <p>\n",
    "\n",
    "**Чтобы сбросить индекс, используйте метод `reset_index()`**, применив его к результату агрегации на прошлом шаге выполнения. Индексом станет дефолтная последовательность чисел от 0 до числа строк — 1. А те строки, которые раньше были в индексе, станут колонкой датафрейма. В данном случае она будет называться `index`.\n",
    "\n",
    "**Как использовать метод?** Например применим метод `some_method()` к датафрейму `df`:\n",
    "```python\n",
    "df.some_method()\n",
    "```\n",
    "</p>\n",
    "</details>"
   ]
  },
  {
   "cell_type": "code",
   "execution_count": 297,
   "metadata": {
    "id": "G6A2cUWwjOby"
   },
   "outputs": [],
   "source": [
    "df1 = df_new.value_counts('source').reset_index()"
   ]
  },
  {
   "cell_type": "markdown",
   "metadata": {
    "id": "U_u941KOjOby"
   },
   "source": [
    "3. Переименуйте колонки, чтобы они назывались в соответствии с теми данными, которые в них содержатся: названия платформ и количество заказов"
   ]
  },
  {
   "cell_type": "markdown",
   "metadata": {
    "id": "BmobDUObjOby"
   },
   "source": [
    "<details>\n",
    "<summary>&#9658; Нажмите сюда, чтобы увидеть подсказку</summary>\n",
    "  <p>\n",
    "\n",
    "Для переименования колонок, передайте в метод `rename()` в параметр `columns` словарь, где ключами являются старые названия колонок, а значениями - новые названия. Например:\n",
    "\n",
    "```python\n",
    "df = df.rename(columns=dictionary_name)\n",
    "```\n",
    "      \n",
    "Если выполняете задание не в JupyterHub нашего курса, то переименование может и не понадобиться.      \n",
    "</p>\n",
    "</details>"
   ]
  },
  {
   "cell_type": "code",
   "execution_count": 298,
   "metadata": {
    "id": "N7YQTfWjjOby"
   },
   "outputs": [],
   "source": [
    "df1 = df1.rename(columns={0 : 'count_orders'})\n"
   ]
  },
  {
   "cell_type": "markdown",
   "metadata": {
    "id": "LzWd99mPjObz"
   },
   "source": [
    "4. Импортируйте библиотеку `seaborn`"
   ]
  },
  {
   "cell_type": "markdown",
   "metadata": {
    "id": "rQLEN8gjjObz"
   },
   "source": [
    "<details>\n",
    "<summary>&#9658; Нажмите сюда, чтобы увидеть подсказку</summary>\n",
    "  <p>\n",
    "      \n",
    "Для импорта библиотеки напишите\n",
    "```python\n",
    "import library as shortcut\n",
    "```\n",
    "где вместо `library` подставьте название библиотеки, а вместо `shortcut` — её общераспространённое сокращённое название.\n",
    "</p>\n",
    "</details>"
   ]
  },
  {
   "cell_type": "code",
   "execution_count": 299,
   "metadata": {
    "id": "hzTVB_VCjObz"
   },
   "outputs": [],
   "source": [
    "import seaborn as sns\n",
    "\n"
   ]
  },
  {
   "cell_type": "markdown",
   "metadata": {
    "id": "Djig5rDUjObz"
   },
   "source": [
    "5. Постройте барплот с помощью функции `barplot` из библиотеки `seaborn` так, что по оси `x` будет расположено название платформы (`source`), а по оси `y` – количество заказов"
   ]
  },
  {
   "cell_type": "markdown",
   "metadata": {
    "id": "TxfRWknZjObz"
   },
   "source": [
    "<details>\n",
    "<summary>&#9658; Нажмите сюда, чтобы увидеть подсказку</summary>\n",
    "  <p>\n",
    "\n",
    "Передайте в функцию `sns.barplot()` следующие параметры:  \n",
    "      `data` — название датафрейма, в котором посчитано количество заказов для каждой платформы  \n",
    "      `x` — название колонки с платформами в этом датафрейме  \n",
    "      `y` — название колонки с количеством заказов в этом датафрейме\n",
    "      \n",
    "Например:      \n",
    "```python\n",
    "sns.barplot(data=df, x='col_1', y='col_2')\n",
    "```\n",
    "нарисует график на основе данных из датафрейма `df` так, что по оси х будут идти значения из `col_1`, а по оси y — соответствующие им значения из `col_2`.\n",
    "</p>\n",
    "</details>"
   ]
  },
  {
   "cell_type": "code",
   "execution_count": 300,
   "metadata": {
    "id": "GgYr9BxBjObz"
   },
   "outputs": [
    {
     "data": {
      "image/png": "[encoded data removed]",
      "text/plain": [
       "<Figure size 432x288 with 1 Axes>"
      ]
     },
     "metadata": {
      "needs_background": "light"
     },
     "output_type": "display_data"
    }
   ],
   "source": [
    "graph = sns.barplot(data=df1, x='source', y='count_orders')\n"
   ]
  },
  {
   "cell_type": "markdown",
   "metadata": {
    "id": "MAra7UBzjObz"
   },
   "source": [
    "6. Импортируйте модуль `pyplot` из библиотеки `matplotlib`"
   ]
  },
  {
   "cell_type": "markdown",
   "metadata": {
    "id": "Uc_AhDf5jObz"
   },
   "source": [
    "<details>\n",
    "<summary>&#9658; Нажмите сюда, чтобы увидеть подсказку</summary>\n",
    "  <p>Для импорта модуля из библиотеки напишите\n",
    "\n",
    "```python\n",
    "import library.module as shortcut\n",
    "```\n",
    "\n",
    "где вместо `library` подставьте название библиотеки, вместо `module` — название модуля, а вместо `shortcut` — его общераспространённое сокращённое название\n",
    "</p>\n",
    "</details>"
   ]
  },
  {
   "cell_type": "code",
   "execution_count": 301,
   "metadata": {
    "id": "U5Ba2K7UjObz"
   },
   "outputs": [],
   "source": [
    "import matplotlib.pyplot as plt\n",
    "\n"
   ]
  },
  {
   "cell_type": "markdown",
   "metadata": {
    "id": "S4EozvarjOb0"
   },
   "source": [
    "7. Чтобы привести график к нужному виду, добавьте подписи к осям и уберите часть рамки"
   ]
  },
  {
   "cell_type": "markdown",
   "metadata": {
    "id": "x2_TokNljOb0"
   },
   "source": [
    "<details>\n",
    "<summary>&#9658; Нажмите сюда, чтобы увидеть подсказку</summary>\n",
    "  <p>\n",
    "      \n",
    "**Как добавить подписи к осям?** Используйте функции `xlabel()` и `ylabel()` из модуля `pyplot` для того, чтобы задать названия оси `x` и `y` соответственно. Например, подпишем ось `х` как `the X-axis`:\n",
    "```python\n",
    "plt.xlabel('the X-axis')\n",
    "```   \n",
    "  \n",
    "**Как убрать часть рамки?** Используйте функцию `despine()` из библиотеки `seaborn`, параметры задавать не нужно.\n",
    "      \n",
    "**Как использовать функцию из библиотеки `seaborn`?** Пример синтаксиса для функции `some_function`:\n",
    "```python\n",
    "sns.some_function()\n",
    "```  \n",
    "      \n",
    "**Все эти функции пишите в той же ячейке, где запускаете функцию визуализации, ниже неё.**\n",
    "</p>\n",
    "</details>"
   ]
  },
  {
   "cell_type": "code",
   "execution_count": 302,
   "metadata": {
    "id": "kZjoJ2wNjOb0"
   },
   "outputs": [
    {
     "data": {
      "image/png": "[encoded data removed]",
      "text/plain": [
       "<Figure size 432x288 with 1 Axes>"
      ]
     },
     "metadata": {
      "needs_background": "light"
     },
     "output_type": "display_data"
    }
   ],
   "source": [
    "graph = sns.barplot(data=df1, x='source', y='count_orders')\n",
    "sns.despine()\n"
   ]
  },
  {
   "cell_type": "markdown",
   "metadata": {
    "id": "70KHSJBGjOb1"
   },
   "source": [
    "## Шаг 8"
   ]
  },
  {
   "cell_type": "markdown",
   "metadata": {
    "id": "dka-TcOEjOb1"
   },
   "source": [
    "Более детально проанализируем распределение заказов по платформам. **С помощью функции `sns.countplot` и параметра `hue` визуализируйте распределение переменной `end_state` (итоговое состояние заказа) в разбивке по платформам (см.колонку `source`).**"
   ]
  },
  {
   "cell_type": "markdown",
   "metadata": {
    "id": "26Fd_2kYjOb1"
   },
   "source": [
    "**Выберите одно или несколько верных утверждений:**  \n",
    "- Больше всего заказов со статусом drop off совершено с платформы iPhone  \n",
    "- На Android количество отмененных поездок (rider cancel) меньше, чем на iPhone  \n",
    "- На web отмененных поездок (rider cancel) меньше, чем на Android  \n",
    "- Наибольшая разница между количеством drop off и rider cancel наблюдается для платформы iPhone  \n",
    "- Наибольшая разница между количеством drop off и rider cancel наблюдается для платформы Android"
   ]
  },
  {
   "cell_type": "markdown",
   "metadata": {
    "id": "Gi3pr28ajOb1"
   },
   "source": [
    "Шаги выполнения:  \n",
    "1. На основе неагрегированного датафрейма постройте график с помощью функции sns.countplot: по оси `x` расположите платформу, в качестве цвета столбца (параметр `hue`) используйте состояние заказа, а по оси `y` будет количество заказов"
   ]
  },
  {
   "cell_type": "markdown",
   "metadata": {
    "id": "LGSDyCxzjOb1"
   },
   "source": [
    "<details>\n",
    "<summary>&#9658; Нажмите сюда, чтобы увидеть подсказку</summary>\n",
    "  <p>\n",
    "\n",
    "Передайте в функцию `sns.countplot()` следующие параметры:  \n",
    "      `data` — название датафрейма  \n",
    "      `x` — название колонки с платформами  \n",
    "      `hue` — название колонки с состоянием заказа\n",
    "      \n",
    "Например:      \n",
    "```python\n",
    "sns.countplot(data = df, x = 'col_1', hue = 'col_2')\n",
    "```\n",
    "нарисует график на основе данных из датафрейма `df`, где по оси х будут идти значения из колонки `col_1`, а цвета столбцов определяться значениями в колонке `col_2`.\n",
    "      \n",
    "**Функция сама посчитает, сколько заказов того или иного состояния приходится на каждую платформу. Агрегировать данные не нужно**.\n",
    "</p>\n",
    "</details>"
   ]
  },
  {
   "cell_type": "code",
   "execution_count": 303,
   "metadata": {
    "id": "8HJAABEAjOb1"
   },
   "outputs": [
    {
     "data": {
      "text/plain": [
       "<matplotlib.axes._subplots.AxesSubplot at 0x7fa3aaeecf98>"
      ]
     },
     "execution_count": 303,
     "metadata": {},
     "output_type": "execute_result"
    },
    {
     "data": {
      "image/png": "[encoded data removed]",
      "text/plain": [
       "<Figure size 432x288 with 1 Axes>"
      ]
     },
     "metadata": {
      "needs_background": "light"
     },
     "output_type": "display_data"
    }
   ],
   "source": [
    "sns.countplot(data=df_new, x = 'source', hue = 'end_state')\n",
    "\n"
   ]
  },
  {
   "cell_type": "markdown",
   "metadata": {
    "id": "UJqSEk3kjOb1"
   },
   "source": [
    "2. Чтобы можно было прочитать график, увеличьте его размер"
   ]
  },
  {
   "cell_type": "markdown",
   "metadata": {
    "id": "hlg8M2JjjOb1"
   },
   "source": [
    "<details>\n",
    "<summary>&#9658; Нажмите сюда, чтобы увидеть подсказку</summary>\n",
    "  <p>\n",
    "\n",
    "Используйте функцию `figure` с параметром `figsize` из модуля `pyplot`. В параметр передайте кортеж с масштабом графика формата (ширина, высота). Расположите функцию в начале той ячейки, в которой строите график. Например:\n",
    "```python\n",
    "plt.figure(figsize=(16,9))      \n",
    "sns.countplot(data = df, x = 'col_1', hue = 'col_2')\n",
    "```      \n",
    "задаст размер графика как 16 дюймов в ширину и 9 дюймов в высоту.\n",
    "</p>\n",
    "</details>"
   ]
  },
  {
   "cell_type": "code",
   "execution_count": 304,
   "metadata": {
    "id": "WEQkMgX3jOb4"
   },
   "outputs": [
    {
     "data": {
      "text/plain": [
       "<matplotlib.axes._subplots.AxesSubplot at 0x7fa3aadc84e0>"
      ]
     },
     "execution_count": 304,
     "metadata": {},
     "output_type": "execute_result"
    },
    {
     "data": {
      "image/png": "[encoded data removed]",
      "text/plain": [
       "<Figure size 1152x648 with 1 Axes>"
      ]
     },
     "metadata": {
      "needs_background": "light"
     },
     "output_type": "display_data"
    }
   ],
   "source": [
    "plt.figure(figsize=(16,9))\n",
    "sns.countplot(data=df_new, x = 'source', hue = 'end_state')\n",
    "\n"
   ]
  },
  {
   "cell_type": "markdown",
   "metadata": {
    "id": "ZvZzafOajOb4"
   },
   "source": [
    "3. Посмотрите на график и выберите верные утверждения"
   ]
  },
  {
   "cell_type": "markdown",
   "metadata": {
    "id": "pmXbm1-BjOb4"
   },
   "source": [
    "<details>\n",
    "<summary>&#9658; Нажмите сюда, чтобы увидеть подсказку</summary>\n",
    "  <p>\n",
    "\n",
    "Обратите внимание на легенду графика, в ней указано, какой цвет столбца к какому состоянию заказа относится.\n",
    "</p>\n",
    "</details>"
   ]
  },
  {
   "cell_type": "markdown",
   "metadata": {
    "id": "tjOEcuROjOb4"
   },
   "source": [
    "## Шаг 9"
   ]
  },
  {
   "cell_type": "markdown",
   "metadata": {
    "id": "BNH4PE85jOb4"
   },
   "source": [
    "С платформами разобрались. Теперь давайте перейдем к анализу оценок, которые ставят пассажиры водителям и водители пассажирам.\n",
    "\n",
    "**Проверьте, как распределены оценки водителей (см.колонку `driver_score`)**. Для подготовки данных выполните следующие шаги:\n",
    "\n",
    "1. Посчитайте *частоту* встречаемости каждой из оценок  \n",
    "2. Переведите в проценты\n",
    "3. Округлите до 2 знаков после точки  \n",
    "4. Сбросьте индекс  \n",
    "5. Переименуйте колонки в `driver_score` и `percentage`  \n",
    "6. Отсортируйте датафрейм по колонке `driver_score` в порядке возрастания    \n",
    "7. Запишите результат в переменную `driver_score_counts`\n",
    "\n",
    "Может пригодиться:  \n",
    "[mul()](https://pandas.pydata.org/pandas-docs/stable/reference/api/pandas.Series.mul.html) – умножение, более удобный вариант для использования в цепочке методов\n",
    "\n",
    "**На LMS датафрейм сохранен в переменную `taxi`. Загрузите в LMS ваш код, в котором выполняете все эти шаги**"
   ]
  },
  {
   "cell_type": "markdown",
   "metadata": {
    "id": "v5ymzok8jOb5"
   },
   "source": [
    "Шаги выполнения:  \n",
    "1. Посчитайте частоту встречаемости каждой из оценок"
   ]
  },
  {
   "cell_type": "markdown",
   "metadata": {
    "id": "278wxUHXjOb5"
   },
   "source": [
    "<details>\n",
    "<summary>&#9658; Нажмите сюда, чтобы увидеть подсказку</summary>\n",
    "  <p>\n",
    "\n",
    "**Используйте метод `value_counts()`**, применив его к столбцу `driver_score`. Этот метод возвращает серию, где индексы — это уникальные значения из столбца, а значения — это число их встречаний (количество строк с таким значением).\n",
    "      \n",
    "**Как получить частоту встречаемости, а не число встречаний?** Обратите внимание на параметр `normalize` метода `value_counts`.\n",
    "\n",
    "**Как использовать метод?** Например применим метод `some_method()` к колонке `column_name` датафрейма `df`, задав параметр `parametr`:\n",
    "```python\n",
    "df.column_name.some_method(parametr = False)\n",
    "```\n",
    "</p>\n",
    "</details>"
   ]
  },
  {
   "cell_type": "code",
   "execution_count": 305,
   "metadata": {
    "id": "vZbKZ1v7jOb5"
   },
   "outputs": [],
   "source": [
    "taxi = df_new\n"
   ]
  },
  {
   "cell_type": "code",
   "execution_count": 306,
   "metadata": {},
   "outputs": [
    {
     "data": {
      "text/plain": [
       "driver_score\n",
       "5.0    0.588105\n",
       "4.0    0.218824\n",
       "0.0    0.143007\n",
       "3.0    0.029673\n",
       "1.0    0.012288\n",
       "2.0    0.008105\n",
       "dtype: float64"
      ]
     },
     "execution_count": 306,
     "metadata": {},
     "output_type": "execute_result"
    }
   ],
   "source": [
    "taxi.value_counts('driver_score', normalize=True)"
   ]
  },
  {
   "cell_type": "markdown",
   "metadata": {
    "id": "8QS80aDLjOb5"
   },
   "source": [
    "2. Переведите в проценты, умножив частоту встречаемости на 100"
   ]
  },
  {
   "cell_type": "markdown",
   "metadata": {
    "id": "YygrTP2CjOb5"
   },
   "source": [
    "<details>\n",
    "<summary>&#9658; Нажмите сюда, чтобы увидеть подсказку</summary>\n",
    "  <p>\n",
    "\n",
    "**Используйте метод `mul()`**. Он умножает значения в серии на то число, которое подано в метод в качестве параметра. Например применим его к серии `series`, умножив значения в ней на 5:\n",
    "```python\n",
    "series.mul(5)\n",
    "```\n",
    "</p>\n",
    "</details>"
   ]
  },
  {
   "cell_type": "code",
   "execution_count": 307,
   "metadata": {
    "id": "l_4JdP8njOb5"
   },
   "outputs": [
    {
     "data": {
      "text/plain": [
       "driver_score\n",
       "5.0    58.810458\n",
       "4.0    21.882353\n",
       "0.0    14.300654\n",
       "3.0     2.967320\n",
       "1.0     1.228758\n",
       "2.0     0.810458\n",
       "dtype: float64"
      ]
     },
     "execution_count": 307,
     "metadata": {},
     "output_type": "execute_result"
    }
   ],
   "source": [
    "taxi.value_counts('driver_score', normalize=True).mul(100)\n"
   ]
  },
  {
   "cell_type": "markdown",
   "metadata": {
    "id": "6KEa6hMwjOb5"
   },
   "source": [
    "3. Округлите до двух знаков после точки"
   ]
  },
  {
   "cell_type": "markdown",
   "metadata": {
    "id": "eI6FU7SHjOb5"
   },
   "source": [
    "<details>\n",
    "<summary>&#9658; Нажмите сюда, чтобы увидеть подсказку</summary>\n",
    "  <p>\n",
    "\n",
    "Используйте метод `round()`, который округляет значения. По умолчанию округление идет до целого числа. Чтобы задать нужное число знаков после точки, передайте в метод аргумент — целое число. Например, применим метод к серии `series`, задав округление до пяти знаков после точки:\n",
    "```python\n",
    "series.round(5)\n",
    "```\n",
    "\n",
    "</p>\n",
    "</details>"
   ]
  },
  {
   "cell_type": "code",
   "execution_count": 308,
   "metadata": {
    "id": "B9DypTaDjOb5"
   },
   "outputs": [
    {
     "data": {
      "text/plain": [
       "driver_score\n",
       "5.0    58.81\n",
       "4.0    21.88\n",
       "0.0    14.30\n",
       "3.0     2.97\n",
       "1.0     1.23\n",
       "2.0     0.81\n",
       "dtype: float64"
      ]
     },
     "execution_count": 308,
     "metadata": {},
     "output_type": "execute_result"
    }
   ],
   "source": [
    "taxi.value_counts('driver_score', normalize=True).mul(100).round(2)\n",
    "\n"
   ]
  },
  {
   "cell_type": "markdown",
   "metadata": {
    "id": "SkxTT5iejOb5"
   },
   "source": [
    "4. Сбросьте индекс"
   ]
  },
  {
   "cell_type": "markdown",
   "metadata": {
    "id": "qyUGIyePjOb6"
   },
   "source": [
    "<details>\n",
    "<summary>&#9658; Нажмите сюда, чтобы увидеть подсказку</summary>\n",
    "  <p>\n",
    "\n",
    "**Чтобы сбросить индекс, используйте метод `reset_index()`**. Индексом станет дефолтная последовательность чисел от 0 до числа строк - 1. А те строки, которые раньше были в индексе, станут колонкой датафрейма. В данном случае она будет называться `index`.\n",
    "\n",
    "**Как использовать метод?** Например применим метод `some_method()` к серии `series`:\n",
    "```python\n",
    "series.some_method()\n",
    "```\n",
    "</p>\n",
    "</details>"
   ]
  },
  {
   "cell_type": "code",
   "execution_count": 309,
   "metadata": {
    "id": "9CPfD-ixjOb6"
   },
   "outputs": [
    {
     "data": {
      "text/html": [
       "<div>\n",
       "<style scoped>\n",
       "    .dataframe tbody tr th:only-of-type {\n",
       "        vertical-align: middle;\n",
       "    }\n",
       "\n",
       "    .dataframe tbody tr th {\n",
       "        vertical-align: top;\n",
       "    }\n",
       "\n",
       "    .dataframe thead th {\n",
       "        text-align: right;\n",
       "    }\n",
       "</style>\n",
       "<table border=\"1\" class=\"dataframe\">\n",
       "  <thead>\n",
       "    <tr style=\"text-align: right;\">\n",
       "      <th></th>\n",
       "      <th>driver_score</th>\n",
       "      <th>0</th>\n",
       "    </tr>\n",
       "  </thead>\n",
       "  <tbody>\n",
       "    <tr>\n",
       "      <th>0</th>\n",
       "      <td>5.0</td>\n",
       "      <td>58.81</td>\n",
       "    </tr>\n",
       "    <tr>\n",
       "      <th>1</th>\n",
       "      <td>4.0</td>\n",
       "      <td>21.88</td>\n",
       "    </tr>\n",
       "    <tr>\n",
       "      <th>2</th>\n",
       "      <td>0.0</td>\n",
       "      <td>14.30</td>\n",
       "    </tr>\n",
       "    <tr>\n",
       "      <th>3</th>\n",
       "      <td>3.0</td>\n",
       "      <td>2.97</td>\n",
       "    </tr>\n",
       "    <tr>\n",
       "      <th>4</th>\n",
       "      <td>1.0</td>\n",
       "      <td>1.23</td>\n",
       "    </tr>\n",
       "    <tr>\n",
       "      <th>5</th>\n",
       "      <td>2.0</td>\n",
       "      <td>0.81</td>\n",
       "    </tr>\n",
       "  </tbody>\n",
       "</table>\n",
       "</div>"
      ],
      "text/plain": [
       "   driver_score      0\n",
       "0           5.0  58.81\n",
       "1           4.0  21.88\n",
       "2           0.0  14.30\n",
       "3           3.0   2.97\n",
       "4           1.0   1.23\n",
       "5           2.0   0.81"
      ]
     },
     "execution_count": 309,
     "metadata": {},
     "output_type": "execute_result"
    }
   ],
   "source": [
    "taxi.value_counts('driver_score', normalize=True).mul(100).round(2).reset_index()\n",
    "\n"
   ]
  },
  {
   "cell_type": "markdown",
   "metadata": {
    "id": "EwKmY6_UjOb6"
   },
   "source": [
    "5. Переименуйте колонки в `driver_score` и `percentage`"
   ]
  },
  {
   "cell_type": "markdown",
   "metadata": {
    "id": "45115grMjOb6"
   },
   "source": [
    "<details>\n",
    "<summary>&#9658; Нажмите сюда, чтобы увидеть подсказку</summary>\n",
    "  <p>\n",
    "\n",
    "Для переименования колонок, передайте в метод `rename()` в параметр `columns` словарь, где ключами являются старые названия колонок, а значениями — новые названия. Например:\n",
    "\n",
    "```python\n",
    "df = df.rename(columns=dictionary_name)\n",
    "```\n",
    "      \n",
    "Задайте новые названия так, чтобы в колонке `driver_score` оказались оценки, поставленные водителям (от 0 до 5), а в колонке `percentage` — процент встречаемости этой оценки.\n",
    "</p>\n",
    "</details>"
   ]
  },
  {
   "cell_type": "code",
   "execution_count": 310,
   "metadata": {
    "id": "V1sr31a0jOb6"
   },
   "outputs": [
    {
     "data": {
      "text/html": [
       "<div>\n",
       "<style scoped>\n",
       "    .dataframe tbody tr th:only-of-type {\n",
       "        vertical-align: middle;\n",
       "    }\n",
       "\n",
       "    .dataframe tbody tr th {\n",
       "        vertical-align: top;\n",
       "    }\n",
       "\n",
       "    .dataframe thead th {\n",
       "        text-align: right;\n",
       "    }\n",
       "</style>\n",
       "<table border=\"1\" class=\"dataframe\">\n",
       "  <thead>\n",
       "    <tr style=\"text-align: right;\">\n",
       "      <th></th>\n",
       "      <th>driver_score</th>\n",
       "      <th>percentage</th>\n",
       "    </tr>\n",
       "  </thead>\n",
       "  <tbody>\n",
       "    <tr>\n",
       "      <th>0</th>\n",
       "      <td>5.0</td>\n",
       "      <td>58.81</td>\n",
       "    </tr>\n",
       "    <tr>\n",
       "      <th>1</th>\n",
       "      <td>4.0</td>\n",
       "      <td>21.88</td>\n",
       "    </tr>\n",
       "    <tr>\n",
       "      <th>2</th>\n",
       "      <td>0.0</td>\n",
       "      <td>14.30</td>\n",
       "    </tr>\n",
       "    <tr>\n",
       "      <th>3</th>\n",
       "      <td>3.0</td>\n",
       "      <td>2.97</td>\n",
       "    </tr>\n",
       "    <tr>\n",
       "      <th>4</th>\n",
       "      <td>1.0</td>\n",
       "      <td>1.23</td>\n",
       "    </tr>\n",
       "    <tr>\n",
       "      <th>5</th>\n",
       "      <td>2.0</td>\n",
       "      <td>0.81</td>\n",
       "    </tr>\n",
       "  </tbody>\n",
       "</table>\n",
       "</div>"
      ],
      "text/plain": [
       "   driver_score  percentage\n",
       "0           5.0       58.81\n",
       "1           4.0       21.88\n",
       "2           0.0       14.30\n",
       "3           3.0        2.97\n",
       "4           1.0        1.23\n",
       "5           2.0        0.81"
      ]
     },
     "execution_count": 310,
     "metadata": {},
     "output_type": "execute_result"
    }
   ],
   "source": [
    "taxi.value_counts('driver_score', normalize=True).mul(100).round(2).reset_index().rename(columns={0 : 'percentage'})\n",
    "\n"
   ]
  },
  {
   "cell_type": "markdown",
   "metadata": {
    "id": "XO1FyqwCjOb6"
   },
   "source": [
    "6. Отсортируйте датафрейм по колонке `driver_score` в порядке возрастания (от 0 до 5)  "
   ]
  },
  {
   "cell_type": "markdown",
   "metadata": {
    "id": "UhMAAxDAjOb6"
   },
   "source": [
    "<details>\n",
    "<summary>&#9658; Нажмите сюда, чтобы увидеть подсказку</summary>\n",
    "  <p>\n",
    "\n",
    "Используйте метод `sort_values()`. Он сортирует строки по значениям в какой-то колонке. Например,\n",
    "\n",
    "```python\n",
    "df.sort_values('col_1', ascending=True)\n",
    "```\n",
    "\n",
    "отсортирует данные датафрейма `df` по значениям в колонке `col_1`. Параметр `ascending` отвечает за сортировку по возрастанию (True - по возрастанию, False - по убыванию)    \n",
    "\n",
    "</p>\n",
    "</details>"
   ]
  },
  {
   "cell_type": "code",
   "execution_count": 311,
   "metadata": {
    "id": "Rq7PIIHUjOb6"
   },
   "outputs": [
    {
     "data": {
      "text/html": [
       "<div>\n",
       "<style scoped>\n",
       "    .dataframe tbody tr th:only-of-type {\n",
       "        vertical-align: middle;\n",
       "    }\n",
       "\n",
       "    .dataframe tbody tr th {\n",
       "        vertical-align: top;\n",
       "    }\n",
       "\n",
       "    .dataframe thead th {\n",
       "        text-align: right;\n",
       "    }\n",
       "</style>\n",
       "<table border=\"1\" class=\"dataframe\">\n",
       "  <thead>\n",
       "    <tr style=\"text-align: right;\">\n",
       "      <th></th>\n",
       "      <th>driver_score</th>\n",
       "      <th>percentage</th>\n",
       "    </tr>\n",
       "  </thead>\n",
       "  <tbody>\n",
       "    <tr>\n",
       "      <th>2</th>\n",
       "      <td>0.0</td>\n",
       "      <td>14.30</td>\n",
       "    </tr>\n",
       "    <tr>\n",
       "      <th>4</th>\n",
       "      <td>1.0</td>\n",
       "      <td>1.23</td>\n",
       "    </tr>\n",
       "    <tr>\n",
       "      <th>5</th>\n",
       "      <td>2.0</td>\n",
       "      <td>0.81</td>\n",
       "    </tr>\n",
       "    <tr>\n",
       "      <th>3</th>\n",
       "      <td>3.0</td>\n",
       "      <td>2.97</td>\n",
       "    </tr>\n",
       "    <tr>\n",
       "      <th>1</th>\n",
       "      <td>4.0</td>\n",
       "      <td>21.88</td>\n",
       "    </tr>\n",
       "    <tr>\n",
       "      <th>0</th>\n",
       "      <td>5.0</td>\n",
       "      <td>58.81</td>\n",
       "    </tr>\n",
       "  </tbody>\n",
       "</table>\n",
       "</div>"
      ],
      "text/plain": [
       "   driver_score  percentage\n",
       "2           0.0       14.30\n",
       "4           1.0        1.23\n",
       "5           2.0        0.81\n",
       "3           3.0        2.97\n",
       "1           4.0       21.88\n",
       "0           5.0       58.81"
      ]
     },
     "execution_count": 311,
     "metadata": {},
     "output_type": "execute_result"
    }
   ],
   "source": [
    "taxi.value_counts('driver_score', normalize=True).mul(100).round(2).reset_index().rename(columns={0 : 'percentage'}).sort_values('driver_score', ascending=True)\n"
   ]
  },
  {
   "cell_type": "markdown",
   "metadata": {
    "id": "fimVk8zMjOb6"
   },
   "source": [
    "7. Запишите результат в переменную `driver_score_counts`"
   ]
  },
  {
   "cell_type": "markdown",
   "metadata": {
    "id": "eKcDykUmjOb6"
   },
   "source": [
    "<details>\n",
    "<summary>&#9658; Нажмите сюда, чтобы увидеть подсказку</summary>\n",
    "  <p>\n",
    "\n",
    "Чтобы сохранить результат применения методов в переменную, напишите её название, поставьте знак = и слева от него напишите тот код, результат которого вы хотите сохранить. Например,\n",
    "\n",
    "```python\n",
    "df_new = df.some_method()\n",
    "```\n",
    "сохранит результат применения метода `some_method()` к датафрейму `df` в новый датафрейм `df_new`:   \n",
    "\n",
    "</p>\n",
    "</details>"
   ]
  },
  {
   "cell_type": "code",
   "execution_count": 312,
   "metadata": {
    "id": "TRLZexMQjOb6"
   },
   "outputs": [],
   "source": [
    "driver_score_counts = taxi.value_counts('driver_score', normalize=True) \\\n",
    "    .mul(100) \\\n",
    "    .round(2) \\\n",
    "    .reset_index() \\\n",
    "    .rename(columns={0 : 'percentage'}) \\\n",
    "    .sort_values('driver_score', ascending=True)\n",
    "\n",
    "\n"
   ]
  },
  {
   "cell_type": "markdown",
   "metadata": {},
   "source": [
    "8. Скопируйте и загрузите в LMS Ваш код со всех предыдущих шагов выполнения"
   ]
  },
  {
   "cell_type": "markdown",
   "metadata": {},
   "source": [
    "<details>\n",
    "<summary>&#9658; Нажмите сюда, чтобы увидеть подсказку</summary>\n",
    "  <p>\n",
    "\n",
    "Если выполняли задание не в JupyterHub нашего курса, то LMS может не принять решение: в разных версиях библиотек колонки, получившиеся в результате применения `value_counts()`, могут иметь разные названия, а значит переименование колонок может не пройти. **В LMS колонку с названием `driver_score` нужно переименовать в `percentage`, а колонку `index` - в `driver_score`**\n",
    "\n",
    "</p>\n",
    "</details>"
   ]
  },
  {
   "cell_type": "markdown",
   "metadata": {
    "id": "qLQnTmMejOb7"
   },
   "source": [
    "## Шаг 10"
   ]
  },
  {
   "cell_type": "markdown",
   "metadata": {
    "id": "4CJbJNVwjOb7"
   },
   "source": [
    "**Используем получившийся на прошлом шаге датафрейм `driver_score_counts`, чтобы построить круговую диаграмму (pie chart, пайчарт) и посмотреть на долю каждой оценки.** Чтобы получился график, как на скрине ниже, сделайте следующее:\n",
    "\n",
    "1. Отсортируйте датафрейм по убыванию процентов каждой оценки,  \n",
    "2. Используйте [функцию `pie`](https://matplotlib.org/stable/api/_as_gen/matplotlib.pyplot.pie.html) из модуля `pyplot` библиотеки `matplotlib`  \n",
    "3. Задайте угол начала графика равным 90 (см.параметр `startangle`)\n",
    "4. Поверните подписи к секторам (см.параметр `rotatelabels`)\n",
    "5. Установите размер графика как (8,8)\n",
    "\n",
    "**Выберите наиболее похожий график на тот, что получился у вас.**\n",
    "\n",
    "*Если на графике не видны значения на осях, используйте светлую тему в JupyterHub или посмотрите графики на LMS*"
   ]
  },
  {
   "cell_type": "markdown",
   "metadata": {
    "id": "o5nn3EgpjOb7"
   },
   "source": [
    "A\n",
    "![A](https://storage.yandexcloud.net/klms-public/production/learning-content/457/4167/37258/103292/490869/A.png)"
   ]
  },
  {
   "cell_type": "markdown",
   "metadata": {
    "id": "wnrB0hijjOb7"
   },
   "source": [
    "B\n",
    "![B](https://storage.yandexcloud.net/klms-public/production/learning-content/457/4167/37258/103292/490869/B.png)"
   ]
  },
  {
   "cell_type": "markdown",
   "metadata": {
    "id": "rq9wZd-LjOb8"
   },
   "source": [
    "C\n",
    "![C](https://storage.yandexcloud.net/klms-public/production/learning-content/457/4167/37258/103292/490869/C.png)"
   ]
  },
  {
   "cell_type": "markdown",
   "metadata": {
    "id": "xGz78oOYjOb8"
   },
   "source": [
    "D\n",
    "![D](https://storage.yandexcloud.net/klms-public/production/learning-content/457/4167/37258/103292/490869/D.png)"
   ]
  },
  {
   "cell_type": "markdown",
   "metadata": {
    "id": "6ukzn-ctjOb8"
   },
   "source": [
    "*На будущее учтите, что круговая диаграмма может быть неудобна из-за того, что определить точные значения по ней сложно и нужно сравнивать между собой площади секторов. Подробнее об этом поговорим в модуле по визуализации*."
   ]
  },
  {
   "cell_type": "markdown",
   "metadata": {
    "id": "DZQU2Kq8jOb8"
   },
   "source": [
    "Шаги выполнения:  \n",
    "1. Отсортируйте датафрейм `driver_score_counts` по убыванию процентов каждой оценки (см.колонку `percentage`)"
   ]
  },
  {
   "cell_type": "markdown",
   "metadata": {
    "id": "HeYzsRwrjOb8"
   },
   "source": [
    "<details>\n",
    "<summary>&#9658; Нажмите сюда, чтобы увидеть подсказку</summary>\n",
    "  <p>\n",
    "\n",
    "Используйте метод `sort_values()`. Он сортирует строки по значениям в какой-то колонке. Например,\n",
    "\n",
    "```python\n",
    "df.sort_values('col_1', ascending=True, inplace = True)\n",
    "```\n",
    "\n",
    "отсортирует данные датафрейма `df` по значениям в колонке `col_1`. Параметр `ascending` отвечает за сортировку по возрастанию (True — по возрастанию, False — по убыванию), а параметр `inplace` — за перезапись исходного датафрейма (True — отсортированный датафрейм будет перезаписан в ту же переменную, False — не будет).\n",
    "\n",
    "</p>\n",
    "</details>"
   ]
  },
  {
   "cell_type": "code",
   "execution_count": 313,
   "metadata": {
    "id": "s3zgGOzxjOb8"
   },
   "outputs": [],
   "source": [
    "driver_score_counts.sort_values('percentage', ascending=False, inplace = True)\n"
   ]
  },
  {
   "cell_type": "markdown",
   "metadata": {
    "id": "lqSpiqtkjOb8"
   },
   "source": [
    "2. Используйте [функцию `pie`](https://matplotlib.org/stable/api/_as_gen/matplotlib.pyplot.pie.html) из модуля `pyplot` библиотеки `matplotlib`, передав в неё колонку с процентами встречаемости каждой из оценок"
   ]
  },
  {
   "cell_type": "markdown",
   "metadata": {
    "id": "EVn8fbt7jOb8"
   },
   "source": [
    "<details>\n",
    "<summary>&#9658; Нажмите сюда, чтобы увидеть подсказку</summary>\n",
    "  <p>\n",
    "\n",
    "Передайте в функцию `plt.pie()` колонку с процентами встречаемости каждой из оценок (см.колонку `percentage` из датафрейма `driver_score_counts`)\n",
    "      \n",
    "Например:      \n",
    "```python\n",
    "plt.pie(df.col_1)\n",
    "```\n",
    "нарисует график на основе данных из колонки `col_1` датафрейма `df`\n",
    "</p>\n",
    "</details>"
   ]
  },
  {
   "cell_type": "code",
   "execution_count": 314,
   "metadata": {
    "id": "S4J3hJ4rjOb8"
   },
   "outputs": [
    {
     "data": {
      "text/plain": [
       "([<matplotlib.patches.Wedge at 0x7fa3aa7a99b0>,\n",
       "  <matplotlib.patches.Wedge at 0x7fa3aa7a9f60>,\n",
       "  <matplotlib.patches.Wedge at 0x7fa3aa7364a8>,\n",
       "  <matplotlib.patches.Wedge at 0x7fa3aa7369b0>,\n",
       "  <matplotlib.patches.Wedge at 0x7fa3aa736eb8>,\n",
       "  <matplotlib.patches.Wedge at 0x7fa3aa742400>],\n",
       " [Text(-0.30057942258147896, 1.058136102172393, ''),\n",
       "  Text(-0.35630951468787586, -1.0406937732795805, ''),\n",
       "  Text(0.7942547674874689, -0.7610252061025489, ''),\n",
       "  Text(1.0731300767343483, -0.2416440324281394, ''),\n",
       "  Text(1.0955937757013197, -0.09835791094023225, ''),\n",
       "  Text(1.0996438562418722, -0.02798909483182026, '')])"
      ]
     },
     "execution_count": 314,
     "metadata": {},
     "output_type": "execute_result"
    },
    {
     "data": {
      "image/png": "[encoded data removed]",
      "text/plain": [
       "<Figure size 432x288 with 1 Axes>"
      ]
     },
     "metadata": {},
     "output_type": "display_data"
    }
   ],
   "source": [
    "plt.pie(driver_score_counts.percentage)\n",
    "\n"
   ]
  },
  {
   "cell_type": "code",
   "execution_count": 315,
   "metadata": {},
   "outputs": [
    {
     "data": {
      "text/html": [
       "<div>\n",
       "<style scoped>\n",
       "    .dataframe tbody tr th:only-of-type {\n",
       "        vertical-align: middle;\n",
       "    }\n",
       "\n",
       "    .dataframe tbody tr th {\n",
       "        vertical-align: top;\n",
       "    }\n",
       "\n",
       "    .dataframe thead th {\n",
       "        text-align: right;\n",
       "    }\n",
       "</style>\n",
       "<table border=\"1\" class=\"dataframe\">\n",
       "  <thead>\n",
       "    <tr style=\"text-align: right;\">\n",
       "      <th></th>\n",
       "      <th>driver_score</th>\n",
       "      <th>percentage</th>\n",
       "    </tr>\n",
       "  </thead>\n",
       "  <tbody>\n",
       "    <tr>\n",
       "      <th>0</th>\n",
       "      <td>5.0</td>\n",
       "      <td>58.81</td>\n",
       "    </tr>\n",
       "    <tr>\n",
       "      <th>1</th>\n",
       "      <td>4.0</td>\n",
       "      <td>21.88</td>\n",
       "    </tr>\n",
       "    <tr>\n",
       "      <th>2</th>\n",
       "      <td>0.0</td>\n",
       "      <td>14.30</td>\n",
       "    </tr>\n",
       "    <tr>\n",
       "      <th>3</th>\n",
       "      <td>3.0</td>\n",
       "      <td>2.97</td>\n",
       "    </tr>\n",
       "    <tr>\n",
       "      <th>4</th>\n",
       "      <td>1.0</td>\n",
       "      <td>1.23</td>\n",
       "    </tr>\n",
       "    <tr>\n",
       "      <th>5</th>\n",
       "      <td>2.0</td>\n",
       "      <td>0.81</td>\n",
       "    </tr>\n",
       "  </tbody>\n",
       "</table>\n",
       "</div>"
      ],
      "text/plain": [
       "   driver_score  percentage\n",
       "0           5.0       58.81\n",
       "1           4.0       21.88\n",
       "2           0.0       14.30\n",
       "3           3.0        2.97\n",
       "4           1.0        1.23\n",
       "5           2.0        0.81"
      ]
     },
     "execution_count": 315,
     "metadata": {},
     "output_type": "execute_result"
    }
   ],
   "source": [
    "driver_score_counts"
   ]
  },
  {
   "cell_type": "markdown",
   "metadata": {
    "id": "ToMXuaWAjOb8"
   },
   "source": [
    "3. Добавьте в функцию параметры: `startangle` равным 90 (отвечает за угол начала графика), `rotatelabels` равным True (поворачивает подписи к секторам), а в параметр `labels` передайте колонку с оценками датафрейма `driver_score_counts` (отвечает за подписи к секторам)"
   ]
  },
  {
   "cell_type": "markdown",
   "metadata": {
    "id": "fh3uUXCajOb9"
   },
   "source": [
    "<details>\n",
    "<summary>&#9658; Нажмите сюда, чтобы увидеть подсказку</summary>\n",
    "  <p>\n",
    "\n",
    "**Передайте в функцию `plt.pie()` три параметра:** `startangle` равным 90, `rotatelabels` равным True, а в параметр `labels` передайте колонку с оценками (`driver_score`) датафрейма `driver_score_counts`\n",
    "      \n",
    "Например:      \n",
    "```python\n",
    "plt.pie(df.col_1, some_parameter = 5)\n",
    "```\n",
    "нарисует график на основе данных из колонки `col_1` датафрейма `df` с параметром `some_parameter` равным 5\n",
    "</p>\n",
    "</details>"
   ]
  },
  {
   "cell_type": "code",
   "execution_count": 316,
   "metadata": {
    "id": "5hbXGWwAjOb9"
   },
   "outputs": [
    {
     "data": {
      "text/plain": [
       "([<matplotlib.patches.Wedge at 0x7fa3aa6f9ac8>,\n",
       "  <matplotlib.patches.Wedge at 0x7fa3aa708128>,\n",
       "  <matplotlib.patches.Wedge at 0x7fa3aa7086a0>,\n",
       "  <matplotlib.patches.Wedge at 0x7fa3aa708c18>,\n",
       "  <matplotlib.patches.Wedge at 0x7fa3aa7131d0>,\n",
       "  <matplotlib.patches.Wedge at 0x7fa3aa713748>],\n",
       " [Text(-1.058136102172393, -0.30057942258147885, '5.0'),\n",
       "  Text(1.0406937732795805, -0.3563095146878759, '4.0'),\n",
       "  Text(0.7610252061025489, 0.7942547674874688, '0.0'),\n",
       "  Text(0.24164403242813945, 1.0731300767343483, '3.0'),\n",
       "  Text(0.09835791094023233, 1.0955937757013197, '1.0'),\n",
       "  Text(0.02798909483182033, 1.0996438562418722, '2.0')])"
      ]
     },
     "execution_count": 316,
     "metadata": {},
     "output_type": "execute_result"
    },
    {
     "data": {
      "image/png": "[encoded data removed]",
      "text/plain": [
       "<Figure size 432x288 with 1 Axes>"
      ]
     },
     "metadata": {},
     "output_type": "display_data"
    }
   ],
   "source": [
    "plt.pie(driver_score_counts.percentage, startangle=90, rotatelabels=True, labels=driver_score_counts.driver_score)\n",
    "\n"
   ]
  },
  {
   "cell_type": "markdown",
   "metadata": {
    "id": "UkGsbnjvjOb9"
   },
   "source": [
    "4. Установите размер графика как (8,8), задав параметр `figsize` в функции `figure` из модуля `pyplot`"
   ]
  },
  {
   "cell_type": "markdown",
   "metadata": {
    "id": "Rm9MvTZdjOb9"
   },
   "source": [
    "<details>\n",
    "<summary>&#9658; Нажмите сюда, чтобы увидеть подсказку</summary>\n",
    "  <p>\n",
    "\n",
    "Используйте функцию `figure` с параметром `figsize` из модуля `pyplot`. В параметр передайте кортеж с масштабом графика формата (ширина, высота). Расположите функцию в начале той ячейки, в которой строите график. Например:\n",
    "```python\n",
    "plt.figure(figsize=(16,9))      \n",
    "plt.bar()\n",
    "```      \n",
    "задаст размер графика как 16 дюймов в ширину и 9 дюймов в высоту\n",
    "</p>\n",
    "</details>"
   ]
  },
  {
   "cell_type": "code",
   "execution_count": 317,
   "metadata": {
    "id": "yvmLgLAxjOb9"
   },
   "outputs": [
    {
     "data": {
      "text/plain": [
       "<Figure size 576x576 with 0 Axes>"
      ]
     },
     "execution_count": 317,
     "metadata": {},
     "output_type": "execute_result"
    },
    {
     "data": {
      "image/png": "[encoded data removed]",
      "text/plain": [
       "<Figure size 432x288 with 1 Axes>"
      ]
     },
     "metadata": {},
     "output_type": "display_data"
    },
    {
     "data": {
      "text/plain": [
       "<Figure size 576x576 with 0 Axes>"
      ]
     },
     "metadata": {},
     "output_type": "display_data"
    }
   ],
   "source": [
    "plt.pie(driver_score_counts.percentage, startangle=90, rotatelabels=True, labels=driver_score_counts.driver_score)\n",
    "plt.figure(figsize=(8,8))\n",
    "\n"
   ]
  },
  {
   "cell_type": "markdown",
   "metadata": {
    "id": "19hM9Q1PjOb9"
   },
   "source": [
    "5. Выберите наиболее похожий график на тот, что получился у вас"
   ]
  },
  {
   "cell_type": "markdown",
   "metadata": {
    "id": "5Y40hyQRjOb9"
   },
   "source": [
    "<details>\n",
    "<summary>&#9658; Нажмите сюда, чтобы увидеть подсказку</summary>\n",
    "  <p>\n",
    "    \n",
    "Проверьте, что строите график на основе колонки с процентами встречаемости каждой из оценок и что вы добавили все нужные параметры\n",
    "</details>"
   ]
  },
  {
   "cell_type": "markdown",
   "metadata": {
    "id": "3PmA1cUHjOb-"
   },
   "source": [
    "## Шаг 11"
   ]
  },
  {
   "cell_type": "markdown",
   "metadata": {
    "id": "vMR1naK9jOb-"
   },
   "source": [
    "Сейчас повторите процесс из шага 9 и проанализируйте оценки водителями пассажиров (см.колонку `rider_score`). **Сравните распределение этих оценок с распределением оценок водителей.**\n",
    "\n",
    "**Выберите одно или несколько верных утверждений:**  \n",
    "- Более 20% оценок составляют 4  \n",
    "- Более чем в 80% случаев водители поставили клиентам 5 звездочек  \n",
    "- Водители ставят меньше оценок 0, чем клиенты  \n",
    "- Водители ставят больше оценок 0, чем клиенты"
   ]
  },
  {
   "cell_type": "markdown",
   "metadata": {
    "id": "Pa0L8UpyjOb-"
   },
   "source": [
    "Шаги выполнения:  \n",
    "1. Сделайте все 7 шагов выполнения из задания с шага 9, но для оценок пассажиров (вместо колонки `driver_score` будет колонка `rider_score`): посчитайте *частоту* встречаемости каждой из оценок, переведите в проценты, округлите до 2 знаков после точки, сбросьте индекс, переименуйте колонки в `rider_score` и `percentage`, отсортируйте датафрейм по колонке `rider_score` в порядке возрастания, запишите результат в переменную `rider_score_counts`"
   ]
  },
  {
   "cell_type": "markdown",
   "metadata": {
    "id": "Sc03JApEjOb-"
   },
   "source": [
    "<details>\n",
    "<summary>&#9658; Нажмите сюда, чтобы увидеть подсказку</summary>\n",
    "  <p>\n",
    "\n",
    "Воспользуйтесь подсказками, данными к заданию в шаге 9. Помните, что вместо колонки `driver_score` вам нужна колонка `rider_score`.\n",
    "      \n",
    "</p>\n",
    "</details>"
   ]
  },
  {
   "cell_type": "code",
   "execution_count": 318,
   "metadata": {
    "id": "HXi9JdGwjOb-"
   },
   "outputs": [],
   "source": [
    "rider_score_counts = taxi.value_counts('rider_score', normalize=True) \\\n",
    "    .mul(100) \\\n",
    "    .round(2) \\\n",
    "    .reset_index() \\\n",
    "    .rename(columns={0 : 'percentage'}) \\\n",
    "    .sort_values('rider_score', ascending=True)\n"
   ]
  },
  {
   "cell_type": "code",
   "execution_count": 319,
   "metadata": {},
   "outputs": [
    {
     "data": {
      "text/html": [
       "<div>\n",
       "<style scoped>\n",
       "    .dataframe tbody tr th:only-of-type {\n",
       "        vertical-align: middle;\n",
       "    }\n",
       "\n",
       "    .dataframe tbody tr th {\n",
       "        vertical-align: top;\n",
       "    }\n",
       "\n",
       "    .dataframe thead th {\n",
       "        text-align: right;\n",
       "    }\n",
       "</style>\n",
       "<table border=\"1\" class=\"dataframe\">\n",
       "  <thead>\n",
       "    <tr style=\"text-align: right;\">\n",
       "      <th></th>\n",
       "      <th>rider_score</th>\n",
       "      <th>percentage</th>\n",
       "    </tr>\n",
       "  </thead>\n",
       "  <tbody>\n",
       "    <tr>\n",
       "      <th>2</th>\n",
       "      <td>0.0</td>\n",
       "      <td>2.29</td>\n",
       "    </tr>\n",
       "    <tr>\n",
       "      <th>4</th>\n",
       "      <td>1.0</td>\n",
       "      <td>0.21</td>\n",
       "    </tr>\n",
       "    <tr>\n",
       "      <th>5</th>\n",
       "      <td>2.0</td>\n",
       "      <td>0.19</td>\n",
       "    </tr>\n",
       "    <tr>\n",
       "      <th>3</th>\n",
       "      <td>3.0</td>\n",
       "      <td>1.38</td>\n",
       "    </tr>\n",
       "    <tr>\n",
       "      <th>1</th>\n",
       "      <td>4.0</td>\n",
       "      <td>8.83</td>\n",
       "    </tr>\n",
       "    <tr>\n",
       "      <th>0</th>\n",
       "      <td>5.0</td>\n",
       "      <td>87.10</td>\n",
       "    </tr>\n",
       "  </tbody>\n",
       "</table>\n",
       "</div>"
      ],
      "text/plain": [
       "   rider_score  percentage\n",
       "2          0.0        2.29\n",
       "4          1.0        0.21\n",
       "5          2.0        0.19\n",
       "3          3.0        1.38\n",
       "1          4.0        8.83\n",
       "0          5.0       87.10"
      ]
     },
     "execution_count": 319,
     "metadata": {},
     "output_type": "execute_result"
    }
   ],
   "source": [
    "rider_score_counts"
   ]
  },
  {
   "cell_type": "markdown",
   "metadata": {
    "id": "qjE5Nb4LjOb-"
   },
   "source": [
    "2. Если хотите, постройте график распределения оценок пассажиров (действуйте по аналогии с заданием из шага 10 или попробуйте улучшить тот график)"
   ]
  },
  {
   "cell_type": "markdown",
   "metadata": {
    "id": "6DE85vRXjOb_"
   },
   "source": [
    "<details>\n",
    "<summary>&#9658; Нажмите сюда, чтобы увидеть подсказку</summary>\n",
    "  <p>\n",
    "\n",
    "Код построения графика будет аналогичный тому, что у вас получился в задании шага 10. Помните, что вместо колонки `driver_score` вам нужна колонка `rider_score`\n",
    "      \n",
    "</p>\n",
    "</details>"
   ]
  },
  {
   "cell_type": "code",
   "execution_count": 320,
   "metadata": {
    "id": "DTwdVS1WjOb_"
   },
   "outputs": [
    {
     "data": {
      "text/plain": [
       "<Figure size 576x576 with 0 Axes>"
      ]
     },
     "execution_count": 320,
     "metadata": {},
     "output_type": "execute_result"
    },
    {
     "data": {
      "image/png": "[encoded data removed]",
      "text/plain": [
       "<Figure size 432x288 with 1 Axes>"
      ]
     },
     "metadata": {},
     "output_type": "display_data"
    },
    {
     "data": {
      "text/plain": [
       "<Figure size 576x576 with 0 Axes>"
      ]
     },
     "metadata": {},
     "output_type": "display_data"
    }
   ],
   "source": [
    "plt.pie(rider_score_counts.percentage, startangle=90, rotatelabels=True, labels=rider_score_counts.rider_score)\n",
    "plt.figure(figsize=(8,8))\n",
    "\n"
   ]
  },
  {
   "cell_type": "markdown",
   "metadata": {
    "id": "QUMrhrOdjOb_"
   },
   "source": [
    "3. Посмотрите на оба датафрейма (распределения оценок пассажиров и водителей) и выберите верные утверждения"
   ]
  },
  {
   "cell_type": "markdown",
   "metadata": {
    "id": "WbzjeBPijOb_"
   },
   "source": [
    "<details>\n",
    "<summary>&#9658; Нажмите сюда, чтобы увидеть подсказку</summary>\n",
    "  <p>\n",
    "\n",
    "Помните, что на этом шаге строили датафрейм с оценками, которые дают водители пассажирам, а в шаге 9 - датафрейм с оценками, которые дают пассажиры водителям\n",
    "      \n",
    "</p>\n",
    "</details>"
   ]
  },
  {
   "cell_type": "markdown",
   "metadata": {
    "id": "LXhrWnpvjOcA"
   },
   "source": [
    "## Шаг 12"
   ]
  },
  {
   "cell_type": "markdown",
   "metadata": {
    "id": "DNSVH2SqjOcA"
   },
   "source": [
    "Теперь перейдем к анализу временнЫх данных. Но перед этим приведите столбцы `start_at`, `end_at`, `arrived_at` к формату даты и времени, используя [pd.to_datetime](https://pandas.pydata.org/pandas-docs/stable/reference/api/pandas.to_datetime.html). Отфильтруйте данные и оставьте наблюдения со статусами заказа \"asap\" и \"reserved\" (см.колонку `start_type`). Результат сохраните в тот же датафрейм `taxi`  \n",
    "\n",
    "**На LMS датафрейм сохранен в переменную `taxi`. Загрузите в LMS Ваш код, в котором приводите столбцы к формату datetime и оставляете в датафрейме `taxi` только наблюдения со статусами заказа «asap» и «reserved»**"
   ]
  },
  {
   "cell_type": "markdown",
   "metadata": {
    "id": "YLuEUWVljOcA"
   },
   "source": [
    "Шаги выполнения:  \n",
    "1. Прежде чем переводить столбцы к формату datetime, посмотрите на содержащиеся в них данные. Это необходимо, чтобы после смены типа данных вы могли убедиться, что всё получилось правильно    "
   ]
  },
  {
   "cell_type": "markdown",
   "metadata": {
    "id": "-GyDRVQyjOcA"
   },
   "source": [
    "<details>\n",
    "<summary>&#9658; Нажмите сюда, чтобы увидеть подсказку</summary>\n",
    "  <p>\n",
    "      \n",
    "**Как посмотреть на содержимое колонок?** Используйте метод `head()`\n",
    "      \n",
    "**Как использовать метод?** Например применим метод `some_method()` к колонкам `col_1` и `col_2` датафрейма `df`:\n",
    "```python\n",
    "df[['col_1', 'col_2']].some_method()\n",
    "```\n",
    "</p>\n",
    "</details>"
   ]
  },
  {
   "cell_type": "code",
   "execution_count": 321,
   "metadata": {
    "id": "CZNEKrQmjOcA"
   },
   "outputs": [
    {
     "data": {
      "text/html": [
       "<div>\n",
       "<style scoped>\n",
       "    .dataframe tbody tr th:only-of-type {\n",
       "        vertical-align: middle;\n",
       "    }\n",
       "\n",
       "    .dataframe tbody tr th {\n",
       "        vertical-align: top;\n",
       "    }\n",
       "\n",
       "    .dataframe thead th {\n",
       "        text-align: right;\n",
       "    }\n",
       "</style>\n",
       "<table border=\"1\" class=\"dataframe\">\n",
       "  <thead>\n",
       "    <tr style=\"text-align: right;\">\n",
       "      <th></th>\n",
       "      <th>journey_id</th>\n",
       "      <th>user_id</th>\n",
       "      <th>start_type</th>\n",
       "      <th>start_lat</th>\n",
       "      <th>start_lon</th>\n",
       "      <th>source</th>\n",
       "      <th>driver_score</th>\n",
       "      <th>driver_id</th>\n",
       "      <th>taxi_id</th>\n",
       "      <th>icon</th>\n",
       "      <th>start_at</th>\n",
       "      <th>end_at</th>\n",
       "      <th>end_lat</th>\n",
       "      <th>end_lon</th>\n",
       "      <th>end_state</th>\n",
       "      <th>driver_start_lat</th>\n",
       "      <th>driver_start_lon</th>\n",
       "      <th>arrived_at</th>\n",
       "      <th>rider_score</th>\n",
       "    </tr>\n",
       "  </thead>\n",
       "  <tbody>\n",
       "    <tr>\n",
       "      <th>0</th>\n",
       "      <td>23a1406fc6a11d866e3c82f22eed4d4c</td>\n",
       "      <td>0e9af5bbf1edfe591b54ecdfd7e91e26</td>\n",
       "      <td>asap</td>\n",
       "      <td>-12,13983536</td>\n",
       "      <td>-77,02355957</td>\n",
       "      <td>iPhone</td>\n",
       "      <td>5.0</td>\n",
       "      <td>583949a89a9ee17d19e3ca4f137b6b4c</td>\n",
       "      <td>b12f4f09c783e29fe0d0ea624530db56</td>\n",
       "      <td>executive</td>\n",
       "      <td>2010-11-16 16:44:00</td>\n",
       "      <td>2010-11-16 17:29:00</td>\n",
       "      <td>-12,05537033</td>\n",
       "      <td>-77,0413208</td>\n",
       "      <td>drop off</td>\n",
       "      <td>-12,10825481</td>\n",
       "      <td>-77,0272739</td>\n",
       "      <td>2010-11-16 17:02:00</td>\n",
       "      <td>5.0</td>\n",
       "    </tr>\n",
       "    <tr>\n",
       "      <th>1</th>\n",
       "      <td>dd2af4715d0dc16eded53afc0e243577</td>\n",
       "      <td>a553c46e3a22fb9c326aeb3d72b3334e</td>\n",
       "      <td>asap</td>\n",
       "      <td>-12,13874817</td>\n",
       "      <td>-76,99536133</td>\n",
       "      <td>iPhone</td>\n",
       "      <td>NaN</td>\n",
       "      <td>NaN</td>\n",
       "      <td>NaN</td>\n",
       "      <td>executive</td>\n",
       "      <td>2010-06-01 00:34:00</td>\n",
       "      <td>2010-06-01 00:37:00</td>\n",
       "      <td>-12,12465668</td>\n",
       "      <td>-77,02886963</td>\n",
       "      <td>not found</td>\n",
       "      <td>NaN</td>\n",
       "      <td>NaN</td>\n",
       "      <td>NaN</td>\n",
       "      <td>NaN</td>\n",
       "    </tr>\n",
       "    <tr>\n",
       "      <th>2</th>\n",
       "      <td>dd91e131888064bf7df3ce08f3d4b4ad</td>\n",
       "      <td>a553c46e3a22fb9c326aeb3d72b3334e</td>\n",
       "      <td>asap</td>\n",
       "      <td>-12,12453079</td>\n",
       "      <td>-77,02780151</td>\n",
       "      <td>iPhone</td>\n",
       "      <td>NaN</td>\n",
       "      <td>NaN</td>\n",
       "      <td>NaN</td>\n",
       "      <td>executive</td>\n",
       "      <td>2010-05-31 05:01:00</td>\n",
       "      <td>2010-05-31 05:04:00</td>\n",
       "      <td>-12,13883209</td>\n",
       "      <td>-76,99530029</td>\n",
       "      <td>not found</td>\n",
       "      <td>NaN</td>\n",
       "      <td>NaN</td>\n",
       "      <td>NaN</td>\n",
       "      <td>NaN</td>\n",
       "    </tr>\n",
       "    <tr>\n",
       "      <th>3</th>\n",
       "      <td>dd2af4715d0dc16eded53afc0e2466d0</td>\n",
       "      <td>a553c46e3a22fb9c326aeb3d72b3334e</td>\n",
       "      <td>asap</td>\n",
       "      <td>-12,13885117</td>\n",
       "      <td>-76,99530029</td>\n",
       "      <td>iPhone</td>\n",
       "      <td>NaN</td>\n",
       "      <td>NaN</td>\n",
       "      <td>NaN</td>\n",
       "      <td>executive</td>\n",
       "      <td>2010-06-01 00:29:00</td>\n",
       "      <td>2010-06-01 00:32:00</td>\n",
       "      <td>-12,12458801</td>\n",
       "      <td>-77,02896118</td>\n",
       "      <td>not found</td>\n",
       "      <td>NaN</td>\n",
       "      <td>NaN</td>\n",
       "      <td>NaN</td>\n",
       "      <td>NaN</td>\n",
       "    </tr>\n",
       "    <tr>\n",
       "      <th>4</th>\n",
       "      <td>85b7eabcf5d84e42dc7629b7d27781af</td>\n",
       "      <td>56772d544fdfa589a020a1ff894a86f7</td>\n",
       "      <td>reserved</td>\n",
       "      <td>-12,08995438</td>\n",
       "      <td>-76,92626953</td>\n",
       "      <td>iPhone</td>\n",
       "      <td>4.0</td>\n",
       "      <td>d665fb9f75ef5d9cd0fd89479380ba78</td>\n",
       "      <td>0accdd3aa5a322f4129fa20b53278c69</td>\n",
       "      <td>executive</td>\n",
       "      <td>2010-09-11 23:55:00</td>\n",
       "      <td>2010-09-12 01:07:00</td>\n",
       "      <td>-12,02223206</td>\n",
       "      <td>-77,10638428</td>\n",
       "      <td>drop off</td>\n",
       "      <td>-12,08311558</td>\n",
       "      <td>-76,9277072</td>\n",
       "      <td>2010-09-11 23:50:00</td>\n",
       "      <td>5.0</td>\n",
       "    </tr>\n",
       "    <tr>\n",
       "      <th>...</th>\n",
       "      <td>...</td>\n",
       "      <td>...</td>\n",
       "      <td>...</td>\n",
       "      <td>...</td>\n",
       "      <td>...</td>\n",
       "      <td>...</td>\n",
       "      <td>...</td>\n",
       "      <td>...</td>\n",
       "      <td>...</td>\n",
       "      <td>...</td>\n",
       "      <td>...</td>\n",
       "      <td>...</td>\n",
       "      <td>...</td>\n",
       "      <td>...</td>\n",
       "      <td>...</td>\n",
       "      <td>...</td>\n",
       "      <td>...</td>\n",
       "      <td>...</td>\n",
       "      <td>...</td>\n",
       "    </tr>\n",
       "    <tr>\n",
       "      <th>11551</th>\n",
       "      <td>4a18ea5737ce0ffecaf20b305a0e2c86</td>\n",
       "      <td>8998bb370b5f0cec43a373adebba0c72</td>\n",
       "      <td>reserved</td>\n",
       "      <td>-12,08974075</td>\n",
       "      <td>-77,04699707</td>\n",
       "      <td>iPhone</td>\n",
       "      <td>5.0</td>\n",
       "      <td>d665fb9f75ef5d9cd0fd89479380ba78</td>\n",
       "      <td>16cbe35db7fff70fbc8251b4cda9fdc9</td>\n",
       "      <td>executive</td>\n",
       "      <td>2010-07-31 13:15:00</td>\n",
       "      <td>2010-07-31 13:27:00</td>\n",
       "      <td>-12,08352661</td>\n",
       "      <td>-77,05044556</td>\n",
       "      <td>drop off</td>\n",
       "      <td>-12,08973527</td>\n",
       "      <td>-77,04787016</td>\n",
       "      <td>2010-07-31 13:15:00</td>\n",
       "      <td>5.0</td>\n",
       "    </tr>\n",
       "    <tr>\n",
       "      <th>11552</th>\n",
       "      <td>f1e4317f2c17991dd90d1cd17ae0d399</td>\n",
       "      <td>5f8a6ffef0ea5df78a8ee890267b60ec</td>\n",
       "      <td>asap</td>\n",
       "      <td>-12,09253011</td>\n",
       "      <td>-77,02875271</td>\n",
       "      <td>Android</td>\n",
       "      <td>NaN</td>\n",
       "      <td>17c21284245ff240c7212732991c2373</td>\n",
       "      <td>716a697375634f32a06d692b0448f13d</td>\n",
       "      <td>executive</td>\n",
       "      <td>2010-10-02 05:26:00</td>\n",
       "      <td>2010-10-02 05:56:00</td>\n",
       "      <td>-12,07776001</td>\n",
       "      <td>-77,05623798</td>\n",
       "      <td>drop off</td>\n",
       "      <td>-12,10639693</td>\n",
       "      <td>-77,04028948</td>\n",
       "      <td>2010-10-02 05:39:00</td>\n",
       "      <td>5.0</td>\n",
       "    </tr>\n",
       "    <tr>\n",
       "      <th>11553</th>\n",
       "      <td>1e44c0fd0a266c3719ff30410b257bce</td>\n",
       "      <td>c0ffb6f6cd801004dd8609c12277c2d1</td>\n",
       "      <td>asap</td>\n",
       "      <td>-12,1275637</td>\n",
       "      <td>-77,02642288</td>\n",
       "      <td>Android</td>\n",
       "      <td>0.0</td>\n",
       "      <td>4851ee4c867c9b49b909c1adb76c31e9</td>\n",
       "      <td>4851ee4c867c9b49b909c1adb76c538e</td>\n",
       "      <td>executive</td>\n",
       "      <td>2010-09-21 09:56:00</td>\n",
       "      <td>2010-09-21 10:18:00</td>\n",
       "      <td>-12,10529838</td>\n",
       "      <td>-77,04735249</td>\n",
       "      <td>drop off</td>\n",
       "      <td>-12,12605017</td>\n",
       "      <td>-77,01882491</td>\n",
       "      <td>2010-09-21 10:05:00</td>\n",
       "      <td>0.0</td>\n",
       "    </tr>\n",
       "    <tr>\n",
       "      <th>11554</th>\n",
       "      <td>7073883383b89ad289e864022150cdd7</td>\n",
       "      <td>c0ffb6f6cd801004dd8609c12277c2d1</td>\n",
       "      <td>reserved</td>\n",
       "      <td>-12,019468</td>\n",
       "      <td>-77,1077669</td>\n",
       "      <td>Android</td>\n",
       "      <td>NaN</td>\n",
       "      <td>56f59b58bcbbd1cdabc3652e713134c2</td>\n",
       "      <td>924d4f0e7554566623e8ebb3904a7b0c</td>\n",
       "      <td>executive</td>\n",
       "      <td>2010-04-29 04:30:00</td>\n",
       "      <td>2010-04-29 05:11:00</td>\n",
       "      <td>-12,09909987</td>\n",
       "      <td>-77,03475013</td>\n",
       "      <td>drop off</td>\n",
       "      <td>-12,0710933</td>\n",
       "      <td>-77,09855131</td>\n",
       "      <td>2010-04-29 04:23:00</td>\n",
       "      <td>5.0</td>\n",
       "    </tr>\n",
       "    <tr>\n",
       "      <th>11555</th>\n",
       "      <td>b7dea45c3cc92b9efd5a4905e69ff9bf</td>\n",
       "      <td>c0ffb6f6cd801004dd8609c12277c2d1</td>\n",
       "      <td>asap</td>\n",
       "      <td>-12,1334974</td>\n",
       "      <td>-77,0272581</td>\n",
       "      <td>web</td>\n",
       "      <td>NaN</td>\n",
       "      <td>924d4f0e7554566623e8ebb390491d08</td>\n",
       "      <td>924d4f0e7554566623e8ebb390491492</td>\n",
       "      <td>executive</td>\n",
       "      <td>2010-03-16 19:58:00</td>\n",
       "      <td>2010-03-16 20:02:00</td>\n",
       "      <td>-12,029174</td>\n",
       "      <td>-76,93977</td>\n",
       "      <td>rider cancel</td>\n",
       "      <td>-12,09586711</td>\n",
       "      <td>-77,07372552</td>\n",
       "      <td>NaN</td>\n",
       "      <td>NaN</td>\n",
       "    </tr>\n",
       "  </tbody>\n",
       "</table>\n",
       "<p>23111 rows × 19 columns</p>\n",
       "</div>"
      ],
      "text/plain": [
       "                             journey_id                           user_id  \\\n",
       "0      23a1406fc6a11d866e3c82f22eed4d4c  0e9af5bbf1edfe591b54ecdfd7e91e26   \n",
       "1      dd2af4715d0dc16eded53afc0e243577  a553c46e3a22fb9c326aeb3d72b3334e   \n",
       "2      dd91e131888064bf7df3ce08f3d4b4ad  a553c46e3a22fb9c326aeb3d72b3334e   \n",
       "3      dd2af4715d0dc16eded53afc0e2466d0  a553c46e3a22fb9c326aeb3d72b3334e   \n",
       "4      85b7eabcf5d84e42dc7629b7d27781af  56772d544fdfa589a020a1ff894a86f7   \n",
       "...                                 ...                               ...   \n",
       "11551  4a18ea5737ce0ffecaf20b305a0e2c86  8998bb370b5f0cec43a373adebba0c72   \n",
       "11552  f1e4317f2c17991dd90d1cd17ae0d399  5f8a6ffef0ea5df78a8ee890267b60ec   \n",
       "11553  1e44c0fd0a266c3719ff30410b257bce  c0ffb6f6cd801004dd8609c12277c2d1   \n",
       "11554  7073883383b89ad289e864022150cdd7  c0ffb6f6cd801004dd8609c12277c2d1   \n",
       "11555  b7dea45c3cc92b9efd5a4905e69ff9bf  c0ffb6f6cd801004dd8609c12277c2d1   \n",
       "\n",
       "      start_type     start_lat     start_lon   source  driver_score  \\\n",
       "0           asap  -12,13983536  -77,02355957   iPhone           5.0   \n",
       "1           asap  -12,13874817  -76,99536133   iPhone           NaN   \n",
       "2           asap  -12,12453079  -77,02780151   iPhone           NaN   \n",
       "3           asap  -12,13885117  -76,99530029   iPhone           NaN   \n",
       "4       reserved  -12,08995438  -76,92626953   iPhone           4.0   \n",
       "...          ...           ...           ...      ...           ...   \n",
       "11551   reserved  -12,08974075  -77,04699707   iPhone           5.0   \n",
       "11552       asap  -12,09253011  -77,02875271  Android           NaN   \n",
       "11553       asap   -12,1275637  -77,02642288  Android           0.0   \n",
       "11554   reserved    -12,019468   -77,1077669  Android           NaN   \n",
       "11555       asap   -12,1334974   -77,0272581      web           NaN   \n",
       "\n",
       "                              driver_id                           taxi_id  \\\n",
       "0      583949a89a9ee17d19e3ca4f137b6b4c  b12f4f09c783e29fe0d0ea624530db56   \n",
       "1                                   NaN                               NaN   \n",
       "2                                   NaN                               NaN   \n",
       "3                                   NaN                               NaN   \n",
       "4      d665fb9f75ef5d9cd0fd89479380ba78  0accdd3aa5a322f4129fa20b53278c69   \n",
       "...                                 ...                               ...   \n",
       "11551  d665fb9f75ef5d9cd0fd89479380ba78  16cbe35db7fff70fbc8251b4cda9fdc9   \n",
       "11552  17c21284245ff240c7212732991c2373  716a697375634f32a06d692b0448f13d   \n",
       "11553  4851ee4c867c9b49b909c1adb76c31e9  4851ee4c867c9b49b909c1adb76c538e   \n",
       "11554  56f59b58bcbbd1cdabc3652e713134c2  924d4f0e7554566623e8ebb3904a7b0c   \n",
       "11555  924d4f0e7554566623e8ebb390491d08  924d4f0e7554566623e8ebb390491492   \n",
       "\n",
       "            icon             start_at               end_at       end_lat  \\\n",
       "0      executive  2010-11-16 16:44:00  2010-11-16 17:29:00  -12,05537033   \n",
       "1      executive  2010-06-01 00:34:00  2010-06-01 00:37:00  -12,12465668   \n",
       "2      executive  2010-05-31 05:01:00  2010-05-31 05:04:00  -12,13883209   \n",
       "3      executive  2010-06-01 00:29:00  2010-06-01 00:32:00  -12,12458801   \n",
       "4      executive  2010-09-11 23:55:00  2010-09-12 01:07:00  -12,02223206   \n",
       "...          ...                  ...                  ...           ...   \n",
       "11551  executive  2010-07-31 13:15:00  2010-07-31 13:27:00  -12,08352661   \n",
       "11552  executive  2010-10-02 05:26:00  2010-10-02 05:56:00  -12,07776001   \n",
       "11553  executive  2010-09-21 09:56:00  2010-09-21 10:18:00  -12,10529838   \n",
       "11554  executive  2010-04-29 04:30:00  2010-04-29 05:11:00  -12,09909987   \n",
       "11555  executive  2010-03-16 19:58:00  2010-03-16 20:02:00    -12,029174   \n",
       "\n",
       "            end_lon     end_state driver_start_lat driver_start_lon  \\\n",
       "0       -77,0413208      drop off     -12,10825481      -77,0272739   \n",
       "1      -77,02886963     not found              NaN              NaN   \n",
       "2      -76,99530029     not found              NaN              NaN   \n",
       "3      -77,02896118     not found              NaN              NaN   \n",
       "4      -77,10638428      drop off     -12,08311558      -76,9277072   \n",
       "...             ...           ...              ...              ...   \n",
       "11551  -77,05044556      drop off     -12,08973527     -77,04787016   \n",
       "11552  -77,05623798      drop off     -12,10639693     -77,04028948   \n",
       "11553  -77,04735249      drop off     -12,12605017     -77,01882491   \n",
       "11554  -77,03475013      drop off      -12,0710933     -77,09855131   \n",
       "11555     -76,93977  rider cancel     -12,09586711     -77,07372552   \n",
       "\n",
       "                arrived_at  rider_score  \n",
       "0      2010-11-16 17:02:00          5.0  \n",
       "1                      NaN          NaN  \n",
       "2                      NaN          NaN  \n",
       "3                      NaN          NaN  \n",
       "4      2010-09-11 23:50:00          5.0  \n",
       "...                    ...          ...  \n",
       "11551  2010-07-31 13:15:00          5.0  \n",
       "11552  2010-10-02 05:39:00          5.0  \n",
       "11553  2010-09-21 10:05:00          0.0  \n",
       "11554  2010-04-29 04:23:00          5.0  \n",
       "11555                  NaN          NaN  \n",
       "\n",
       "[23111 rows x 19 columns]"
      ]
     },
     "execution_count": 321,
     "metadata": {},
     "output_type": "execute_result"
    }
   ],
   "source": [
    "df_new\n"
   ]
  },
  {
   "cell_type": "markdown",
   "metadata": {
    "id": "Ea3TO6jtjOcA"
   },
   "source": [
    "2. Приведите столбцы `start_at`, `end_at`, `arrived_at` к формату даты и времени, применив функцию [pd.to_datetime](https://pandas.pydata.org/pandas-docs/stable/reference/api/pandas.to_datetime.html) к каждому значению в каждой из 3 колонок (это можно сделать с помощью метода `apply`)"
   ]
  },
  {
   "cell_type": "markdown",
   "metadata": {
    "id": "HSCGi7RojOcA"
   },
   "source": [
    "<details>\n",
    "<summary>&#9658; Нажмите сюда, чтобы увидеть подсказку</summary>\n",
    "  <p>\n",
    "\n",
    "**Как применить функцию сразу к нескольким колонкам датафрейма?** Используйте метод `apply()`, применив его к нужным столбцам: `start_at`, `end_at`, `arrived_at`\n",
    "\n",
    "**Как использовать метод?** Например применим метод `some_method()` к колонкам `col_1` и `col_2` датафрейма `df`:\n",
    "```python\n",
    "df[['col_1', 'col_2']].some_method()\n",
    "```\n",
    "      \n",
    "**Как использовать функцию `pd.to_datetime`?** Подайте её как параметр в метод `apply()`. Например подадим функцию `some_function` в метод `some_method`, примененный к датафрейму `df`:\n",
    "```python\n",
    "df.some_method(some_function)\n",
    "```    \n",
    "      \n",
    "**Куда сохранить результат смены типа данных в колонках?** Сохраните его в те же колонки. Например:\n",
    "```python\n",
    "df[['col_1', 'col_2']] = df[['col_1', 'col_2']].some_method()\n",
    "```  \n",
    "сохранит результат применения метода `some_method()` в те же колонки\n",
    "</p>\n",
    "</details>"
   ]
  },
  {
   "cell_type": "code",
   "execution_count": 322,
   "metadata": {
    "id": "WugShYUAjOcA"
   },
   "outputs": [],
   "source": [
    "df_new[['start_at', 'end_at', 'arrived_at']] = df_new[['start_at', 'end_at', 'arrived_at']].apply(pd.to_datetime)\n",
    "\n"
   ]
  },
  {
   "cell_type": "code",
   "execution_count": 323,
   "metadata": {},
   "outputs": [
    {
     "data": {
      "text/html": [
       "<div>\n",
       "<style scoped>\n",
       "    .dataframe tbody tr th:only-of-type {\n",
       "        vertical-align: middle;\n",
       "    }\n",
       "\n",
       "    .dataframe tbody tr th {\n",
       "        vertical-align: top;\n",
       "    }\n",
       "\n",
       "    .dataframe thead th {\n",
       "        text-align: right;\n",
       "    }\n",
       "</style>\n",
       "<table border=\"1\" class=\"dataframe\">\n",
       "  <thead>\n",
       "    <tr style=\"text-align: right;\">\n",
       "      <th></th>\n",
       "      <th>journey_id</th>\n",
       "      <th>user_id</th>\n",
       "      <th>start_type</th>\n",
       "      <th>start_lat</th>\n",
       "      <th>start_lon</th>\n",
       "      <th>source</th>\n",
       "      <th>driver_score</th>\n",
       "      <th>driver_id</th>\n",
       "      <th>taxi_id</th>\n",
       "      <th>icon</th>\n",
       "      <th>start_at</th>\n",
       "      <th>end_at</th>\n",
       "      <th>end_lat</th>\n",
       "      <th>end_lon</th>\n",
       "      <th>end_state</th>\n",
       "      <th>driver_start_lat</th>\n",
       "      <th>driver_start_lon</th>\n",
       "      <th>arrived_at</th>\n",
       "      <th>rider_score</th>\n",
       "    </tr>\n",
       "  </thead>\n",
       "  <tbody>\n",
       "    <tr>\n",
       "      <th>0</th>\n",
       "      <td>23a1406fc6a11d866e3c82f22eed4d4c</td>\n",
       "      <td>0e9af5bbf1edfe591b54ecdfd7e91e26</td>\n",
       "      <td>asap</td>\n",
       "      <td>-12,13983536</td>\n",
       "      <td>-77,02355957</td>\n",
       "      <td>iPhone</td>\n",
       "      <td>5.0</td>\n",
       "      <td>583949a89a9ee17d19e3ca4f137b6b4c</td>\n",
       "      <td>b12f4f09c783e29fe0d0ea624530db56</td>\n",
       "      <td>executive</td>\n",
       "      <td>2010-11-16 16:44:00</td>\n",
       "      <td>2010-11-16 17:29:00</td>\n",
       "      <td>-12,05537033</td>\n",
       "      <td>-77,0413208</td>\n",
       "      <td>drop off</td>\n",
       "      <td>-12,10825481</td>\n",
       "      <td>-77,0272739</td>\n",
       "      <td>2010-11-16 17:02:00</td>\n",
       "      <td>5.0</td>\n",
       "    </tr>\n",
       "    <tr>\n",
       "      <th>1</th>\n",
       "      <td>dd2af4715d0dc16eded53afc0e243577</td>\n",
       "      <td>a553c46e3a22fb9c326aeb3d72b3334e</td>\n",
       "      <td>asap</td>\n",
       "      <td>-12,13874817</td>\n",
       "      <td>-76,99536133</td>\n",
       "      <td>iPhone</td>\n",
       "      <td>NaN</td>\n",
       "      <td>NaN</td>\n",
       "      <td>NaN</td>\n",
       "      <td>executive</td>\n",
       "      <td>2010-06-01 00:34:00</td>\n",
       "      <td>2010-06-01 00:37:00</td>\n",
       "      <td>-12,12465668</td>\n",
       "      <td>-77,02886963</td>\n",
       "      <td>not found</td>\n",
       "      <td>NaN</td>\n",
       "      <td>NaN</td>\n",
       "      <td>NaT</td>\n",
       "      <td>NaN</td>\n",
       "    </tr>\n",
       "    <tr>\n",
       "      <th>2</th>\n",
       "      <td>dd91e131888064bf7df3ce08f3d4b4ad</td>\n",
       "      <td>a553c46e3a22fb9c326aeb3d72b3334e</td>\n",
       "      <td>asap</td>\n",
       "      <td>-12,12453079</td>\n",
       "      <td>-77,02780151</td>\n",
       "      <td>iPhone</td>\n",
       "      <td>NaN</td>\n",
       "      <td>NaN</td>\n",
       "      <td>NaN</td>\n",
       "      <td>executive</td>\n",
       "      <td>2010-05-31 05:01:00</td>\n",
       "      <td>2010-05-31 05:04:00</td>\n",
       "      <td>-12,13883209</td>\n",
       "      <td>-76,99530029</td>\n",
       "      <td>not found</td>\n",
       "      <td>NaN</td>\n",
       "      <td>NaN</td>\n",
       "      <td>NaT</td>\n",
       "      <td>NaN</td>\n",
       "    </tr>\n",
       "    <tr>\n",
       "      <th>3</th>\n",
       "      <td>dd2af4715d0dc16eded53afc0e2466d0</td>\n",
       "      <td>a553c46e3a22fb9c326aeb3d72b3334e</td>\n",
       "      <td>asap</td>\n",
       "      <td>-12,13885117</td>\n",
       "      <td>-76,99530029</td>\n",
       "      <td>iPhone</td>\n",
       "      <td>NaN</td>\n",
       "      <td>NaN</td>\n",
       "      <td>NaN</td>\n",
       "      <td>executive</td>\n",
       "      <td>2010-06-01 00:29:00</td>\n",
       "      <td>2010-06-01 00:32:00</td>\n",
       "      <td>-12,12458801</td>\n",
       "      <td>-77,02896118</td>\n",
       "      <td>not found</td>\n",
       "      <td>NaN</td>\n",
       "      <td>NaN</td>\n",
       "      <td>NaT</td>\n",
       "      <td>NaN</td>\n",
       "    </tr>\n",
       "    <tr>\n",
       "      <th>4</th>\n",
       "      <td>85b7eabcf5d84e42dc7629b7d27781af</td>\n",
       "      <td>56772d544fdfa589a020a1ff894a86f7</td>\n",
       "      <td>reserved</td>\n",
       "      <td>-12,08995438</td>\n",
       "      <td>-76,92626953</td>\n",
       "      <td>iPhone</td>\n",
       "      <td>4.0</td>\n",
       "      <td>d665fb9f75ef5d9cd0fd89479380ba78</td>\n",
       "      <td>0accdd3aa5a322f4129fa20b53278c69</td>\n",
       "      <td>executive</td>\n",
       "      <td>2010-09-11 23:55:00</td>\n",
       "      <td>2010-09-12 01:07:00</td>\n",
       "      <td>-12,02223206</td>\n",
       "      <td>-77,10638428</td>\n",
       "      <td>drop off</td>\n",
       "      <td>-12,08311558</td>\n",
       "      <td>-76,9277072</td>\n",
       "      <td>2010-09-11 23:50:00</td>\n",
       "      <td>5.0</td>\n",
       "    </tr>\n",
       "    <tr>\n",
       "      <th>...</th>\n",
       "      <td>...</td>\n",
       "      <td>...</td>\n",
       "      <td>...</td>\n",
       "      <td>...</td>\n",
       "      <td>...</td>\n",
       "      <td>...</td>\n",
       "      <td>...</td>\n",
       "      <td>...</td>\n",
       "      <td>...</td>\n",
       "      <td>...</td>\n",
       "      <td>...</td>\n",
       "      <td>...</td>\n",
       "      <td>...</td>\n",
       "      <td>...</td>\n",
       "      <td>...</td>\n",
       "      <td>...</td>\n",
       "      <td>...</td>\n",
       "      <td>...</td>\n",
       "      <td>...</td>\n",
       "    </tr>\n",
       "    <tr>\n",
       "      <th>11551</th>\n",
       "      <td>4a18ea5737ce0ffecaf20b305a0e2c86</td>\n",
       "      <td>8998bb370b5f0cec43a373adebba0c72</td>\n",
       "      <td>reserved</td>\n",
       "      <td>-12,08974075</td>\n",
       "      <td>-77,04699707</td>\n",
       "      <td>iPhone</td>\n",
       "      <td>5.0</td>\n",
       "      <td>d665fb9f75ef5d9cd0fd89479380ba78</td>\n",
       "      <td>16cbe35db7fff70fbc8251b4cda9fdc9</td>\n",
       "      <td>executive</td>\n",
       "      <td>2010-07-31 13:15:00</td>\n",
       "      <td>2010-07-31 13:27:00</td>\n",
       "      <td>-12,08352661</td>\n",
       "      <td>-77,05044556</td>\n",
       "      <td>drop off</td>\n",
       "      <td>-12,08973527</td>\n",
       "      <td>-77,04787016</td>\n",
       "      <td>2010-07-31 13:15:00</td>\n",
       "      <td>5.0</td>\n",
       "    </tr>\n",
       "    <tr>\n",
       "      <th>11552</th>\n",
       "      <td>f1e4317f2c17991dd90d1cd17ae0d399</td>\n",
       "      <td>5f8a6ffef0ea5df78a8ee890267b60ec</td>\n",
       "      <td>asap</td>\n",
       "      <td>-12,09253011</td>\n",
       "      <td>-77,02875271</td>\n",
       "      <td>Android</td>\n",
       "      <td>NaN</td>\n",
       "      <td>17c21284245ff240c7212732991c2373</td>\n",
       "      <td>716a697375634f32a06d692b0448f13d</td>\n",
       "      <td>executive</td>\n",
       "      <td>2010-10-02 05:26:00</td>\n",
       "      <td>2010-10-02 05:56:00</td>\n",
       "      <td>-12,07776001</td>\n",
       "      <td>-77,05623798</td>\n",
       "      <td>drop off</td>\n",
       "      <td>-12,10639693</td>\n",
       "      <td>-77,04028948</td>\n",
       "      <td>2010-10-02 05:39:00</td>\n",
       "      <td>5.0</td>\n",
       "    </tr>\n",
       "    <tr>\n",
       "      <th>11553</th>\n",
       "      <td>1e44c0fd0a266c3719ff30410b257bce</td>\n",
       "      <td>c0ffb6f6cd801004dd8609c12277c2d1</td>\n",
       "      <td>asap</td>\n",
       "      <td>-12,1275637</td>\n",
       "      <td>-77,02642288</td>\n",
       "      <td>Android</td>\n",
       "      <td>0.0</td>\n",
       "      <td>4851ee4c867c9b49b909c1adb76c31e9</td>\n",
       "      <td>4851ee4c867c9b49b909c1adb76c538e</td>\n",
       "      <td>executive</td>\n",
       "      <td>2010-09-21 09:56:00</td>\n",
       "      <td>2010-09-21 10:18:00</td>\n",
       "      <td>-12,10529838</td>\n",
       "      <td>-77,04735249</td>\n",
       "      <td>drop off</td>\n",
       "      <td>-12,12605017</td>\n",
       "      <td>-77,01882491</td>\n",
       "      <td>2010-09-21 10:05:00</td>\n",
       "      <td>0.0</td>\n",
       "    </tr>\n",
       "    <tr>\n",
       "      <th>11554</th>\n",
       "      <td>7073883383b89ad289e864022150cdd7</td>\n",
       "      <td>c0ffb6f6cd801004dd8609c12277c2d1</td>\n",
       "      <td>reserved</td>\n",
       "      <td>-12,019468</td>\n",
       "      <td>-77,1077669</td>\n",
       "      <td>Android</td>\n",
       "      <td>NaN</td>\n",
       "      <td>56f59b58bcbbd1cdabc3652e713134c2</td>\n",
       "      <td>924d4f0e7554566623e8ebb3904a7b0c</td>\n",
       "      <td>executive</td>\n",
       "      <td>2010-04-29 04:30:00</td>\n",
       "      <td>2010-04-29 05:11:00</td>\n",
       "      <td>-12,09909987</td>\n",
       "      <td>-77,03475013</td>\n",
       "      <td>drop off</td>\n",
       "      <td>-12,0710933</td>\n",
       "      <td>-77,09855131</td>\n",
       "      <td>2010-04-29 04:23:00</td>\n",
       "      <td>5.0</td>\n",
       "    </tr>\n",
       "    <tr>\n",
       "      <th>11555</th>\n",
       "      <td>b7dea45c3cc92b9efd5a4905e69ff9bf</td>\n",
       "      <td>c0ffb6f6cd801004dd8609c12277c2d1</td>\n",
       "      <td>asap</td>\n",
       "      <td>-12,1334974</td>\n",
       "      <td>-77,0272581</td>\n",
       "      <td>web</td>\n",
       "      <td>NaN</td>\n",
       "      <td>924d4f0e7554566623e8ebb390491d08</td>\n",
       "      <td>924d4f0e7554566623e8ebb390491492</td>\n",
       "      <td>executive</td>\n",
       "      <td>2010-03-16 19:58:00</td>\n",
       "      <td>2010-03-16 20:02:00</td>\n",
       "      <td>-12,029174</td>\n",
       "      <td>-76,93977</td>\n",
       "      <td>rider cancel</td>\n",
       "      <td>-12,09586711</td>\n",
       "      <td>-77,07372552</td>\n",
       "      <td>NaT</td>\n",
       "      <td>NaN</td>\n",
       "    </tr>\n",
       "  </tbody>\n",
       "</table>\n",
       "<p>23111 rows × 19 columns</p>\n",
       "</div>"
      ],
      "text/plain": [
       "                             journey_id                           user_id  \\\n",
       "0      23a1406fc6a11d866e3c82f22eed4d4c  0e9af5bbf1edfe591b54ecdfd7e91e26   \n",
       "1      dd2af4715d0dc16eded53afc0e243577  a553c46e3a22fb9c326aeb3d72b3334e   \n",
       "2      dd91e131888064bf7df3ce08f3d4b4ad  a553c46e3a22fb9c326aeb3d72b3334e   \n",
       "3      dd2af4715d0dc16eded53afc0e2466d0  a553c46e3a22fb9c326aeb3d72b3334e   \n",
       "4      85b7eabcf5d84e42dc7629b7d27781af  56772d544fdfa589a020a1ff894a86f7   \n",
       "...                                 ...                               ...   \n",
       "11551  4a18ea5737ce0ffecaf20b305a0e2c86  8998bb370b5f0cec43a373adebba0c72   \n",
       "11552  f1e4317f2c17991dd90d1cd17ae0d399  5f8a6ffef0ea5df78a8ee890267b60ec   \n",
       "11553  1e44c0fd0a266c3719ff30410b257bce  c0ffb6f6cd801004dd8609c12277c2d1   \n",
       "11554  7073883383b89ad289e864022150cdd7  c0ffb6f6cd801004dd8609c12277c2d1   \n",
       "11555  b7dea45c3cc92b9efd5a4905e69ff9bf  c0ffb6f6cd801004dd8609c12277c2d1   \n",
       "\n",
       "      start_type     start_lat     start_lon   source  driver_score  \\\n",
       "0           asap  -12,13983536  -77,02355957   iPhone           5.0   \n",
       "1           asap  -12,13874817  -76,99536133   iPhone           NaN   \n",
       "2           asap  -12,12453079  -77,02780151   iPhone           NaN   \n",
       "3           asap  -12,13885117  -76,99530029   iPhone           NaN   \n",
       "4       reserved  -12,08995438  -76,92626953   iPhone           4.0   \n",
       "...          ...           ...           ...      ...           ...   \n",
       "11551   reserved  -12,08974075  -77,04699707   iPhone           5.0   \n",
       "11552       asap  -12,09253011  -77,02875271  Android           NaN   \n",
       "11553       asap   -12,1275637  -77,02642288  Android           0.0   \n",
       "11554   reserved    -12,019468   -77,1077669  Android           NaN   \n",
       "11555       asap   -12,1334974   -77,0272581      web           NaN   \n",
       "\n",
       "                              driver_id                           taxi_id  \\\n",
       "0      583949a89a9ee17d19e3ca4f137b6b4c  b12f4f09c783e29fe0d0ea624530db56   \n",
       "1                                   NaN                               NaN   \n",
       "2                                   NaN                               NaN   \n",
       "3                                   NaN                               NaN   \n",
       "4      d665fb9f75ef5d9cd0fd89479380ba78  0accdd3aa5a322f4129fa20b53278c69   \n",
       "...                                 ...                               ...   \n",
       "11551  d665fb9f75ef5d9cd0fd89479380ba78  16cbe35db7fff70fbc8251b4cda9fdc9   \n",
       "11552  17c21284245ff240c7212732991c2373  716a697375634f32a06d692b0448f13d   \n",
       "11553  4851ee4c867c9b49b909c1adb76c31e9  4851ee4c867c9b49b909c1adb76c538e   \n",
       "11554  56f59b58bcbbd1cdabc3652e713134c2  924d4f0e7554566623e8ebb3904a7b0c   \n",
       "11555  924d4f0e7554566623e8ebb390491d08  924d4f0e7554566623e8ebb390491492   \n",
       "\n",
       "            icon            start_at              end_at       end_lat  \\\n",
       "0      executive 2010-11-16 16:44:00 2010-11-16 17:29:00  -12,05537033   \n",
       "1      executive 2010-06-01 00:34:00 2010-06-01 00:37:00  -12,12465668   \n",
       "2      executive 2010-05-31 05:01:00 2010-05-31 05:04:00  -12,13883209   \n",
       "3      executive 2010-06-01 00:29:00 2010-06-01 00:32:00  -12,12458801   \n",
       "4      executive 2010-09-11 23:55:00 2010-09-12 01:07:00  -12,02223206   \n",
       "...          ...                 ...                 ...           ...   \n",
       "11551  executive 2010-07-31 13:15:00 2010-07-31 13:27:00  -12,08352661   \n",
       "11552  executive 2010-10-02 05:26:00 2010-10-02 05:56:00  -12,07776001   \n",
       "11553  executive 2010-09-21 09:56:00 2010-09-21 10:18:00  -12,10529838   \n",
       "11554  executive 2010-04-29 04:30:00 2010-04-29 05:11:00  -12,09909987   \n",
       "11555  executive 2010-03-16 19:58:00 2010-03-16 20:02:00    -12,029174   \n",
       "\n",
       "            end_lon     end_state driver_start_lat driver_start_lon  \\\n",
       "0       -77,0413208      drop off     -12,10825481      -77,0272739   \n",
       "1      -77,02886963     not found              NaN              NaN   \n",
       "2      -76,99530029     not found              NaN              NaN   \n",
       "3      -77,02896118     not found              NaN              NaN   \n",
       "4      -77,10638428      drop off     -12,08311558      -76,9277072   \n",
       "...             ...           ...              ...              ...   \n",
       "11551  -77,05044556      drop off     -12,08973527     -77,04787016   \n",
       "11552  -77,05623798      drop off     -12,10639693     -77,04028948   \n",
       "11553  -77,04735249      drop off     -12,12605017     -77,01882491   \n",
       "11554  -77,03475013      drop off      -12,0710933     -77,09855131   \n",
       "11555     -76,93977  rider cancel     -12,09586711     -77,07372552   \n",
       "\n",
       "               arrived_at  rider_score  \n",
       "0     2010-11-16 17:02:00          5.0  \n",
       "1                     NaT          NaN  \n",
       "2                     NaT          NaN  \n",
       "3                     NaT          NaN  \n",
       "4     2010-09-11 23:50:00          5.0  \n",
       "...                   ...          ...  \n",
       "11551 2010-07-31 13:15:00          5.0  \n",
       "11552 2010-10-02 05:39:00          5.0  \n",
       "11553 2010-09-21 10:05:00          0.0  \n",
       "11554 2010-04-29 04:23:00          5.0  \n",
       "11555                 NaT          NaN  \n",
       "\n",
       "[23111 rows x 19 columns]"
      ]
     },
     "execution_count": 323,
     "metadata": {},
     "output_type": "execute_result"
    }
   ],
   "source": [
    "df_new"
   ]
  },
  {
   "cell_type": "markdown",
   "metadata": {
    "id": "Ojys1kQ8jOcA"
   },
   "source": [
    "3. Посмотрите на получившиеся колонки и проверьте, что тип данных в них действительно изменился"
   ]
  },
  {
   "cell_type": "markdown",
   "metadata": {
    "id": "2c6nsRoHjOcA"
   },
   "source": [
    "<details>\n",
    "<summary>&#9658; Нажмите сюда, чтобы увидеть подсказку</summary>\n",
    "  <p>\n",
    "      \n",
    "**Как посмотреть на содержимое колонок?** Используйте метод `head()`\n",
    "      \n",
    "**Как использовать метод?** Например применим метод `some_method()` к колонкам `col_1` и `col_2` датафрейма `df`:\n",
    "```python\n",
    "df[['col_1', 'col_2']].some_method()\n",
    "```\n",
    "      \n",
    "**Есть 2 способа узнать типы данных:**\n",
    "      \n",
    "1) Используйте атрибут `dtypes`. Он возвращает серию, индексами которой являются названия столбцов, а значениями — тип данных в этих столбцах. Количество столбцов каждого типа нужно будет посчитать самостоятельно.  \n",
    "\n",
    "Для обращения к атрибуту датафрейма нужно написать переменную, где хранится датафрейм, поставить точку и написать название атрибута (без скобок!). Например:\n",
    "```python\n",
    "df.some_attribute\n",
    "```\n",
    "так мы обратимся к атрибуту `some_attribute` у датафрейма в переменной `df`\n",
    "      \n",
    "2) Либо примените к датафрейму метод `info()`, который выводит подробную информацию о датафрейме и его колонках. Смотрите на предпоследнюю строчку, которая начинается с `dtypes:`, количество колонок каждого типа указаны в скобках\n",
    "      \n",
    "Как использовать метод? Например применим метод `some_method()` к датафрейму `df`:\n",
    "```python\n",
    "df.some_method()\n",
    "```\n",
    "</p>\n",
    "</details>"
   ]
  },
  {
   "cell_type": "code",
   "execution_count": 324,
   "metadata": {
    "id": "3fkyC11DjOcB"
   },
   "outputs": [
    {
     "name": "stdout",
     "output_type": "stream",
     "text": [
      "<class 'pandas.core.frame.DataFrame'>\n",
      "Int64Index: 23111 entries, 0 to 11555\n",
      "Data columns (total 19 columns):\n",
      " #   Column            Non-Null Count  Dtype         \n",
      "---  ------            --------------  -----         \n",
      " 0   journey_id        23111 non-null  object        \n",
      " 1   user_id           23111 non-null  object        \n",
      " 2   start_type        23111 non-null  object        \n",
      " 3   start_lat         23111 non-null  object        \n",
      " 4   start_lon         23111 non-null  object        \n",
      " 5   source            22988 non-null  object        \n",
      " 6   driver_score      7650 non-null   float64       \n",
      " 7   driver_id         19726 non-null  object        \n",
      " 8   taxi_id           19726 non-null  object        \n",
      " 9   icon              23111 non-null  object        \n",
      " 10  start_at          23111 non-null  datetime64[ns]\n",
      " 11  end_at            22835 non-null  datetime64[ns]\n",
      " 12  end_lat           23111 non-null  object        \n",
      " 13  end_lon           23111 non-null  object        \n",
      " 14  end_state         23099 non-null  object        \n",
      " 15  driver_start_lat  19621 non-null  object        \n",
      " 16  driver_start_lon  19621 non-null  object        \n",
      " 17  arrived_at        17716 non-null  datetime64[ns]\n",
      " 18  rider_score       15390 non-null  float64       \n",
      "dtypes: datetime64[ns](3), float64(2), object(14)\n",
      "memory usage: 4.2+ MB\n"
     ]
    }
   ],
   "source": [
    "df_new.info()\n"
   ]
  },
  {
   "cell_type": "markdown",
   "metadata": {
    "id": "DSvWDxv5jOcB"
   },
   "source": [
    "4. Отфильтруйте данные и оставьте наблюдения со статусами заказа «asap» и «reserved» (см.колонку `start_type`). Результат сохраните в тот же датафрейм `taxi`"
   ]
  },
  {
   "cell_type": "markdown",
   "metadata": {
    "id": "OotD6cTHjOcB"
   },
   "source": [
    "<details>\n",
    "<summary>&#9658; Нажмите сюда, чтобы увидеть подсказку</summary>\n",
    "  <p>\n",
    "\n",
    "**Чтобы отобрать только нужные записи, используйте метод `query()`**, внутри которого напишите строку с двойным условием: значение в колонке `start_type` равно 'asap' или значение в этой колонке равно 'reserved'.\n",
    "\n",
    "**Как использовать метод?** Например, применим метод `some_method()` к датафрейму `df`:\n",
    "```python\n",
    "df.some_method()\n",
    "```\n",
    "      \n",
    "Между условиями поставьте логический оператор: `and` (или `&`), если оба условия обязательно должны выполняться. Или оператор `or` (или `|`), если должно выполняться хотя бы одно из условий.\n",
    "      \n",
    "Учтите, что оба условия нужно писать в единых кавычках, а каждое условие и названия колонок — без кавычек. Целые числа и булевы значения (True, False) также пишутся без кавычек, а строки — в кавычках (двойных или одинарных — главное, не тех, в которые взяты оба условия)\n",
    "      \n",
    "Помните, что один знак равно означает присвоение, а два — проверку на равенство.\n",
    "      \n",
    "</p>\n",
    "</details>"
   ]
  },
  {
   "cell_type": "code",
   "execution_count": 325,
   "metadata": {
    "id": "XPClQDsQjOcB"
   },
   "outputs": [],
   "source": [
    "df_new = df_new.query('start_type == \"asap\" or start_type == \"reserved\"')\n",
    "\n"
   ]
  },
  {
   "cell_type": "code",
   "execution_count": 326,
   "metadata": {},
   "outputs": [
    {
     "data": {
      "text/html": [
       "<div>\n",
       "<style scoped>\n",
       "    .dataframe tbody tr th:only-of-type {\n",
       "        vertical-align: middle;\n",
       "    }\n",
       "\n",
       "    .dataframe tbody tr th {\n",
       "        vertical-align: top;\n",
       "    }\n",
       "\n",
       "    .dataframe thead th {\n",
       "        text-align: right;\n",
       "    }\n",
       "</style>\n",
       "<table border=\"1\" class=\"dataframe\">\n",
       "  <thead>\n",
       "    <tr style=\"text-align: right;\">\n",
       "      <th></th>\n",
       "      <th>journey_id</th>\n",
       "      <th>user_id</th>\n",
       "      <th>start_type</th>\n",
       "      <th>start_lat</th>\n",
       "      <th>start_lon</th>\n",
       "      <th>source</th>\n",
       "      <th>driver_score</th>\n",
       "      <th>driver_id</th>\n",
       "      <th>taxi_id</th>\n",
       "      <th>icon</th>\n",
       "      <th>start_at</th>\n",
       "      <th>end_at</th>\n",
       "      <th>end_lat</th>\n",
       "      <th>end_lon</th>\n",
       "      <th>end_state</th>\n",
       "      <th>driver_start_lat</th>\n",
       "      <th>driver_start_lon</th>\n",
       "      <th>arrived_at</th>\n",
       "      <th>rider_score</th>\n",
       "    </tr>\n",
       "  </thead>\n",
       "  <tbody>\n",
       "    <tr>\n",
       "      <th>0</th>\n",
       "      <td>23a1406fc6a11d866e3c82f22eed4d4c</td>\n",
       "      <td>0e9af5bbf1edfe591b54ecdfd7e91e26</td>\n",
       "      <td>asap</td>\n",
       "      <td>-12,13983536</td>\n",
       "      <td>-77,02355957</td>\n",
       "      <td>iPhone</td>\n",
       "      <td>5.0</td>\n",
       "      <td>583949a89a9ee17d19e3ca4f137b6b4c</td>\n",
       "      <td>b12f4f09c783e29fe0d0ea624530db56</td>\n",
       "      <td>executive</td>\n",
       "      <td>2010-11-16 16:44:00</td>\n",
       "      <td>2010-11-16 17:29:00</td>\n",
       "      <td>-12,05537033</td>\n",
       "      <td>-77,0413208</td>\n",
       "      <td>drop off</td>\n",
       "      <td>-12,10825481</td>\n",
       "      <td>-77,0272739</td>\n",
       "      <td>2010-11-16 17:02:00</td>\n",
       "      <td>5.0</td>\n",
       "    </tr>\n",
       "    <tr>\n",
       "      <th>1</th>\n",
       "      <td>dd2af4715d0dc16eded53afc0e243577</td>\n",
       "      <td>a553c46e3a22fb9c326aeb3d72b3334e</td>\n",
       "      <td>asap</td>\n",
       "      <td>-12,13874817</td>\n",
       "      <td>-76,99536133</td>\n",
       "      <td>iPhone</td>\n",
       "      <td>NaN</td>\n",
       "      <td>NaN</td>\n",
       "      <td>NaN</td>\n",
       "      <td>executive</td>\n",
       "      <td>2010-06-01 00:34:00</td>\n",
       "      <td>2010-06-01 00:37:00</td>\n",
       "      <td>-12,12465668</td>\n",
       "      <td>-77,02886963</td>\n",
       "      <td>not found</td>\n",
       "      <td>NaN</td>\n",
       "      <td>NaN</td>\n",
       "      <td>NaT</td>\n",
       "      <td>NaN</td>\n",
       "    </tr>\n",
       "    <tr>\n",
       "      <th>2</th>\n",
       "      <td>dd91e131888064bf7df3ce08f3d4b4ad</td>\n",
       "      <td>a553c46e3a22fb9c326aeb3d72b3334e</td>\n",
       "      <td>asap</td>\n",
       "      <td>-12,12453079</td>\n",
       "      <td>-77,02780151</td>\n",
       "      <td>iPhone</td>\n",
       "      <td>NaN</td>\n",
       "      <td>NaN</td>\n",
       "      <td>NaN</td>\n",
       "      <td>executive</td>\n",
       "      <td>2010-05-31 05:01:00</td>\n",
       "      <td>2010-05-31 05:04:00</td>\n",
       "      <td>-12,13883209</td>\n",
       "      <td>-76,99530029</td>\n",
       "      <td>not found</td>\n",
       "      <td>NaN</td>\n",
       "      <td>NaN</td>\n",
       "      <td>NaT</td>\n",
       "      <td>NaN</td>\n",
       "    </tr>\n",
       "    <tr>\n",
       "      <th>3</th>\n",
       "      <td>dd2af4715d0dc16eded53afc0e2466d0</td>\n",
       "      <td>a553c46e3a22fb9c326aeb3d72b3334e</td>\n",
       "      <td>asap</td>\n",
       "      <td>-12,13885117</td>\n",
       "      <td>-76,99530029</td>\n",
       "      <td>iPhone</td>\n",
       "      <td>NaN</td>\n",
       "      <td>NaN</td>\n",
       "      <td>NaN</td>\n",
       "      <td>executive</td>\n",
       "      <td>2010-06-01 00:29:00</td>\n",
       "      <td>2010-06-01 00:32:00</td>\n",
       "      <td>-12,12458801</td>\n",
       "      <td>-77,02896118</td>\n",
       "      <td>not found</td>\n",
       "      <td>NaN</td>\n",
       "      <td>NaN</td>\n",
       "      <td>NaT</td>\n",
       "      <td>NaN</td>\n",
       "    </tr>\n",
       "    <tr>\n",
       "      <th>4</th>\n",
       "      <td>85b7eabcf5d84e42dc7629b7d27781af</td>\n",
       "      <td>56772d544fdfa589a020a1ff894a86f7</td>\n",
       "      <td>reserved</td>\n",
       "      <td>-12,08995438</td>\n",
       "      <td>-76,92626953</td>\n",
       "      <td>iPhone</td>\n",
       "      <td>4.0</td>\n",
       "      <td>d665fb9f75ef5d9cd0fd89479380ba78</td>\n",
       "      <td>0accdd3aa5a322f4129fa20b53278c69</td>\n",
       "      <td>executive</td>\n",
       "      <td>2010-09-11 23:55:00</td>\n",
       "      <td>2010-09-12 01:07:00</td>\n",
       "      <td>-12,02223206</td>\n",
       "      <td>-77,10638428</td>\n",
       "      <td>drop off</td>\n",
       "      <td>-12,08311558</td>\n",
       "      <td>-76,9277072</td>\n",
       "      <td>2010-09-11 23:50:00</td>\n",
       "      <td>5.0</td>\n",
       "    </tr>\n",
       "    <tr>\n",
       "      <th>...</th>\n",
       "      <td>...</td>\n",
       "      <td>...</td>\n",
       "      <td>...</td>\n",
       "      <td>...</td>\n",
       "      <td>...</td>\n",
       "      <td>...</td>\n",
       "      <td>...</td>\n",
       "      <td>...</td>\n",
       "      <td>...</td>\n",
       "      <td>...</td>\n",
       "      <td>...</td>\n",
       "      <td>...</td>\n",
       "      <td>...</td>\n",
       "      <td>...</td>\n",
       "      <td>...</td>\n",
       "      <td>...</td>\n",
       "      <td>...</td>\n",
       "      <td>...</td>\n",
       "      <td>...</td>\n",
       "    </tr>\n",
       "    <tr>\n",
       "      <th>11551</th>\n",
       "      <td>4a18ea5737ce0ffecaf20b305a0e2c86</td>\n",
       "      <td>8998bb370b5f0cec43a373adebba0c72</td>\n",
       "      <td>reserved</td>\n",
       "      <td>-12,08974075</td>\n",
       "      <td>-77,04699707</td>\n",
       "      <td>iPhone</td>\n",
       "      <td>5.0</td>\n",
       "      <td>d665fb9f75ef5d9cd0fd89479380ba78</td>\n",
       "      <td>16cbe35db7fff70fbc8251b4cda9fdc9</td>\n",
       "      <td>executive</td>\n",
       "      <td>2010-07-31 13:15:00</td>\n",
       "      <td>2010-07-31 13:27:00</td>\n",
       "      <td>-12,08352661</td>\n",
       "      <td>-77,05044556</td>\n",
       "      <td>drop off</td>\n",
       "      <td>-12,08973527</td>\n",
       "      <td>-77,04787016</td>\n",
       "      <td>2010-07-31 13:15:00</td>\n",
       "      <td>5.0</td>\n",
       "    </tr>\n",
       "    <tr>\n",
       "      <th>11552</th>\n",
       "      <td>f1e4317f2c17991dd90d1cd17ae0d399</td>\n",
       "      <td>5f8a6ffef0ea5df78a8ee890267b60ec</td>\n",
       "      <td>asap</td>\n",
       "      <td>-12,09253011</td>\n",
       "      <td>-77,02875271</td>\n",
       "      <td>Android</td>\n",
       "      <td>NaN</td>\n",
       "      <td>17c21284245ff240c7212732991c2373</td>\n",
       "      <td>716a697375634f32a06d692b0448f13d</td>\n",
       "      <td>executive</td>\n",
       "      <td>2010-10-02 05:26:00</td>\n",
       "      <td>2010-10-02 05:56:00</td>\n",
       "      <td>-12,07776001</td>\n",
       "      <td>-77,05623798</td>\n",
       "      <td>drop off</td>\n",
       "      <td>-12,10639693</td>\n",
       "      <td>-77,04028948</td>\n",
       "      <td>2010-10-02 05:39:00</td>\n",
       "      <td>5.0</td>\n",
       "    </tr>\n",
       "    <tr>\n",
       "      <th>11553</th>\n",
       "      <td>1e44c0fd0a266c3719ff30410b257bce</td>\n",
       "      <td>c0ffb6f6cd801004dd8609c12277c2d1</td>\n",
       "      <td>asap</td>\n",
       "      <td>-12,1275637</td>\n",
       "      <td>-77,02642288</td>\n",
       "      <td>Android</td>\n",
       "      <td>0.0</td>\n",
       "      <td>4851ee4c867c9b49b909c1adb76c31e9</td>\n",
       "      <td>4851ee4c867c9b49b909c1adb76c538e</td>\n",
       "      <td>executive</td>\n",
       "      <td>2010-09-21 09:56:00</td>\n",
       "      <td>2010-09-21 10:18:00</td>\n",
       "      <td>-12,10529838</td>\n",
       "      <td>-77,04735249</td>\n",
       "      <td>drop off</td>\n",
       "      <td>-12,12605017</td>\n",
       "      <td>-77,01882491</td>\n",
       "      <td>2010-09-21 10:05:00</td>\n",
       "      <td>0.0</td>\n",
       "    </tr>\n",
       "    <tr>\n",
       "      <th>11554</th>\n",
       "      <td>7073883383b89ad289e864022150cdd7</td>\n",
       "      <td>c0ffb6f6cd801004dd8609c12277c2d1</td>\n",
       "      <td>reserved</td>\n",
       "      <td>-12,019468</td>\n",
       "      <td>-77,1077669</td>\n",
       "      <td>Android</td>\n",
       "      <td>NaN</td>\n",
       "      <td>56f59b58bcbbd1cdabc3652e713134c2</td>\n",
       "      <td>924d4f0e7554566623e8ebb3904a7b0c</td>\n",
       "      <td>executive</td>\n",
       "      <td>2010-04-29 04:30:00</td>\n",
       "      <td>2010-04-29 05:11:00</td>\n",
       "      <td>-12,09909987</td>\n",
       "      <td>-77,03475013</td>\n",
       "      <td>drop off</td>\n",
       "      <td>-12,0710933</td>\n",
       "      <td>-77,09855131</td>\n",
       "      <td>2010-04-29 04:23:00</td>\n",
       "      <td>5.0</td>\n",
       "    </tr>\n",
       "    <tr>\n",
       "      <th>11555</th>\n",
       "      <td>b7dea45c3cc92b9efd5a4905e69ff9bf</td>\n",
       "      <td>c0ffb6f6cd801004dd8609c12277c2d1</td>\n",
       "      <td>asap</td>\n",
       "      <td>-12,1334974</td>\n",
       "      <td>-77,0272581</td>\n",
       "      <td>web</td>\n",
       "      <td>NaN</td>\n",
       "      <td>924d4f0e7554566623e8ebb390491d08</td>\n",
       "      <td>924d4f0e7554566623e8ebb390491492</td>\n",
       "      <td>executive</td>\n",
       "      <td>2010-03-16 19:58:00</td>\n",
       "      <td>2010-03-16 20:02:00</td>\n",
       "      <td>-12,029174</td>\n",
       "      <td>-76,93977</td>\n",
       "      <td>rider cancel</td>\n",
       "      <td>-12,09586711</td>\n",
       "      <td>-77,07372552</td>\n",
       "      <td>NaT</td>\n",
       "      <td>NaN</td>\n",
       "    </tr>\n",
       "  </tbody>\n",
       "</table>\n",
       "<p>23091 rows × 19 columns</p>\n",
       "</div>"
      ],
      "text/plain": [
       "                             journey_id                           user_id  \\\n",
       "0      23a1406fc6a11d866e3c82f22eed4d4c  0e9af5bbf1edfe591b54ecdfd7e91e26   \n",
       "1      dd2af4715d0dc16eded53afc0e243577  a553c46e3a22fb9c326aeb3d72b3334e   \n",
       "2      dd91e131888064bf7df3ce08f3d4b4ad  a553c46e3a22fb9c326aeb3d72b3334e   \n",
       "3      dd2af4715d0dc16eded53afc0e2466d0  a553c46e3a22fb9c326aeb3d72b3334e   \n",
       "4      85b7eabcf5d84e42dc7629b7d27781af  56772d544fdfa589a020a1ff894a86f7   \n",
       "...                                 ...                               ...   \n",
       "11551  4a18ea5737ce0ffecaf20b305a0e2c86  8998bb370b5f0cec43a373adebba0c72   \n",
       "11552  f1e4317f2c17991dd90d1cd17ae0d399  5f8a6ffef0ea5df78a8ee890267b60ec   \n",
       "11553  1e44c0fd0a266c3719ff30410b257bce  c0ffb6f6cd801004dd8609c12277c2d1   \n",
       "11554  7073883383b89ad289e864022150cdd7  c0ffb6f6cd801004dd8609c12277c2d1   \n",
       "11555  b7dea45c3cc92b9efd5a4905e69ff9bf  c0ffb6f6cd801004dd8609c12277c2d1   \n",
       "\n",
       "      start_type     start_lat     start_lon   source  driver_score  \\\n",
       "0           asap  -12,13983536  -77,02355957   iPhone           5.0   \n",
       "1           asap  -12,13874817  -76,99536133   iPhone           NaN   \n",
       "2           asap  -12,12453079  -77,02780151   iPhone           NaN   \n",
       "3           asap  -12,13885117  -76,99530029   iPhone           NaN   \n",
       "4       reserved  -12,08995438  -76,92626953   iPhone           4.0   \n",
       "...          ...           ...           ...      ...           ...   \n",
       "11551   reserved  -12,08974075  -77,04699707   iPhone           5.0   \n",
       "11552       asap  -12,09253011  -77,02875271  Android           NaN   \n",
       "11553       asap   -12,1275637  -77,02642288  Android           0.0   \n",
       "11554   reserved    -12,019468   -77,1077669  Android           NaN   \n",
       "11555       asap   -12,1334974   -77,0272581      web           NaN   \n",
       "\n",
       "                              driver_id                           taxi_id  \\\n",
       "0      583949a89a9ee17d19e3ca4f137b6b4c  b12f4f09c783e29fe0d0ea624530db56   \n",
       "1                                   NaN                               NaN   \n",
       "2                                   NaN                               NaN   \n",
       "3                                   NaN                               NaN   \n",
       "4      d665fb9f75ef5d9cd0fd89479380ba78  0accdd3aa5a322f4129fa20b53278c69   \n",
       "...                                 ...                               ...   \n",
       "11551  d665fb9f75ef5d9cd0fd89479380ba78  16cbe35db7fff70fbc8251b4cda9fdc9   \n",
       "11552  17c21284245ff240c7212732991c2373  716a697375634f32a06d692b0448f13d   \n",
       "11553  4851ee4c867c9b49b909c1adb76c31e9  4851ee4c867c9b49b909c1adb76c538e   \n",
       "11554  56f59b58bcbbd1cdabc3652e713134c2  924d4f0e7554566623e8ebb3904a7b0c   \n",
       "11555  924d4f0e7554566623e8ebb390491d08  924d4f0e7554566623e8ebb390491492   \n",
       "\n",
       "            icon            start_at              end_at       end_lat  \\\n",
       "0      executive 2010-11-16 16:44:00 2010-11-16 17:29:00  -12,05537033   \n",
       "1      executive 2010-06-01 00:34:00 2010-06-01 00:37:00  -12,12465668   \n",
       "2      executive 2010-05-31 05:01:00 2010-05-31 05:04:00  -12,13883209   \n",
       "3      executive 2010-06-01 00:29:00 2010-06-01 00:32:00  -12,12458801   \n",
       "4      executive 2010-09-11 23:55:00 2010-09-12 01:07:00  -12,02223206   \n",
       "...          ...                 ...                 ...           ...   \n",
       "11551  executive 2010-07-31 13:15:00 2010-07-31 13:27:00  -12,08352661   \n",
       "11552  executive 2010-10-02 05:26:00 2010-10-02 05:56:00  -12,07776001   \n",
       "11553  executive 2010-09-21 09:56:00 2010-09-21 10:18:00  -12,10529838   \n",
       "11554  executive 2010-04-29 04:30:00 2010-04-29 05:11:00  -12,09909987   \n",
       "11555  executive 2010-03-16 19:58:00 2010-03-16 20:02:00    -12,029174   \n",
       "\n",
       "            end_lon     end_state driver_start_lat driver_start_lon  \\\n",
       "0       -77,0413208      drop off     -12,10825481      -77,0272739   \n",
       "1      -77,02886963     not found              NaN              NaN   \n",
       "2      -76,99530029     not found              NaN              NaN   \n",
       "3      -77,02896118     not found              NaN              NaN   \n",
       "4      -77,10638428      drop off     -12,08311558      -76,9277072   \n",
       "...             ...           ...              ...              ...   \n",
       "11551  -77,05044556      drop off     -12,08973527     -77,04787016   \n",
       "11552  -77,05623798      drop off     -12,10639693     -77,04028948   \n",
       "11553  -77,04735249      drop off     -12,12605017     -77,01882491   \n",
       "11554  -77,03475013      drop off      -12,0710933     -77,09855131   \n",
       "11555     -76,93977  rider cancel     -12,09586711     -77,07372552   \n",
       "\n",
       "               arrived_at  rider_score  \n",
       "0     2010-11-16 17:02:00          5.0  \n",
       "1                     NaT          NaN  \n",
       "2                     NaT          NaN  \n",
       "3                     NaT          NaN  \n",
       "4     2010-09-11 23:50:00          5.0  \n",
       "...                   ...          ...  \n",
       "11551 2010-07-31 13:15:00          5.0  \n",
       "11552 2010-10-02 05:39:00          5.0  \n",
       "11553 2010-09-21 10:05:00          0.0  \n",
       "11554 2010-04-29 04:23:00          5.0  \n",
       "11555                 NaT          NaN  \n",
       "\n",
       "[23091 rows x 19 columns]"
      ]
     },
     "execution_count": 326,
     "metadata": {},
     "output_type": "execute_result"
    }
   ],
   "source": [
    "df_new"
   ]
  },
  {
   "cell_type": "markdown",
   "metadata": {
    "id": "W_0rsBiFjOcB"
   },
   "source": [
    "5. Скопируйте и загрузите в LMS Ваш код, в котором приводите столбцы к формату datetime и оставляете в датафрейме `taxi` только наблюдения со статусами заказа \"asap\" и \"reserved\""
   ]
  },
  {
   "cell_type": "markdown",
   "metadata": {
    "id": "d-HcGe-fjOcB"
   },
   "source": [
    "<details>\n",
    "<summary>&#9658; Нажмите сюда, чтобы увидеть подсказку</summary>\n",
    "  <p>\n",
    "\n",
    "Вам нужен код со 2 и 4 шагов выполнения\n",
    "      \n",
    "</p>\n",
    "</details>"
   ]
  },
  {
   "cell_type": "markdown",
   "metadata": {
    "id": "Kb79l1xdjOcC"
   },
   "source": [
    "## Шаг 13"
   ]
  },
  {
   "cell_type": "markdown",
   "metadata": {
    "id": "EW06EX8tjOcC"
   },
   "source": [
    "Начнем анализировать время подачи машины — долго ли пассажирам приходится ждать такси. Для этого создайте новую колонку `wait_time`, в которой будет храниться разница между временем подачи машины (см.колонку `arrived_at`) и временем заказа (см.колонку `start_at`). **Определите медианное время подачи машины, в минутах. Ответ дайте в формате целого числа**"
   ]
  },
  {
   "cell_type": "markdown",
   "metadata": {
    "id": "kAfL3wPNjOcC"
   },
   "source": [
    "Шаги выполнения:  \n",
    "1. Создайте новую колонку `wait_time`, в которой будет храниться разница между временем подачи машины (см.колонку `arrived_at`) и временем заказа (см.колонку `start_at`)"
   ]
  },
  {
   "cell_type": "markdown",
   "metadata": {
    "id": "q_tsRa3NjOcC"
   },
   "source": [
    "<details>\n",
    "<summary>&#9658; Нажмите сюда, чтобы увидеть подсказку</summary>\n",
    "  <p>\n",
    "\n",
    "**Как создать новую колонку?** достаточно написать такой код:\n",
    "```python\n",
    "df['new_column'] = some_value\n",
    "```\n",
    "где `df` — датафрейм, `new_column` — название новой колонки, `some_value` — то, чему будет равна колонка (это может быть одно число или колонка датафрейма, где число элементов такое же как число строк в `df`).\n",
    "      \n",
    "**Как посчитать разницу значений в двух колонках?** Арифметические операции с пандасовскими колонками делаются очень просто, прямо как с питоновскими числами. Например, этот код:\n",
    "```python\n",
    "df.column1 * df.column2\n",
    "```\n",
    "умножит все значения из колонки `column1` датафрейма `df` на соответствующие элементы колонки `column2`. Число элементов в обеих колонках должно быть одинаковым.\n",
    "      \n",
    "</p>\n",
    "</details>"
   ]
  },
  {
   "cell_type": "code",
   "execution_count": 328,
   "metadata": {
    "id": "4IngMq5QjOcC"
   },
   "outputs": [
    {
     "name": "stderr",
     "output_type": "stream",
     "text": [
      "/opt/tljh/user/lib/python3.7/site-packages/ipykernel_launcher.py:1: SettingWithCopyWarning: \n",
      "A value is trying to be set on a copy of a slice from a DataFrame.\n",
      "Try using .loc[row_indexer,col_indexer] = value instead\n",
      "\n",
      "See the caveats in the documentation: https://pandas.pydata.org/pandas-docs/stable/user_guide/indexing.html#returning-a-view-versus-a-copy\n",
      "  \"\"\"Entry point for launching an IPython kernel.\n"
     ]
    }
   ],
   "source": [
    "df_new['wait_time'] = df_new.arrived_at - df_new.start_at\n",
    "\n"
   ]
  },
  {
   "cell_type": "markdown",
   "metadata": {
    "id": "-rR2J8-DjOcC"
   },
   "source": [
    "2. Посчитайте медианное время подачи машины"
   ]
  },
  {
   "cell_type": "markdown",
   "metadata": {
    "id": "GGaP6AKjjOcD"
   },
   "source": [
    "<details>\n",
    "<summary>&#9658; Нажмите сюда, чтобы увидеть подсказку</summary>\n",
    "  <p>\n",
    "\n",
    "**Используйте метод `median()`, применив его к столбцу `wait_time`**.\n",
    "\n",
    "**Как использовать метод?** Например применим метод `some_method()` к колонке `column_name` датафрейма `df`:\n",
    "```python\n",
    "df.column_name.some_method()\n",
    "```\n",
    "</p>\n",
    "</details>"
   ]
  },
  {
   "cell_type": "code",
   "execution_count": 330,
   "metadata": {
    "id": "JoT4NFfBjOcD"
   },
   "outputs": [
    {
     "data": {
      "text/plain": [
       "Timedelta('0 days 00:05:00')"
      ]
     },
     "execution_count": 330,
     "metadata": {},
     "output_type": "execute_result"
    }
   ],
   "source": [
    "df_new.wait_time.median()\n",
    "\n"
   ]
  },
  {
   "cell_type": "markdown",
   "metadata": {
    "id": "FaV8MVErjOcD"
   },
   "source": [
    "## Шаг 14"
   ]
  },
  {
   "cell_type": "markdown",
   "metadata": {
    "id": "IqNPM7VfjOcD"
   },
   "source": [
    "Если клиент сделал заказ к определенному времени (`start_type` == 'reserved'), но ему пришлось ждать машину (`wait_time` > 0), значит, водитель опоздал. **Определите id водителя, который чаще всего опаздывал на заказы, заранее сделанные клиентами**\n",
    "\n",
    "Обратите внимание, данные в колонке `wait_time` имеют тип `timedelta` — разница во времени. Чтобы корректно отобрать записи об опозданиях, вам понадобится не целое число 0, а разница во времени, равная 0. Такую переменную можно создать с помощью функции [pd.to_timedelta](https://pandas.pydata.org/docs/reference/api/pandas.to_timedelta.html), которая конвертирует подаваемый в неё аргумент в значение с типом `timedelta`"
   ]
  },
  {
   "cell_type": "markdown",
   "metadata": {
    "id": "RBbBzumjjOcD"
   },
   "source": [
    "Шаги выполнения:  \n",
    "1. Используя функцию [pd.to_timedelta](https://pandas.pydata.org/docs/reference/api/pandas.to_timedelta.html), создайте переменную, в которой будет храниться разница во времени, равная 0"
   ]
  },
  {
   "cell_type": "markdown",
   "metadata": {
    "id": "hN-D7CSfjOcE"
   },
   "source": [
    "<details>\n",
    "<summary>&#9658; Нажмите сюда, чтобы увидеть подсказку</summary>\n",
    "  <p>\n",
    "    \n",
    "**Как использовать функцию `pd.to_timedelta`?** Подайте в неё единственный аргумент — число 0\n",
    "      \n",
    "**Куда сохранить результат применения этой функции?** Сохраните его новую переменную. Например:\n",
    "```python\n",
    "new_variable = pd.to_timedelta(argument)\n",
    "```  \n",
    "сохранит результат функции `pd.to_timedelta` с аргументом `argument` в переменную `new_variable`\n",
    "</p>\n",
    "</details>"
   ]
  },
  {
   "cell_type": "code",
   "execution_count": 331,
   "metadata": {
    "id": "Zedw6CnEjOcE"
   },
   "outputs": [],
   "source": [
    "timedelta = pd.to_timedelta(0)\n",
    "\n"
   ]
  },
  {
   "cell_type": "markdown",
   "metadata": {
    "id": "oO5jadHWjOcE"
   },
   "source": [
    "2. Оставьте только записи, где `start_type` == 'reserved' и `wait_time` больше, чем разница во времени, равная 0"
   ]
  },
  {
   "cell_type": "markdown",
   "metadata": {
    "id": "QuPfpo4QjOcE"
   },
   "source": [
    "<details>\n",
    "<summary>&#9658; Нажмите сюда, чтобы увидеть подсказку</summary>\n",
    "  <p>\n",
    "\n",
    "**Чтобы отобрать только нужные записи, используйте метод `query()`**, внутри которого напишите строку с двойным условием: значение в колонке `start_type` равно 'reserved' и значение в колонке `wait_time` больше, чем разница во времени, равная 0.\n",
    "\n",
    "**Как использовать метод?** Например применим метод `some_method()` к датафрейму `df`:\n",
    "```python\n",
    "df.some_method()\n",
    "```\n",
    "      \n",
    "Между условиями поставьте логический оператор: `and` (или `&`), если оба условия обязательно должны выполняться. Или оператор `or` (или `|`), если должно выполняться хотя бы одно из условий.\n",
    "      \n",
    "Учтите, что оба условия нужно писать в единых кавычках, а каждое условие и названия колонок — без кавычек. Целые числа и булевы значения (True, False) также пишутся без кавычек, а строки — в кавычках (двойных или одинарных - главное, не тех, в которые взяты оба условия)\n",
    "      \n",
    "Помните, что один знак равно означает присвоение, а два — проверку на равенство.\n",
    "      \n",
    "**Для сравнения с разницей во времени используйте переменную, созданную на 1 шаге выполнения.** Чтобы обратиться к ней внутри `query()`, поставьте перед названием переменной`@`. Например:\n",
    "```python\n",
    "df.query('col_1 == @some_variable')\n",
    "```\n",
    "выберет только те значения в колонке `col_1` датафрейма `df`, которые равны значению в переменной `some_variable`\n",
    "\n",
    "Если фильтруете через loc, ставить `@` не нужно.\n",
    "\n",
    "Если выполняете задание не в JupyterHub нашего курса, то может возникнуть ошибка `ValueError: unknown type object`, тогда в методе `query` задайте параметр `engine='python'`.         \n",
    "</p>\n",
    "</details>"
   ]
  },
  {
   "cell_type": "code",
   "execution_count": 335,
   "metadata": {
    "id": "aWt4_q8EjOcE"
   },
   "outputs": [
    {
     "data": {
      "text/html": [
       "<div>\n",
       "<style scoped>\n",
       "    .dataframe tbody tr th:only-of-type {\n",
       "        vertical-align: middle;\n",
       "    }\n",
       "\n",
       "    .dataframe tbody tr th {\n",
       "        vertical-align: top;\n",
       "    }\n",
       "\n",
       "    .dataframe thead th {\n",
       "        text-align: right;\n",
       "    }\n",
       "</style>\n",
       "<table border=\"1\" class=\"dataframe\">\n",
       "  <thead>\n",
       "    <tr style=\"text-align: right;\">\n",
       "      <th></th>\n",
       "      <th>journey_id</th>\n",
       "      <th>user_id</th>\n",
       "      <th>start_type</th>\n",
       "      <th>start_lat</th>\n",
       "      <th>start_lon</th>\n",
       "      <th>source</th>\n",
       "      <th>driver_score</th>\n",
       "      <th>driver_id</th>\n",
       "      <th>taxi_id</th>\n",
       "      <th>icon</th>\n",
       "      <th>start_at</th>\n",
       "      <th>end_at</th>\n",
       "      <th>end_lat</th>\n",
       "      <th>end_lon</th>\n",
       "      <th>end_state</th>\n",
       "      <th>driver_start_lat</th>\n",
       "      <th>driver_start_lon</th>\n",
       "      <th>arrived_at</th>\n",
       "      <th>rider_score</th>\n",
       "      <th>wait_time</th>\n",
       "    </tr>\n",
       "  </thead>\n",
       "  <tbody>\n",
       "    <tr>\n",
       "      <th>11</th>\n",
       "      <td>af7a0d5b65562d9e4f7749317efb1a3a</td>\n",
       "      <td>7abecd4f47c2c1d5390d86eb22181c90</td>\n",
       "      <td>reserved</td>\n",
       "      <td>-12,10128779</td>\n",
       "      <td>-77,00463697</td>\n",
       "      <td>Android</td>\n",
       "      <td>NaN</td>\n",
       "      <td>d04f1a596fe4a582f48e6eb2f9e8f617</td>\n",
       "      <td>d04f1a596fe4a582f48e6eb2f9e8cceb</td>\n",
       "      <td>executive</td>\n",
       "      <td>2010-11-28 03:15:00</td>\n",
       "      <td>2010-11-28 03:37:00</td>\n",
       "      <td>-12,10112256</td>\n",
       "      <td>-77,00418301</td>\n",
       "      <td>drop off</td>\n",
       "      <td>-12,1011259</td>\n",
       "      <td>-77,0041831</td>\n",
       "      <td>2010-11-28 03:22:00</td>\n",
       "      <td>4.0</td>\n",
       "      <td>0 days 00:07:00</td>\n",
       "    </tr>\n",
       "    <tr>\n",
       "      <th>51</th>\n",
       "      <td>e1b5a14977e84b1900b5b69e040c3de1</td>\n",
       "      <td>1e44c0fd0a266c3719ff30410baa07cd</td>\n",
       "      <td>reserved</td>\n",
       "      <td>-12,11184692</td>\n",
       "      <td>-77,03222656</td>\n",
       "      <td>iPhone</td>\n",
       "      <td>NaN</td>\n",
       "      <td>ae06c34243f741e203e97c48ebcbd9da</td>\n",
       "      <td>f622a9397b85b5c9c0ef938c5d592020</td>\n",
       "      <td>executive</td>\n",
       "      <td>2010-10-12 19:45:00</td>\n",
       "      <td>2010-10-12 20:49:00</td>\n",
       "      <td>-12,02226257</td>\n",
       "      <td>-77,109375</td>\n",
       "      <td>drop off</td>\n",
       "      <td>-12,02907305</td>\n",
       "      <td>-77,08317745</td>\n",
       "      <td>2010-10-12 19:56:00</td>\n",
       "      <td>5.0</td>\n",
       "      <td>0 days 00:11:00</td>\n",
       "    </tr>\n",
       "    <tr>\n",
       "      <th>67</th>\n",
       "      <td>eb06449983dd990ff162c0ad990909ba</td>\n",
       "      <td>933a5cf7834b12121755b8586b53a083</td>\n",
       "      <td>reserved</td>\n",
       "      <td>-12,12078476</td>\n",
       "      <td>-76,97079468</td>\n",
       "      <td>iPhone</td>\n",
       "      <td>4.0</td>\n",
       "      <td>406921adcca37705ef527b4246c0cfea</td>\n",
       "      <td>406921adcca37705ef527b4246c10d2c</td>\n",
       "      <td>executive</td>\n",
       "      <td>2010-06-01 22:00:00</td>\n",
       "      <td>2010-06-01 22:42:00</td>\n",
       "      <td>-12,07870483</td>\n",
       "      <td>-77,06329346</td>\n",
       "      <td>drop off</td>\n",
       "      <td>-12,11143646</td>\n",
       "      <td>-76,99240794</td>\n",
       "      <td>2010-06-01 22:01:00</td>\n",
       "      <td>5.0</td>\n",
       "      <td>0 days 00:01:00</td>\n",
       "    </tr>\n",
       "    <tr>\n",
       "      <th>83</th>\n",
       "      <td>cd6a65a00f3ac91060d336a9f037f7f6</td>\n",
       "      <td>cb6ea169cefc7a0a5f1f8bd8ebbe3223</td>\n",
       "      <td>reserved</td>\n",
       "      <td>-12,10181985</td>\n",
       "      <td>-76,97150599</td>\n",
       "      <td>Android</td>\n",
       "      <td>0.0</td>\n",
       "      <td>baacf396f773709519bbde35a5eab861</td>\n",
       "      <td>baacf396f773709519bbde35a585d91b</td>\n",
       "      <td>executive</td>\n",
       "      <td>2010-08-16 22:30:00</td>\n",
       "      <td>2010-08-16 22:57:00</td>\n",
       "      <td>-12,08880914</td>\n",
       "      <td>-76,99084405</td>\n",
       "      <td>drop off</td>\n",
       "      <td>-12,06300311</td>\n",
       "      <td>-76,94575123</td>\n",
       "      <td>2010-08-16 22:33:00</td>\n",
       "      <td>4.0</td>\n",
       "      <td>0 days 00:03:00</td>\n",
       "    </tr>\n",
       "    <tr>\n",
       "      <th>157</th>\n",
       "      <td>e1332f68e81526e498e4d845233a17ee</td>\n",
       "      <td>be2d7041cb5bae52cf3edaaf03798426</td>\n",
       "      <td>reserved</td>\n",
       "      <td>-12,0966369</td>\n",
       "      <td>-77,0295319</td>\n",
       "      <td>web</td>\n",
       "      <td>NaN</td>\n",
       "      <td>65b6f3b7075270499ddd0f1dc1130459</td>\n",
       "      <td>f78d50ea4f0c83a4a302d9fa82264b02</td>\n",
       "      <td>executive</td>\n",
       "      <td>2010-03-27 23:30:00</td>\n",
       "      <td>2010-03-28 00:25:00</td>\n",
       "      <td>-12,1249782</td>\n",
       "      <td>-77,0048048</td>\n",
       "      <td>drop off</td>\n",
       "      <td>-12,08623295</td>\n",
       "      <td>-77,03547408</td>\n",
       "      <td>2010-03-27 23:31:00</td>\n",
       "      <td>5.0</td>\n",
       "      <td>0 days 00:01:00</td>\n",
       "    </tr>\n",
       "    <tr>\n",
       "      <th>...</th>\n",
       "      <td>...</td>\n",
       "      <td>...</td>\n",
       "      <td>...</td>\n",
       "      <td>...</td>\n",
       "      <td>...</td>\n",
       "      <td>...</td>\n",
       "      <td>...</td>\n",
       "      <td>...</td>\n",
       "      <td>...</td>\n",
       "      <td>...</td>\n",
       "      <td>...</td>\n",
       "      <td>...</td>\n",
       "      <td>...</td>\n",
       "      <td>...</td>\n",
       "      <td>...</td>\n",
       "      <td>...</td>\n",
       "      <td>...</td>\n",
       "      <td>...</td>\n",
       "      <td>...</td>\n",
       "      <td>...</td>\n",
       "    </tr>\n",
       "    <tr>\n",
       "      <th>11489</th>\n",
       "      <td>883360491194dd3b866c897b2586a1d7</td>\n",
       "      <td>406921adcca37705ef527b4246c1370e</td>\n",
       "      <td>reserved</td>\n",
       "      <td>-12,0918521</td>\n",
       "      <td>-77,0519091</td>\n",
       "      <td>web</td>\n",
       "      <td>NaN</td>\n",
       "      <td>27c157e605c56c7df70c605963e1d386</td>\n",
       "      <td>27c157e605c56c7df70c605963e1c9b7</td>\n",
       "      <td>executive</td>\n",
       "      <td>2010-02-14 13:45:00</td>\n",
       "      <td>2010-02-14 14:19:00</td>\n",
       "      <td>-12,1593476</td>\n",
       "      <td>-77,0232917</td>\n",
       "      <td>drop off</td>\n",
       "      <td>-12,0735807</td>\n",
       "      <td>-77,04195549</td>\n",
       "      <td>2010-02-14 13:49:00</td>\n",
       "      <td>NaN</td>\n",
       "      <td>0 days 00:04:00</td>\n",
       "    </tr>\n",
       "    <tr>\n",
       "      <th>11492</th>\n",
       "      <td>88a0d8a123b3c1b2f39bec89da7b30ae</td>\n",
       "      <td>406921adcca37705ef527b4246c12e83</td>\n",
       "      <td>reserved</td>\n",
       "      <td>-12,0918423</td>\n",
       "      <td>-77,0421839</td>\n",
       "      <td>web</td>\n",
       "      <td>NaN</td>\n",
       "      <td>406921adcca37705ef527b4246c19db3</td>\n",
       "      <td>406921adcca37705ef527b4246c1a5c6</td>\n",
       "      <td>executive</td>\n",
       "      <td>2010-05-07 13:20:00</td>\n",
       "      <td>2010-05-07 14:13:00</td>\n",
       "      <td>-12,0914361</td>\n",
       "      <td>-77,0857564</td>\n",
       "      <td>drop off</td>\n",
       "      <td>-12,03970949</td>\n",
       "      <td>-77,05231815</td>\n",
       "      <td>2010-05-07 13:21:00</td>\n",
       "      <td>5.0</td>\n",
       "      <td>0 days 00:01:00</td>\n",
       "    </tr>\n",
       "    <tr>\n",
       "      <th>11498</th>\n",
       "      <td>8b9ae8141b48ed1643e02dbc76aa2290</td>\n",
       "      <td>0f0ffd9676b4aa664f8b88b76ca90cf4</td>\n",
       "      <td>reserved</td>\n",
       "      <td>-12,0780836</td>\n",
       "      <td>-77,0906339</td>\n",
       "      <td>web</td>\n",
       "      <td>NaN</td>\n",
       "      <td>406921adcca37705ef527b4246c19db3</td>\n",
       "      <td>406921adcca37705ef527b4246c1a5c6</td>\n",
       "      <td>executive</td>\n",
       "      <td>2010-05-09 01:30:00</td>\n",
       "      <td>2010-05-09 02:50:00</td>\n",
       "      <td>-12,019468</td>\n",
       "      <td>-77,107768</td>\n",
       "      <td>drop off</td>\n",
       "      <td>-12,05495955</td>\n",
       "      <td>-77,05101171</td>\n",
       "      <td>2010-05-09 01:40:00</td>\n",
       "      <td>NaN</td>\n",
       "      <td>0 days 00:10:00</td>\n",
       "    </tr>\n",
       "    <tr>\n",
       "      <th>11508</th>\n",
       "      <td>4a645cbfd25b64d34f738808637353ca</td>\n",
       "      <td>4a645cbfd25b64d34f738808634b36bf</td>\n",
       "      <td>reserved</td>\n",
       "      <td>-12,0770342</td>\n",
       "      <td>-76,9885396</td>\n",
       "      <td>web</td>\n",
       "      <td>NaN</td>\n",
       "      <td>eeb07ac5409c082354b923689341b9ec</td>\n",
       "      <td>aba044a086704ad7e9dc66b8c926408d</td>\n",
       "      <td>executive</td>\n",
       "      <td>2010-04-16 15:15:00</td>\n",
       "      <td>2010-04-16 15:40:00</td>\n",
       "      <td>-12,1088702</td>\n",
       "      <td>-76,9886223</td>\n",
       "      <td>drop off</td>\n",
       "      <td>-12,04602095</td>\n",
       "      <td>-77,02585903</td>\n",
       "      <td>2010-04-16 15:18:00</td>\n",
       "      <td>NaN</td>\n",
       "      <td>0 days 00:03:00</td>\n",
       "    </tr>\n",
       "    <tr>\n",
       "      <th>11549</th>\n",
       "      <td>c21605b791b47423867a99d06f47a972</td>\n",
       "      <td>35e7f74c2fbd27db816811036af892e5</td>\n",
       "      <td>reserved</td>\n",
       "      <td>-12,1119515</td>\n",
       "      <td>-77,0507767</td>\n",
       "      <td>web</td>\n",
       "      <td>NaN</td>\n",
       "      <td>56f59b58bcbbd1cdabc3652e713134c2</td>\n",
       "      <td>924d4f0e7554566623e8ebb3904a7b0c</td>\n",
       "      <td>executive</td>\n",
       "      <td>2010-04-04 17:00:00</td>\n",
       "      <td>2010-04-04 17:37:00</td>\n",
       "      <td>-12,0793063</td>\n",
       "      <td>-77,0874744</td>\n",
       "      <td>drop off</td>\n",
       "      <td>-12,1115584</td>\n",
       "      <td>-77,0123847</td>\n",
       "      <td>2010-04-04 17:06:00</td>\n",
       "      <td>NaN</td>\n",
       "      <td>0 days 00:06:00</td>\n",
       "    </tr>\n",
       "  </tbody>\n",
       "</table>\n",
       "<p>1058 rows × 20 columns</p>\n",
       "</div>"
      ],
      "text/plain": [
       "                             journey_id                           user_id  \\\n",
       "11     af7a0d5b65562d9e4f7749317efb1a3a  7abecd4f47c2c1d5390d86eb22181c90   \n",
       "51     e1b5a14977e84b1900b5b69e040c3de1  1e44c0fd0a266c3719ff30410baa07cd   \n",
       "67     eb06449983dd990ff162c0ad990909ba  933a5cf7834b12121755b8586b53a083   \n",
       "83     cd6a65a00f3ac91060d336a9f037f7f6  cb6ea169cefc7a0a5f1f8bd8ebbe3223   \n",
       "157    e1332f68e81526e498e4d845233a17ee  be2d7041cb5bae52cf3edaaf03798426   \n",
       "...                                 ...                               ...   \n",
       "11489  883360491194dd3b866c897b2586a1d7  406921adcca37705ef527b4246c1370e   \n",
       "11492  88a0d8a123b3c1b2f39bec89da7b30ae  406921adcca37705ef527b4246c12e83   \n",
       "11498  8b9ae8141b48ed1643e02dbc76aa2290  0f0ffd9676b4aa664f8b88b76ca90cf4   \n",
       "11508  4a645cbfd25b64d34f738808637353ca  4a645cbfd25b64d34f738808634b36bf   \n",
       "11549  c21605b791b47423867a99d06f47a972  35e7f74c2fbd27db816811036af892e5   \n",
       "\n",
       "      start_type     start_lat     start_lon   source  driver_score  \\\n",
       "11      reserved  -12,10128779  -77,00463697  Android           NaN   \n",
       "51      reserved  -12,11184692  -77,03222656   iPhone           NaN   \n",
       "67      reserved  -12,12078476  -76,97079468   iPhone           4.0   \n",
       "83      reserved  -12,10181985  -76,97150599  Android           0.0   \n",
       "157     reserved   -12,0966369   -77,0295319      web           NaN   \n",
       "...          ...           ...           ...      ...           ...   \n",
       "11489   reserved   -12,0918521   -77,0519091      web           NaN   \n",
       "11492   reserved   -12,0918423   -77,0421839      web           NaN   \n",
       "11498   reserved   -12,0780836   -77,0906339      web           NaN   \n",
       "11508   reserved   -12,0770342   -76,9885396      web           NaN   \n",
       "11549   reserved   -12,1119515   -77,0507767      web           NaN   \n",
       "\n",
       "                              driver_id                           taxi_id  \\\n",
       "11     d04f1a596fe4a582f48e6eb2f9e8f617  d04f1a596fe4a582f48e6eb2f9e8cceb   \n",
       "51     ae06c34243f741e203e97c48ebcbd9da  f622a9397b85b5c9c0ef938c5d592020   \n",
       "67     406921adcca37705ef527b4246c0cfea  406921adcca37705ef527b4246c10d2c   \n",
       "83     baacf396f773709519bbde35a5eab861  baacf396f773709519bbde35a585d91b   \n",
       "157    65b6f3b7075270499ddd0f1dc1130459  f78d50ea4f0c83a4a302d9fa82264b02   \n",
       "...                                 ...                               ...   \n",
       "11489  27c157e605c56c7df70c605963e1d386  27c157e605c56c7df70c605963e1c9b7   \n",
       "11492  406921adcca37705ef527b4246c19db3  406921adcca37705ef527b4246c1a5c6   \n",
       "11498  406921adcca37705ef527b4246c19db3  406921adcca37705ef527b4246c1a5c6   \n",
       "11508  eeb07ac5409c082354b923689341b9ec  aba044a086704ad7e9dc66b8c926408d   \n",
       "11549  56f59b58bcbbd1cdabc3652e713134c2  924d4f0e7554566623e8ebb3904a7b0c   \n",
       "\n",
       "            icon            start_at              end_at       end_lat  \\\n",
       "11     executive 2010-11-28 03:15:00 2010-11-28 03:37:00  -12,10112256   \n",
       "51     executive 2010-10-12 19:45:00 2010-10-12 20:49:00  -12,02226257   \n",
       "67     executive 2010-06-01 22:00:00 2010-06-01 22:42:00  -12,07870483   \n",
       "83     executive 2010-08-16 22:30:00 2010-08-16 22:57:00  -12,08880914   \n",
       "157    executive 2010-03-27 23:30:00 2010-03-28 00:25:00   -12,1249782   \n",
       "...          ...                 ...                 ...           ...   \n",
       "11489  executive 2010-02-14 13:45:00 2010-02-14 14:19:00   -12,1593476   \n",
       "11492  executive 2010-05-07 13:20:00 2010-05-07 14:13:00   -12,0914361   \n",
       "11498  executive 2010-05-09 01:30:00 2010-05-09 02:50:00    -12,019468   \n",
       "11508  executive 2010-04-16 15:15:00 2010-04-16 15:40:00   -12,1088702   \n",
       "11549  executive 2010-04-04 17:00:00 2010-04-04 17:37:00   -12,0793063   \n",
       "\n",
       "            end_lon end_state driver_start_lat driver_start_lon  \\\n",
       "11     -77,00418301  drop off      -12,1011259      -77,0041831   \n",
       "51       -77,109375  drop off     -12,02907305     -77,08317745   \n",
       "67     -77,06329346  drop off     -12,11143646     -76,99240794   \n",
       "83     -76,99084405  drop off     -12,06300311     -76,94575123   \n",
       "157     -77,0048048  drop off     -12,08623295     -77,03547408   \n",
       "...             ...       ...              ...              ...   \n",
       "11489   -77,0232917  drop off      -12,0735807     -77,04195549   \n",
       "11492   -77,0857564  drop off     -12,03970949     -77,05231815   \n",
       "11498    -77,107768  drop off     -12,05495955     -77,05101171   \n",
       "11508   -76,9886223  drop off     -12,04602095     -77,02585903   \n",
       "11549   -77,0874744  drop off      -12,1115584      -77,0123847   \n",
       "\n",
       "               arrived_at  rider_score       wait_time  \n",
       "11    2010-11-28 03:22:00          4.0 0 days 00:07:00  \n",
       "51    2010-10-12 19:56:00          5.0 0 days 00:11:00  \n",
       "67    2010-06-01 22:01:00          5.0 0 days 00:01:00  \n",
       "83    2010-08-16 22:33:00          4.0 0 days 00:03:00  \n",
       "157   2010-03-27 23:31:00          5.0 0 days 00:01:00  \n",
       "...                   ...          ...             ...  \n",
       "11489 2010-02-14 13:49:00          NaN 0 days 00:04:00  \n",
       "11492 2010-05-07 13:21:00          5.0 0 days 00:01:00  \n",
       "11498 2010-05-09 01:40:00          NaN 0 days 00:10:00  \n",
       "11508 2010-04-16 15:18:00          NaN 0 days 00:03:00  \n",
       "11549 2010-04-04 17:06:00          NaN 0 days 00:06:00  \n",
       "\n",
       "[1058 rows x 20 columns]"
      ]
     },
     "execution_count": 335,
     "metadata": {},
     "output_type": "execute_result"
    }
   ],
   "source": [
    "df_new.query(\"start_type == 'reserved' and wait_time > @timedelta\")\n",
    "\n"
   ]
  },
  {
   "cell_type": "markdown",
   "metadata": {
    "id": "9wPXA5oBjOcE"
   },
   "source": [
    "3. Посчитайте количество оставшихся записей для каждого водителя"
   ]
  },
  {
   "cell_type": "markdown",
   "metadata": {
    "id": "PX2VWmiGjOcF"
   },
   "source": [
    "<details>\n",
    "<summary>&#9658; Нажмите сюда, чтобы увидеть подсказку</summary>\n",
    "  <p>\n",
    "\n",
    "**Используйте метод `value_counts()`**, применив его к столбцу `driver_id`. Этот метод возвращает серию, где индексы — это уникальные значения из столбца, а значения — это число их встречаний (количество строк с таким значением).\n",
    "      \n",
    "**Как использовать метод?** Например применим метод `some_method()` к колонке `column_name` датафрейма `df`:\n",
    "```python\n",
    "df.column_name.some_method()\n",
    "```\n",
    "</p>\n",
    "</details>"
   ]
  },
  {
   "cell_type": "code",
   "execution_count": 346,
   "metadata": {
    "id": "eJoSTrj1jOcF"
   },
   "outputs": [
    {
     "data": {
      "text/html": [
       "<div>\n",
       "<style scoped>\n",
       "    .dataframe tbody tr th:only-of-type {\n",
       "        vertical-align: middle;\n",
       "    }\n",
       "\n",
       "    .dataframe tbody tr th {\n",
       "        vertical-align: top;\n",
       "    }\n",
       "\n",
       "    .dataframe thead th {\n",
       "        text-align: right;\n",
       "    }\n",
       "</style>\n",
       "<table border=\"1\" class=\"dataframe\">\n",
       "  <thead>\n",
       "    <tr style=\"text-align: right;\">\n",
       "      <th></th>\n",
       "      <th>count_delays</th>\n",
       "    </tr>\n",
       "    <tr>\n",
       "      <th>driver_id</th>\n",
       "      <th></th>\n",
       "    </tr>\n",
       "  </thead>\n",
       "  <tbody>\n",
       "    <tr>\n",
       "      <th>406921adcca37705ef527b4246c0cfea</th>\n",
       "      <td>67</td>\n",
       "    </tr>\n",
       "    <tr>\n",
       "      <th>d665fb9f75ef5d9cd0fd89479380ba78</th>\n",
       "      <td>59</td>\n",
       "    </tr>\n",
       "    <tr>\n",
       "      <th>ec84a73745199ff840ecafcb924383ad</th>\n",
       "      <td>57</td>\n",
       "    </tr>\n",
       "    <tr>\n",
       "      <th>56f59b58bcbbd1cdabc3652e713134c2</th>\n",
       "      <td>51</td>\n",
       "    </tr>\n",
       "    <tr>\n",
       "      <th>c814db2127582cf95dea1f74f43127c2</th>\n",
       "      <td>45</td>\n",
       "    </tr>\n",
       "    <tr>\n",
       "      <th>...</th>\n",
       "      <td>...</td>\n",
       "    </tr>\n",
       "    <tr>\n",
       "      <th>d7bf644eb441cda6127f91addebb85c4</th>\n",
       "      <td>1</td>\n",
       "    </tr>\n",
       "    <tr>\n",
       "      <th>b68895736389f2949faa8c73555b81ac</th>\n",
       "      <td>1</td>\n",
       "    </tr>\n",
       "    <tr>\n",
       "      <th>8cb98e46b27af1e6fca8768a2a6329f3</th>\n",
       "      <td>1</td>\n",
       "    </tr>\n",
       "    <tr>\n",
       "      <th>389bfa333ba8fa7281dd5f0e1b57c0c1</th>\n",
       "      <td>1</td>\n",
       "    </tr>\n",
       "    <tr>\n",
       "      <th>358741ec2409c505c4545c38669b000b</th>\n",
       "      <td>1</td>\n",
       "    </tr>\n",
       "  </tbody>\n",
       "</table>\n",
       "<p>105 rows × 1 columns</p>\n",
       "</div>"
      ],
      "text/plain": [
       "                                  count_delays\n",
       "driver_id                                     \n",
       "406921adcca37705ef527b4246c0cfea            67\n",
       "d665fb9f75ef5d9cd0fd89479380ba78            59\n",
       "ec84a73745199ff840ecafcb924383ad            57\n",
       "56f59b58bcbbd1cdabc3652e713134c2            51\n",
       "c814db2127582cf95dea1f74f43127c2            45\n",
       "...                                        ...\n",
       "d7bf644eb441cda6127f91addebb85c4             1\n",
       "b68895736389f2949faa8c73555b81ac             1\n",
       "8cb98e46b27af1e6fca8768a2a6329f3             1\n",
       "389bfa333ba8fa7281dd5f0e1b57c0c1             1\n",
       "358741ec2409c505c4545c38669b000b             1\n",
       "\n",
       "[105 rows x 1 columns]"
      ]
     },
     "execution_count": 346,
     "metadata": {},
     "output_type": "execute_result"
    }
   ],
   "source": [
    "df_new.query(\"start_type == 'reserved' and wait_time > @timedelta\") \\\n",
    "    .groupby('driver_id') \\\n",
    "    .agg({'driver_id' : 'count'}) \\\n",
    "    .rename(columns={'driver_id' : 'count_delays'}) \\\n",
    "    .sort_values('count_delays', ascending=False)\n",
    "\n"
   ]
  },
  {
   "cell_type": "code",
   "execution_count": 350,
   "metadata": {},
   "outputs": [
    {
     "data": {
      "text/plain": [
       "406921adcca37705ef527b4246c0cfea    67\n",
       "d665fb9f75ef5d9cd0fd89479380ba78    59\n",
       "ec84a73745199ff840ecafcb924383ad    57\n",
       "56f59b58bcbbd1cdabc3652e713134c2    51\n",
       "c814db2127582cf95dea1f74f43127c2    45\n",
       "                                    ..\n",
       "5ced91860ba5d7fe2859267c89529e71     1\n",
       "d7bf644eb441cda6127f91addebb85c4     1\n",
       "36c09cf37ce9cd241ffd160d17d6bcf9     1\n",
       "b44159c128d31f55629260b671ab83ac     1\n",
       "761737b194876dd53761a03c958f7660     1\n",
       "Name: driver_id, Length: 105, dtype: int64"
      ]
     },
     "execution_count": 350,
     "metadata": {},
     "output_type": "execute_result"
    }
   ],
   "source": [
    "df_new.query(\"start_type == 'reserved' and wait_time > @timedelta\") \\\n",
    "    .driver_id.value_counts()"
   ]
  },
  {
   "cell_type": "markdown",
   "metadata": {
    "id": "vgPeV4MyjOcF"
   },
   "source": [
    "4. Определите id водителя, который чаще всего опаздывал на заказы"
   ]
  },
  {
   "cell_type": "markdown",
   "metadata": {
    "id": "G5ehz_YajOcF"
   },
   "source": [
    "<details>\n",
    "<summary>&#9658; Нажмите сюда, чтобы увидеть подсказку</summary>\n",
    "  <p>\n",
    "\n",
    "Используйте метод `idxmax()`.\n",
    "\n",
    "Как использовать метод? Например применим метод `some_method()` к серии `series`:\n",
    "```python\n",
    "series.some_method()\n",
    "```\n",
    "</p>\n",
    "</details>"
   ]
  },
  {
   "cell_type": "code",
   "execution_count": 357,
   "metadata": {
    "id": "tQf-nwlDjOcF"
   },
   "outputs": [],
   "source": [
    "df = df_new.query(\"start_type == 'reserved' and wait_time > @timedelta\") \\\n",
    "    .groupby('driver_id') \\\n",
    "    .agg({'driver_id' : 'count'}) \\\n",
    "    .rename(columns={'driver_id' : 'count_delays'}) \\\n",
    "    .sort_values('count_delays', ascending=False)\n",
    "\n"
   ]
  },
  {
   "cell_type": "markdown",
   "metadata": {
    "id": "NVd_aJqFjOcF"
   },
   "source": [
    "## Шаг 15"
   ]
  },
  {
   "cell_type": "markdown",
   "metadata": {
    "id": "0zOY1BTHjOcG"
   },
   "source": [
    "**Подумайте, что может влиять на число опозданий водителя из прошлого задания.** Проанализируйте имеющиеся у вас данные и выберите один или несколько вариантов:  \n",
    "- Число взятых заказов  \n",
    "- Оценки, поставленные этим водителем его пассажирам  \n",
    "- Непунктуальность водителя (доля опозданий от всех его поездок у этого водителя больше, чем соответствующие доли у всех остальных водителей)\n",
    "- Цвет его машины"
   ]
  },
  {
   "cell_type": "markdown",
   "metadata": {
    "id": "wyCxl-1njOcG"
   },
   "source": [
    "Шаги выполнения:  \n",
    "1. Проверьте гипотезу, что на количество опозданий водителя повлияло число взятых им заказов"
   ]
  },
  {
   "cell_type": "markdown",
   "metadata": {
    "id": "ylelJEW9jOcG"
   },
   "source": [
    "<details>\n",
    "<summary>&#9658; Нажмите сюда, чтобы увидеть подсказку</summary>\n",
    "  <p>\n",
    "\n",
    "Посмотрите на топ водителей по числу поездок и топ опаздывающих водителей — пересекаются ли они?\n",
    "</p>\n",
    "</details>"
   ]
  },
  {
   "cell_type": "code",
   "execution_count": 360,
   "metadata": {
    "id": "Gc_0jWOujOcG"
   },
   "outputs": [],
   "source": [
    "df1 = df_new.groupby('driver_id') \\\n",
    "    .agg({'journey_id' : 'count'}) \\\n",
    "    .sort_values('journey_id', ascending=False) \\\n",
    "    .rename(columns={'journey_id' : 'count_trips'})\n",
    "    \n"
   ]
  },
  {
   "cell_type": "markdown",
   "metadata": {
    "id": "6cSv7ftijOcG"
   },
   "source": [
    "2. Проверьте гипотезу о том, что на количество опозданий водителя повлияли оценки, поставленные этим водителем его пассажирам"
   ]
  },
  {
   "cell_type": "markdown",
   "metadata": {
    "id": "NuUiAPbJjOcG"
   },
   "source": [
    "<details>\n",
    "<summary>&#9658; Нажмите сюда, чтобы увидеть подсказку</summary>\n",
    "  <p>\n",
    "\n",
    "Подумайте, могли ли такие оценки повлиять на время подачи машины\n",
    "</p>\n",
    "</details>"
   ]
  },
  {
   "cell_type": "code",
   "execution_count": 364,
   "metadata": {
    "id": "kcv0LkbcjOcG"
   },
   "outputs": [],
   "source": [
    "df2 = df_new.groupby('driver_id').mean()\n",
    "\n"
   ]
  },
  {
   "cell_type": "markdown",
   "metadata": {
    "id": "Wir390HIjOcG"
   },
   "source": [
    "3. Проверьте гипотезу о том, что на количество опозданий водителя повлияла непунктуальность водителя (опаздывает чаще остальных)"
   ]
  },
  {
   "cell_type": "markdown",
   "metadata": {
    "id": "9e427jmqjOcG"
   },
   "source": [
    "<details>\n",
    "<summary>&#9658; Нажмите сюда, чтобы увидеть подсказку</summary>\n",
    "  <p>\n",
    "\n",
    "Посмотрите на долю опозданий нашего водителя — больше ли она у него, чем у большинства других водителей.\n",
    "</p>\n",
    "</details>"
   ]
  },
  {
   "cell_type": "code",
   "execution_count": 390,
   "metadata": {
    "id": "sg30B06CjOcG"
   },
   "outputs": [],
   "source": [
    "df3 = df_new.query(\"start_type == 'reserved' and wait_time > @timedelta\") \\\n",
    "    .groupby('driver_id') \\\n",
    "    .agg({'driver_id' : 'count'}) \\\n",
    "    .rename(columns={'driver_id' : 'count_delays'})"
   ]
  },
  {
   "cell_type": "code",
   "execution_count": 403,
   "metadata": {},
   "outputs": [],
   "source": [
    "df4 = df3.count_delays / df3.count_delays.sum()"
   ]
  },
  {
   "cell_type": "code",
   "execution_count": 404,
   "metadata": {},
   "outputs": [
    {
     "data": {
      "text/plain": [
       "driver_id\n",
       "0aa51cbf1d21c8c6462dbf0e10028a07    0.007561\n",
       "0fd4a08189ac948f6beaa2d314c6a7ea    0.001890\n",
       "1083bcecf6e3df9df65525ec3a66b5fb    0.005671\n",
       "1238e44402a93366489cbff9884d463c    0.003781\n",
       "12c472dd8efc6ed622ae8669251b82f1    0.003781\n",
       "                                      ...   \n",
       "fa5c3d1ad73379ba86b960210e63d537    0.000945\n",
       "fb81277200c0aea311ad85f90d548d5a    0.005671\n",
       "fdba41f4b66d90ed7863fce32b97a19f    0.000945\n",
       "ff5c924e0b630fd7c019a4234059081c    0.004726\n",
       "ff5c924e0b630fd7c019a4234059fdf4    0.039698\n",
       "Name: count_delays, Length: 105, dtype: float64"
      ]
     },
     "execution_count": 404,
     "metadata": {},
     "output_type": "execute_result"
    }
   ],
   "source": [
    "df4"
   ]
  },
  {
   "cell_type": "code",
   "execution_count": 409,
   "metadata": {},
   "outputs": [
    {
     "data": {
      "text/html": [
       "<div>\n",
       "<style scoped>\n",
       "    .dataframe tbody tr th:only-of-type {\n",
       "        vertical-align: middle;\n",
       "    }\n",
       "\n",
       "    .dataframe tbody tr th {\n",
       "        vertical-align: top;\n",
       "    }\n",
       "\n",
       "    .dataframe thead th {\n",
       "        text-align: right;\n",
       "    }\n",
       "</style>\n",
       "<table border=\"1\" class=\"dataframe\">\n",
       "  <thead>\n",
       "    <tr style=\"text-align: right;\">\n",
       "      <th></th>\n",
       "      <th>count_delays_x</th>\n",
       "      <th>count_trips</th>\n",
       "      <th>driver_score</th>\n",
       "      <th>rider_score</th>\n",
       "      <th>count_late</th>\n",
       "      <th>proportion_late</th>\n",
       "    </tr>\n",
       "    <tr>\n",
       "      <th>driver_id</th>\n",
       "      <th></th>\n",
       "      <th></th>\n",
       "      <th></th>\n",
       "      <th></th>\n",
       "      <th></th>\n",
       "      <th></th>\n",
       "    </tr>\n",
       "  </thead>\n",
       "  <tbody>\n",
       "    <tr>\n",
       "      <th>406921adcca37705ef527b4246c0cfea</th>\n",
       "      <td>67</td>\n",
       "      <td>1075</td>\n",
       "      <td>4.043280</td>\n",
       "      <td>4.932530</td>\n",
       "      <td>67</td>\n",
       "      <td>0.063327</td>\n",
       "    </tr>\n",
       "    <tr>\n",
       "      <th>d665fb9f75ef5d9cd0fd89479380ba78</th>\n",
       "      <td>59</td>\n",
       "      <td>1225</td>\n",
       "      <td>3.944882</td>\n",
       "      <td>4.950156</td>\n",
       "      <td>59</td>\n",
       "      <td>0.055766</td>\n",
       "    </tr>\n",
       "    <tr>\n",
       "      <th>ec84a73745199ff840ecafcb924383ad</th>\n",
       "      <td>57</td>\n",
       "      <td>974</td>\n",
       "      <td>3.785933</td>\n",
       "      <td>4.922882</td>\n",
       "      <td>57</td>\n",
       "      <td>0.053875</td>\n",
       "    </tr>\n",
       "    <tr>\n",
       "      <th>56f59b58bcbbd1cdabc3652e713134c2</th>\n",
       "      <td>51</td>\n",
       "      <td>481</td>\n",
       "      <td>3.502538</td>\n",
       "      <td>4.120112</td>\n",
       "      <td>51</td>\n",
       "      <td>0.048204</td>\n",
       "    </tr>\n",
       "    <tr>\n",
       "      <th>c814db2127582cf95dea1f74f43127c2</th>\n",
       "      <td>45</td>\n",
       "      <td>1523</td>\n",
       "      <td>4.229630</td>\n",
       "      <td>4.972266</td>\n",
       "      <td>45</td>\n",
       "      <td>0.042533</td>\n",
       "    </tr>\n",
       "    <tr>\n",
       "      <th>...</th>\n",
       "      <td>...</td>\n",
       "      <td>...</td>\n",
       "      <td>...</td>\n",
       "      <td>...</td>\n",
       "      <td>...</td>\n",
       "      <td>...</td>\n",
       "    </tr>\n",
       "    <tr>\n",
       "      <th>d7bf644eb441cda6127f91addebb85c4</th>\n",
       "      <td>1</td>\n",
       "      <td>13</td>\n",
       "      <td>3.600000</td>\n",
       "      <td>2.500000</td>\n",
       "      <td>1</td>\n",
       "      <td>0.000945</td>\n",
       "    </tr>\n",
       "    <tr>\n",
       "      <th>b68895736389f2949faa8c73555b81ac</th>\n",
       "      <td>1</td>\n",
       "      <td>84</td>\n",
       "      <td>3.742857</td>\n",
       "      <td>4.907407</td>\n",
       "      <td>1</td>\n",
       "      <td>0.000945</td>\n",
       "    </tr>\n",
       "    <tr>\n",
       "      <th>8cb98e46b27af1e6fca8768a2a6329f3</th>\n",
       "      <td>1</td>\n",
       "      <td>21</td>\n",
       "      <td>1.000000</td>\n",
       "      <td>4.238095</td>\n",
       "      <td>1</td>\n",
       "      <td>0.000945</td>\n",
       "    </tr>\n",
       "    <tr>\n",
       "      <th>389bfa333ba8fa7281dd5f0e1b57c0c1</th>\n",
       "      <td>1</td>\n",
       "      <td>23</td>\n",
       "      <td>4.400000</td>\n",
       "      <td>5.000000</td>\n",
       "      <td>1</td>\n",
       "      <td>0.000945</td>\n",
       "    </tr>\n",
       "    <tr>\n",
       "      <th>358741ec2409c505c4545c38669b000b</th>\n",
       "      <td>1</td>\n",
       "      <td>4</td>\n",
       "      <td>NaN</td>\n",
       "      <td>4.000000</td>\n",
       "      <td>1</td>\n",
       "      <td>0.000945</td>\n",
       "    </tr>\n",
       "  </tbody>\n",
       "</table>\n",
       "<p>105 rows × 6 columns</p>\n",
       "</div>"
      ],
      "text/plain": [
       "                                  count_delays_x  count_trips  driver_score  \\\n",
       "driver_id                                                                     \n",
       "406921adcca37705ef527b4246c0cfea              67         1075      4.043280   \n",
       "d665fb9f75ef5d9cd0fd89479380ba78              59         1225      3.944882   \n",
       "ec84a73745199ff840ecafcb924383ad              57          974      3.785933   \n",
       "56f59b58bcbbd1cdabc3652e713134c2              51          481      3.502538   \n",
       "c814db2127582cf95dea1f74f43127c2              45         1523      4.229630   \n",
       "...                                          ...          ...           ...   \n",
       "d7bf644eb441cda6127f91addebb85c4               1           13      3.600000   \n",
       "b68895736389f2949faa8c73555b81ac               1           84      3.742857   \n",
       "8cb98e46b27af1e6fca8768a2a6329f3               1           21      1.000000   \n",
       "389bfa333ba8fa7281dd5f0e1b57c0c1               1           23      4.400000   \n",
       "358741ec2409c505c4545c38669b000b               1            4           NaN   \n",
       "\n",
       "                                  rider_score  count_late  proportion_late  \n",
       "driver_id                                                                   \n",
       "406921adcca37705ef527b4246c0cfea     4.932530          67         0.063327  \n",
       "d665fb9f75ef5d9cd0fd89479380ba78     4.950156          59         0.055766  \n",
       "ec84a73745199ff840ecafcb924383ad     4.922882          57         0.053875  \n",
       "56f59b58bcbbd1cdabc3652e713134c2     4.120112          51         0.048204  \n",
       "c814db2127582cf95dea1f74f43127c2     4.972266          45         0.042533  \n",
       "...                                       ...         ...              ...  \n",
       "d7bf644eb441cda6127f91addebb85c4     2.500000           1         0.000945  \n",
       "b68895736389f2949faa8c73555b81ac     4.907407           1         0.000945  \n",
       "8cb98e46b27af1e6fca8768a2a6329f3     4.238095           1         0.000945  \n",
       "389bfa333ba8fa7281dd5f0e1b57c0c1     5.000000           1         0.000945  \n",
       "358741ec2409c505c4545c38669b000b     4.000000           1         0.000945  \n",
       "\n",
       "[105 rows x 6 columns]"
      ]
     },
     "execution_count": 409,
     "metadata": {},
     "output_type": "execute_result"
    }
   ],
   "source": [
    "df.merge(df1, on='driver_id').merge(df2, on='driver_id').merge(df3, on='driver_id').merge(df4, on='driver_id') \\\n",
    "    .rename(columns={'count_delays' : 'proportion_late', 'count_delays_y' : 'count_late'})"
   ]
  },
  {
   "cell_type": "markdown",
   "metadata": {
    "id": "8G4-moNYjOcG"
   },
   "source": [
    "4. Проверьте гипотезу о том, что на количество опозданий водителя повлиял цвет его машины"
   ]
  },
  {
   "cell_type": "markdown",
   "metadata": {
    "id": "wOq9Co05jOcG"
   },
   "source": [
    "<details>\n",
    "<summary>&#9658; Нажмите сюда, чтобы увидеть подсказку</summary>\n",
    "  <p>\n",
    "\n",
    "Подумайте, мог ли цвет машины повлиять на время её подачи\n",
    "</p>\n",
    "</details>"
   ]
  },
  {
   "cell_type": "code",
   "execution_count": 271,
   "metadata": {
    "id": "gHWscoGSjOcH"
   },
   "outputs": [],
   "source": [
    "# Ваш код здесь\n",
    "\n"
   ]
  },
  {
   "cell_type": "markdown",
   "metadata": {
    "id": "5KaNcfFljOcI"
   },
   "source": [
    "## Шаг 16"
   ]
  },
  {
   "cell_type": "markdown",
   "metadata": {
    "id": "g8QQh9MNjOcI"
   },
   "source": [
    "С опозданиями разобрались. Теперь расширим наши данные новыми признаками: **добавьте столбец `month`, где будет храниться номер месяца, в котором был сделан заказ (см.колонку `start_at`),  и столбец `weekday` – название дня недели.**\n",
    "\n",
    "**На LMS датафрейм сохранен в переменную `taxi`. Загрузите в LMS Ваш код, в котором создаете столбцы `month` и `weekday`**"
   ]
  },
  {
   "cell_type": "markdown",
   "metadata": {
    "id": "xZ5ochaXjOcI"
   },
   "source": [
    "Шаги выполнения:  \n",
    "1. Создайте столбец `month`, где будет храниться номер месяца, в котором был сделан заказ (см.колонку `start_at`)"
   ]
  },
  {
   "cell_type": "markdown",
   "metadata": {
    "id": "JoNugZFzjOcI"
   },
   "source": [
    "<details>\n",
    "<summary>&#9658; Нажмите сюда, чтобы увидеть подсказку</summary>\n",
    "  <p>\n",
    "\n",
    "Чтобы получить номер месяца, используйте аксессор `dt` и укажите период `month`. Например:\n",
    "```python\n",
    "df.col_datetime.dt.day\n",
    "```    \n",
    "вернет номера дней в колонке `col_datetime` с типом данных datetime\n",
    "</p>\n",
    "</details>"
   ]
  },
  {
   "cell_type": "code",
   "execution_count": 411,
   "metadata": {
    "id": "mj9yDby3jOcI"
   },
   "outputs": [],
   "source": [
    "df_new = taxi\n",
    "\n"
   ]
  },
  {
   "cell_type": "code",
   "execution_count": 412,
   "metadata": {},
   "outputs": [],
   "source": [
    "taxi['month'] = taxi.start_at.dt.month"
   ]
  },
  {
   "cell_type": "markdown",
   "metadata": {
    "id": "iirmHsNajOcJ"
   },
   "source": [
    "2. Создайте столбец `weekday`, где будет храниться название дня недели, в котором был сделан заказ"
   ]
  },
  {
   "cell_type": "markdown",
   "metadata": {
    "id": "hilJValqjOcJ"
   },
   "source": [
    "<details>\n",
    "<summary>&#9658; Нажмите сюда, чтобы увидеть подсказку</summary>\n",
    "  <p>\n",
    "\n",
    "Чтобы получить название дня недели, используйте аксессор `dt` и укажите период `day_name()`. Например:\n",
    "```python\n",
    "df.col_datetime.dt.month_name()\n",
    "```    \n",
    "вернет название месяцев в колонке `col_datetime` с типом данных datetime\n",
    "</p>\n",
    "</details>"
   ]
  },
  {
   "cell_type": "code",
   "execution_count": 415,
   "metadata": {
    "id": "Oe2gBczBjOcJ"
   },
   "outputs": [],
   "source": [
    "taxi['weekday'] = taxi.start_at.dt.day_name()\n"
   ]
  },
  {
   "cell_type": "markdown",
   "metadata": {
    "id": "y_uPOOrIjOcJ"
   },
   "source": [
    "3. Посмотрите на колонку `start_at` и новые колонки — всё ли правильно получилось"
   ]
  },
  {
   "cell_type": "markdown",
   "metadata": {
    "id": "ch8vvOlijOcJ"
   },
   "source": [
    "<details>\n",
    "<summary>&#9658; Нажмите сюда, чтобы увидеть подсказку</summary>\n",
    "  <p>\n",
    "      \n",
    "**Как посмотреть на содержимое колонок?** Используйте метод `head()`\n",
    "      \n",
    "**Как использовать метод?** Например применим метод `some_method()` к колонкам `col_1` и `col_2` датафрейма `df`:\n",
    "```python\n",
    "df[['col_1', 'col_2']].some_method()\n",
    "```\n",
    "</p>\n",
    "</details>"
   ]
  },
  {
   "cell_type": "code",
   "execution_count": 416,
   "metadata": {
    "id": "sULVmR8BjOcJ"
   },
   "outputs": [
    {
     "data": {
      "text/html": [
       "<div>\n",
       "<style scoped>\n",
       "    .dataframe tbody tr th:only-of-type {\n",
       "        vertical-align: middle;\n",
       "    }\n",
       "\n",
       "    .dataframe tbody tr th {\n",
       "        vertical-align: top;\n",
       "    }\n",
       "\n",
       "    .dataframe thead th {\n",
       "        text-align: right;\n",
       "    }\n",
       "</style>\n",
       "<table border=\"1\" class=\"dataframe\">\n",
       "  <thead>\n",
       "    <tr style=\"text-align: right;\">\n",
       "      <th></th>\n",
       "      <th>journey_id</th>\n",
       "      <th>user_id</th>\n",
       "      <th>start_type</th>\n",
       "      <th>start_lat</th>\n",
       "      <th>start_lon</th>\n",
       "      <th>source</th>\n",
       "      <th>driver_score</th>\n",
       "      <th>driver_id</th>\n",
       "      <th>taxi_id</th>\n",
       "      <th>icon</th>\n",
       "      <th>...</th>\n",
       "      <th>end_at</th>\n",
       "      <th>end_lat</th>\n",
       "      <th>end_lon</th>\n",
       "      <th>end_state</th>\n",
       "      <th>driver_start_lat</th>\n",
       "      <th>driver_start_lon</th>\n",
       "      <th>arrived_at</th>\n",
       "      <th>rider_score</th>\n",
       "      <th>month</th>\n",
       "      <th>weekday</th>\n",
       "    </tr>\n",
       "  </thead>\n",
       "  <tbody>\n",
       "    <tr>\n",
       "      <th>0</th>\n",
       "      <td>23a1406fc6a11d866e3c82f22eed4d4c</td>\n",
       "      <td>0e9af5bbf1edfe591b54ecdfd7e91e26</td>\n",
       "      <td>asap</td>\n",
       "      <td>-12,13983536</td>\n",
       "      <td>-77,02355957</td>\n",
       "      <td>iPhone</td>\n",
       "      <td>5.0</td>\n",
       "      <td>583949a89a9ee17d19e3ca4f137b6b4c</td>\n",
       "      <td>b12f4f09c783e29fe0d0ea624530db56</td>\n",
       "      <td>executive</td>\n",
       "      <td>...</td>\n",
       "      <td>2010-11-16 17:29:00</td>\n",
       "      <td>-12,05537033</td>\n",
       "      <td>-77,0413208</td>\n",
       "      <td>drop off</td>\n",
       "      <td>-12,10825481</td>\n",
       "      <td>-77,0272739</td>\n",
       "      <td>2010-11-16 17:02:00</td>\n",
       "      <td>5.0</td>\n",
       "      <td>11</td>\n",
       "      <td>Tuesday</td>\n",
       "    </tr>\n",
       "    <tr>\n",
       "      <th>1</th>\n",
       "      <td>dd2af4715d0dc16eded53afc0e243577</td>\n",
       "      <td>a553c46e3a22fb9c326aeb3d72b3334e</td>\n",
       "      <td>asap</td>\n",
       "      <td>-12,13874817</td>\n",
       "      <td>-76,99536133</td>\n",
       "      <td>iPhone</td>\n",
       "      <td>NaN</td>\n",
       "      <td>NaN</td>\n",
       "      <td>NaN</td>\n",
       "      <td>executive</td>\n",
       "      <td>...</td>\n",
       "      <td>2010-06-01 00:37:00</td>\n",
       "      <td>-12,12465668</td>\n",
       "      <td>-77,02886963</td>\n",
       "      <td>not found</td>\n",
       "      <td>NaN</td>\n",
       "      <td>NaN</td>\n",
       "      <td>NaT</td>\n",
       "      <td>NaN</td>\n",
       "      <td>6</td>\n",
       "      <td>Tuesday</td>\n",
       "    </tr>\n",
       "    <tr>\n",
       "      <th>2</th>\n",
       "      <td>dd91e131888064bf7df3ce08f3d4b4ad</td>\n",
       "      <td>a553c46e3a22fb9c326aeb3d72b3334e</td>\n",
       "      <td>asap</td>\n",
       "      <td>-12,12453079</td>\n",
       "      <td>-77,02780151</td>\n",
       "      <td>iPhone</td>\n",
       "      <td>NaN</td>\n",
       "      <td>NaN</td>\n",
       "      <td>NaN</td>\n",
       "      <td>executive</td>\n",
       "      <td>...</td>\n",
       "      <td>2010-05-31 05:04:00</td>\n",
       "      <td>-12,13883209</td>\n",
       "      <td>-76,99530029</td>\n",
       "      <td>not found</td>\n",
       "      <td>NaN</td>\n",
       "      <td>NaN</td>\n",
       "      <td>NaT</td>\n",
       "      <td>NaN</td>\n",
       "      <td>5</td>\n",
       "      <td>Monday</td>\n",
       "    </tr>\n",
       "    <tr>\n",
       "      <th>3</th>\n",
       "      <td>dd2af4715d0dc16eded53afc0e2466d0</td>\n",
       "      <td>a553c46e3a22fb9c326aeb3d72b3334e</td>\n",
       "      <td>asap</td>\n",
       "      <td>-12,13885117</td>\n",
       "      <td>-76,99530029</td>\n",
       "      <td>iPhone</td>\n",
       "      <td>NaN</td>\n",
       "      <td>NaN</td>\n",
       "      <td>NaN</td>\n",
       "      <td>executive</td>\n",
       "      <td>...</td>\n",
       "      <td>2010-06-01 00:32:00</td>\n",
       "      <td>-12,12458801</td>\n",
       "      <td>-77,02896118</td>\n",
       "      <td>not found</td>\n",
       "      <td>NaN</td>\n",
       "      <td>NaN</td>\n",
       "      <td>NaT</td>\n",
       "      <td>NaN</td>\n",
       "      <td>6</td>\n",
       "      <td>Tuesday</td>\n",
       "    </tr>\n",
       "    <tr>\n",
       "      <th>4</th>\n",
       "      <td>85b7eabcf5d84e42dc7629b7d27781af</td>\n",
       "      <td>56772d544fdfa589a020a1ff894a86f7</td>\n",
       "      <td>reserved</td>\n",
       "      <td>-12,08995438</td>\n",
       "      <td>-76,92626953</td>\n",
       "      <td>iPhone</td>\n",
       "      <td>4.0</td>\n",
       "      <td>d665fb9f75ef5d9cd0fd89479380ba78</td>\n",
       "      <td>0accdd3aa5a322f4129fa20b53278c69</td>\n",
       "      <td>executive</td>\n",
       "      <td>...</td>\n",
       "      <td>2010-09-12 01:07:00</td>\n",
       "      <td>-12,02223206</td>\n",
       "      <td>-77,10638428</td>\n",
       "      <td>drop off</td>\n",
       "      <td>-12,08311558</td>\n",
       "      <td>-76,9277072</td>\n",
       "      <td>2010-09-11 23:50:00</td>\n",
       "      <td>5.0</td>\n",
       "      <td>9</td>\n",
       "      <td>Saturday</td>\n",
       "    </tr>\n",
       "  </tbody>\n",
       "</table>\n",
       "<p>5 rows × 21 columns</p>\n",
       "</div>"
      ],
      "text/plain": [
       "                         journey_id                           user_id  \\\n",
       "0  23a1406fc6a11d866e3c82f22eed4d4c  0e9af5bbf1edfe591b54ecdfd7e91e26   \n",
       "1  dd2af4715d0dc16eded53afc0e243577  a553c46e3a22fb9c326aeb3d72b3334e   \n",
       "2  dd91e131888064bf7df3ce08f3d4b4ad  a553c46e3a22fb9c326aeb3d72b3334e   \n",
       "3  dd2af4715d0dc16eded53afc0e2466d0  a553c46e3a22fb9c326aeb3d72b3334e   \n",
       "4  85b7eabcf5d84e42dc7629b7d27781af  56772d544fdfa589a020a1ff894a86f7   \n",
       "\n",
       "  start_type     start_lat     start_lon  source  driver_score  \\\n",
       "0       asap  -12,13983536  -77,02355957  iPhone           5.0   \n",
       "1       asap  -12,13874817  -76,99536133  iPhone           NaN   \n",
       "2       asap  -12,12453079  -77,02780151  iPhone           NaN   \n",
       "3       asap  -12,13885117  -76,99530029  iPhone           NaN   \n",
       "4   reserved  -12,08995438  -76,92626953  iPhone           4.0   \n",
       "\n",
       "                          driver_id                           taxi_id  \\\n",
       "0  583949a89a9ee17d19e3ca4f137b6b4c  b12f4f09c783e29fe0d0ea624530db56   \n",
       "1                               NaN                               NaN   \n",
       "2                               NaN                               NaN   \n",
       "3                               NaN                               NaN   \n",
       "4  d665fb9f75ef5d9cd0fd89479380ba78  0accdd3aa5a322f4129fa20b53278c69   \n",
       "\n",
       "        icon  ...              end_at       end_lat       end_lon  end_state  \\\n",
       "0  executive  ... 2010-11-16 17:29:00  -12,05537033   -77,0413208   drop off   \n",
       "1  executive  ... 2010-06-01 00:37:00  -12,12465668  -77,02886963  not found   \n",
       "2  executive  ... 2010-05-31 05:04:00  -12,13883209  -76,99530029  not found   \n",
       "3  executive  ... 2010-06-01 00:32:00  -12,12458801  -77,02896118  not found   \n",
       "4  executive  ... 2010-09-12 01:07:00  -12,02223206  -77,10638428   drop off   \n",
       "\n",
       "  driver_start_lat driver_start_lon          arrived_at rider_score  month  \\\n",
       "0     -12,10825481      -77,0272739 2010-11-16 17:02:00         5.0     11   \n",
       "1              NaN              NaN                 NaT         NaN      6   \n",
       "2              NaN              NaN                 NaT         NaN      5   \n",
       "3              NaN              NaN                 NaT         NaN      6   \n",
       "4     -12,08311558      -76,9277072 2010-09-11 23:50:00         5.0      9   \n",
       "\n",
       "    weekday  \n",
       "0   Tuesday  \n",
       "1   Tuesday  \n",
       "2    Monday  \n",
       "3   Tuesday  \n",
       "4  Saturday  \n",
       "\n",
       "[5 rows x 21 columns]"
      ]
     },
     "execution_count": 416,
     "metadata": {},
     "output_type": "execute_result"
    }
   ],
   "source": [
    "taxi.head()\n",
    "\n"
   ]
  },
  {
   "cell_type": "markdown",
   "metadata": {
    "id": "UOg1EZ6tjOcJ"
   },
   "source": [
    "4. Скопируйте и загрузите в LMS Ваш код, в котором создаете столбцы `month` и `weekday`"
   ]
  },
  {
   "cell_type": "markdown",
   "metadata": {
    "id": "1lO2JrH5jOcK"
   },
   "source": [
    "## Шаг 17"
   ]
  },
  {
   "cell_type": "markdown",
   "metadata": {
    "id": "aLYH2r8cjOcK"
   },
   "source": [
    "Изучим, есть ли сезонные колебания в заказах такси. **Постройте график количества заказов по месяцам и определите месяц с наименьшим количеством заказов летом.**"
   ]
  },
  {
   "cell_type": "markdown",
   "metadata": {
    "id": "kBPHlmTljOcK"
   },
   "source": [
    "Шаги выполнения:  \n",
    "1. Постройте график количества заказов по месяцам, используя созданную на прошлом шаге колонку `month`"
   ]
  },
  {
   "cell_type": "markdown",
   "metadata": {
    "id": "hU3EX794jOcK"
   },
   "source": [
    "<details>\n",
    "<summary>&#9658; Нажмите сюда, чтобы увидеть подсказку</summary>\n",
    "  <p>\n",
    "\n",
    "Передайте в функцию `sns.countplot()` следующие параметры:  \n",
    "      `data` — название датафрейма  \n",
    "      `x` — название колонки с номерами месяцев  \n",
    "      \n",
    "Например:      \n",
    "```python\n",
    "sns.countplot(data = df, x = 'col_1')\n",
    "```\n",
    "нарисует график на основе данных из датафрейма `df`, где по оси х будут идти значения из колонки `col_1`.\n",
    "      \n",
    "**Функция сама посчитает, сколько заказов пришлось на каждый месяц. Агрегировать данные не нужно**\n",
    "</p>\n",
    "</details>"
   ]
  },
  {
   "cell_type": "code",
   "execution_count": 417,
   "metadata": {
    "id": "l1x1dCMDjOcK"
   },
   "outputs": [
    {
     "data": {
      "text/plain": [
       "<matplotlib.axes._subplots.AxesSubplot at 0x7fa3a63d57b8>"
      ]
     },
     "execution_count": 417,
     "metadata": {},
     "output_type": "execute_result"
    },
    {
     "data": {
      "image/png": "[encoded data removed]",
      "text/plain": [
       "<Figure size 432x288 with 1 Axes>"
      ]
     },
     "metadata": {
      "needs_background": "light"
     },
     "output_type": "display_data"
    }
   ],
   "source": [
    "sns.countplot(data = taxi, x = 'month')\n",
    "\n"
   ]
  },
  {
   "cell_type": "markdown",
   "metadata": {
    "id": "SZuFfrt0jOcK"
   },
   "source": [
    "2. Посмотрите на график: есть ли сезонные колебания? В какой из летних месяцев количество заказов было наименьшим?"
   ]
  },
  {
   "cell_type": "markdown",
   "metadata": {
    "id": "8o-KzgABjOcL"
   },
   "source": [
    "## Шаг 18"
   ]
  },
  {
   "cell_type": "markdown",
   "metadata": {
    "id": "XDom2cJhjOcL"
   },
   "source": [
    "Сезонность бывает не только внутри года, но и внутри недели. **Определите, в какой день недели поступает меньше всего заказов.** Укажите то название, которое написано в самом датафрейме.\n",
    "\n",
    "Для этого постройте аналогичный график по дням недели (см. колонку `weekday`). Задать порядок столбиков на графике можно с помощью параметра `order`, которому нужно передать список названий в нужном порядке."
   ]
  },
  {
   "cell_type": "markdown",
   "metadata": {
    "id": "AhqjloK6jOcL"
   },
   "source": [
    "Шаги выполнения:  \n",
    "1. Постройте график количества заказов по дням недели, используя созданную на позапрошлом шаге колонку `weekday`"
   ]
  },
  {
   "cell_type": "markdown",
   "metadata": {
    "id": "2aB2tx5ujOcL"
   },
   "source": [
    "<details>\n",
    "<summary>&#9658; Нажмите сюда, чтобы увидеть подсказку</summary>\n",
    "  <p>\n",
    "\n",
    "Передайте в функцию `sns.countplot()` следующие параметры:  \n",
    "      `data` — название датафрейма  \n",
    "      `x` — название колонки с названиями дней недели  \n",
    "      \n",
    "Например:      \n",
    "```python\n",
    "sns.countplot(data = df, x = 'col_1')\n",
    "```\n",
    "нарисует график на основе данных из датафрейма `df`, где по оси х будут идти значения из колонки `col_1`.\n",
    "      \n",
    "**Функция сама посчитает, сколько заказов пришлось на каждый день недели. Агрегировать данные не нужно**\n",
    "</p>\n",
    "</details>"
   ]
  },
  {
   "cell_type": "code",
   "execution_count": 418,
   "metadata": {
    "id": "Wh6Hnhw6jOcL"
   },
   "outputs": [
    {
     "data": {
      "text/plain": [
       "<matplotlib.axes._subplots.AxesSubplot at 0x7fa3aa34aa20>"
      ]
     },
     "execution_count": 418,
     "metadata": {},
     "output_type": "execute_result"
    },
    {
     "data": {
      "image/png": "[encoded data removed]",
      "text/plain": [
       "<Figure size 432x288 with 1 Axes>"
      ]
     },
     "metadata": {
      "needs_background": "light"
     },
     "output_type": "display_data"
    }
   ],
   "source": [
    "sns.countplot(data = taxi, x = 'weekday')\n",
    "\n"
   ]
  },
  {
   "cell_type": "markdown",
   "metadata": {
    "id": "vKpPAi3CjOcL"
   },
   "source": [
    "2. Для удобства чтения графика увеличьте его размер и задайте порядок столбцов с помощью параметра `order`"
   ]
  },
  {
   "cell_type": "markdown",
   "metadata": {
    "id": "DkhwzkzljOcL"
   },
   "source": [
    "<details>\n",
    "<summary>&#9658; Нажмите сюда, чтобы увидеть подсказку</summary>\n",
    "  <p>\n",
    "\n",
    "**Чтобы увеличить размер графика, используйте функцию `figure` с параметром `figsize` из модуля `pyplot`.** В параметр передайте кортеж с масштабом графика формата (ширина, высота). Расположите функцию в начале той ячейки, в которой строите график. Например:\n",
    "```python\n",
    "plt.figure(figsize=(16,9))      \n",
    "sns.countplot(data = df, x = 'col_1')\n",
    "```      \n",
    "задаст размер графика как 16 дюймов в ширину и 9 дюймов в высоту.\n",
    "      \n",
    "**Чтобы задать порядок столбцов, передайте в параметр `order` функции `sns.countplot` список с названиями дней недели в нужном порядке.** Напишите их в том виде, в каком они есть в датафрейме. Например,\n",
    "```python\n",
    "sns.countplot(data['column'], order=['One', 'Two', 'Three'])\n",
    "```\n",
    "построит график со столбцами в таком порядке: сначала `One`, потом `Two` и последним `Three`.\n",
    "</p>\n",
    "</details>"
   ]
  },
  {
   "cell_type": "code",
   "execution_count": 419,
   "metadata": {
    "id": "Wof94FxkjOcL"
   },
   "outputs": [
    {
     "data": {
      "text/plain": [
       "<Figure size 1152x648 with 0 Axes>"
      ]
     },
     "execution_count": 419,
     "metadata": {},
     "output_type": "execute_result"
    },
    {
     "data": {
      "image/png": "[encoded data removed]",
      "text/plain": [
       "<Figure size 432x288 with 1 Axes>"
      ]
     },
     "metadata": {
      "needs_background": "light"
     },
     "output_type": "display_data"
    },
    {
     "data": {
      "text/plain": [
       "<Figure size 1152x648 with 0 Axes>"
      ]
     },
     "metadata": {},
     "output_type": "display_data"
    }
   ],
   "source": [
    "sns.countplot(data = taxi, x = 'weekday', order=['Monday', 'Tuesday', 'Wednesday', 'Thursday', 'Friday', 'Saturday', 'Sunday'])\n",
    "plt.figure(figsize=(16,9))\n"
   ]
  },
  {
   "cell_type": "markdown",
   "metadata": {
    "id": "vDHQBdaajOcL"
   },
   "source": [
    "3. Посмотрите на график и определите, в какой день недели поступает меньше всего заказов"
   ]
  },
  {
   "cell_type": "markdown",
   "metadata": {
    "id": "3T-X-Ym9jOcM"
   },
   "source": [
    "## Шаг 19"
   ]
  },
  {
   "cell_type": "markdown",
   "metadata": {
    "id": "NHYzpH3PjOcM"
   },
   "source": [
    "Познакомимся с часто используемыми метриками, показывающими число активных пользователей за определённый период:\n",
    "\n",
    "DAU (daily active users) – число уникальных активных пользователей за день  \n",
    "WAU (weekly active users) – число уникальных активных пользователей за неделю  \n",
    "MAU (monthly active users) – число уникальных активных пользователей за месяц\n",
    "\n",
    "Активные пользователи – те, кто воспользовался приложением и сделал хотя бы один заказ за выбранный промежуток времени.\n",
    "\n",
    "**Посчитайте метрику MAU, постройте её график и выберите одно или несколько верных утверждений:**  \n",
    "- Число уникальных юзеров в течение года как увеличивалось, так и уменьшалось  \n",
    "- MAU за апрель примерно в 2.5 раза больше, чем за январь  \n",
    "- В течение всего года число уникальных пользователей увеличивалось  \n",
    "- Летом наблюдался спад числа уникальных пользователей в месяц"
   ]
  },
  {
   "cell_type": "markdown",
   "metadata": {
    "id": "mhXbmULpjOcM"
   },
   "source": [
    "Шаги выполнения:\n",
    "1. Посчитайте метрику MAU — число уникальных активных пользователей за месяц"
   ]
  },
  {
   "cell_type": "markdown",
   "metadata": {
    "id": "nEOxHzN9jOcM"
   },
   "source": [
    "<details>\n",
    "<summary>&#9658; Нажмите сюда, чтобы увидеть подсказку</summary>\n",
    "  <p>\n",
    "\n",
    "**Сгруппируйте данные по столбцу `month`, используя метод `groupby()`**. Его вызов группирует строки по значениям в какой-то колонке (или комбинации значений из нескольких колонок). Например,\n",
    "\n",
    "```python\n",
    "df.groupby('col_1')\n",
    "```\n",
    "сгруппирует данные датафрейма `df` по колонке `col_1`. Сама по себе группировка не вычисляет что-то по группам.\n",
    "\n",
    "**После группировки используйте метод `nunique()`**, применив его к столбцу `user_id`. Этот метод возвращает число уникальных значений в колонке (пропущенные значения не считаются)\n",
    "\n",
    "**Как использовать метод?** Например применим метод `some_method()` к колонке `column_name` датафрейма `df`:\n",
    "```python\n",
    "df.column_name.some_method()\n",
    "```\n",
    "</p>\n",
    "</details>"
   ]
  },
  {
   "cell_type": "code",
   "execution_count": 420,
   "metadata": {
    "id": "_lCg_kvMjOcM"
   },
   "outputs": [
    {
     "data": {
      "text/plain": [
       "month\n",
       "1     102\n",
       "2     111\n",
       "3     163\n",
       "4     254\n",
       "5     275\n",
       "6     309\n",
       "7     318\n",
       "8     377\n",
       "9     416\n",
       "10    437\n",
       "11    504\n",
       "12    569\n",
       "Name: user_id, dtype: int64"
      ]
     },
     "execution_count": 420,
     "metadata": {},
     "output_type": "execute_result"
    }
   ],
   "source": [
    "taxi.groupby('month').user_id.nunique()\n",
    "\n"
   ]
  },
  {
   "cell_type": "markdown",
   "metadata": {
    "id": "Pf0bGvjKjOcM"
   },
   "source": [
    "2. На основе получившихся данных постройте линейную диаграмму"
   ]
  },
  {
   "cell_type": "markdown",
   "metadata": {
    "id": "__F2VP9BjOcM"
   },
   "source": [
    "<details>\n",
    "<summary>&#9658; Нажмите сюда, чтобы увидеть подсказку</summary>\n",
    "  <p>\n",
    "\n",
    "Примените к получившимся данным аксессор `plot` и метод `line()` из библиотеки `pandas`. Например:\n",
    "```python\n",
    "series.plot.line()\n",
    "```      \n",
    "построит линейную диаграмму на основе данных из серии `series`\n",
    "</p>\n",
    "</details>"
   ]
  },
  {
   "cell_type": "code",
   "execution_count": 422,
   "metadata": {
    "id": "TLLQHTaKjOcM"
   },
   "outputs": [
    {
     "data": {
      "text/plain": [
       "<matplotlib.axes._subplots.AxesSubplot at 0x7fa3a973ba20>"
      ]
     },
     "execution_count": 422,
     "metadata": {},
     "output_type": "execute_result"
    },
    {
     "data": {
      "image/png": "[encoded data removed]",
      "text/plain": [
       "<Figure size 432x288 with 1 Axes>"
      ]
     },
     "metadata": {
      "needs_background": "light"
     },
     "output_type": "display_data"
    }
   ],
   "source": [
    "taxi.groupby('month').user_id.nunique().plot.line()\n",
    "\n"
   ]
  },
  {
   "cell_type": "markdown",
   "metadata": {
    "id": "nNX6NJuJjOcM"
   },
   "source": [
    "3. Посмотрите на график и выберите одно или несколько верных утверждений"
   ]
  },
  {
   "cell_type": "markdown",
   "metadata": {
    "id": "-u5RQQBijOcN"
   },
   "source": [
    "## Итоги"
   ]
  },
  {
   "cell_type": "markdown",
   "metadata": {
    "id": "hsaIHVaijOcN"
   },
   "source": [
    "В этом проекте вы собрали воедино и проанализировали данные о поездках на такси в Перу в разрезе по платформам, построили графики и сравнили оценки водителей и пассажиров, определили самого опаздывающего водителя и причины его опозданий, посмотрели на годовую и недельную сезонность заказов, проанализировали метрику MAU. В процессе вы закрепили навыки работы с временнЫми данными и библиотеками pandas, seaborn и matplotlib."
   ]
  }
 ],
 "metadata": {
  "colab": {
   "provenance": []
  },
  "kernelspec": {
   "display_name": "Python 3",
   "language": "python",
   "name": "python3"
  },
  "language_info": {
   "codemirror_mode": {
    "name": "ipython",
    "version": 3
   },
   "file_extension": ".py",
   "mimetype": "text/x-python",
   "name": "python",
   "nbconvert_exporter": "python",
   "pygments_lexer": "ipython3",
   "version": "3.7.3"
  }
 },
 "nbformat": 4,
 "nbformat_minor": 1
}
