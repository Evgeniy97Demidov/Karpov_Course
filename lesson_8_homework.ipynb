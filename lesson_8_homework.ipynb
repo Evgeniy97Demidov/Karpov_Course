{
 "cells": [
  {
   "cell_type": "markdown",
   "metadata": {},
   "source": [
    "# Проект урока 8. Работа с грязными данными"
   ]
  },
  {
   "cell_type": "markdown",
   "metadata": {},
   "source": [
    "Для выполнения этого проекта скачайте Jupyter-ноутбук с описанием заданий отсюда. Загрузите его в JupyterHub. Откройте ноутбук и выполняйте задания в нём. Код вы будете писать в ноутбуке, а сдавать решения на проверку — в LMS."
   ]
  },
  {
   "cell_type": "markdown",
   "metadata": {},
   "source": [
    "## Часть 1. Объединение данных о покупках из папок"
   ]
  },
  {
   "cell_type": "markdown",
   "metadata": {},
   "source": [
    "## Шаг 1"
   ]
  },
  {
   "cell_type": "markdown",
   "metadata": {},
   "source": [
    "**Описание**\n",
    "\n",
    "На этот раз данные имеют следующую структуру:\n",
    "\n",
    "* данные записываются для каждого пользователя, совершившего покупки, каждый день\n",
    "* для каждой даты есть своя папка, внутри неё — папки для каждого пользователя\n",
    "* внутри каждой папки пользователя есть файл `data.csv`, где и хранятся данные\n",
    "\n",
    "Схематично это выглядит так:\n",
    "\n",
    "```\n",
    "└── data\n",
    "   ├── 2020-12-30\n",
    "   │  ├── FirstName_LastName1\n",
    "   │  │   └── data.csv\n",
    "   │  ├── FirstName_LastName2\n",
    "   │  │   └── data.csv\n",
    "   │  └── FirstName_LastName3\n",
    "   │      └── data.csv\n",
    "   └── 2020-12-31\n",
    "      ├── FirstName_LastName1\n",
    "      │   └── data.csv\n",
    "      └── FirstName_LastName5\n",
    "          └── data.csv\n",
    "```\n",
    "\n",
    "Например, 30 декабря 2020 года три покупателя сделали покупки, 31 — два (папки 2020-12-30 и 2020-12-31 соответственно). \n",
    "\n",
    "Поскольку клиент `FirstName_LastName1` купил товары в оба дня, для него имеется папка в папке для каждой из дат. Для других клиентов — по одной.\n",
    "\n",
    "**Примечание**: данные в задании покрывают другой временной период, имена тоже другие. Подробности, примеры и возможные подсказки можно найти в текстах следующих шагов."
   ]
  },
  {
   "cell_type": "markdown",
   "metadata": {},
   "source": [
    "**Задачи**\n",
    "1. Соберите все данные из папки `data` в один датафрэйм, имеющий следующие столбцы: колонки из самих файлов (`product_id`, `quantity`), а также имя пользователя (`name`), и дата этих покупок (`date`), соответствующие названию папок, где лежит файл.\n",
    "2. Выясните, какой пользователь купил больше всего товаров. Если их несколько, то перечислите имена через запятую с пробелом и в алфавитном порядке.\n",
    "3. Найдите топ-10 товаров по числу проданных единиц за всё время и постройте барплот. Сколько было продано единиц товара с `product_id==56`?\n",
    "4. Визуализируйте продажи по дням.\n",
    "5. Сколько пользователей приобрели какой-либо товар повторно (более 1 раза)? Повтором будем считать покупку товара с одинаковым `product_id`, совершенную в разные дни. \n",
    "\n",
    "Найти данные можно либо на JupyterHub, либо скачать архив [отсюда](https://yadi.sk/d/fkzS9UYSr59EQQ).\n",
    "\n",
    "\n",
    "Вы можете решать задания тем способом, который считаете наиболее удобным или оптимальным. А для того, чтобы лучше понять задание, следуйте по шагам выполнения. Бывает, что их можно выполнить в одну строчку, применяя методы друг за другом. А если выполняете шаги отдельно, не забудьте сохранить результат в переменную, чтобы в следующем шаге работать именно с ней.\n",
    "\n",
    "В ноутбуке место для вашего решения обозначено комментарием `# Ваш код здесь`, но вы можете писать код там, где вам удобно, добавлять или удалять ячейки с кодом или текстом по вашему усмотрению.\n",
    "\n",
    "Кроме того можно посмотреть подсказки, кликнув на строчку `► Нажмите сюда, чтобы увидеть подсказку`. Также не забывайте о наличии конспектов и возможности задать вопрос в `Discord`, ссылка на нужный тред есть на странице каждого шага в LMS."
   ]
  },
  {
   "cell_type": "markdown",
   "metadata": {},
   "source": [
    "### Шаг 2"
   ]
  },
  {
   "cell_type": "markdown",
   "metadata": {},
   "source": [
    "Соберите все данные из папки `data` в один датафрэйм, имеющий следующие столбцы: колонки из самих файлов (`product_id`, `quantity`), а также имя пользователя (`name`), дата этих покупок (`date`), соответствующие названию папок, где лежит файл.\n",
    "\n",
    "Пример итоговой таблицы:\n",
    "\n",
    "|#|product_id|quantity|name|date|                                                                                     \n",
    "|:-|:----|:-----|:--|:-----|                                              \n",
    "|0|56|2|Anatoly_Karpov|2020-12-30|\n",
    "|1|7|2|Anatoly_Karpov|2020-12-30|\n",
    "|2|9|3|Anatoly_Karpov|2020-12-30|\n",
    "\n",
    "Для объединения датафреймов, читаемых из файлов, можно использовать метод `pd.concat()`. Например:\n",
    "\n",
    "1. Имеются следующие данные:\n",
    "\n",
    "```python\n",
    "> df_1\n",
    "```\n",
    "\n",
    "|#|product_id|quantity|name|date|                                                                                     \n",
    "|:-|:----|:-----|:--|:-----|                                              \n",
    "|0|56|2|Anatoly_Karpov|2020-12-30|\n",
    "|1|7|2|Anatoly_Karpov|2020-12-30|\n",
    "|2|9|3|Anatoly_Karpov|2020-12-30|\n",
    "\n",
    "```python\n",
    "> df_2\n",
    "```\n",
    "\n",
    "|#|product_id|quantity|name|date|                                                                                     \n",
    "|:-|:----|:-----|:--|:-----|                                              \n",
    "|0|4|2|Кatya_Skriptsova|2020-12-30|\n",
    "|1|71|1|Кatya_Skriptsova|2020-12-31|\n",
    "\n",
    "2. Соединяем, передав `pd.concat` на вход список датафреймов, которые нужно объединить. Обратите внимание: индексы повторяются, поэтому после соединения всех данных нужно их сбросить.\n",
    "\n",
    "```python\n",
    "> df = pd.concat([df_1, df_2])\n",
    "> df\n",
    "```\n",
    "|#|product_id|quantity|name|date|                                                                                     \n",
    "|:-|:----|:-----|:--|:-----|                                              \n",
    "|0|56|2|Anatoly_Karpov|2020-12-30|\n",
    "|1|7|2|Anatoly_Karpov|2020-12-30|\n",
    "|2|9|3|Anatoly_Karpov|2020-12-30|\n",
    "|0|4|2|Кatya_Skriptsova|2020-12-30|\n",
    "|1|71|1|Кatya_Skriptsova|2020-12-31|\n",
    "\n",
    "\n",
    "\n",
    "**Рекомендуем решать данное задание через `os.walk()`.**\n",
    "\n",
    "**В качестве ответа укажите сумму по колонке `quantity`.**"
   ]
  },
  {
   "cell_type": "markdown",
   "metadata": {},
   "source": [
    "**Шаги выполнения:**"
   ]
  },
  {
   "cell_type": "markdown",
   "metadata": {},
   "source": [
    "1. Для начала составим путь `way` до папки `data`."
   ]
  },
  {
   "cell_type": "markdown",
   "metadata": {},
   "source": [
    "<details>\n",
    "<summary>&#9658; Нажмите сюда, чтобы увидеть подсказку</summary>\n",
    "  <p>\n",
    "\n",
    "Сначала необходимо прописать путь к папке `data`, предварительно сохранив этот путь в переменную (к примеру, `way`).\n",
    "      \n",
    "А как построить путь до папки `data`?\n",
    "      \n",
    "* Вы можете использовать абсолютный путь к файлу, пропишите `~/`, нажмите `tab` и стройте путь до желаемого файла/папки:\n",
    "      \n",
    "```python\n",
    "'...shared/homeworks/python_ds_miniprojects/7/data'\n",
    "```\n",
    "      \n",
    "Например, путь до папки `data` у пользователя `аn-кarpov`, будет выглядеть следующим образом:\n",
    "      \n",
    "```python\n",
    "'/mnt/HC_Volume_18315164/home-jupyter/jupyter-аn-кarpov/shared/homeworks/python_ds_miniprojects/7/data/'\n",
    "```\n",
    "Чтобы построить свой путь, вместо `аn-кarpov` необходимо указать ваш логин, используемый в LMS. \n",
    "      \n",
    "</p>\n",
    "</details>"
   ]
  },
  {
   "cell_type": "code",
   "execution_count": 10,
   "metadata": {},
   "outputs": [],
   "source": [
    "way = '/mnt/HC_Volume_18315164/home-jupyter/jupyter-evgenij-demidov-ay-f7570/shared/homeworks/python_ds_miniprojects/7/data/'\n",
    "\n"
   ]
  },
  {
   "cell_type": "markdown",
   "metadata": {},
   "source": [
    "2. Пройдемся по результату построения пути до папки `data` методом `os.walk(way)` простым циклом и распечатаем каждый элемент, посмотрим, что получилось."
   ]
  },
  {
   "cell_type": "markdown",
   "metadata": {},
   "source": [
    "<details>\n",
    "<summary>&#9658; Нажмите сюда, чтобы увидеть подсказку</summary>\n",
    "  <p>\n",
    "\n",
    "Метод `os.walk` принимает путь к папке, проходится по всем подпапкам в ней и доходит до конечных файлов в них, выдавая на каждой итерации:\n",
    "* путь к папке, которую мы сейчас смотрим: `path`\n",
    "* список подпапок в ней: `dirs`\n",
    "* список файлов в ней: `files`\n",
    "      \n",
    "\n",
    "```python\n",
    "for path, dirs, files in os.walk(way):\n",
    "    print(path, dirs, files)  \n",
    "```\n",
    "      \n",
    "Результатом выполнения такого цикла будет генератор, который генерирует кортежи для каждой директории в дереве каталогов. Каждый кортеж содержит три элемента: путь к папке, список подпапок в текущей папке и список имен файлов в них, не являющихся папками.\n",
    "      \n",
    "</p>\n",
    "</details>"
   ]
  },
  {
   "cell_type": "code",
   "execution_count": 3,
   "metadata": {},
   "outputs": [],
   "source": [
    "import os\n",
    "\n",
    "    \n",
    "\n"
   ]
  },
  {
   "cell_type": "code",
   "execution_count": 12,
   "metadata": {},
   "outputs": [
    {
     "name": "stdout",
     "output_type": "stream",
     "text": [
      "('/mnt/HC_Volume_18315164/home-jupyter/jupyter-evgenij-demidov-ay-f7570/shared/homeworks/python_ds_miniprojects/7/data/', ['2020-12-05', '2020-12-08', '2020-12-09', '2020-12-04', '2020-12-06', '2020-12-03', '2020-12-07'], [])\n",
      "('/mnt/HC_Volume_18315164/home-jupyter/jupyter-evgenij-demidov-ay-f7570/shared/homeworks/python_ds_miniprojects/7/data/2020-12-05', ['Petr_Ivanov', 'Petr_Smirnov', 'Rostislav_Smirnov', 'Kirill_Smirnov', 'Alexey_Fedorov', 'Alexey_Petrov'], [])\n",
      "('/mnt/HC_Volume_18315164/home-jupyter/jupyter-evgenij-demidov-ay-f7570/shared/homeworks/python_ds_miniprojects/7/data/2020-12-05/Petr_Ivanov', [], ['data.csv'])\n",
      "('/mnt/HC_Volume_18315164/home-jupyter/jupyter-evgenij-demidov-ay-f7570/shared/homeworks/python_ds_miniprojects/7/data/2020-12-05/Petr_Smirnov', [], ['data.csv'])\n",
      "('/mnt/HC_Volume_18315164/home-jupyter/jupyter-evgenij-demidov-ay-f7570/shared/homeworks/python_ds_miniprojects/7/data/2020-12-05/Rostislav_Smirnov', [], ['data.csv'])\n",
      "('/mnt/HC_Volume_18315164/home-jupyter/jupyter-evgenij-demidov-ay-f7570/shared/homeworks/python_ds_miniprojects/7/data/2020-12-05/Kirill_Smirnov', [], ['data.csv'])\n",
      "('/mnt/HC_Volume_18315164/home-jupyter/jupyter-evgenij-demidov-ay-f7570/shared/homeworks/python_ds_miniprojects/7/data/2020-12-05/Alexey_Fedorov', [], ['data.csv'])\n",
      "('/mnt/HC_Volume_18315164/home-jupyter/jupyter-evgenij-demidov-ay-f7570/shared/homeworks/python_ds_miniprojects/7/data/2020-12-05/Alexey_Petrov', [], ['data.csv'])\n",
      "('/mnt/HC_Volume_18315164/home-jupyter/jupyter-evgenij-demidov-ay-f7570/shared/homeworks/python_ds_miniprojects/7/data/2020-12-08', ['Petr_Petrov', 'Rostislav_Petrov', 'Kirill_Smirnov', 'Alexey_Fedorov', 'Anton_Smirnov'], [])\n",
      "('/mnt/HC_Volume_18315164/home-jupyter/jupyter-evgenij-demidov-ay-f7570/shared/homeworks/python_ds_miniprojects/7/data/2020-12-08/Petr_Petrov', [], ['data.csv'])\n",
      "('/mnt/HC_Volume_18315164/home-jupyter/jupyter-evgenij-demidov-ay-f7570/shared/homeworks/python_ds_miniprojects/7/data/2020-12-08/Rostislav_Petrov', [], ['data.csv'])\n",
      "('/mnt/HC_Volume_18315164/home-jupyter/jupyter-evgenij-demidov-ay-f7570/shared/homeworks/python_ds_miniprojects/7/data/2020-12-08/Kirill_Smirnov', [], ['data.csv'])\n",
      "('/mnt/HC_Volume_18315164/home-jupyter/jupyter-evgenij-demidov-ay-f7570/shared/homeworks/python_ds_miniprojects/7/data/2020-12-08/Alexey_Fedorov', [], ['data.csv'])\n",
      "('/mnt/HC_Volume_18315164/home-jupyter/jupyter-evgenij-demidov-ay-f7570/shared/homeworks/python_ds_miniprojects/7/data/2020-12-08/Anton_Smirnov', [], ['data.csv'])\n",
      "('/mnt/HC_Volume_18315164/home-jupyter/jupyter-evgenij-demidov-ay-f7570/shared/homeworks/python_ds_miniprojects/7/data/2020-12-09', ['Alexey_Smirnov', 'Anton_Petrov', 'Rostislav_Petrov', 'Anton_Smirnov', 'Anton_Ivanov', 'Petr_Fedorov', 'Vasiliy_Ivanov'], [])\n",
      "('/mnt/HC_Volume_18315164/home-jupyter/jupyter-evgenij-demidov-ay-f7570/shared/homeworks/python_ds_miniprojects/7/data/2020-12-09/Alexey_Smirnov', [], ['data.csv'])\n",
      "('/mnt/HC_Volume_18315164/home-jupyter/jupyter-evgenij-demidov-ay-f7570/shared/homeworks/python_ds_miniprojects/7/data/2020-12-09/Anton_Petrov', [], ['data.csv'])\n",
      "('/mnt/HC_Volume_18315164/home-jupyter/jupyter-evgenij-demidov-ay-f7570/shared/homeworks/python_ds_miniprojects/7/data/2020-12-09/Rostislav_Petrov', [], ['data.csv'])\n",
      "('/mnt/HC_Volume_18315164/home-jupyter/jupyter-evgenij-demidov-ay-f7570/shared/homeworks/python_ds_miniprojects/7/data/2020-12-09/Anton_Smirnov', [], ['data.csv'])\n",
      "('/mnt/HC_Volume_18315164/home-jupyter/jupyter-evgenij-demidov-ay-f7570/shared/homeworks/python_ds_miniprojects/7/data/2020-12-09/Anton_Ivanov', [], ['data.csv'])\n",
      "('/mnt/HC_Volume_18315164/home-jupyter/jupyter-evgenij-demidov-ay-f7570/shared/homeworks/python_ds_miniprojects/7/data/2020-12-09/Petr_Fedorov', [], ['data.csv'])\n",
      "('/mnt/HC_Volume_18315164/home-jupyter/jupyter-evgenij-demidov-ay-f7570/shared/homeworks/python_ds_miniprojects/7/data/2020-12-09/Vasiliy_Ivanov', [], ['data.csv'])\n",
      "('/mnt/HC_Volume_18315164/home-jupyter/jupyter-evgenij-demidov-ay-f7570/shared/homeworks/python_ds_miniprojects/7/data/2020-12-04', ['Kirill_Fedorov', 'Alexey_Smirnov', 'Rostislav_Ivanov', 'Petr_Ivanov', 'Rostislav_Fedorov', 'Petr_Smirnov', 'Rostislav_Smirnov', 'Petr_Fedorov', 'Vasiliy_Ivanov'], [])\n",
      "('/mnt/HC_Volume_18315164/home-jupyter/jupyter-evgenij-demidov-ay-f7570/shared/homeworks/python_ds_miniprojects/7/data/2020-12-04/Kirill_Fedorov', [], ['data.csv'])\n",
      "('/mnt/HC_Volume_18315164/home-jupyter/jupyter-evgenij-demidov-ay-f7570/shared/homeworks/python_ds_miniprojects/7/data/2020-12-04/Alexey_Smirnov', [], ['data.csv'])\n",
      "('/mnt/HC_Volume_18315164/home-jupyter/jupyter-evgenij-demidov-ay-f7570/shared/homeworks/python_ds_miniprojects/7/data/2020-12-04/Rostislav_Ivanov', [], ['data.csv'])\n",
      "('/mnt/HC_Volume_18315164/home-jupyter/jupyter-evgenij-demidov-ay-f7570/shared/homeworks/python_ds_miniprojects/7/data/2020-12-04/Petr_Ivanov', [], ['data.csv'])\n",
      "('/mnt/HC_Volume_18315164/home-jupyter/jupyter-evgenij-demidov-ay-f7570/shared/homeworks/python_ds_miniprojects/7/data/2020-12-04/Rostislav_Fedorov', [], ['data.csv'])\n",
      "('/mnt/HC_Volume_18315164/home-jupyter/jupyter-evgenij-demidov-ay-f7570/shared/homeworks/python_ds_miniprojects/7/data/2020-12-04/Petr_Smirnov', [], ['data.csv'])\n",
      "('/mnt/HC_Volume_18315164/home-jupyter/jupyter-evgenij-demidov-ay-f7570/shared/homeworks/python_ds_miniprojects/7/data/2020-12-04/Rostislav_Smirnov', [], ['data.csv'])\n",
      "('/mnt/HC_Volume_18315164/home-jupyter/jupyter-evgenij-demidov-ay-f7570/shared/homeworks/python_ds_miniprojects/7/data/2020-12-04/Petr_Fedorov', [], ['data.csv'])\n",
      "('/mnt/HC_Volume_18315164/home-jupyter/jupyter-evgenij-demidov-ay-f7570/shared/homeworks/python_ds_miniprojects/7/data/2020-12-04/Vasiliy_Ivanov', [], ['data.csv'])\n",
      "('/mnt/HC_Volume_18315164/home-jupyter/jupyter-evgenij-demidov-ay-f7570/shared/homeworks/python_ds_miniprojects/7/data/2020-12-06', ['Vasiliy_Fedorov'], [])\n",
      "('/mnt/HC_Volume_18315164/home-jupyter/jupyter-evgenij-demidov-ay-f7570/shared/homeworks/python_ds_miniprojects/7/data/2020-12-06/Vasiliy_Fedorov', [], ['data.csv'])\n",
      "('/mnt/HC_Volume_18315164/home-jupyter/jupyter-evgenij-demidov-ay-f7570/shared/homeworks/python_ds_miniprojects/7/data/2020-12-03', ['Alexey_Smirnov', 'Anton_Petrov', 'Vasiliy_Petrov', 'Kirill_Petrov', 'Petr_Fedorov', 'Vasiliy_Ivanov'], [])\n",
      "('/mnt/HC_Volume_18315164/home-jupyter/jupyter-evgenij-demidov-ay-f7570/shared/homeworks/python_ds_miniprojects/7/data/2020-12-03/Alexey_Smirnov', [], ['data.csv'])\n",
      "('/mnt/HC_Volume_18315164/home-jupyter/jupyter-evgenij-demidov-ay-f7570/shared/homeworks/python_ds_miniprojects/7/data/2020-12-03/Anton_Petrov', [], ['data.csv'])\n",
      "('/mnt/HC_Volume_18315164/home-jupyter/jupyter-evgenij-demidov-ay-f7570/shared/homeworks/python_ds_miniprojects/7/data/2020-12-03/Vasiliy_Petrov', [], ['data.csv'])\n",
      "('/mnt/HC_Volume_18315164/home-jupyter/jupyter-evgenij-demidov-ay-f7570/shared/homeworks/python_ds_miniprojects/7/data/2020-12-03/Kirill_Petrov', [], ['data.csv'])\n",
      "('/mnt/HC_Volume_18315164/home-jupyter/jupyter-evgenij-demidov-ay-f7570/shared/homeworks/python_ds_miniprojects/7/data/2020-12-03/Petr_Fedorov', [], ['data.csv'])\n",
      "('/mnt/HC_Volume_18315164/home-jupyter/jupyter-evgenij-demidov-ay-f7570/shared/homeworks/python_ds_miniprojects/7/data/2020-12-03/Vasiliy_Ivanov', [], ['data.csv'])\n",
      "('/mnt/HC_Volume_18315164/home-jupyter/jupyter-evgenij-demidov-ay-f7570/shared/homeworks/python_ds_miniprojects/7/data/2020-12-07', ['Kirill_Fedorov', 'Alexey_Smirnov', 'Rostislav_Fedorov', 'Alexey_Ivanov', 'Petr_Smirnov', 'Alexey_Fedorov', 'Anton_Smirnov', 'Anton_Ivanov', 'Petr_Fedorov', 'Vasiliy_Ivanov'], [])\n",
      "('/mnt/HC_Volume_18315164/home-jupyter/jupyter-evgenij-demidov-ay-f7570/shared/homeworks/python_ds_miniprojects/7/data/2020-12-07/Kirill_Fedorov', [], ['data.csv'])\n",
      "('/mnt/HC_Volume_18315164/home-jupyter/jupyter-evgenij-demidov-ay-f7570/shared/homeworks/python_ds_miniprojects/7/data/2020-12-07/Alexey_Smirnov', [], ['data.csv'])\n",
      "('/mnt/HC_Volume_18315164/home-jupyter/jupyter-evgenij-demidov-ay-f7570/shared/homeworks/python_ds_miniprojects/7/data/2020-12-07/Rostislav_Fedorov', [], ['data.csv'])\n",
      "('/mnt/HC_Volume_18315164/home-jupyter/jupyter-evgenij-demidov-ay-f7570/shared/homeworks/python_ds_miniprojects/7/data/2020-12-07/Alexey_Ivanov', [], ['data.csv'])\n",
      "('/mnt/HC_Volume_18315164/home-jupyter/jupyter-evgenij-demidov-ay-f7570/shared/homeworks/python_ds_miniprojects/7/data/2020-12-07/Petr_Smirnov', [], ['data.csv'])\n",
      "('/mnt/HC_Volume_18315164/home-jupyter/jupyter-evgenij-demidov-ay-f7570/shared/homeworks/python_ds_miniprojects/7/data/2020-12-07/Alexey_Fedorov', [], ['data.csv'])\n",
      "('/mnt/HC_Volume_18315164/home-jupyter/jupyter-evgenij-demidov-ay-f7570/shared/homeworks/python_ds_miniprojects/7/data/2020-12-07/Anton_Smirnov', [], ['data.csv'])\n",
      "('/mnt/HC_Volume_18315164/home-jupyter/jupyter-evgenij-demidov-ay-f7570/shared/homeworks/python_ds_miniprojects/7/data/2020-12-07/Anton_Ivanov', [], ['data.csv'])\n",
      "('/mnt/HC_Volume_18315164/home-jupyter/jupyter-evgenij-demidov-ay-f7570/shared/homeworks/python_ds_miniprojects/7/data/2020-12-07/Petr_Fedorov', [], ['data.csv'])\n",
      "('/mnt/HC_Volume_18315164/home-jupyter/jupyter-evgenij-demidov-ay-f7570/shared/homeworks/python_ds_miniprojects/7/data/2020-12-07/Vasiliy_Ivanov', [], ['data.csv'])\n"
     ]
    }
   ],
   "source": [
    "for path, dirs, files in os.walk(way):\n",
    "    print(path, dirs, files)"
   ]
  },
  {
   "cell_type": "markdown",
   "metadata": {},
   "source": [
    "3. Далее попробуем с помощью циклов и `os.path.join(path, file)` построить пути до каждого файла в подпапке `2020-12-05` и распечатать их."
   ]
  },
  {
   "cell_type": "markdown",
   "metadata": {},
   "source": [
    "<details>\n",
    "<summary>&#9658; Нажмите сюда, чтобы увидеть подсказку</summary>\n",
    "  <p>\n",
    "\n",
    "Теперь в цикл `for` в метод `os.walk()` передайте путь к подпапке `2020-12-05`: \n",
    "\n",
    "`'...shared/homeworks/python_ds_miniprojects/7/data/2020-12-05'`\n",
    "      \n",
    "Далее используйте вложенный цикл `for` для обхода всех файлов (`files`) в текущем пути.\n",
    "      \n",
    "И после с помощью метода `os.path.join(path, file)` постройте полный путь к текущему файлу, объединяя текущий путь `path` и имя файла `file`:\n",
    "      \n",
    "```python\n",
    "      \n",
    "for path, dirs, files in os.walk(f'/mnt/HC_Volume_18315164/home-jupyter/jupyter-{student_login}/shared/homeworks/python_ds_miniprojects/7/data/2020-12-05'):\n",
    "    for file in files:\n",
    "        file_path = os.path.join(path, file)\n",
    "        print(file_path)\n",
    "```\n",
    "   \n",
    "</p>\n",
    "</details>"
   ]
  },
  {
   "cell_type": "code",
   "execution_count": 14,
   "metadata": {},
   "outputs": [
    {
     "name": "stdout",
     "output_type": "stream",
     "text": [
      "/mnt/HC_Volume_18315164/home-jupyter/jupyter-evgenij-demidov-ay-f7570/shared/homeworks/python_ds_miniprojects/7/data/2020-12-05/Petr_Ivanov/data.csv\n",
      "/mnt/HC_Volume_18315164/home-jupyter/jupyter-evgenij-demidov-ay-f7570/shared/homeworks/python_ds_miniprojects/7/data/2020-12-05/Petr_Smirnov/data.csv\n",
      "/mnt/HC_Volume_18315164/home-jupyter/jupyter-evgenij-demidov-ay-f7570/shared/homeworks/python_ds_miniprojects/7/data/2020-12-05/Rostislav_Smirnov/data.csv\n",
      "/mnt/HC_Volume_18315164/home-jupyter/jupyter-evgenij-demidov-ay-f7570/shared/homeworks/python_ds_miniprojects/7/data/2020-12-05/Kirill_Smirnov/data.csv\n",
      "/mnt/HC_Volume_18315164/home-jupyter/jupyter-evgenij-demidov-ay-f7570/shared/homeworks/python_ds_miniprojects/7/data/2020-12-05/Alexey_Fedorov/data.csv\n",
      "/mnt/HC_Volume_18315164/home-jupyter/jupyter-evgenij-demidov-ay-f7570/shared/homeworks/python_ds_miniprojects/7/data/2020-12-05/Alexey_Petrov/data.csv\n"
     ]
    }
   ],
   "source": [
    "for path, dirs, files in os.walk('/mnt/HC_Volume_18315164/home-jupyter/jupyter-evgenij-demidov-ay-f7570/shared/homeworks/python_ds_miniprojects/7/data/2020-12-05'):\n",
    "    for file in files:\n",
    "        file_path = os.path.join(path, file)\n",
    "        print(file_path)\n",
    "\n"
   ]
  },
  {
   "cell_type": "markdown",
   "metadata": {},
   "source": [
    "4. Теперь можно использовать полученные знания, чтобы с помощью метода `os.walk()` построить пути до всех файлов с расширение `.csv`, находящихся в подпапках, в папке `data`, и сохранить эти данные в список. "
   ]
  },
  {
   "cell_type": "markdown",
   "metadata": {},
   "source": [
    "<details>\n",
    "<summary>&#9658; Нажмите сюда, чтобы увидеть подсказку</summary>\n",
    "  <p>\n",
    "\n",
    "Создайте пустой список, например, `file_paths`, куда будете добавлять получившиеся пути к файлам.\n",
    "      \n",
    "Теперь используйте метод `os.walk`, который принимает путь к папке и проходится по всем подпапкам в ней, выдавая на каждой итерации:\n",
    "* путь к папке, которую мы сейчас смотрим: `path`\n",
    "* список подпапок в ней: `dirs`\n",
    "* список файлов в ней: `files`\n",
    "      \n",
    "Далее используйте вложенный цикл `for` для обхода всех файлов (`files`) в текущем пути.\n",
    "      \n",
    "С помощью условного оператора `if` проверьте имеют ли файлы в подпапках расширение '.csv'. \n",
    "      \n",
    "Если да, то с помощью метода `os.path.join(path, file)` постройте полный путь к текущему файлу, объединяя текущий путь `path` и имя файла `file`.\n",
    "      \n",
    "Не забудьте добавлять получившиеся пути в созданный ранее список.\n",
    "      \n",
    "      \n",
    "```python\n",
    "# Создаём пустой список file_paths, в который будут добавляться пути к файлам.\n",
    "file_paths = []\n",
    "# Запускаем цикл for cовместно с методом os.walk() по папке data\n",
    "# В переменной path находится текущий путь (папка data), dirs — список подпапок в текущей папке, files — список файлов в них\n",
    "for path, dirs, files in os.walk(way):\n",
    "\t# Вложенный цикл для перебора файлов в текущей папке\n",
    "    for file in files:\n",
    "\t\t# Проверка формата файла — файл должен заканчиваться на '.csv'\n",
    "        if file.endswith('.csv'):\n",
    "\t\t    # Построение полного пути к файлу с помощью os.path.join(), объединяя текущий путь path и имя файла file\n",
    "            file_path = os.path.join(path, file)\n",
    "            # Добавляем получившийся путь в список\n",
    "            file_paths.append(file_path)      \n",
    "```\n",
    "      \n",
    "</p>\n",
    "</details>"
   ]
  },
  {
   "cell_type": "code",
   "execution_count": 15,
   "metadata": {},
   "outputs": [],
   "source": [
    "file_paths = []\n",
    "for path, dirs, files in os.walk(way):\n",
    "    for file in files:\n",
    "        if file.endswith('.csv'):\n",
    "            file_path = os.path.join(path, file)\n",
    "            file_paths.append(file_path)\n",
    "\n",
    "\n"
   ]
  },
  {
   "cell_type": "code",
   "execution_count": 16,
   "metadata": {},
   "outputs": [
    {
     "data": {
      "text/plain": [
       "['/mnt/HC_Volume_18315164/home-jupyter/jupyter-evgenij-demidov-ay-f7570/shared/homeworks/python_ds_miniprojects/7/data/2020-12-05/Petr_Ivanov/data.csv',\n",
       " '/mnt/HC_Volume_18315164/home-jupyter/jupyter-evgenij-demidov-ay-f7570/shared/homeworks/python_ds_miniprojects/7/data/2020-12-05/Petr_Smirnov/data.csv',\n",
       " '/mnt/HC_Volume_18315164/home-jupyter/jupyter-evgenij-demidov-ay-f7570/shared/homeworks/python_ds_miniprojects/7/data/2020-12-05/Rostislav_Smirnov/data.csv',\n",
       " '/mnt/HC_Volume_18315164/home-jupyter/jupyter-evgenij-demidov-ay-f7570/shared/homeworks/python_ds_miniprojects/7/data/2020-12-05/Kirill_Smirnov/data.csv',\n",
       " '/mnt/HC_Volume_18315164/home-jupyter/jupyter-evgenij-demidov-ay-f7570/shared/homeworks/python_ds_miniprojects/7/data/2020-12-05/Alexey_Fedorov/data.csv',\n",
       " '/mnt/HC_Volume_18315164/home-jupyter/jupyter-evgenij-demidov-ay-f7570/shared/homeworks/python_ds_miniprojects/7/data/2020-12-05/Alexey_Petrov/data.csv',\n",
       " '/mnt/HC_Volume_18315164/home-jupyter/jupyter-evgenij-demidov-ay-f7570/shared/homeworks/python_ds_miniprojects/7/data/2020-12-08/Petr_Petrov/data.csv',\n",
       " '/mnt/HC_Volume_18315164/home-jupyter/jupyter-evgenij-demidov-ay-f7570/shared/homeworks/python_ds_miniprojects/7/data/2020-12-08/Rostislav_Petrov/data.csv',\n",
       " '/mnt/HC_Volume_18315164/home-jupyter/jupyter-evgenij-demidov-ay-f7570/shared/homeworks/python_ds_miniprojects/7/data/2020-12-08/Kirill_Smirnov/data.csv',\n",
       " '/mnt/HC_Volume_18315164/home-jupyter/jupyter-evgenij-demidov-ay-f7570/shared/homeworks/python_ds_miniprojects/7/data/2020-12-08/Alexey_Fedorov/data.csv',\n",
       " '/mnt/HC_Volume_18315164/home-jupyter/jupyter-evgenij-demidov-ay-f7570/shared/homeworks/python_ds_miniprojects/7/data/2020-12-08/Anton_Smirnov/data.csv',\n",
       " '/mnt/HC_Volume_18315164/home-jupyter/jupyter-evgenij-demidov-ay-f7570/shared/homeworks/python_ds_miniprojects/7/data/2020-12-09/Alexey_Smirnov/data.csv',\n",
       " '/mnt/HC_Volume_18315164/home-jupyter/jupyter-evgenij-demidov-ay-f7570/shared/homeworks/python_ds_miniprojects/7/data/2020-12-09/Anton_Petrov/data.csv',\n",
       " '/mnt/HC_Volume_18315164/home-jupyter/jupyter-evgenij-demidov-ay-f7570/shared/homeworks/python_ds_miniprojects/7/data/2020-12-09/Rostislav_Petrov/data.csv',\n",
       " '/mnt/HC_Volume_18315164/home-jupyter/jupyter-evgenij-demidov-ay-f7570/shared/homeworks/python_ds_miniprojects/7/data/2020-12-09/Anton_Smirnov/data.csv',\n",
       " '/mnt/HC_Volume_18315164/home-jupyter/jupyter-evgenij-demidov-ay-f7570/shared/homeworks/python_ds_miniprojects/7/data/2020-12-09/Anton_Ivanov/data.csv',\n",
       " '/mnt/HC_Volume_18315164/home-jupyter/jupyter-evgenij-demidov-ay-f7570/shared/homeworks/python_ds_miniprojects/7/data/2020-12-09/Petr_Fedorov/data.csv',\n",
       " '/mnt/HC_Volume_18315164/home-jupyter/jupyter-evgenij-demidov-ay-f7570/shared/homeworks/python_ds_miniprojects/7/data/2020-12-09/Vasiliy_Ivanov/data.csv',\n",
       " '/mnt/HC_Volume_18315164/home-jupyter/jupyter-evgenij-demidov-ay-f7570/shared/homeworks/python_ds_miniprojects/7/data/2020-12-04/Kirill_Fedorov/data.csv',\n",
       " '/mnt/HC_Volume_18315164/home-jupyter/jupyter-evgenij-demidov-ay-f7570/shared/homeworks/python_ds_miniprojects/7/data/2020-12-04/Alexey_Smirnov/data.csv',\n",
       " '/mnt/HC_Volume_18315164/home-jupyter/jupyter-evgenij-demidov-ay-f7570/shared/homeworks/python_ds_miniprojects/7/data/2020-12-04/Rostislav_Ivanov/data.csv',\n",
       " '/mnt/HC_Volume_18315164/home-jupyter/jupyter-evgenij-demidov-ay-f7570/shared/homeworks/python_ds_miniprojects/7/data/2020-12-04/Petr_Ivanov/data.csv',\n",
       " '/mnt/HC_Volume_18315164/home-jupyter/jupyter-evgenij-demidov-ay-f7570/shared/homeworks/python_ds_miniprojects/7/data/2020-12-04/Rostislav_Fedorov/data.csv',\n",
       " '/mnt/HC_Volume_18315164/home-jupyter/jupyter-evgenij-demidov-ay-f7570/shared/homeworks/python_ds_miniprojects/7/data/2020-12-04/Petr_Smirnov/data.csv',\n",
       " '/mnt/HC_Volume_18315164/home-jupyter/jupyter-evgenij-demidov-ay-f7570/shared/homeworks/python_ds_miniprojects/7/data/2020-12-04/Rostislav_Smirnov/data.csv',\n",
       " '/mnt/HC_Volume_18315164/home-jupyter/jupyter-evgenij-demidov-ay-f7570/shared/homeworks/python_ds_miniprojects/7/data/2020-12-04/Petr_Fedorov/data.csv',\n",
       " '/mnt/HC_Volume_18315164/home-jupyter/jupyter-evgenij-demidov-ay-f7570/shared/homeworks/python_ds_miniprojects/7/data/2020-12-04/Vasiliy_Ivanov/data.csv',\n",
       " '/mnt/HC_Volume_18315164/home-jupyter/jupyter-evgenij-demidov-ay-f7570/shared/homeworks/python_ds_miniprojects/7/data/2020-12-06/Vasiliy_Fedorov/data.csv',\n",
       " '/mnt/HC_Volume_18315164/home-jupyter/jupyter-evgenij-demidov-ay-f7570/shared/homeworks/python_ds_miniprojects/7/data/2020-12-03/Alexey_Smirnov/data.csv',\n",
       " '/mnt/HC_Volume_18315164/home-jupyter/jupyter-evgenij-demidov-ay-f7570/shared/homeworks/python_ds_miniprojects/7/data/2020-12-03/Anton_Petrov/data.csv',\n",
       " '/mnt/HC_Volume_18315164/home-jupyter/jupyter-evgenij-demidov-ay-f7570/shared/homeworks/python_ds_miniprojects/7/data/2020-12-03/Vasiliy_Petrov/data.csv',\n",
       " '/mnt/HC_Volume_18315164/home-jupyter/jupyter-evgenij-demidov-ay-f7570/shared/homeworks/python_ds_miniprojects/7/data/2020-12-03/Kirill_Petrov/data.csv',\n",
       " '/mnt/HC_Volume_18315164/home-jupyter/jupyter-evgenij-demidov-ay-f7570/shared/homeworks/python_ds_miniprojects/7/data/2020-12-03/Petr_Fedorov/data.csv',\n",
       " '/mnt/HC_Volume_18315164/home-jupyter/jupyter-evgenij-demidov-ay-f7570/shared/homeworks/python_ds_miniprojects/7/data/2020-12-03/Vasiliy_Ivanov/data.csv',\n",
       " '/mnt/HC_Volume_18315164/home-jupyter/jupyter-evgenij-demidov-ay-f7570/shared/homeworks/python_ds_miniprojects/7/data/2020-12-07/Kirill_Fedorov/data.csv',\n",
       " '/mnt/HC_Volume_18315164/home-jupyter/jupyter-evgenij-demidov-ay-f7570/shared/homeworks/python_ds_miniprojects/7/data/2020-12-07/Alexey_Smirnov/data.csv',\n",
       " '/mnt/HC_Volume_18315164/home-jupyter/jupyter-evgenij-demidov-ay-f7570/shared/homeworks/python_ds_miniprojects/7/data/2020-12-07/Rostislav_Fedorov/data.csv',\n",
       " '/mnt/HC_Volume_18315164/home-jupyter/jupyter-evgenij-demidov-ay-f7570/shared/homeworks/python_ds_miniprojects/7/data/2020-12-07/Alexey_Ivanov/data.csv',\n",
       " '/mnt/HC_Volume_18315164/home-jupyter/jupyter-evgenij-demidov-ay-f7570/shared/homeworks/python_ds_miniprojects/7/data/2020-12-07/Petr_Smirnov/data.csv',\n",
       " '/mnt/HC_Volume_18315164/home-jupyter/jupyter-evgenij-demidov-ay-f7570/shared/homeworks/python_ds_miniprojects/7/data/2020-12-07/Alexey_Fedorov/data.csv',\n",
       " '/mnt/HC_Volume_18315164/home-jupyter/jupyter-evgenij-demidov-ay-f7570/shared/homeworks/python_ds_miniprojects/7/data/2020-12-07/Anton_Smirnov/data.csv',\n",
       " '/mnt/HC_Volume_18315164/home-jupyter/jupyter-evgenij-demidov-ay-f7570/shared/homeworks/python_ds_miniprojects/7/data/2020-12-07/Anton_Ivanov/data.csv',\n",
       " '/mnt/HC_Volume_18315164/home-jupyter/jupyter-evgenij-demidov-ay-f7570/shared/homeworks/python_ds_miniprojects/7/data/2020-12-07/Petr_Fedorov/data.csv',\n",
       " '/mnt/HC_Volume_18315164/home-jupyter/jupyter-evgenij-demidov-ay-f7570/shared/homeworks/python_ds_miniprojects/7/data/2020-12-07/Vasiliy_Ivanov/data.csv']"
      ]
     },
     "execution_count": 16,
     "metadata": {},
     "output_type": "execute_result"
    }
   ],
   "source": [
    "file_paths"
   ]
  },
  {
   "cell_type": "markdown",
   "metadata": {},
   "source": [
    "**Пути к файлам мы получили, что дальше?**\n",
    "\n",
    "5. Теперь необходимо считать данные файлы, собрав их в один датафрэйм, имеющий следующие столбцы: колонки из самих файлов (`product_id`, `quantity`), а также: имя пользователя(`name`) и дату этих покупок (`date`), которые можно получить из соответствующих названий папок, где лежат файлы.\n",
    "\n",
    "   Как мы помним, пути к каждому файлу уже построены, а значит можно прочитать все файлы. \n",
    "\n",
    "   Поскольку название путей — это строки, то мы можем, использовав строковые методы, достать из путей нужную нам часть, а именно: информацию об имени пользователя и о дате покупки."
   ]
  },
  {
   "cell_type": "markdown",
   "metadata": {},
   "source": [
    "<details>\n",
    "<summary>&#9658; Нажмите сюда, чтобы увидеть подсказку</summary>\n",
    "  <p>\n",
    "\n",
    "А с чего тут начать?\n",
    "      \n",
    "Создаем пустую таблицу данных, например, `df`, которую мы будем заполнять данными:\n",
    "      \n",
    "```python\n",
    "df = pd.DataFrame() \n",
    "```\n",
    "\n",
    "Запускаем цикл для каждого пути к файлу `i` из списка путей — `file_paths`, и для каждого `i` выполняем следующие действия:\n",
    "      \n",
    "* Считываем данные с помощью `pd.read_csv(i)` и сохраняем их в переменную, возьмем, например, `data`, таким образом, у нас в переменной `data` на каждой итерации будут оказываться мини-таблицы соответствующие каждому пути\n",
    "* Добавляем новые столбцы и значения в таблицы:\n",
    "\n",
    "```python\n",
    "data['name'] = значения\n",
    "data['date'] = значения ```\n",
    "      \n",
    "Как уже упоминалось, каждый путь представляет собой строку (расположение данных в путях одинаковое), элементы которой разделены `/`, поэтому мы можем использовать строковый метод `split()` с разделителем `/`, разделить по нему путь к файлу и с помощью индексов достать нужные части.\n",
    "      \n",
    "Например:\n",
    "      \n",
    "```python\n",
    "str_way = 'shared/homeworks/python_ds_miniprojects/7/data/2020-12-05/Petr_Ivanov/data.csv'\n",
    "name = str_way.split('/')[-2]\n",
    "      \n",
    "#Вывод\n",
    "'Petr_Ivanov'\n",
    "\n",
    "```\n",
    "Объедините с помощью метода `pd.concat()` созданный перед циклом пустой датафрейм `df` и считанный в цикле `data`.\n",
    "\n",
    "Таким образом каждый мини-датафрейм будет считываться на каждой итерации, в него будут добавляться колонки с датой и именем, а далее он будет добавлен в общий датафрейм.\n",
    "      \n",
    "</p>\n",
    "</details>"
   ]
  },
  {
   "cell_type": "code",
   "execution_count": 18,
   "metadata": {},
   "outputs": [],
   "source": [
    "import pandas as pd"
   ]
  },
  {
   "cell_type": "code",
   "execution_count": 21,
   "metadata": {},
   "outputs": [
    {
     "data": {
      "text/html": [
       "<div>\n",
       "<style scoped>\n",
       "    .dataframe tbody tr th:only-of-type {\n",
       "        vertical-align: middle;\n",
       "    }\n",
       "\n",
       "    .dataframe tbody tr th {\n",
       "        vertical-align: top;\n",
       "    }\n",
       "\n",
       "    .dataframe thead th {\n",
       "        text-align: right;\n",
       "    }\n",
       "</style>\n",
       "<table border=\"1\" class=\"dataframe\">\n",
       "  <thead>\n",
       "    <tr style=\"text-align: right;\">\n",
       "      <th></th>\n",
       "      <th>Unnamed: 0</th>\n",
       "      <th>product_id</th>\n",
       "      <th>quantity</th>\n",
       "    </tr>\n",
       "  </thead>\n",
       "  <tbody>\n",
       "    <tr>\n",
       "      <th>0</th>\n",
       "      <td>0</td>\n",
       "      <td>95</td>\n",
       "      <td>2</td>\n",
       "    </tr>\n",
       "    <tr>\n",
       "      <th>1</th>\n",
       "      <td>1</td>\n",
       "      <td>83</td>\n",
       "      <td>3</td>\n",
       "    </tr>\n",
       "    <tr>\n",
       "      <th>2</th>\n",
       "      <td>2</td>\n",
       "      <td>64</td>\n",
       "      <td>1</td>\n",
       "    </tr>\n",
       "  </tbody>\n",
       "</table>\n",
       "</div>"
      ],
      "text/plain": [
       "   Unnamed: 0  product_id  quantity\n",
       "0           0          95         2\n",
       "1           1          83         3\n",
       "2           2          64         1"
      ]
     },
     "execution_count": 21,
     "metadata": {},
     "output_type": "execute_result"
    }
   ],
   "source": [
    "pd.read_csv('/mnt/HC_Volume_18315164/home-jupyter/jupyter-evgenij-demidov-ay-f7570/shared/homeworks/python_ds_miniprojects/7/data/2020-12-07/Vasiliy_Ivanov/data.csv')"
   ]
  },
  {
   "cell_type": "code",
   "execution_count": 37,
   "metadata": {},
   "outputs": [],
   "source": [
    "df = pd.DataFrame()\n",
    "for i in file_paths:\n",
    "    data = pd.read_csv(i)\n",
    "    data['name'] = i.split('/')[-2]\n",
    "    data['date'] = i.split('/')[-3]\n",
    "    df = pd.concat([df, data])\n",
    "\n"
   ]
  },
  {
   "cell_type": "code",
   "execution_count": 38,
   "metadata": {},
   "outputs": [
    {
     "data": {
      "text/html": [
       "<div>\n",
       "<style scoped>\n",
       "    .dataframe tbody tr th:only-of-type {\n",
       "        vertical-align: middle;\n",
       "    }\n",
       "\n",
       "    .dataframe tbody tr th {\n",
       "        vertical-align: top;\n",
       "    }\n",
       "\n",
       "    .dataframe thead th {\n",
       "        text-align: right;\n",
       "    }\n",
       "</style>\n",
       "<table border=\"1\" class=\"dataframe\">\n",
       "  <thead>\n",
       "    <tr style=\"text-align: right;\">\n",
       "      <th></th>\n",
       "      <th>Unnamed: 0</th>\n",
       "      <th>product_id</th>\n",
       "      <th>quantity</th>\n",
       "      <th>name</th>\n",
       "      <th>date</th>\n",
       "    </tr>\n",
       "  </thead>\n",
       "  <tbody>\n",
       "    <tr>\n",
       "      <th>0</th>\n",
       "      <td>0</td>\n",
       "      <td>27</td>\n",
       "      <td>4</td>\n",
       "      <td>Petr_Ivanov</td>\n",
       "      <td>2020-12-05</td>\n",
       "    </tr>\n",
       "    <tr>\n",
       "      <th>1</th>\n",
       "      <td>1</td>\n",
       "      <td>89</td>\n",
       "      <td>1</td>\n",
       "      <td>Petr_Ivanov</td>\n",
       "      <td>2020-12-05</td>\n",
       "    </tr>\n",
       "    <tr>\n",
       "      <th>2</th>\n",
       "      <td>2</td>\n",
       "      <td>33</td>\n",
       "      <td>2</td>\n",
       "      <td>Petr_Ivanov</td>\n",
       "      <td>2020-12-05</td>\n",
       "    </tr>\n",
       "    <tr>\n",
       "      <th>3</th>\n",
       "      <td>3</td>\n",
       "      <td>8</td>\n",
       "      <td>3</td>\n",
       "      <td>Petr_Ivanov</td>\n",
       "      <td>2020-12-05</td>\n",
       "    </tr>\n",
       "    <tr>\n",
       "      <th>4</th>\n",
       "      <td>4</td>\n",
       "      <td>16</td>\n",
       "      <td>1</td>\n",
       "      <td>Petr_Ivanov</td>\n",
       "      <td>2020-12-05</td>\n",
       "    </tr>\n",
       "    <tr>\n",
       "      <th>...</th>\n",
       "      <td>...</td>\n",
       "      <td>...</td>\n",
       "      <td>...</td>\n",
       "      <td>...</td>\n",
       "      <td>...</td>\n",
       "    </tr>\n",
       "    <tr>\n",
       "      <th>0</th>\n",
       "      <td>0</td>\n",
       "      <td>18</td>\n",
       "      <td>4</td>\n",
       "      <td>Petr_Fedorov</td>\n",
       "      <td>2020-12-07</td>\n",
       "    </tr>\n",
       "    <tr>\n",
       "      <th>1</th>\n",
       "      <td>1</td>\n",
       "      <td>94</td>\n",
       "      <td>4</td>\n",
       "      <td>Petr_Fedorov</td>\n",
       "      <td>2020-12-07</td>\n",
       "    </tr>\n",
       "    <tr>\n",
       "      <th>0</th>\n",
       "      <td>0</td>\n",
       "      <td>95</td>\n",
       "      <td>2</td>\n",
       "      <td>Vasiliy_Ivanov</td>\n",
       "      <td>2020-12-07</td>\n",
       "    </tr>\n",
       "    <tr>\n",
       "      <th>1</th>\n",
       "      <td>1</td>\n",
       "      <td>83</td>\n",
       "      <td>3</td>\n",
       "      <td>Vasiliy_Ivanov</td>\n",
       "      <td>2020-12-07</td>\n",
       "    </tr>\n",
       "    <tr>\n",
       "      <th>2</th>\n",
       "      <td>2</td>\n",
       "      <td>64</td>\n",
       "      <td>1</td>\n",
       "      <td>Vasiliy_Ivanov</td>\n",
       "      <td>2020-12-07</td>\n",
       "    </tr>\n",
       "  </tbody>\n",
       "</table>\n",
       "<p>161 rows × 5 columns</p>\n",
       "</div>"
      ],
      "text/plain": [
       "    Unnamed: 0  product_id  quantity            name        date\n",
       "0            0          27         4     Petr_Ivanov  2020-12-05\n",
       "1            1          89         1     Petr_Ivanov  2020-12-05\n",
       "2            2          33         2     Petr_Ivanov  2020-12-05\n",
       "3            3           8         3     Petr_Ivanov  2020-12-05\n",
       "4            4          16         1     Petr_Ivanov  2020-12-05\n",
       "..         ...         ...       ...             ...         ...\n",
       "0            0          18         4    Petr_Fedorov  2020-12-07\n",
       "1            1          94         4    Petr_Fedorov  2020-12-07\n",
       "0            0          95         2  Vasiliy_Ivanov  2020-12-07\n",
       "1            1          83         3  Vasiliy_Ivanov  2020-12-07\n",
       "2            2          64         1  Vasiliy_Ivanov  2020-12-07\n",
       "\n",
       "[161 rows x 5 columns]"
      ]
     },
     "execution_count": 38,
     "metadata": {},
     "output_type": "execute_result"
    }
   ],
   "source": [
    "df"
   ]
  },
  {
   "cell_type": "markdown",
   "metadata": {},
   "source": [
    "6. Осталось сбросить индексы и посчитать сумму по колонке `quantity`!"
   ]
  },
  {
   "cell_type": "markdown",
   "metadata": {},
   "source": [
    "<details>\n",
    "<summary>&#9658; Нажмите сюда, чтобы увидеть подсказку</summary>\n",
    "  <p>\n",
    "\n",
    "Чтобы сбросить индекс датафрэйма на стандартные числа от 0 до числа строк -1, используйте метод `reset_index`. \n",
    "А для того, чтобы старый индекс не стал колонкой, а просто ушёл, укажите параметр `drop=True`. \n",
    "\n",
    "Например,\n",
    "\n",
    "```python\n",
    "df.reset_index(drop=True)\n",
    "```\n",
    "вернёт датафрэйм, где вместо оригинального индекса будет стандартный.\n",
    "\n",
    "Для вычисления суммы значений `quantity` используйте метод `sum()` к этой колонке. \n",
    "\n",
    "</p>\n",
    "</details>"
   ]
  },
  {
   "cell_type": "code",
   "execution_count": 40,
   "metadata": {},
   "outputs": [],
   "source": [
    "df = df.reset_index(drop=True)\n",
    "\n"
   ]
  },
  {
   "cell_type": "code",
   "execution_count": 41,
   "metadata": {},
   "outputs": [
    {
     "data": {
      "text/plain": [
       "480"
      ]
     },
     "execution_count": 41,
     "metadata": {},
     "output_type": "execute_result"
    }
   ],
   "source": [
    "df.quantity.sum()"
   ]
  },
  {
   "cell_type": "markdown",
   "metadata": {},
   "source": [
    "### Шаг 3"
   ]
  },
  {
   "cell_type": "markdown",
   "metadata": {},
   "source": [
    "Выясните, какой пользователь купил больше всего товаров. Если их несколько, то перечислите имена через запятую с пробелом и в алфавитном порядке. Например:\n",
    "\n",
    "```python\n",
    "Anatoly_Karpov, Nekto_Ktotovich, Lena_Uhanova, Ignat, Sasha_Tokarev\n",
    "```"
   ]
  },
  {
   "cell_type": "markdown",
   "metadata": {},
   "source": [
    "<details>\n",
    "<summary>&#9658; Нажмите сюда, чтобы увидеть подсказку</summary>\n",
    "  <p>\n",
    "\n",
    "А как быть тут?\n",
    "    \n",
    "Сгруппируйте данные по пользователям (`name`) и посчитайте для каждого пользователя сумму по числу заказов (`quantity`). Потом отберите только имена тех, у кого максимальное число покупок.\n",
    "      \n",
    "</p>\n",
    "</details>"
   ]
  },
  {
   "cell_type": "code",
   "execution_count": 69,
   "metadata": {},
   "outputs": [
    {
     "data": {
      "text/html": [
       "<div>\n",
       "<style scoped>\n",
       "    .dataframe tbody tr th:only-of-type {\n",
       "        vertical-align: middle;\n",
       "    }\n",
       "\n",
       "    .dataframe tbody tr th {\n",
       "        vertical-align: top;\n",
       "    }\n",
       "\n",
       "    .dataframe thead th {\n",
       "        text-align: right;\n",
       "    }\n",
       "</style>\n",
       "<table border=\"1\" class=\"dataframe\">\n",
       "  <thead>\n",
       "    <tr style=\"text-align: right;\">\n",
       "      <th></th>\n",
       "      <th>name</th>\n",
       "      <th>quantity</th>\n",
       "    </tr>\n",
       "  </thead>\n",
       "  <tbody>\n",
       "    <tr>\n",
       "      <th>3</th>\n",
       "      <td>Alexey_Smirnov</td>\n",
       "      <td>52</td>\n",
       "    </tr>\n",
       "    <tr>\n",
       "      <th>13</th>\n",
       "      <td>Petr_Smirnov</td>\n",
       "      <td>52</td>\n",
       "    </tr>\n",
       "  </tbody>\n",
       "</table>\n",
       "</div>"
      ],
      "text/plain": [
       "              name  quantity\n",
       "3   Alexey_Smirnov        52\n",
       "13    Petr_Smirnov        52"
      ]
     },
     "execution_count": 69,
     "metadata": {},
     "output_type": "execute_result"
    }
   ],
   "source": [
    "df.groupby('name', as_index=False) \\\n",
    "    .agg({'quantity' : 'sum'}) \\\n",
    "    .query('quantity == quantity.max()')\n",
    "\n"
   ]
  },
  {
   "cell_type": "markdown",
   "metadata": {},
   "source": [
    "### Шаг 4"
   ]
  },
  {
   "cell_type": "markdown",
   "metadata": {},
   "source": [
    "Найдите топ-10 товаров по числу проданных единиц за всё время и постройте барплот (столбчатую диаграмму, `sns.barplot`), где:\n",
    "\n",
    "* по оси x — идентификаторы товаров (`product_id`) \n",
    "* по оси y — суммарное число их покупок (сколько товаров с таким `product_id` было продано)\n",
    "\n",
    "Для практики попробуйте изменить параметры графика, например: цвет (`color`), сортировку значений по оси х (`order`). \n",
    "\n",
    "В качестве ответа укажите, сколько было продано единиц товара с `product_id` равным `56`."
   ]
  },
  {
   "cell_type": "markdown",
   "metadata": {},
   "source": [
    "<details>\n",
    "<summary>&#9658; Нажмите сюда, чтобы увидеть подсказку</summary>\n",
    "  <p>\n",
    "\n",
    "Как делать это задание?\n",
    "\n",
    "Сгруппируйте данные по товарам (`product_id`) и посчитайте для каждого товара сумму по числу заказов (`quantity`). Для визуализации используйте `sns.barplot`.\n",
    "      \n",
    "Для построения нужного графика импортируйте `seaborn` и `matplotlib.pyplot`, вызовите `sns.barplot`, указав там нужные `x` и `y`. \n",
    "      \n",
    "Например,\n",
    "\n",
    "```python\n",
    "sns.barplot(x=df.col_x, y=df.col_y)\n",
    "```\n",
    "построит график с соответствующими координатами `x` и `y` из колонок `col_x` и `col_y` для столбиков.\n",
    "\n",
    "Альтернативно можно указать в `x` и `y` только названия нужных колонок в кавычках, а также передать в `data` переменную с датафрэймом:\n",
    "\n",
    "```python\n",
    "sns.barplot(x='col_x', y='col_y', data=df)\n",
    "```  \n",
    "Чтобы указать параметры графика: цвет (`color`), сортировку значений по оси `х` (`order`), введите их в функцию `sns.barplot`.\n",
    "      \n",
    "Сортировку значений можно задать следующим образом:\n",
    "      \n",
    "```python\n",
    "sns.barplot(x='col_x', y='col_y', data=df, order=df.sort_values('col_y').col_x, ax=ax)\n",
    "```\n",
    "      \n",
    "Подробнее можно посмотреть в [документации](https://seaborn.pydata.org/generated/seaborn.barplot.html).\n",
    "      \n",
    "</p>\n",
    "</details>"
   ]
  },
  {
   "cell_type": "code",
   "execution_count": 82,
   "metadata": {},
   "outputs": [],
   "source": [
    "import seaborn as sns\n",
    "import matplotlib.pyplot as plt\n",
    "\n"
   ]
  },
  {
   "cell_type": "code",
   "execution_count": 92,
   "metadata": {},
   "outputs": [],
   "source": [
    "df_new = df.groupby('product_id', as_index=False) \\\n",
    "    .agg({'quantity' : 'sum'}) \\\n",
    "    .sort_values('quantity', ascending=False) \\\n",
    "    .head(10)"
   ]
  },
  {
   "cell_type": "code",
   "execution_count": 93,
   "metadata": {},
   "outputs": [
    {
     "data": {
      "text/html": [
       "<div>\n",
       "<style scoped>\n",
       "    .dataframe tbody tr th:only-of-type {\n",
       "        vertical-align: middle;\n",
       "    }\n",
       "\n",
       "    .dataframe tbody tr th {\n",
       "        vertical-align: top;\n",
       "    }\n",
       "\n",
       "    .dataframe thead th {\n",
       "        text-align: right;\n",
       "    }\n",
       "</style>\n",
       "<table border=\"1\" class=\"dataframe\">\n",
       "  <thead>\n",
       "    <tr style=\"text-align: right;\">\n",
       "      <th></th>\n",
       "      <th>product_id</th>\n",
       "      <th>quantity</th>\n",
       "    </tr>\n",
       "  </thead>\n",
       "  <tbody>\n",
       "    <tr>\n",
       "      <th>22</th>\n",
       "      <td>27</td>\n",
       "      <td>20</td>\n",
       "    </tr>\n",
       "    <tr>\n",
       "      <th>42</th>\n",
       "      <td>56</td>\n",
       "      <td>18</td>\n",
       "    </tr>\n",
       "    <tr>\n",
       "      <th>21</th>\n",
       "      <td>24</td>\n",
       "      <td>15</td>\n",
       "    </tr>\n",
       "    <tr>\n",
       "      <th>51</th>\n",
       "      <td>74</td>\n",
       "      <td>15</td>\n",
       "    </tr>\n",
       "    <tr>\n",
       "      <th>32</th>\n",
       "      <td>41</td>\n",
       "      <td>14</td>\n",
       "    </tr>\n",
       "    <tr>\n",
       "      <th>27</th>\n",
       "      <td>34</td>\n",
       "      <td>13</td>\n",
       "    </tr>\n",
       "    <tr>\n",
       "      <th>66</th>\n",
       "      <td>94</td>\n",
       "      <td>13</td>\n",
       "    </tr>\n",
       "    <tr>\n",
       "      <th>46</th>\n",
       "      <td>66</td>\n",
       "      <td>13</td>\n",
       "    </tr>\n",
       "    <tr>\n",
       "      <th>65</th>\n",
       "      <td>92</td>\n",
       "      <td>12</td>\n",
       "    </tr>\n",
       "    <tr>\n",
       "      <th>38</th>\n",
       "      <td>50</td>\n",
       "      <td>12</td>\n",
       "    </tr>\n",
       "  </tbody>\n",
       "</table>\n",
       "</div>"
      ],
      "text/plain": [
       "    product_id  quantity\n",
       "22          27        20\n",
       "42          56        18\n",
       "21          24        15\n",
       "51          74        15\n",
       "32          41        14\n",
       "27          34        13\n",
       "66          94        13\n",
       "46          66        13\n",
       "65          92        12\n",
       "38          50        12"
      ]
     },
     "execution_count": 93,
     "metadata": {},
     "output_type": "execute_result"
    }
   ],
   "source": [
    "df_new"
   ]
  },
  {
   "cell_type": "code",
   "execution_count": 106,
   "metadata": {},
   "outputs": [
    {
     "data": {
      "image/png": "[encoded data removed]",
      "text/plain": [
       "<Figure size 720x720 with 1 Axes>"
      ]
     },
     "metadata": {
      "needs_background": "light"
     },
     "output_type": "display_data"
    }
   ],
   "source": [
    "plt.figure(figsize=(10, 10))\n",
    "sns.barplot(x=df_new.product_id, y=df_new.quantity, color='green')\n",
    "plt.title('топ-10 товаров по количеству покупок')\n",
    "plt.xlabel('id товара')\n",
    "plt.ylabel('количество покупок')\n",
    "plt.show()"
   ]
  },
  {
   "cell_type": "markdown",
   "metadata": {},
   "source": [
    "### Шаг 5"
   ]
  },
  {
   "cell_type": "markdown",
   "metadata": {},
   "source": [
    "Посмотрим на продажи по дням! Для визуализации снова используйте барплот, только теперь по оси `x` будут дни, по которым у нас есть данные (`date`). \n",
    "\n",
    "Далее выберите верные утверждения:"
   ]
  },
  {
   "cell_type": "markdown",
   "metadata": {},
   "source": [
    "* Меньше всего товаров было приобретено 6 декабря\n",
    "* 5 декабря было куплено почти в три раза меньше товаров, чем в предыдущий день\n",
    "* 8 и 9 декабря было продано примерно одинаковое число товаров\n",
    "* Максимальное число товаров было продано 4 декабря\n",
    "* Меньше всего продуктов было приобретено 4 декабря\n",
    "* 4 декабря было куплено почти в два раза больше товаров, чем в предыдущий день\n",
    "* 5 декабря было куплено почти в два раза больше товаров, чем в предыдущий день\n",
    "* 7 декабря было куплено почти в два раза больше товаров, чем в предыдущий день"
   ]
  },
  {
   "cell_type": "markdown",
   "metadata": {},
   "source": [
    "<details>\n",
    "<summary>&#9658; Нажмите сюда, чтобы увидеть подсказку</summary>\n",
    "  <p>\n",
    "      \n",
    "Сгруппируйте данные по датам (`date`) и посчитайте для каждого дня сумму по числу заказов (`quantity`). Для визуализации используйте `sns.barplot`.\n",
    "      \n",
    "С помощью графика ответьте на вопросы по заданию.\n",
    "      \n",
    "</p>\n",
    "</details>"
   ]
  },
  {
   "cell_type": "code",
   "execution_count": 152,
   "metadata": {},
   "outputs": [],
   "source": [
    "df.date = pd.to_datetime(df.date).dt.date\n"
   ]
  },
  {
   "cell_type": "code",
   "execution_count": 153,
   "metadata": {},
   "outputs": [],
   "source": [
    "df_by_day = df.groupby('date', as_index=False) \\\n",
    "    .agg({'quantity' : 'sum'})"
   ]
  },
  {
   "cell_type": "code",
   "execution_count": 154,
   "metadata": {},
   "outputs": [
    {
     "data": {
      "text/html": [
       "<div>\n",
       "<style scoped>\n",
       "    .dataframe tbody tr th:only-of-type {\n",
       "        vertical-align: middle;\n",
       "    }\n",
       "\n",
       "    .dataframe tbody tr th {\n",
       "        vertical-align: top;\n",
       "    }\n",
       "\n",
       "    .dataframe thead th {\n",
       "        text-align: right;\n",
       "    }\n",
       "</style>\n",
       "<table border=\"1\" class=\"dataframe\">\n",
       "  <thead>\n",
       "    <tr style=\"text-align: right;\">\n",
       "      <th></th>\n",
       "      <th>date</th>\n",
       "      <th>quantity</th>\n",
       "    </tr>\n",
       "  </thead>\n",
       "  <tbody>\n",
       "    <tr>\n",
       "      <th>0</th>\n",
       "      <td>2020-12-03</td>\n",
       "      <td>60</td>\n",
       "    </tr>\n",
       "    <tr>\n",
       "      <th>1</th>\n",
       "      <td>2020-12-04</td>\n",
       "      <td>113</td>\n",
       "    </tr>\n",
       "    <tr>\n",
       "      <th>2</th>\n",
       "      <td>2020-12-05</td>\n",
       "      <td>61</td>\n",
       "    </tr>\n",
       "    <tr>\n",
       "      <th>3</th>\n",
       "      <td>2020-12-06</td>\n",
       "      <td>15</td>\n",
       "    </tr>\n",
       "    <tr>\n",
       "      <th>4</th>\n",
       "      <td>2020-12-07</td>\n",
       "      <td>94</td>\n",
       "    </tr>\n",
       "    <tr>\n",
       "      <th>5</th>\n",
       "      <td>2020-12-08</td>\n",
       "      <td>68</td>\n",
       "    </tr>\n",
       "    <tr>\n",
       "      <th>6</th>\n",
       "      <td>2020-12-09</td>\n",
       "      <td>69</td>\n",
       "    </tr>\n",
       "  </tbody>\n",
       "</table>\n",
       "</div>"
      ],
      "text/plain": [
       "         date  quantity\n",
       "0  2020-12-03        60\n",
       "1  2020-12-04       113\n",
       "2  2020-12-05        61\n",
       "3  2020-12-06        15\n",
       "4  2020-12-07        94\n",
       "5  2020-12-08        68\n",
       "6  2020-12-09        69"
      ]
     },
     "execution_count": 154,
     "metadata": {},
     "output_type": "execute_result"
    }
   ],
   "source": [
    "df_by_day"
   ]
  },
  {
   "cell_type": "code",
   "execution_count": 155,
   "metadata": {},
   "outputs": [
    {
     "data": {
      "image/png": "[encoded data removed]",
      "text/plain": [
       "<Figure size 720x720 with 1 Axes>"
      ]
     },
     "metadata": {
      "needs_background": "light"
     },
     "output_type": "display_data"
    }
   ],
   "source": [
    "plt.figure(figsize=(10, 10))\n",
    "sns.barplot(x=df_by_day.date, y=df_by_day.quantity)\n",
    "plt.title('Продажи по дням')\n",
    "plt.xlabel('Дата')\n",
    "plt.xticks(rotation=45)\n",
    "plt.ylabel('Количество покупок')\n",
    "plt.show()"
   ]
  },
  {
   "cell_type": "markdown",
   "metadata": {},
   "source": [
    "### Шаг 6"
   ]
  },
  {
   "cell_type": "markdown",
   "metadata": {},
   "source": [
    "Сколько пользователей приобрели какой-либо товар повторно (более 1 раза)? Повтором будем считать покупку товара с одинаковым `product_id`, совершенную в разные дни. \n",
    "\n",
    "Например, пользователь `Sasha Tsarev` дважды приобрел товар `6`. Поскольку покупка была совершена в один и тот же день, повторной в данном случае она считаться не будет. \n",
    "\n",
    "`Katya Skriptsova` также сделала две покупки товара `7`, но в разные дни, поэтому этот случай засчитывается.\n",
    "\n",
    "|product_id|quantity|name|date|                                                                                     \n",
    "|:----|:-----|:--|:-----|                                              \n",
    "|25|2|Кatya_Skriptsova|2020-12-05|\n",
    "|54|1|Olya_Silyutina|2020-12-05|\n",
    "|7|4|Кatya_Skriptsova|2020-12-05|\n",
    "|6|4|Sasha_Tsarev|2020-12-06|\n",
    "|6|1|Sasha_Tsarev|2020-12-06|\n",
    "|7|5|Кatya_Skriptsova|2020-12-06|\n",
    "\n",
    "Может пригодиться: `.drop_duplicates()`"
   ]
  },
  {
   "cell_type": "markdown",
   "metadata": {},
   "source": [
    "<details>\n",
    "<summary>&#9658; Нажмите сюда, чтобы увидеть подсказку</summary>\n",
    "  <p>\n",
    "\n",
    "Один из вариантов решения — удалить дубликаты по имени, продукту и дате. Это оставит только по одной строке на каждую покупку продукта в день. Затем нужно сгруппировать по колонкам `name` и `product_id` и посчитать число дней покупок каждого продукта для каждого человека (то есть число строк в группе). \n",
    "      \n",
    "После этого отобрать строки со значением больше `1`, то есть только строки пользователей, купивших что-то в разные дни.\n",
    "\n",
    "Для удаления повторяющихся строк используется метод `drop_duplicates()`. Под повторяющимися имеется в виду, что значения в этих строках во всех их колонках одинаковые:\n",
    "    \n",
    "```python\n",
    "df.drop_duplicates()\n",
    "```\n",
    "Такой код вернёт датафрэйм, где не будет повторяющихся строк, но чтобы смотреть на повторность не по всем столбцам, а только по части, необходимо воспользоваться параметром `subset`.\n",
    "    \n",
    "```python\n",
    "df.drop_duplicates(subset='my_unique_column')\n",
    "```\n",
    "Так мы получим датафрэйм, где не будет строк с одинаковым значением в колонке `my_unique_column`      \n",
    "      \n",
    "</p>\n",
    "</details>"
   ]
  },
  {
   "cell_type": "code",
   "execution_count": 168,
   "metadata": {},
   "outputs": [
    {
     "data": {
      "text/html": [
       "<div>\n",
       "<style scoped>\n",
       "    .dataframe tbody tr th:only-of-type {\n",
       "        vertical-align: middle;\n",
       "    }\n",
       "\n",
       "    .dataframe tbody tr th {\n",
       "        vertical-align: top;\n",
       "    }\n",
       "\n",
       "    .dataframe thead th {\n",
       "        text-align: right;\n",
       "    }\n",
       "</style>\n",
       "<table border=\"1\" class=\"dataframe\">\n",
       "  <thead>\n",
       "    <tr style=\"text-align: right;\">\n",
       "      <th></th>\n",
       "      <th>product_id</th>\n",
       "      <th>name</th>\n",
       "      <th>date</th>\n",
       "    </tr>\n",
       "  </thead>\n",
       "  <tbody>\n",
       "    <tr>\n",
       "      <th>24</th>\n",
       "      <td>15</td>\n",
       "      <td>Anton_Ivanov</td>\n",
       "      <td>2</td>\n",
       "    </tr>\n",
       "    <tr>\n",
       "      <th>150</th>\n",
       "      <td>94</td>\n",
       "      <td>Petr_Fedorov</td>\n",
       "      <td>2</td>\n",
       "    </tr>\n",
       "  </tbody>\n",
       "</table>\n",
       "</div>"
      ],
      "text/plain": [
       "     product_id          name  date\n",
       "24           15  Anton_Ivanov     2\n",
       "150          94  Petr_Fedorov     2"
      ]
     },
     "execution_count": 168,
     "metadata": {},
     "output_type": "execute_result"
    }
   ],
   "source": [
    "df.drop_duplicates(subset=['product_id', 'name', 'date']) \\\n",
    "    .groupby(['product_id', 'name'], as_index=False) \\\n",
    "    .agg({'date' : 'count'}) \\\n",
    "    .query('date > 1')\n",
    "\n",
    "\n"
   ]
  },
  {
   "cell_type": "code",
   "execution_count": 162,
   "metadata": {},
   "outputs": [
    {
     "data": {
      "text/html": [
       "<div>\n",
       "<style scoped>\n",
       "    .dataframe tbody tr th:only-of-type {\n",
       "        vertical-align: middle;\n",
       "    }\n",
       "\n",
       "    .dataframe tbody tr th {\n",
       "        vertical-align: top;\n",
       "    }\n",
       "\n",
       "    .dataframe thead th {\n",
       "        text-align: right;\n",
       "    }\n",
       "</style>\n",
       "<table border=\"1\" class=\"dataframe\">\n",
       "  <thead>\n",
       "    <tr style=\"text-align: right;\">\n",
       "      <th></th>\n",
       "      <th>Unnamed: 0</th>\n",
       "      <th>product_id</th>\n",
       "      <th>quantity</th>\n",
       "      <th>name</th>\n",
       "      <th>date</th>\n",
       "    </tr>\n",
       "  </thead>\n",
       "  <tbody>\n",
       "    <tr>\n",
       "      <th>0</th>\n",
       "      <td>0</td>\n",
       "      <td>27</td>\n",
       "      <td>4</td>\n",
       "      <td>Petr_Ivanov</td>\n",
       "      <td>2020-12-05</td>\n",
       "    </tr>\n",
       "    <tr>\n",
       "      <th>1</th>\n",
       "      <td>1</td>\n",
       "      <td>89</td>\n",
       "      <td>1</td>\n",
       "      <td>Petr_Ivanov</td>\n",
       "      <td>2020-12-05</td>\n",
       "    </tr>\n",
       "    <tr>\n",
       "      <th>2</th>\n",
       "      <td>2</td>\n",
       "      <td>33</td>\n",
       "      <td>2</td>\n",
       "      <td>Petr_Ivanov</td>\n",
       "      <td>2020-12-05</td>\n",
       "    </tr>\n",
       "    <tr>\n",
       "      <th>3</th>\n",
       "      <td>3</td>\n",
       "      <td>8</td>\n",
       "      <td>3</td>\n",
       "      <td>Petr_Ivanov</td>\n",
       "      <td>2020-12-05</td>\n",
       "    </tr>\n",
       "    <tr>\n",
       "      <th>4</th>\n",
       "      <td>4</td>\n",
       "      <td>16</td>\n",
       "      <td>1</td>\n",
       "      <td>Petr_Ivanov</td>\n",
       "      <td>2020-12-05</td>\n",
       "    </tr>\n",
       "    <tr>\n",
       "      <th>...</th>\n",
       "      <td>...</td>\n",
       "      <td>...</td>\n",
       "      <td>...</td>\n",
       "      <td>...</td>\n",
       "      <td>...</td>\n",
       "    </tr>\n",
       "    <tr>\n",
       "      <th>156</th>\n",
       "      <td>0</td>\n",
       "      <td>18</td>\n",
       "      <td>4</td>\n",
       "      <td>Petr_Fedorov</td>\n",
       "      <td>2020-12-07</td>\n",
       "    </tr>\n",
       "    <tr>\n",
       "      <th>157</th>\n",
       "      <td>1</td>\n",
       "      <td>94</td>\n",
       "      <td>4</td>\n",
       "      <td>Petr_Fedorov</td>\n",
       "      <td>2020-12-07</td>\n",
       "    </tr>\n",
       "    <tr>\n",
       "      <th>158</th>\n",
       "      <td>0</td>\n",
       "      <td>95</td>\n",
       "      <td>2</td>\n",
       "      <td>Vasiliy_Ivanov</td>\n",
       "      <td>2020-12-07</td>\n",
       "    </tr>\n",
       "    <tr>\n",
       "      <th>159</th>\n",
       "      <td>1</td>\n",
       "      <td>83</td>\n",
       "      <td>3</td>\n",
       "      <td>Vasiliy_Ivanov</td>\n",
       "      <td>2020-12-07</td>\n",
       "    </tr>\n",
       "    <tr>\n",
       "      <th>160</th>\n",
       "      <td>2</td>\n",
       "      <td>64</td>\n",
       "      <td>1</td>\n",
       "      <td>Vasiliy_Ivanov</td>\n",
       "      <td>2020-12-07</td>\n",
       "    </tr>\n",
       "  </tbody>\n",
       "</table>\n",
       "<p>161 rows × 5 columns</p>\n",
       "</div>"
      ],
      "text/plain": [
       "     Unnamed: 0  product_id  quantity            name        date\n",
       "0             0          27         4     Petr_Ivanov  2020-12-05\n",
       "1             1          89         1     Petr_Ivanov  2020-12-05\n",
       "2             2          33         2     Petr_Ivanov  2020-12-05\n",
       "3             3           8         3     Petr_Ivanov  2020-12-05\n",
       "4             4          16         1     Petr_Ivanov  2020-12-05\n",
       "..          ...         ...       ...             ...         ...\n",
       "156           0          18         4    Petr_Fedorov  2020-12-07\n",
       "157           1          94         4    Petr_Fedorov  2020-12-07\n",
       "158           0          95         2  Vasiliy_Ivanov  2020-12-07\n",
       "159           1          83         3  Vasiliy_Ivanov  2020-12-07\n",
       "160           2          64         1  Vasiliy_Ivanov  2020-12-07\n",
       "\n",
       "[161 rows x 5 columns]"
      ]
     },
     "execution_count": 162,
     "metadata": {},
     "output_type": "execute_result"
    }
   ],
   "source": [
    "df"
   ]
  },
  {
   "cell_type": "markdown",
   "metadata": {},
   "source": [
    "## Часть 2. Обработка данных телемаркетинга"
   ]
  },
  {
   "cell_type": "markdown",
   "metadata": {},
   "source": [
    "В данном проекте путём объединения файлов о продажах с логами по подключениям в системе, вы сможете проверить корректность подключений определенных пользователей. \n",
    "\n",
    "В папке `subsid` (`'...shared/homeworks/python_ds_miniprojects/7_subsid/subsid'`) находятся файлы (`tm_sales_1.csv`, `tm_sales_2.csv`, `tm_sales_3.csv`) с продажами продуктов через телемаркетинг, каждый из которых содержит колонки (поля): `FILIAL_ID`, `SUBS_ID`, `PROD_ID`, `ACT_DTTM`. \n",
    "\n",
    "А также файл `prod_activations_logs.csv` с данными о подключениях в системе, который содержит колонки: `SUBS_ID`, `PROD_ID`, `START_DTTM`, `END_DTTM`.\n",
    "\n",
    "Суть задачи в том, чтобы проверить подключения продуктов определенным пользователям, соединив файлы о продажах с логами по подключениям в системе.\n",
    "\n",
    "Особенности данных:\n",
    "\n",
    "* если в файле с продажами встречается строка без указанного `SUBS_ID`, она пропускается\n",
    "* сотрудники телемаркетинга не всегда указывают полный `id`, если `'id'` нет в начале `SUBS_ID`, то нужно его добавить\n",
    "* поля в файлах могут быть расположены абсолютно случайным образом, но названия полей статичны\n",
    "* колонки с датами необходимо перевести в формат `datetime`(временной тип)\n",
    "* продажа не засчитывается, если отключение (`END_DTTM`) произошло меньше чем через 5 минут после подключения (`START_DTTM`)\n",
    "\n",
    "\n",
    "Сохраните результат в `csv` файл с разделителем `;`, содержащий корректные подключения.\n",
    "\n",
    "**Примечание:** обратите внимание на то, как `pandas` переводит дату из строки, возможно вам понадобится параметр `format`.\n",
    "\n"
   ]
  },
  {
   "cell_type": "markdown",
   "metadata": {},
   "source": [
    "### Шаг 7"
   ]
  },
  {
   "cell_type": "markdown",
   "metadata": {},
   "source": [
    "Для проверки результатов введите `SUBS_ID` из полученного датасета в порядке возрастания, через запятую с пробелом. \n",
    "\n",
    "Например:\n",
    "\n",
    "```python\n",
    "id1, id2\n",
    "```"
   ]
  },
  {
   "cell_type": "markdown",
   "metadata": {},
   "source": [
    "**Шаги выполнения:**\n",
    "\n",
    "1. Сначала прочитайте `csv` файлы удобным для вас способом."
   ]
  },
  {
   "cell_type": "markdown",
   "metadata": {},
   "source": [
    "<details>\n",
    "<summary>&#9658; Нажмите сюда, чтобы увидеть подсказку</summary>\n",
    "  <p>\n",
    "      \n",
    "Вы можете использовать абсолютные пути и считать файлы из папки `'~/...shared/homeworks/python_ds_miniprojects/7_subsid/subsid'`\n",
    "      \n",
    "Либо скачать файлы из папки `shared`, поместить их в свой Jupyter-ноутбук в папку, где расположен данный ноутбук и считать оттуда.\n",
    "      \n",
    "</p>\n",
    "</details>"
   ]
  },
  {
   "cell_type": "code",
   "execution_count": 188,
   "metadata": {},
   "outputs": [],
   "source": [
    "tm_sales_1 = pd.read_csv('/mnt/HC_Volume_18315164/home-jupyter/jupyter-evgenij-demidov-ay-f7570/shared/homeworks/python_ds_miniprojects/7_subsid/subsid/tm_sales_1.csv', sep=';')\n",
    "tm_sales_2 = pd.read_csv('/mnt/HC_Volume_18315164/home-jupyter/jupyter-evgenij-demidov-ay-f7570/shared/homeworks/python_ds_miniprojects/7_subsid/subsid/tm_sales_2.csv', sep=';')\n",
    "tm_sales_3 = pd.read_csv('/mnt/HC_Volume_18315164/home-jupyter/jupyter-evgenij-demidov-ay-f7570/shared/homeworks/python_ds_miniprojects/7_subsid/subsid/tm_sales_3.csv', sep=';')\n",
    "\n"
   ]
  },
  {
   "cell_type": "code",
   "execution_count": 189,
   "metadata": {},
   "outputs": [
    {
     "data": {
      "text/html": [
       "<div>\n",
       "<style scoped>\n",
       "    .dataframe tbody tr th:only-of-type {\n",
       "        vertical-align: middle;\n",
       "    }\n",
       "\n",
       "    .dataframe tbody tr th {\n",
       "        vertical-align: top;\n",
       "    }\n",
       "\n",
       "    .dataframe thead th {\n",
       "        text-align: right;\n",
       "    }\n",
       "</style>\n",
       "<table border=\"1\" class=\"dataframe\">\n",
       "  <thead>\n",
       "    <tr style=\"text-align: right;\">\n",
       "      <th></th>\n",
       "      <th>FILIAL_ID</th>\n",
       "      <th>PROD_ID</th>\n",
       "      <th>SUBS_ID</th>\n",
       "      <th>ACT_DTTM</th>\n",
       "    </tr>\n",
       "  </thead>\n",
       "  <tbody>\n",
       "    <tr>\n",
       "      <th>0</th>\n",
       "      <td>3</td>\n",
       "      <td>1499</td>\n",
       "      <td>id5764122</td>\n",
       "      <td>18-03-2020 15:44</td>\n",
       "    </tr>\n",
       "    <tr>\n",
       "      <th>1</th>\n",
       "      <td>6</td>\n",
       "      <td>3020</td>\n",
       "      <td>id7642700</td>\n",
       "      <td>15-03-2020 14:21</td>\n",
       "    </tr>\n",
       "    <tr>\n",
       "      <th>2</th>\n",
       "      <td>2</td>\n",
       "      <td>5677</td>\n",
       "      <td>id1374509</td>\n",
       "      <td>17-03-2020 11:48</td>\n",
       "    </tr>\n",
       "  </tbody>\n",
       "</table>\n",
       "</div>"
      ],
      "text/plain": [
       "   FILIAL_ID  PROD_ID    SUBS_ID          ACT_DTTM\n",
       "0          3     1499  id5764122  18-03-2020 15:44\n",
       "1          6     3020  id7642700  15-03-2020 14:21\n",
       "2          2     5677  id1374509  17-03-2020 11:48"
      ]
     },
     "execution_count": 189,
     "metadata": {},
     "output_type": "execute_result"
    }
   ],
   "source": [
    "tm_sales_3.head()"
   ]
  },
  {
   "cell_type": "markdown",
   "metadata": {},
   "source": [
    "2. Теперь объединим датафреймы с продажами продуктов через телемаркетинг `tm_sales_1`, `tm_sales_2`, `tm_sales_3` в единую таблицу, а также избавимся от строк, где пропущено значение по колонке `SUBS_ID`."
   ]
  },
  {
   "cell_type": "markdown",
   "metadata": {},
   "source": [
    "<details>\n",
    "<summary>&#9658; Нажмите сюда, чтобы увидеть подсказку</summary>\n",
    "  <p>\n",
    "      \n",
    "Объединить таблицы можно с помощью метода `pd.concat()`:\n",
    "      \n",
    "```python\n",
    "full_df = pd.concat([df1, df2])\n",
    "```\n",
    "Для того чтобы избавиться от пропущенных значений в строках по какому-то из столбцов(колонок), используйте метод `dropna()` с параметром `subset`, в который можно передать в виде списка набор колонок, где необходимо избавиться от наличия пропущенных значений.\n",
    "    \n",
    "Например, следующий код  вернёт датафрэйм без строк, где в колонке `col1` были пропущенные значения:\n",
    "    \n",
    "```python\n",
    "df.dropna(subset=['col1'])\n",
    "```\n",
    "        \n",
    "      \n",
    "</p>\n",
    "</details>"
   ]
  },
  {
   "cell_type": "code",
   "execution_count": 190,
   "metadata": {},
   "outputs": [],
   "source": [
    "df = pd.concat([tm_sales_1, tm_sales_2, tm_sales_3]) \\\n",
    "    .dropna(subset=['SUBS_ID'])\n",
    "\n"
   ]
  },
  {
   "cell_type": "code",
   "execution_count": 192,
   "metadata": {},
   "outputs": [
    {
     "data": {
      "text/html": [
       "<div>\n",
       "<style scoped>\n",
       "    .dataframe tbody tr th:only-of-type {\n",
       "        vertical-align: middle;\n",
       "    }\n",
       "\n",
       "    .dataframe tbody tr th {\n",
       "        vertical-align: top;\n",
       "    }\n",
       "\n",
       "    .dataframe thead th {\n",
       "        text-align: right;\n",
       "    }\n",
       "</style>\n",
       "<table border=\"1\" class=\"dataframe\">\n",
       "  <thead>\n",
       "    <tr style=\"text-align: right;\">\n",
       "      <th></th>\n",
       "      <th>SUBS_ID</th>\n",
       "      <th>FILIAL_ID</th>\n",
       "      <th>PROD_ID</th>\n",
       "      <th>ACT_DTTM</th>\n",
       "    </tr>\n",
       "  </thead>\n",
       "  <tbody>\n",
       "    <tr>\n",
       "      <th>0</th>\n",
       "      <td>id4651830</td>\n",
       "      <td>1</td>\n",
       "      <td>1954</td>\n",
       "      <td>20-03-2020 14:59</td>\n",
       "    </tr>\n",
       "    <tr>\n",
       "      <th>1</th>\n",
       "      <td>7646509</td>\n",
       "      <td>5</td>\n",
       "      <td>6431</td>\n",
       "      <td>19-03-2020 13:00</td>\n",
       "    </tr>\n",
       "    <tr>\n",
       "      <th>2</th>\n",
       "      <td>id7412683</td>\n",
       "      <td>4</td>\n",
       "      <td>3313</td>\n",
       "      <td>22-03-2020 17:25</td>\n",
       "    </tr>\n",
       "    <tr>\n",
       "      <th>0</th>\n",
       "      <td>id5416547</td>\n",
       "      <td>3</td>\n",
       "      <td>1743</td>\n",
       "      <td>17-03-2020 10:17</td>\n",
       "    </tr>\n",
       "    <tr>\n",
       "      <th>2</th>\n",
       "      <td>8362218</td>\n",
       "      <td>7</td>\n",
       "      <td>9879</td>\n",
       "      <td>05-03-2020 11:42</td>\n",
       "    </tr>\n",
       "    <tr>\n",
       "      <th>3</th>\n",
       "      <td>2185490</td>\n",
       "      <td>2</td>\n",
       "      <td>3210</td>\n",
       "      <td>16-03-2020 16:28</td>\n",
       "    </tr>\n",
       "    <tr>\n",
       "      <th>0</th>\n",
       "      <td>id5764122</td>\n",
       "      <td>3</td>\n",
       "      <td>1499</td>\n",
       "      <td>18-03-2020 15:44</td>\n",
       "    </tr>\n",
       "    <tr>\n",
       "      <th>1</th>\n",
       "      <td>id7642700</td>\n",
       "      <td>6</td>\n",
       "      <td>3020</td>\n",
       "      <td>15-03-2020 14:21</td>\n",
       "    </tr>\n",
       "    <tr>\n",
       "      <th>2</th>\n",
       "      <td>id1374509</td>\n",
       "      <td>2</td>\n",
       "      <td>5677</td>\n",
       "      <td>17-03-2020 11:48</td>\n",
       "    </tr>\n",
       "  </tbody>\n",
       "</table>\n",
       "</div>"
      ],
      "text/plain": [
       "     SUBS_ID  FILIAL_ID  PROD_ID          ACT_DTTM\n",
       "0  id4651830          1     1954  20-03-2020 14:59\n",
       "1    7646509          5     6431  19-03-2020 13:00\n",
       "2  id7412683          4     3313  22-03-2020 17:25\n",
       "0  id5416547          3     1743  17-03-2020 10:17\n",
       "2    8362218          7     9879  05-03-2020 11:42\n",
       "3    2185490          2     3210  16-03-2020 16:28\n",
       "0  id5764122          3     1499  18-03-2020 15:44\n",
       "1  id7642700          6     3020  15-03-2020 14:21\n",
       "2  id1374509          2     5677  17-03-2020 11:48"
      ]
     },
     "execution_count": 192,
     "metadata": {},
     "output_type": "execute_result"
    }
   ],
   "source": [
    "df"
   ]
  },
  {
   "cell_type": "markdown",
   "metadata": {},
   "source": [
    "3. В задании указано, что сотрудники телемаркетинга не всегда указывают полный `id`, поэтому далее нам необходимо в случае отсутствия  `'id'` в начале значений по колонке `SUBS_ID` добавить его. \n",
    "\n",
    "   Это можно сделать разными способами, в подсказках будет предложен один из вариантов. "
   ]
  },
  {
   "cell_type": "markdown",
   "metadata": {},
   "source": [
    "<details>\n",
    "<summary>&#9658; Нажмите сюда, чтобы увидеть подсказку</summary>\n",
    "  <p>\n",
    "      \n",
    "Вы можете сделать обычную функцию(`def`), работающую на одном значении `x` и прибавляющую к нему `id` при необходимости, передав её в `apply`, либо сделать сразу `лямбда-функцию` внутри метода `apply`.\n",
    "      \n",
    "Обратите внимание, что применять функцию необходимо ни ко всему датафрейму, а к колонке, значения в которой необходимо преобразовать:\n",
    "      \n",
    "```python\n",
    "df['сol_1'] = tm_sales['сol_1'].apply(function)          \n",
    "```\n",
    "      \n",
    "А как добавить `'id'` в начало `SUBS_ID`?\n",
    "    \n",
    "Здесь на помощь может прийти конкатенация строк (`'id' + необходимое_значение`). \n",
    "      \n",
    "Можно реализовать функцию, которая будет принимать значение `x`, проверять на наличие `'id'` в начале строки и взависимости от этого либо добавлять `'id'` в начало строки, либо нет.\n",
    "   \n",
    "Проверить наличие какого-то значения в начале строки `x` поможет метод `x.startswith('id')`\n",
    "      \n",
    "</p>\n",
    "</details>"
   ]
  },
  {
   "cell_type": "code",
   "execution_count": 193,
   "metadata": {},
   "outputs": [],
   "source": [
    "df.SUBS_ID = df.SUBS_ID.apply(lambda x: x if x.startswith('id') else 'id' + x)\n",
    "\n"
   ]
  },
  {
   "cell_type": "code",
   "execution_count": 194,
   "metadata": {},
   "outputs": [
    {
     "data": {
      "text/html": [
       "<div>\n",
       "<style scoped>\n",
       "    .dataframe tbody tr th:only-of-type {\n",
       "        vertical-align: middle;\n",
       "    }\n",
       "\n",
       "    .dataframe tbody tr th {\n",
       "        vertical-align: top;\n",
       "    }\n",
       "\n",
       "    .dataframe thead th {\n",
       "        text-align: right;\n",
       "    }\n",
       "</style>\n",
       "<table border=\"1\" class=\"dataframe\">\n",
       "  <thead>\n",
       "    <tr style=\"text-align: right;\">\n",
       "      <th></th>\n",
       "      <th>SUBS_ID</th>\n",
       "      <th>FILIAL_ID</th>\n",
       "      <th>PROD_ID</th>\n",
       "      <th>ACT_DTTM</th>\n",
       "    </tr>\n",
       "  </thead>\n",
       "  <tbody>\n",
       "    <tr>\n",
       "      <th>0</th>\n",
       "      <td>id4651830</td>\n",
       "      <td>1</td>\n",
       "      <td>1954</td>\n",
       "      <td>20-03-2020 14:59</td>\n",
       "    </tr>\n",
       "    <tr>\n",
       "      <th>1</th>\n",
       "      <td>id7646509</td>\n",
       "      <td>5</td>\n",
       "      <td>6431</td>\n",
       "      <td>19-03-2020 13:00</td>\n",
       "    </tr>\n",
       "    <tr>\n",
       "      <th>2</th>\n",
       "      <td>id7412683</td>\n",
       "      <td>4</td>\n",
       "      <td>3313</td>\n",
       "      <td>22-03-2020 17:25</td>\n",
       "    </tr>\n",
       "    <tr>\n",
       "      <th>0</th>\n",
       "      <td>id5416547</td>\n",
       "      <td>3</td>\n",
       "      <td>1743</td>\n",
       "      <td>17-03-2020 10:17</td>\n",
       "    </tr>\n",
       "    <tr>\n",
       "      <th>2</th>\n",
       "      <td>id8362218</td>\n",
       "      <td>7</td>\n",
       "      <td>9879</td>\n",
       "      <td>05-03-2020 11:42</td>\n",
       "    </tr>\n",
       "    <tr>\n",
       "      <th>3</th>\n",
       "      <td>id2185490</td>\n",
       "      <td>2</td>\n",
       "      <td>3210</td>\n",
       "      <td>16-03-2020 16:28</td>\n",
       "    </tr>\n",
       "    <tr>\n",
       "      <th>0</th>\n",
       "      <td>id5764122</td>\n",
       "      <td>3</td>\n",
       "      <td>1499</td>\n",
       "      <td>18-03-2020 15:44</td>\n",
       "    </tr>\n",
       "    <tr>\n",
       "      <th>1</th>\n",
       "      <td>id7642700</td>\n",
       "      <td>6</td>\n",
       "      <td>3020</td>\n",
       "      <td>15-03-2020 14:21</td>\n",
       "    </tr>\n",
       "    <tr>\n",
       "      <th>2</th>\n",
       "      <td>id1374509</td>\n",
       "      <td>2</td>\n",
       "      <td>5677</td>\n",
       "      <td>17-03-2020 11:48</td>\n",
       "    </tr>\n",
       "  </tbody>\n",
       "</table>\n",
       "</div>"
      ],
      "text/plain": [
       "     SUBS_ID  FILIAL_ID  PROD_ID          ACT_DTTM\n",
       "0  id4651830          1     1954  20-03-2020 14:59\n",
       "1  id7646509          5     6431  19-03-2020 13:00\n",
       "2  id7412683          4     3313  22-03-2020 17:25\n",
       "0  id5416547          3     1743  17-03-2020 10:17\n",
       "2  id8362218          7     9879  05-03-2020 11:42\n",
       "3  id2185490          2     3210  16-03-2020 16:28\n",
       "0  id5764122          3     1499  18-03-2020 15:44\n",
       "1  id7642700          6     3020  15-03-2020 14:21\n",
       "2  id1374509          2     5677  17-03-2020 11:48"
      ]
     },
     "execution_count": 194,
     "metadata": {},
     "output_type": "execute_result"
    }
   ],
   "source": [
    "df"
   ]
  },
  {
   "cell_type": "markdown",
   "metadata": {},
   "source": [
    "4. Далее объедините таблицы с продажами с данными о подключениях в системе (таблица `prod_activations_logs.csv`) по колонкам `SUBS_ID` и `PROD_ID`.\n",
    "\n",
    "    Также переведите колонки с датами к необходимому типу данных. Обратите внимание на формат считываемых данных в колонках, содержащих сведения о дате и времени, всё ли верно считывается? \n",
    "\n",
    "    Может пригодиться использование параметра `format` для приведения данных к верному формату."
   ]
  },
  {
   "cell_type": "markdown",
   "metadata": {},
   "source": [
    "<details>\n",
    "<summary>&#9658; Нажмите сюда, чтобы увидеть подсказку</summary>\n",
    "  <p>\n",
    "      \n",
    "Для объединения таблиц с продажами с данными о подключениях в системе (таблица `prod_activations_logs.csv`)  используйте `merge` c  `inner join` по колонкам `SUBS_ID` и `PROD_ID`.\n",
    "      \n",
    "Чтобы перевести данные во время, используйте функцию `pd.to_datetime`. Она принимает колонку, которую нужно перевести во время, и возвращает её во временном типе.\n",
    "\n",
    "Например,\n",
    "\n",
    "```python\n",
    "pd.to_datetime(df['time_column'])\n",
    "```\n",
    "вернёт колонку `time_column` во временном типе.\n",
    "      \n",
    "А где ошибка-то?\n",
    "      \n",
    "Давайте посмотрим на примере значений колонки 'END_DTTM'. Выведите значения это колонки до преобразования во временной тип:\n",
    "      \n",
    "```python\n",
    "sales_logs['END_DTTM']\n",
    "      \n",
    "# Вывод\n",
    "0    01-12-2020 00:00\n",
    "1    19-03-2020 13:03\n",
    "2    25-03-2020 11:00\n",
    "3    01-12-2020 00:00\n",
    "4    15-03-2020 23:42\n",
    "Name: END_DTTM, dtype: object\n",
    "```\n",
    "А теперь с использованием `to_datetime()` без форматирования:\n",
    "      \n",
    "```python\n",
    "pd.to_datetime(sales_logs['END_DTTM'])\n",
    "      \n",
    "# Вывод\n",
    "0   2020-01-12 00:00:00\n",
    "1   2020-03-19 13:03:00\n",
    "2   2020-03-25 11:00:00\n",
    "3   2020-01-12 00:00:00\n",
    "4   2020-03-15 23:42:00\n",
    "Name: END_DTTM, dtype: datetime64[ns]\n",
    "```\n",
    "Как вы можете видеть, дату '01-12-2020 00:00' Python считал неверно, перепутав день с месяцем (01 и 12).\n",
    "      \n",
    "Хорошо, а как изменить формат считываемых данных?\n",
    "    \n",
    "Для этого используется параметр `format` в функции `pd.to_datetime`.\n",
    "      \n",
    "Например,\n",
    "\n",
    "```python\n",
    "pd.to_datetime(df['time_column'], format='%d-%m-%Y %H:%M')\n",
    "```\n",
    "Распарсит время, которое находится в данных в формате `день-месяц-год час:минута`. То есть строка внутри `format` содержит шаблон того, что находится в данных. Процент перед `d`, `m`, `Y`, `H` и `M` говорит питону, что это специальный символ (в нашем случае день, месяц, год, час, минута). Другие спецификаторы можно посмотреть [здесь](https://docs.python.org/3/library/datetime.html#strftime-strptime-behavior).\n",
    "\n",
    "**Обратите внимание!** `format` задаёт только то, как считываются данные. Отображаться в самом датафрейме дата всегда будет в формате *год-месяц-день*. Поэтому не пугайтесь того, что вы написали ему *день-месяц-год*, а пишет он в другом порядке — это нормально. \n",
    "      \n",
    "**Почему пандас неправильно читает дату?**\n",
    "Судя по всему, он сначала пытается считать по американскому формату, у него получается, и из-за этого возникает ошибка.\n",
    "      \n",
    "</p>\n",
    "</details>"
   ]
  },
  {
   "cell_type": "code",
   "execution_count": 224,
   "metadata": {},
   "outputs": [],
   "source": [
    "prod_activations_logs = pd.read_csv('/mnt/HC_Volume_18315164/home-jupyter/jupyter-evgenij-demidov-ay-f7570/shared/homeworks/python_ds_miniprojects/7_subsid/subsid/prod_activations_logs.csv', sep=';')\n",
    "\n"
   ]
  },
  {
   "cell_type": "code",
   "execution_count": 225,
   "metadata": {},
   "outputs": [
    {
     "data": {
      "text/html": [
       "<div>\n",
       "<style scoped>\n",
       "    .dataframe tbody tr th:only-of-type {\n",
       "        vertical-align: middle;\n",
       "    }\n",
       "\n",
       "    .dataframe tbody tr th {\n",
       "        vertical-align: top;\n",
       "    }\n",
       "\n",
       "    .dataframe thead th {\n",
       "        text-align: right;\n",
       "    }\n",
       "</style>\n",
       "<table border=\"1\" class=\"dataframe\">\n",
       "  <thead>\n",
       "    <tr style=\"text-align: right;\">\n",
       "      <th></th>\n",
       "      <th>SUBS_ID</th>\n",
       "      <th>FILIAL_ID</th>\n",
       "      <th>PROD_ID</th>\n",
       "      <th>ACT_DTTM</th>\n",
       "      <th>START_DTTM</th>\n",
       "      <th>END_DTTM</th>\n",
       "      <th>DIFF_DTTM</th>\n",
       "    </tr>\n",
       "  </thead>\n",
       "  <tbody>\n",
       "    <tr>\n",
       "      <th>0</th>\n",
       "      <td>id4651830</td>\n",
       "      <td>1</td>\n",
       "      <td>1954</td>\n",
       "      <td>2020-03-20 14:59:00</td>\n",
       "      <td>2020-03-20 14:59:00</td>\n",
       "      <td>2020-01-12 00:00:00</td>\n",
       "      <td>-69 days +09:01:00</td>\n",
       "    </tr>\n",
       "    <tr>\n",
       "      <th>1</th>\n",
       "      <td>id7646509</td>\n",
       "      <td>5</td>\n",
       "      <td>6431</td>\n",
       "      <td>2020-03-19 13:00:00</td>\n",
       "      <td>2020-03-19 13:00:00</td>\n",
       "      <td>2020-03-19 13:03:00</td>\n",
       "      <td>0 days 00:03:00</td>\n",
       "    </tr>\n",
       "    <tr>\n",
       "      <th>2</th>\n",
       "      <td>id5416547</td>\n",
       "      <td>3</td>\n",
       "      <td>1743</td>\n",
       "      <td>2020-03-17 10:17:00</td>\n",
       "      <td>2020-03-17 10:17:00</td>\n",
       "      <td>2020-03-25 11:00:00</td>\n",
       "      <td>8 days 00:43:00</td>\n",
       "    </tr>\n",
       "    <tr>\n",
       "      <th>3</th>\n",
       "      <td>id2185490</td>\n",
       "      <td>2</td>\n",
       "      <td>3210</td>\n",
       "      <td>2020-03-16 16:28:00</td>\n",
       "      <td>2020-03-16 16:28:00</td>\n",
       "      <td>2020-01-12 00:00:00</td>\n",
       "      <td>-65 days +07:32:00</td>\n",
       "    </tr>\n",
       "    <tr>\n",
       "      <th>4</th>\n",
       "      <td>id7642700</td>\n",
       "      <td>6</td>\n",
       "      <td>3020</td>\n",
       "      <td>2020-03-15 14:21:00</td>\n",
       "      <td>2020-03-15 14:21:00</td>\n",
       "      <td>2020-03-15 23:42:00</td>\n",
       "      <td>0 days 09:21:00</td>\n",
       "    </tr>\n",
       "  </tbody>\n",
       "</table>\n",
       "</div>"
      ],
      "text/plain": [
       "     SUBS_ID  FILIAL_ID  PROD_ID            ACT_DTTM          START_DTTM  \\\n",
       "0  id4651830          1     1954 2020-03-20 14:59:00 2020-03-20 14:59:00   \n",
       "1  id7646509          5     6431 2020-03-19 13:00:00 2020-03-19 13:00:00   \n",
       "2  id5416547          3     1743 2020-03-17 10:17:00 2020-03-17 10:17:00   \n",
       "3  id2185490          2     3210 2020-03-16 16:28:00 2020-03-16 16:28:00   \n",
       "4  id7642700          6     3020 2020-03-15 14:21:00 2020-03-15 14:21:00   \n",
       "\n",
       "             END_DTTM          DIFF_DTTM  \n",
       "0 2020-01-12 00:00:00 -69 days +09:01:00  \n",
       "1 2020-03-19 13:03:00    0 days 00:03:00  \n",
       "2 2020-03-25 11:00:00    8 days 00:43:00  \n",
       "3 2020-01-12 00:00:00 -65 days +07:32:00  \n",
       "4 2020-03-15 23:42:00    0 days 09:21:00  "
      ]
     },
     "execution_count": 225,
     "metadata": {},
     "output_type": "execute_result"
    }
   ],
   "source": [
    "df_new"
   ]
  },
  {
   "cell_type": "code",
   "execution_count": 226,
   "metadata": {},
   "outputs": [],
   "source": [
    "df_new = df.merge(prod_activations_logs, on=['SUBS_ID', 'PROD_ID'])"
   ]
  },
  {
   "cell_type": "code",
   "execution_count": 227,
   "metadata": {},
   "outputs": [],
   "source": [
    "df_new['ACT_DTTM'] = pd.to_datetime(df_new['ACT_DTTM'], format='%d-%m-%Y %H:%M')"
   ]
  },
  {
   "cell_type": "code",
   "execution_count": 228,
   "metadata": {},
   "outputs": [],
   "source": [
    "df_new['START_DTTM'] = pd.to_datetime(df_new['START_DTTM'], format='%d-%m-%Y %H:%M')"
   ]
  },
  {
   "cell_type": "code",
   "execution_count": 229,
   "metadata": {},
   "outputs": [],
   "source": [
    "df_new['END_DTTM'] = pd.to_datetime(df_new['END_DTTM'], format='%d-%m-%Y %H:%M')"
   ]
  },
  {
   "cell_type": "markdown",
   "metadata": {},
   "source": [
    "5. Осталось найти разницу между временем подключения (`START_DTTM`) и отключения (`END_DTTM`), а затем отобрать только те значения, где разница составляет больше 5 минут, поскольку по условию задания продажа не засчитывается, если отключение (`END_DTTM`) произошло меньше чем через 5 минут после подключения (`START_DTTM`).\n",
    "\n",
    "    Сохраните результат в `csv` файл с разделителем `;`, содержащий корректные подключения."
   ]
  },
  {
   "cell_type": "markdown",
   "metadata": {},
   "source": [
    "<details>\n",
    "<summary>&#9658; Нажмите сюда, чтобы увидеть подсказку</summary>\n",
    "  <p>\n",
    "      \n",
    "Для того, чтобы узнать разницу во времени между подключением (`START_DTTM`) и отключением (`END_DTTM`), необходимо просто произвести вычитание: из времени отключения (`END_DTTM`) отнять время подключения (`START_DTTM`).\n",
    "      \n",
    "Данные по разнице во времени передайте в колонку, например, `diff_DTTM`:\n",
    "      \n",
    "```python\n",
    "df['diff_DTTM'] = df['col1'] - df['col2']     \n",
    "```\n",
    "    \n",
    "Чтобы отфильтровать датафрейм, оставляя только те строки, где разница между значениями в столбце `diff_DTTM` больше 5 минут,\n",
    "можно создать объект типа Timedelta, представляющий 5 минут — pd.Timedelta(5, 'm'), и сравнить значения в столбце с ним:\n",
    "      \n",
    "```python\n",
    "df['diff_DTTM'] > pd.Timedelta(5, 'm')    \n",
    "```\n",
    "Результатом выполнения этой строки кода будет колонка из `True` и `False`, где `True` стоит напротив элементов, которые были больше 5 минут, и `False` в противном случае.\n",
    "      \n",
    "      \n",
    "Как записать датафрэйм в файл?\n",
    "    \n",
    "Сделайте это с помощью метода `to_csv`, который принимает строку — путь к файлу, куда вы запишете файл, не забудьте про разделитель `sep=';'`. \n",
    "      \n",
    "</p>\n",
    "</details>"
   ]
  },
  {
   "cell_type": "code",
   "execution_count": 230,
   "metadata": {},
   "outputs": [],
   "source": [
    "df_new['DIFF_DTTM'] = df_new.END_DTTM - df_new.START_DTTM\n",
    "\n"
   ]
  },
  {
   "cell_type": "code",
   "execution_count": 232,
   "metadata": {},
   "outputs": [],
   "source": [
    "df_new = df_new.query('DIFF_DTTM > \"0 days 00:05:00\"')"
   ]
  },
  {
   "cell_type": "code",
   "execution_count": 235,
   "metadata": {},
   "outputs": [],
   "source": [
    "df_new.to_csv('df.csv', sep=';')"
   ]
  },
  {
   "cell_type": "code",
   "execution_count": 240,
   "metadata": {},
   "outputs": [
    {
     "data": {
      "text/plain": [
       "array(['id2185490', 'id4651830', 'id5416547', 'id7642700'], dtype=object)"
      ]
     },
     "execution_count": 240,
     "metadata": {},
     "output_type": "execute_result"
    }
   ],
   "source": [
    "df_new.sort_values('SUBS_ID').SUBS_ID.values"
   ]
  },
  {
   "cell_type": "markdown",
   "metadata": {},
   "source": [
    "## Часть 3. Геном мухи и работа с нестандартным форматом данных"
   ]
  },
  {
   "cell_type": "markdown",
   "metadata": {},
   "source": [
    "В данном проекте вы поработаете с довольно нетипичными для аналитика данными: `gff файлом`, который описывает геном мухи (описание формата можно найти [здесь](http://gmod.org/wiki/GFF3)). \n",
    "\n",
    "При его выполнении вам может понадобиться часть конспекта про работу с регулярными выражениями и со строковыми данными.\n",
    "\n",
    "**Задачи**:\n",
    "\n",
    "* выделите из колонки `attributes` значение атрибута `Parent`, то есть если там записано `Parent=x,`, `something;Parent=x` или `Parent=x;something`, то нам нужен только `x`\n",
    "* выясните, какое из этих значений является самым частым\n",
    "* постройте распределение встречаемости значений в столбце `type`\n",
    "\n",
    "Данные можно достать с JupyterHub из папке `7_gff` (`'...shared/homeworks/python_ds_miniprojects/7_gff'`) , либо [отсюда](https://stepik.org/media/attachments/course/72204/gff.tsv)."
   ]
  },
  {
   "cell_type": "markdown",
   "metadata": {},
   "source": [
    "### Шаг 8"
   ]
  },
  {
   "cell_type": "markdown",
   "metadata": {},
   "source": [
    "Какое значение атрибута `Parent` самое частое?\n",
    "\n",
    "Вам необходимо извлечь из колонки `attributes` значение атрибута `Parent` для каждой строки и найти самый частый."
   ]
  },
  {
   "cell_type": "markdown",
   "metadata": {},
   "source": [
    "<details>\n",
    "<summary>&#9658; Нажмите сюда, чтобы увидеть подсказку</summary>\n",
    "  <p>\n",
    "\n",
    "Как это сделать?   \n",
    "      \n",
    "Чтобы извлечь из колонки `attributes` значение атрибута `Parent`, можно воспользоваться регулярными выражениями. \n",
    "      \n",
    "Если посмотреть на второе значение из колонки `attributes`, то мы увидим следующее:\n",
    "      \n",
    "```python\n",
    "df.attributes.iloc[1]\n",
    "      \n",
    "# Вывод\n",
    "'Name=CDS:NC_000083.5:LOC100040603;Parent=XM_001475631.1,'\n",
    "```\n",
    "Как видно, чтобы получить необходимое значение, необходимо отобрать всё после `Parent=`, за исключением запятой в конце. При этом обратите внимание, что после `XM_001475631` стоит точка `.`, после которой следует одна цифра `1`. Такое строение атрибута `Parent` характерно для всех значений в колонке `attributes`.\n",
    "      \n",
    "Как написать регулярное выражение, подходящее к условию задания:\n",
    "      \n",
    "* cначала укажите подстроку, выражение после которого мы ищем — `Parent=`\n",
    "      \n",
    "* далее создайте именованную группу, которая позволяет обращаться к найденной подстроке по имени parent — `(?P<parent>...)`\n",
    "      \n",
    "* внутри именной группы (вместо троеточий) в квадратных скобках вставьте необходимые метасимволы: любая буква, цифра или _ (words) — `\\w`; символ соответствуещей точке — `\\.`\n",
    "      \n",
    "* за квадратными скобками также вставьте знак `+`, который указывает, что предыдущий шаблон должен встречаться один или более раз\n",
    "\n",
    "Таким образом, это регулярное выражение будет искать подстроку, начинающуюся с `Parent=`, за которой следует любая комбинация букв, цифр, символов подчеркивания и точек.\n",
    "      \n",
    "```python\n",
    "import re\n",
    "\n",
    "# Создадим строку, из которой нам необходимо достать значение после `Value=`\n",
    "test = \"Parameters: Name=John, Age=30, Value=42.5;HO-34, Status=Active\"\n",
    "\n",
    "# Создаём нужный паттерн\n",
    "pattern = re.compile('Value=(?P<value>[\\d\\.]+)')\n",
    "# Ищем его в тексте\n",
    "pattern.findall(test)\n",
    "      \n",
    "# Вывод\n",
    "['42.5']\n",
    "      \n",
    "```\n",
    "      \n",
    "Для извлечения информации из колонки датафрейма с помощью регулярного выражения `pattern` используйте метод `extract` на столбце датафрейма:\n",
    "      \n",
    "```python\n",
    "gff.attributes.str.extract(pattern)      \n",
    "```\n",
    "      \n",
    "А можно решить это задание другим способом?\n",
    "      \n",
    "На самом деле решений может быть множество. Можно сделать это с помощью использования различных строковых методов, функций, циклов и т.д.\n",
    "      \n",
    "Например, для отбора колонок с необходимым значением существуют разные методы. Как один из вариантов вы можете использовать строковый метод `.str.contains(\"<паттерн, нужно найти>\")`, который можно применить к колонке, где надо найти паттерн.\n",
    "После того, как вы отберете строки с `Parent`, можно разбить их по знаку `=` и взять только нужную часть, также не забудьте избавиться от лишних значений после `:`. \n",
    "\n",
    "Также можно воспользоваться строковым методом `split` с разными разделителями и индексацией. Как мы видим, чтобы получить значение после `Parent=`, нам нужно разделить значения в каждой строке по `;` и взять часть с `Parent`, далее разделить и эту часть по `=` и взять значение, которое шло после равно, а далее снова произвести разделение по `:` и взять первый элемент(с индексом 0). \n",
    "      \n",
    "У меня осталась запятая в конце значений, это нормально?    \n",
    "Нет, используйте `strip`, чтобы убрать её. Метод `strip` убирает с краёв строки переданные в него символы. \n",
    "      \n",
    "Например,\n",
    "    \n",
    "```python\n",
    "df.col1.str.strip('.')\n",
    "```\n",
    "уберёт спереди и сзади значений колонки `col1` точки.\n",
    "      \n",
    "А как реализовать такой подход не только к одной строке, а к значениям всей колонки?\n",
    "      \n",
    "Как вариант напишите функцию, в которой для одного списка будет искаться пара `Parent`, и примените её ко всей колонке с помощью функции `apply`.\n",
    "     \n",
    "Как искать пару в списке?\n",
    "    \n",
    "Для этого можно использовать оператор `in`:\n",
    "    \n",
    "Например,\n",
    "    \n",
    "```python\n",
    "'abc' in 'abc is a start of the alphabet'\n",
    "```\n",
    "вернёт `True`, а\n",
    "    \n",
    "```python\n",
    "'!!!' in 'abc is a start of the alphabet'\n",
    "```\n",
    "вернёт `False`.\n",
    "    \n",
    "Можно использовать это в условии в цикле по списку и отбирать только элементы с `Parent`.\n",
    "      \n",
    "      \n",
    "</p>\n",
    "</details>"
   ]
  },
  {
   "cell_type": "code",
   "execution_count": 246,
   "metadata": {},
   "outputs": [],
   "source": [
    "gff = pd.read_csv('/mnt/HC_Volume_18315164/home-jupyter/jupyter-evgenij-demidov-ay-f7570/shared/homeworks/python_ds_miniprojects/7_gff/gff.tsv', sep='\\t')\n",
    "\n"
   ]
  },
  {
   "cell_type": "code",
   "execution_count": 288,
   "metadata": {},
   "outputs": [],
   "source": [
    "import re"
   ]
  },
  {
   "cell_type": "code",
   "execution_count": 315,
   "metadata": {},
   "outputs": [
    {
     "data": {
      "text/plain": [
       "parent        \n",
       "XM_001475631.1    479\n",
       "NC_000083.5        33\n",
       "dtype: int64"
      ]
     },
     "execution_count": 315,
     "metadata": {},
     "output_type": "execute_result"
    }
   ],
   "source": [
    "pattern = re.compile('Parent=(?P<parent>[\\w\\.]+)')\n",
    "gff.attributes.str.extract(pattern).value_counts()"
   ]
  },
  {
   "cell_type": "code",
   "execution_count": 276,
   "metadata": {},
   "outputs": [
    {
     "data": {
      "text/html": [
       "<div>\n",
       "<style scoped>\n",
       "    .dataframe tbody tr th:only-of-type {\n",
       "        vertical-align: middle;\n",
       "    }\n",
       "\n",
       "    .dataframe tbody tr th {\n",
       "        vertical-align: top;\n",
       "    }\n",
       "\n",
       "    .dataframe thead th {\n",
       "        text-align: right;\n",
       "    }\n",
       "</style>\n",
       "<table border=\"1\" class=\"dataframe\">\n",
       "  <thead>\n",
       "    <tr style=\"text-align: right;\">\n",
       "      <th></th>\n",
       "      <th>seq_id</th>\n",
       "      <th>source</th>\n",
       "      <th>type</th>\n",
       "      <th>start</th>\n",
       "      <th>end</th>\n",
       "      <th>score</th>\n",
       "      <th>strand</th>\n",
       "      <th>phase</th>\n",
       "      <th>attributes</th>\n",
       "    </tr>\n",
       "  </thead>\n",
       "  <tbody>\n",
       "    <tr>\n",
       "      <th>0</th>\n",
       "      <td>chr17</td>\n",
       "      <td>RefSeq</td>\n",
       "      <td>exon</td>\n",
       "      <td>6811330</td>\n",
       "      <td>6811453</td>\n",
       "      <td>.</td>\n",
       "      <td>+</td>\n",
       "      <td>.</td>\n",
       "      <td>Parent=XM_001475631.1</td>\n",
       "    </tr>\n",
       "    <tr>\n",
       "      <th>1</th>\n",
       "      <td>chr17</td>\n",
       "      <td>RefSeq</td>\n",
       "      <td>CDS</td>\n",
       "      <td>6808204</td>\n",
       "      <td>6808245</td>\n",
       "      <td>.</td>\n",
       "      <td>+</td>\n",
       "      <td>0</td>\n",
       "      <td>Name=CDS:NC_000083.5:LOC100040603;Parent=XM_00...</td>\n",
       "    </tr>\n",
       "    <tr>\n",
       "      <th>2</th>\n",
       "      <td>chr17</td>\n",
       "      <td>RefSeq</td>\n",
       "      <td>CDS</td>\n",
       "      <td>6811792</td>\n",
       "      <td>6811869</td>\n",
       "      <td>.</td>\n",
       "      <td>+</td>\n",
       "      <td>2</td>\n",
       "      <td>Name=CDS:NC_000083.5:LOC100040603;Parent=XM_00...</td>\n",
       "    </tr>\n",
       "    <tr>\n",
       "      <th>3</th>\n",
       "      <td>chr17</td>\n",
       "      <td>RefSeq</td>\n",
       "      <td>exon</td>\n",
       "      <td>6806513</td>\n",
       "      <td>6806553</td>\n",
       "      <td>.</td>\n",
       "      <td>+</td>\n",
       "      <td>.</td>\n",
       "      <td>Parent=XM_001475631.1</td>\n",
       "    </tr>\n",
       "    <tr>\n",
       "      <th>4</th>\n",
       "      <td>chr17</td>\n",
       "      <td>RefSeq</td>\n",
       "      <td>five_prime_UTR</td>\n",
       "      <td>6806513</td>\n",
       "      <td>6806526</td>\n",
       "      <td>.</td>\n",
       "      <td>+</td>\n",
       "      <td>.</td>\n",
       "      <td>Parent=XM_001475631.1</td>\n",
       "    </tr>\n",
       "    <tr>\n",
       "      <th>...</th>\n",
       "      <td>...</td>\n",
       "      <td>...</td>\n",
       "      <td>...</td>\n",
       "      <td>...</td>\n",
       "      <td>...</td>\n",
       "      <td>...</td>\n",
       "      <td>...</td>\n",
       "      <td>...</td>\n",
       "      <td>...</td>\n",
       "    </tr>\n",
       "    <tr>\n",
       "      <th>507</th>\n",
       "      <td>chr17</td>\n",
       "      <td>RefSeq</td>\n",
       "      <td>exon</td>\n",
       "      <td>6812219</td>\n",
       "      <td>6818159</td>\n",
       "      <td>.</td>\n",
       "      <td>+</td>\n",
       "      <td>.</td>\n",
       "      <td>Parent=XM_001475631.1</td>\n",
       "    </tr>\n",
       "    <tr>\n",
       "      <th>508</th>\n",
       "      <td>chr17</td>\n",
       "      <td>RefSeq</td>\n",
       "      <td>protein</td>\n",
       "      <td>6806527</td>\n",
       "      <td>6812289</td>\n",
       "      <td>.</td>\n",
       "      <td>+</td>\n",
       "      <td>.</td>\n",
       "      <td>ID=;Parent=XM_001475631.1</td>\n",
       "    </tr>\n",
       "    <tr>\n",
       "      <th>509</th>\n",
       "      <td>chr17</td>\n",
       "      <td>RefSeq</td>\n",
       "      <td>CDS</td>\n",
       "      <td>6806527</td>\n",
       "      <td>6806553</td>\n",
       "      <td>.</td>\n",
       "      <td>+</td>\n",
       "      <td>0</td>\n",
       "      <td>Name=CDS:NC_000083.5:LOC100040603;Parent=XM_00...</td>\n",
       "    </tr>\n",
       "    <tr>\n",
       "      <th>510</th>\n",
       "      <td>chr17</td>\n",
       "      <td>RefSeq</td>\n",
       "      <td>exon</td>\n",
       "      <td>6811792</td>\n",
       "      <td>6811869</td>\n",
       "      <td>.</td>\n",
       "      <td>+</td>\n",
       "      <td>.</td>\n",
       "      <td>Parent=XM_001475631.1</td>\n",
       "    </tr>\n",
       "    <tr>\n",
       "      <th>511</th>\n",
       "      <td>chr17</td>\n",
       "      <td>RefSeq</td>\n",
       "      <td>exon</td>\n",
       "      <td>6806513</td>\n",
       "      <td>6806553</td>\n",
       "      <td>.</td>\n",
       "      <td>+</td>\n",
       "      <td>.</td>\n",
       "      <td>Parent=XM_001475631.1</td>\n",
       "    </tr>\n",
       "  </tbody>\n",
       "</table>\n",
       "<p>512 rows × 9 columns</p>\n",
       "</div>"
      ],
      "text/plain": [
       "    seq_id  source            type    start      end score strand phase  \\\n",
       "0    chr17  RefSeq            exon  6811330  6811453     .      +     .   \n",
       "1    chr17  RefSeq             CDS  6808204  6808245     .      +     0   \n",
       "2    chr17  RefSeq             CDS  6811792  6811869     .      +     2   \n",
       "3    chr17  RefSeq            exon  6806513  6806553     .      +     .   \n",
       "4    chr17  RefSeq  five_prime_UTR  6806513  6806526     .      +     .   \n",
       "..     ...     ...             ...      ...      ...   ...    ...   ...   \n",
       "507  chr17  RefSeq            exon  6812219  6818159     .      +     .   \n",
       "508  chr17  RefSeq         protein  6806527  6812289     .      +     .   \n",
       "509  chr17  RefSeq             CDS  6806527  6806553     .      +     0   \n",
       "510  chr17  RefSeq            exon  6811792  6811869     .      +     .   \n",
       "511  chr17  RefSeq            exon  6806513  6806553     .      +     .   \n",
       "\n",
       "                                            attributes  \n",
       "0                                Parent=XM_001475631.1  \n",
       "1    Name=CDS:NC_000083.5:LOC100040603;Parent=XM_00...  \n",
       "2    Name=CDS:NC_000083.5:LOC100040603;Parent=XM_00...  \n",
       "3                                Parent=XM_001475631.1  \n",
       "4                                Parent=XM_001475631.1  \n",
       "..                                                 ...  \n",
       "507                              Parent=XM_001475631.1  \n",
       "508                          ID=;Parent=XM_001475631.1  \n",
       "509  Name=CDS:NC_000083.5:LOC100040603;Parent=XM_00...  \n",
       "510                              Parent=XM_001475631.1  \n",
       "511                              Parent=XM_001475631.1  \n",
       "\n",
       "[512 rows x 9 columns]"
      ]
     },
     "execution_count": 276,
     "metadata": {},
     "output_type": "execute_result"
    }
   ],
   "source": [
    "gff"
   ]
  },
  {
   "cell_type": "code",
   "execution_count": null,
   "metadata": {},
   "outputs": [],
   "source": []
  },
  {
   "cell_type": "markdown",
   "metadata": {},
   "source": [
    "### Шаг 9"
   ]
  },
  {
   "cell_type": "markdown",
   "metadata": {},
   "source": [
    "Постройте распределение встречаемости значений в колонке `type`.\n",
    "\n",
    "Какое самое частое значение в колонке `type`?"
   ]
  },
  {
   "cell_type": "markdown",
   "metadata": {},
   "source": [
    "* exon\n",
    "* CDS\n",
    "* five_prime_UTR\n",
    "* mRNA\n",
    "* protein\n",
    "* three_prime_UTR"
   ]
  },
  {
   "cell_type": "markdown",
   "metadata": {},
   "source": [
    "<details>\n",
    "<summary>&#9658; Нажмите сюда, чтобы увидеть подсказку</summary>\n",
    "  <p>\n",
    "      \n",
    "Чтобы посмотреть на распределение встречаемости значений в колонке `type`, можно построить график `countplot`, который позволяет отобразить количество наблюдений для каждого уникального значения категориальной переменной.\n",
    "      \n",
    "Для использования графика `countplot` не нужно заранее проводить агрегацию данных, функция сама посчитает частоту встречаемости каждой переменной.\n",
    "      \n",
    "Синтаксис функции `countplot` в библиотеке `seaborn` выглядит следующим образом:\n",
    " \n",
    "```python\n",
    "sns.countplot(x='column_name', data=data)\n",
    "```\n",
    "Где `x` — это название столбца (переменной), значения которого будут отображаться на оси `X` графика.\n",
    "      \n",
    "</p>\n",
    "</details>"
   ]
  },
  {
   "cell_type": "code",
   "execution_count": 323,
   "metadata": {},
   "outputs": [],
   "source": [
    "df1 = gff.groupby('type', as_index=False) \\\n",
    "    .agg({'source' : 'count'}) \\\n",
    "    .rename(columns={'source' : 'count_t'})"
   ]
  },
  {
   "cell_type": "code",
   "execution_count": 324,
   "metadata": {},
   "outputs": [
    {
     "data": {
      "text/html": [
       "<div>\n",
       "<style scoped>\n",
       "    .dataframe tbody tr th:only-of-type {\n",
       "        vertical-align: middle;\n",
       "    }\n",
       "\n",
       "    .dataframe tbody tr th {\n",
       "        vertical-align: top;\n",
       "    }\n",
       "\n",
       "    .dataframe thead th {\n",
       "        text-align: right;\n",
       "    }\n",
       "</style>\n",
       "<table border=\"1\" class=\"dataframe\">\n",
       "  <thead>\n",
       "    <tr style=\"text-align: right;\">\n",
       "      <th></th>\n",
       "      <th>type</th>\n",
       "      <th>count_t</th>\n",
       "    </tr>\n",
       "  </thead>\n",
       "  <tbody>\n",
       "    <tr>\n",
       "      <th>0</th>\n",
       "      <td>CDS</td>\n",
       "      <td>170</td>\n",
       "    </tr>\n",
       "    <tr>\n",
       "      <th>1</th>\n",
       "      <td>exon</td>\n",
       "      <td>201</td>\n",
       "    </tr>\n",
       "    <tr>\n",
       "      <th>2</th>\n",
       "      <td>five_prime_UTR</td>\n",
       "      <td>47</td>\n",
       "    </tr>\n",
       "    <tr>\n",
       "      <th>3</th>\n",
       "      <td>mRNA</td>\n",
       "      <td>33</td>\n",
       "    </tr>\n",
       "    <tr>\n",
       "      <th>4</th>\n",
       "      <td>protein</td>\n",
       "      <td>29</td>\n",
       "    </tr>\n",
       "    <tr>\n",
       "      <th>5</th>\n",
       "      <td>three_prime_UTR</td>\n",
       "      <td>32</td>\n",
       "    </tr>\n",
       "  </tbody>\n",
       "</table>\n",
       "</div>"
      ],
      "text/plain": [
       "              type  count_t\n",
       "0              CDS      170\n",
       "1             exon      201\n",
       "2   five_prime_UTR       47\n",
       "3             mRNA       33\n",
       "4          protein       29\n",
       "5  three_prime_UTR       32"
      ]
     },
     "execution_count": 324,
     "metadata": {},
     "output_type": "execute_result"
    }
   ],
   "source": [
    "df1"
   ]
  },
  {
   "cell_type": "code",
   "execution_count": 327,
   "metadata": {},
   "outputs": [
    {
     "data": {
      "image/png": "[encoded data removed]",
      "text/plain": [
       "<Figure size 576x576 with 1 Axes>"
      ]
     },
     "metadata": {
      "needs_background": "light"
     },
     "output_type": "display_data"
    }
   ],
   "source": [
    "plt.figure(figsize=(8, 8))\n",
    "sns.barplot(x=df1.type, y=df1.count_t)\n",
    "plt.title('Распределение типов')\n",
    "plt.xlabel('Тип')\n",
    "plt.ylabel('Количество')\n",
    "plt.show()\n",
    "\n"
   ]
  },
  {
   "cell_type": "code",
   "execution_count": null,
   "metadata": {},
   "outputs": [],
   "source": [
    "\n"
   ]
  }
 ],
 "metadata": {
  "kernelspec": {
   "display_name": "Python 3",
   "language": "python",
   "name": "python3"
  },
  "language_info": {
   "codemirror_mode": {
    "name": "ipython",
    "version": 3
   },
   "file_extension": ".py",
   "mimetype": "text/x-python",
   "name": "python",
   "nbconvert_exporter": "python",
   "pygments_lexer": "ipython3",
   "version": "3.7.3"
  }
 },
 "nbformat": 4,
 "nbformat_minor": 4
}
